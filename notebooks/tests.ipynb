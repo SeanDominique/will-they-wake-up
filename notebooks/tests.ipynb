{
 "cells": [
  {
   "cell_type": "code",
   "execution_count": null,
   "metadata": {},
   "outputs": [],
   "source": [
    "import matplotlib.pyplot as plt\n",
    "import plotly.express as px\n",
    "import scipy.io\n",
    "import pandas as pd\n",
    "import numpy as np\n",
    "\n",
    "%matplotlib inline\n"
   ]
  },
  {
   "cell_type": "code",
   "execution_count": null,
   "metadata": {},
   "outputs": [],
   "source": [
    "import scipy.io\n",
    "\n",
    "EEG = scipy.io.loadmat('/home/mario/code/SeanDominique/will-they-wake-up/data/physionet.org/files/i-care/2.1/training/0360/0360_023_061_EEG.mat')\n",
    "EEG = EEG['val'][0]"
   ]
  },
  {
   "cell_type": "code",
   "execution_count": null,
   "metadata": {},
   "outputs": [],
   "source": [
    "EEG = EEG.astype(float)\n",
    "EEG.shape"
   ]
  },
  {
   "cell_type": "code",
   "execution_count": null,
   "metadata": {},
   "outputs": [],
   "source": [
    "import librosa\n"
   ]
  },
  {
   "cell_type": "code",
   "execution_count": null,
   "metadata": {},
   "outputs": [],
   "source": [
    "\n",
    "\n",
    "tempogram = librosa.stft(y=EEG, n_fft=1024, center=False)\n"
   ]
  },
  {
   "cell_type": "code",
   "execution_count": null,
   "metadata": {},
   "outputs": [],
   "source": [
    "tempogram.shape"
   ]
  },
  {
   "cell_type": "code",
   "execution_count": null,
   "metadata": {},
   "outputs": [],
   "source": [
    "fig, ax = plt.subplots()\n",
    "\n",
    "img = librosa.display.specshow(librosa.amplitude_to_db(tempogram,ref=np.max), y_axis='log',x_axis='time',ax=ax)\n",
    "ax.set_title('Power spectrogram')\n",
    "\n",
    "fig.colorbar(img, ax=ax, format=\"%+2.0f dB\")"
   ]
  },
  {
   "cell_type": "code",
   "execution_count": null,
   "metadata": {},
   "outputs": [],
   "source": [
    "Fs = 500\n",
    "fft_result = np.fft.fft(EEG)\n",
    "freq = np.fft.fftfreq(len(EEG), d=1/Fs)\n",
    "power_spectrum = np.abs(fft_result)\n",
    "plt.plot(freq[:len(freq)//2], power_spectrum[:len(power_spectrum)//2])\n",
    "plt.title(\"EEG Power Spectrum\")\n",
    "plt.xlabel(\"Frequency (Hz)\")\n",
    "plt.ylabel(\"Power\")\n",
    "plt.show()\n"
   ]
  },
  {
   "cell_type": "code",
   "execution_count": null,
   "metadata": {},
   "outputs": [],
   "source": [
    "from scipy.signal import welch\n",
    "\n",
    "f, psd = welch(EEG, fs=Fs, nperseg=1024)\n",
    "plt.semilogy(f, psd)\n",
    "plt.title(\"Power Spectral Density\")\n",
    "plt.xlabel(\"Frequency (Hz)\")\n",
    "plt.ylabel(\"PSD (V²/Hz)\")\n",
    "plt.show()"
   ]
  },
  {
   "cell_type": "code",
   "execution_count": null,
   "metadata": {},
   "outputs": [],
   "source": [
    "px.line(x=f,y=psd,log_y=True)"
   ]
  },
  {
   "cell_type": "code",
   "execution_count": null,
   "metadata": {},
   "outputs": [],
   "source": [
    "EEG2 = scipy.io.loadmat('/home/mario/code/SeanDominique/will-they-wake-up/data/physionet.org/files/i-care/2.1/training/0284/0284_001_004_EEG.mat')\n",
    "EEG2 = EEG2['val'][0]\n",
    "EEG2 = EEG2.astype(float)"
   ]
  },
  {
   "cell_type": "code",
   "execution_count": null,
   "metadata": {},
   "outputs": [],
   "source": [
    "fft_result = np.fft.fft(EEG2)\n",
    "freq = np.fft.fftfreq(len(EEG2), d=1/Fs)\n",
    "power_spectrum = np.abs(fft_result)\n",
    "plt.plot(freq[:len(freq)//2], power_spectrum[:len(power_spectrum)//2])\n",
    "plt.title(\"EEG Power Spectrum\")\n",
    "plt.xlabel(\"Frequency (Hz)\")\n",
    "plt.ylabel(\"Power\")\n",
    "plt.show()"
   ]
  },
  {
   "cell_type": "code",
   "execution_count": null,
   "metadata": {},
   "outputs": [],
   "source": [
    "f, psd = welch(EEG2, fs=Fs, nperseg=1024)\n",
    "plt.semilogy(f, psd)\n",
    "plt.title(\"Power Spectral Density\")\n",
    "plt.xlabel(\"Frequency (Hz)\")\n",
    "plt.ylabel(\"PSD (V²/Hz)\")\n",
    "plt.show()"
   ]
  },
  {
   "cell_type": "code",
   "execution_count": null,
   "metadata": {},
   "outputs": [],
   "source": [
    "px.line(x=f,y=psd,log_y=True)"
   ]
  },
  {
   "cell_type": "code",
   "execution_count": null,
   "metadata": {},
   "outputs": [],
   "source": [
    "EEG3 = scipy.io.loadmat('/home/mario/code/SeanDominique/will-they-wake-up/data/physionet.org/files/i-care/2.1/training/0284/0284_004_007_EEG.mat')\n",
    "EEG3 = EEG3['val'][0]\n",
    "EEG3 = EEG3.astype(float)"
   ]
  },
  {
   "cell_type": "code",
   "execution_count": null,
   "metadata": {},
   "outputs": [],
   "source": [
    "f, psd = welch(EEG3, fs=Fs, nperseg=2000)\n",
    "plt.semilogy(f, psd)\n",
    "plt.title(\"Power Spectral Density\")\n",
    "plt.xlabel(\"Frequency (Hz)\")\n",
    "plt.ylabel(\"PSD (V²/Hz)\")\n",
    "plt.show()"
   ]
  },
  {
   "cell_type": "code",
   "execution_count": null,
   "metadata": {},
   "outputs": [],
   "source": [
    "px.line(x=f,y=psd,log_y=False)\n"
   ]
  },
  {
   "cell_type": "code",
   "execution_count": null,
   "metadata": {},
   "outputs": [],
   "source": [
    "fft_result = np.fft.fft(EEG3)\n",
    "freq = np.fft.fftfreq(len(EEG3), d=1/Fs)\n",
    "power_spectrum = np.abs(fft_result)\n",
    "plt.plot(freq[:len(freq)//2], power_spectrum[:len(power_spectrum)//2])\n",
    "plt.title(\"EEG Power Spectrum\")\n",
    "plt.xlabel(\"Frequency (Hz)\")\n",
    "plt.ylabel(\"Power\")\n",
    "plt.show()"
   ]
  },
  {
   "cell_type": "code",
   "execution_count": null,
   "metadata": {},
   "outputs": [],
   "source": [
    "!pip install mne\n"
   ]
  },
  {
   "cell_type": "code",
   "execution_count": null,
   "metadata": {},
   "outputs": [],
   "source": [
    "import mne"
   ]
  },
  {
   "cell_type": "code",
   "execution_count": null,
   "metadata": {},
   "outputs": [],
   "source": [
    "!pip install pymatreader"
   ]
  },
  {
   "cell_type": "code",
   "execution_count": null,
   "metadata": {},
   "outputs": [],
   "source": [
    "EEG4 = scipy.io.loadmat('/home/mario/code/SeanDominique/will-they-wake-up/data/physionet.org/files/i-care/2.1/training/0284/0284_017_017_EEG.mat')\n",
    "EEG4 = EEG4['val'][15]\n",
    "EEG4 = EEG4.astype(float)"
   ]
  },
  {
   "cell_type": "code",
   "execution_count": null,
   "metadata": {},
   "outputs": [],
   "source": [
    "f, psd = welch(EEG4, fs=Fs, nperseg=2048)\n",
    "plt.semilogy(f, psd)\n",
    "plt.title(\"Power Spectral Density\")\n",
    "plt.xlabel(\"Frequency (Hz)\")\n",
    "plt.ylabel(\"PSD (V²/Hz)\")\n",
    "plt.show()"
   ]
  },
  {
   "cell_type": "code",
   "execution_count": null,
   "metadata": {},
   "outputs": [],
   "source": [
    "px.line(x=f,y=psd,log_y=False)\n"
   ]
  },
  {
   "cell_type": "code",
   "execution_count": null,
   "metadata": {},
   "outputs": [],
   "source": []
  }
 ],
 "metadata": {
  "kernelspec": {
   "display_name": "will-they-wake-up",
   "language": "python",
   "name": "python3"
  },
  "language_info": {
   "codemirror_mode": {
    "name": "ipython",
    "version": 3
   },
   "file_extension": ".py",
   "mimetype": "text/x-python",
   "name": "python",
   "nbconvert_exporter": "python",
   "pygments_lexer": "ipython3",
   "version": "3.10.6"
  }
 },
 "nbformat": 4,
 "nbformat_minor": 2
}
