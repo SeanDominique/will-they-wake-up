{
 "cells": [
  {
   "cell_type": "code",
   "execution_count": null,
   "metadata": {},
   "outputs": [],
   "source": [
    "import matplotlib.pyplot as plt\n",
    "import plotly.express as px\n",
    "import scipy.io\n",
    "import pandas as pd\n",
    "import numpy as np\n",
    "import plotly.graph_objects as go\n",
    "from sklearn.preprocessing import MinMaxScaler, StandardScaler, RobustScaler\n",
    "from scipy.signal import welch\n",
    "%matplotlib inline\n"
   ]
  },
  {
   "cell_type": "code",
   "execution_count": null,
   "metadata": {},
   "outputs": [],
   "source": [
    "#fft_result = np.fft.fft(EEG2)\n",
    "#freq = np.fft.fftfreq(len(EEG2), d=1/Fs)\n",
    "#power_spectrum = np.abs(fft_result)\n",
    "#plt.plot(freq[:len(freq)//2], power_spectrum[:len(power_spectrum)//2])\n",
    "#plt.title(\"EEG Power Spectrum\")\n",
    "#plt.xlabel(\"Frequency (Hz)\")\n",
    "#plt.ylabel(\"Power\")\n",
    "#plt.yscale('log')\n",
    "#plt.show()"
   ]
  },
  {
   "cell_type": "code",
   "execution_count": null,
   "metadata": {},
   "outputs": [],
   "source": [
    "path= \"/home/mario/code/SeanDominique/will-they-wake-up/data/physionet.org/files/i-care/2.1/training/1000/\"\n",
    "\n",
    "import os\n",
    "scaler = StandardScaler()\n",
    "def get_eeg_files(directory):\n",
    "    eeg_files = []\n",
    "\n",
    "    for root, _, files in os.walk(directory):\n",
    "\n",
    "        for file in files:\n",
    "\n",
    "            if file.endswith(\"EEG.mat\"):\n",
    "\n",
    "                absolute_path = os.path.abspath(os.path.join(root, file))\n",
    "                eeg_files.append(absolute_path)\n",
    "\n",
    "    return sorted(eeg_files)\n",
    "\n",
    "\n",
    "EEG_file_list = get_eeg_files(path)\n",
    "hours =[]\n",
    "EEG_list = []\n",
    "for file_path in EEG_file_list[:-1]:\n",
    "\n",
    "    eeg = scipy.io.loadmat(file_path)\n",
    "    eeg = eeg['val']\n",
    "    eeg = eeg.astype(float)\n",
    "    for line in eeg:\n",
    "        temp_line = line.reshape(1, -1)\n",
    "        temp_line = scaler.fit_transform(temp_line)\n",
    "        line = temp_line.reshape(-1)\n",
    "    eeg = np.mean(eeg,axis=0)\n",
    "    EEG_list.append(eeg)\n",
    "\n",
    "    hour = file_path[-11:-8]\n",
    "    hours.append(hour)\n",
    "\n",
    "len(hours)"
   ]
  },
  {
   "cell_type": "code",
   "execution_count": null,
   "metadata": {},
   "outputs": [],
   "source": [
    "psds = []\n",
    "for eeg in EEG_list:\n",
    "    f, temp_psd = welch(eeg, fs=500, nperseg=1024)\n",
    "    psds.append(temp_psd)\n"
   ]
  },
  {
   "cell_type": "code",
   "execution_count": null,
   "metadata": {},
   "outputs": [],
   "source": [
    "fig = go.Figure()\n",
    "\n",
    "index = 0\n",
    "for psd in psds:\n",
    "    color_intensity = min((1 - index/len(psds) ),1) # This is to change the color of each line. Plotly doesn't like to do it, so I had to force it with an f string and rgb values.\n",
    "    fig.add_trace(go.Scatter(x = f, y = psd,\n",
    "        mode='lines',\n",
    "\n",
    "        line=dict( color= f\"rgb({255*color_intensity},0,{255-(255*color_intensity)})\"),\n",
    "\n",
    "        opacity = 0.5,\n",
    "\n",
    "    ))\n",
    "    index += 1\n",
    "\n",
    "fig.update_yaxes(type='log')\n",
    "fig.show()\n",
    "print(color_intensity)"
   ]
  },
  {
   "cell_type": "code",
   "execution_count": null,
   "metadata": {},
   "outputs": [],
   "source": [
    "psds = np.array(psds)\n",
    "psds.shape"
   ]
  },
  {
   "cell_type": "code",
   "execution_count": null,
   "metadata": {},
   "outputs": [],
   "source": [
    "hours"
   ]
  },
  {
   "cell_type": "code",
   "execution_count": null,
   "metadata": {},
   "outputs": [],
   "source": [
    "hours2 = pd.DataFrame(hours,columns=['hours'])\n",
    "psds_df = pd.DataFrame(psds)\n",
    "psds_df = pd.concat([psds_df, hours2], axis=1)\n",
    "psds_df = psds_df.groupby(by='hours',as_index=True).mean()\n",
    "psds_df = psds_df.div(psds_df[0],axis=0)"
   ]
  },
  {
   "cell_type": "code",
   "execution_count": null,
   "metadata": {},
   "outputs": [],
   "source": [
    "psds_df[0]"
   ]
  },
  {
   "cell_type": "code",
   "execution_count": null,
   "metadata": {},
   "outputs": [],
   "source": [
    "ini_psds = psds[:,:25]\n",
    "\n",
    "ini_psds = ini_psds.T/(ini_psds[:,0])\n",
    "ini_psds.shape"
   ]
  },
  {
   "cell_type": "code",
   "execution_count": null,
   "metadata": {},
   "outputs": [],
   "source": [
    "px.line(psds_df,log_y=True,)"
   ]
  },
  {
   "cell_type": "code",
   "execution_count": null,
   "metadata": {},
   "outputs": [],
   "source": [
    "ini_psds.T.shape"
   ]
  },
  {
   "cell_type": "code",
   "execution_count": null,
   "metadata": {},
   "outputs": [],
   "source": [
    "EEG_file_list[50]"
   ]
  },
  {
   "cell_type": "code",
   "execution_count": null,
   "metadata": {},
   "outputs": [],
   "source": []
  }
 ],
 "metadata": {
  "kernelspec": {
   "display_name": "will-they-wake-up",
   "language": "python",
   "name": "python3"
  },
  "language_info": {
   "codemirror_mode": {
    "name": "ipython",
    "version": 3
   },
   "file_extension": ".py",
   "mimetype": "text/x-python",
   "name": "python",
   "nbconvert_exporter": "python",
   "pygments_lexer": "ipython3",
   "version": "3.10.6"
  }
 },
 "nbformat": 4,
 "nbformat_minor": 2
}
