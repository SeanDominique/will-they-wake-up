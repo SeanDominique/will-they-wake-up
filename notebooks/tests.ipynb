{
 "cells": [
  {
   "cell_type": "code",
   "execution_count": 180,
   "metadata": {},
   "outputs": [],
   "source": [
    "import matplotlib.pyplot as plt\n",
    "import plotly.express as px\n",
    "import scipy.io\n",
    "import pandas as pd\n",
    "import numpy as np\n",
    "import plotly.graph_objects as go\n",
    "from sklearn.preprocessing import MinMaxScaler, StandardScaler, RobustScaler\n",
    "from scipy.signal import welch\n",
    "%matplotlib inline\n"
   ]
  },
  {
   "cell_type": "code",
   "execution_count": 181,
   "metadata": {},
   "outputs": [],
   "source": [
    "#fft_result = np.fft.fft(EEG2)\n",
    "#freq = np.fft.fftfreq(len(EEG2), d=1/Fs)\n",
    "#power_spectrum = np.abs(fft_result)\n",
    "#plt.plot(freq[:len(freq)//2], power_spectrum[:len(power_spectrum)//2])\n",
    "#plt.title(\"EEG Power Spectrum\")\n",
    "#plt.xlabel(\"Frequency (Hz)\")\n",
    "#plt.ylabel(\"Power\")\n",
    "#plt.yscale('log')\n",
    "#plt.show()"
   ]
  },
  {
   "cell_type": "code",
   "execution_count": 182,
   "metadata": {},
   "outputs": [
    {
     "data": {
      "text/plain": [
       "['/home/mariorocha/code/SeanDominique/will-they-wake-up/data/raw/physionet.org/files/i-care/2.1/training/0284',\n",
       " '/home/mariorocha/code/SeanDominique/will-they-wake-up/data/raw/physionet.org/files/i-care/2.1/training/0286',\n",
       " '/home/mariorocha/code/SeanDominique/will-they-wake-up/data/raw/physionet.org/files/i-care/2.1/training/0296',\n",
       " '/home/mariorocha/code/SeanDominique/will-they-wake-up/data/raw/physionet.org/files/i-care/2.1/training/0299',\n",
       " '/home/mariorocha/code/SeanDominique/will-they-wake-up/data/raw/physionet.org/files/i-care/2.1/training/0303',\n",
       " '/home/mariorocha/code/SeanDominique/will-they-wake-up/data/raw/physionet.org/files/i-care/2.1/training/0306',\n",
       " '/home/mariorocha/code/SeanDominique/will-they-wake-up/data/raw/physionet.org/files/i-care/2.1/training/0311',\n",
       " '/home/mariorocha/code/SeanDominique/will-they-wake-up/data/raw/physionet.org/files/i-care/2.1/training/0312',\n",
       " '/home/mariorocha/code/SeanDominique/will-they-wake-up/data/raw/physionet.org/files/i-care/2.1/training/0313',\n",
       " '/home/mariorocha/code/SeanDominique/will-they-wake-up/data/raw/physionet.org/files/i-care/2.1/training/0316',\n",
       " '/home/mariorocha/code/SeanDominique/will-they-wake-up/data/raw/physionet.org/files/i-care/2.1/training/0319',\n",
       " '/home/mariorocha/code/SeanDominique/will-they-wake-up/data/raw/physionet.org/files/i-care/2.1/training/0320',\n",
       " '/home/mariorocha/code/SeanDominique/will-they-wake-up/data/raw/physionet.org/files/i-care/2.1/training/0326',\n",
       " '/home/mariorocha/code/SeanDominique/will-they-wake-up/data/raw/physionet.org/files/i-care/2.1/training/0328',\n",
       " '/home/mariorocha/code/SeanDominique/will-they-wake-up/data/raw/physionet.org/files/i-care/2.1/training/0332',\n",
       " '/home/mariorocha/code/SeanDominique/will-they-wake-up/data/raw/physionet.org/files/i-care/2.1/training/0334',\n",
       " '/home/mariorocha/code/SeanDominique/will-they-wake-up/data/raw/physionet.org/files/i-care/2.1/training/0335',\n",
       " '/home/mariorocha/code/SeanDominique/will-they-wake-up/data/raw/physionet.org/files/i-care/2.1/training/0337',\n",
       " '/home/mariorocha/code/SeanDominique/will-they-wake-up/data/raw/physionet.org/files/i-care/2.1/training/0340',\n",
       " '/home/mariorocha/code/SeanDominique/will-they-wake-up/data/raw/physionet.org/files/i-care/2.1/training/0341',\n",
       " '/home/mariorocha/code/SeanDominique/will-they-wake-up/data/raw/physionet.org/files/i-care/2.1/training/0342',\n",
       " '/home/mariorocha/code/SeanDominique/will-they-wake-up/data/raw/physionet.org/files/i-care/2.1/training/0344',\n",
       " '/home/mariorocha/code/SeanDominique/will-they-wake-up/data/raw/physionet.org/files/i-care/2.1/training/0346',\n",
       " '/home/mariorocha/code/SeanDominique/will-they-wake-up/data/raw/physionet.org/files/i-care/2.1/training/0347',\n",
       " '/home/mariorocha/code/SeanDominique/will-they-wake-up/data/raw/physionet.org/files/i-care/2.1/training/0348',\n",
       " '/home/mariorocha/code/SeanDominique/will-they-wake-up/data/raw/physionet.org/files/i-care/2.1/training/0349',\n",
       " '/home/mariorocha/code/SeanDominique/will-they-wake-up/data/raw/physionet.org/files/i-care/2.1/training/0350',\n",
       " '/home/mariorocha/code/SeanDominique/will-they-wake-up/data/raw/physionet.org/files/i-care/2.1/training/0351',\n",
       " '/home/mariorocha/code/SeanDominique/will-they-wake-up/data/raw/physionet.org/files/i-care/2.1/training/0352',\n",
       " '/home/mariorocha/code/SeanDominique/will-they-wake-up/data/raw/physionet.org/files/i-care/2.1/training/0353',\n",
       " '/home/mariorocha/code/SeanDominique/will-they-wake-up/data/raw/physionet.org/files/i-care/2.1/training/0354',\n",
       " '/home/mariorocha/code/SeanDominique/will-they-wake-up/data/raw/physionet.org/files/i-care/2.1/training/0355',\n",
       " '/home/mariorocha/code/SeanDominique/will-they-wake-up/data/raw/physionet.org/files/i-care/2.1/training/0356',\n",
       " '/home/mariorocha/code/SeanDominique/will-they-wake-up/data/raw/physionet.org/files/i-care/2.1/training/0357',\n",
       " '/home/mariorocha/code/SeanDominique/will-they-wake-up/data/raw/physionet.org/files/i-care/2.1/training/0358',\n",
       " '/home/mariorocha/code/SeanDominique/will-they-wake-up/data/raw/physionet.org/files/i-care/2.1/training/0359',\n",
       " '/home/mariorocha/code/SeanDominique/will-they-wake-up/data/raw/physionet.org/files/i-care/2.1/training/0360',\n",
       " '/home/mariorocha/code/SeanDominique/will-they-wake-up/data/raw/physionet.org/files/i-care/2.1/training/0361',\n",
       " '/home/mariorocha/code/SeanDominique/will-they-wake-up/data/raw/physionet.org/files/i-care/2.1/training/0362',\n",
       " '/home/mariorocha/code/SeanDominique/will-they-wake-up/data/raw/physionet.org/files/i-care/2.1/training/0363',\n",
       " '/home/mariorocha/code/SeanDominique/will-they-wake-up/data/raw/physionet.org/files/i-care/2.1/training/0364',\n",
       " '/home/mariorocha/code/SeanDominique/will-they-wake-up/data/raw/physionet.org/files/i-care/2.1/training/0365',\n",
       " '/home/mariorocha/code/SeanDominique/will-they-wake-up/data/raw/physionet.org/files/i-care/2.1/training/0366',\n",
       " '/home/mariorocha/code/SeanDominique/will-they-wake-up/data/raw/physionet.org/files/i-care/2.1/training/0367',\n",
       " '/home/mariorocha/code/SeanDominique/will-they-wake-up/data/raw/physionet.org/files/i-care/2.1/training/0368',\n",
       " '/home/mariorocha/code/SeanDominique/will-they-wake-up/data/raw/physionet.org/files/i-care/2.1/training/0369',\n",
       " '/home/mariorocha/code/SeanDominique/will-they-wake-up/data/raw/physionet.org/files/i-care/2.1/training/0370',\n",
       " '/home/mariorocha/code/SeanDominique/will-they-wake-up/data/raw/physionet.org/files/i-care/2.1/training/0371',\n",
       " '/home/mariorocha/code/SeanDominique/will-they-wake-up/data/raw/physionet.org/files/i-care/2.1/training/0372',\n",
       " '/home/mariorocha/code/SeanDominique/will-they-wake-up/data/raw/physionet.org/files/i-care/2.1/training/0373',\n",
       " '/home/mariorocha/code/SeanDominique/will-they-wake-up/data/raw/physionet.org/files/i-care/2.1/training/0375',\n",
       " '/home/mariorocha/code/SeanDominique/will-they-wake-up/data/raw/physionet.org/files/i-care/2.1/training/0376',\n",
       " '/home/mariorocha/code/SeanDominique/will-they-wake-up/data/raw/physionet.org/files/i-care/2.1/training/0377',\n",
       " '/home/mariorocha/code/SeanDominique/will-they-wake-up/data/raw/physionet.org/files/i-care/2.1/training/0378',\n",
       " '/home/mariorocha/code/SeanDominique/will-they-wake-up/data/raw/physionet.org/files/i-care/2.1/training/0379',\n",
       " '/home/mariorocha/code/SeanDominique/will-they-wake-up/data/raw/physionet.org/files/i-care/2.1/training/0380',\n",
       " '/home/mariorocha/code/SeanDominique/will-they-wake-up/data/raw/physionet.org/files/i-care/2.1/training/0382',\n",
       " '/home/mariorocha/code/SeanDominique/will-they-wake-up/data/raw/physionet.org/files/i-care/2.1/training/0383',\n",
       " '/home/mariorocha/code/SeanDominique/will-they-wake-up/data/raw/physionet.org/files/i-care/2.1/training/0384',\n",
       " '/home/mariorocha/code/SeanDominique/will-they-wake-up/data/raw/physionet.org/files/i-care/2.1/training/0385',\n",
       " '/home/mariorocha/code/SeanDominique/will-they-wake-up/data/raw/physionet.org/files/i-care/2.1/training/0387',\n",
       " '/home/mariorocha/code/SeanDominique/will-they-wake-up/data/raw/physionet.org/files/i-care/2.1/training/0389',\n",
       " '/home/mariorocha/code/SeanDominique/will-they-wake-up/data/raw/physionet.org/files/i-care/2.1/training/0390',\n",
       " '/home/mariorocha/code/SeanDominique/will-they-wake-up/data/raw/physionet.org/files/i-care/2.1/training/0391',\n",
       " '/home/mariorocha/code/SeanDominique/will-they-wake-up/data/raw/physionet.org/files/i-care/2.1/training/0392',\n",
       " '/home/mariorocha/code/SeanDominique/will-they-wake-up/data/raw/physionet.org/files/i-care/2.1/training/0394',\n",
       " '/home/mariorocha/code/SeanDominique/will-they-wake-up/data/raw/physionet.org/files/i-care/2.1/training/0395',\n",
       " '/home/mariorocha/code/SeanDominique/will-they-wake-up/data/raw/physionet.org/files/i-care/2.1/training/0396',\n",
       " '/home/mariorocha/code/SeanDominique/will-they-wake-up/data/raw/physionet.org/files/i-care/2.1/training/0397',\n",
       " '/home/mariorocha/code/SeanDominique/will-they-wake-up/data/raw/physionet.org/files/i-care/2.1/training/0398',\n",
       " '/home/mariorocha/code/SeanDominique/will-they-wake-up/data/raw/physionet.org/files/i-care/2.1/training/0399',\n",
       " '/home/mariorocha/code/SeanDominique/will-they-wake-up/data/raw/physionet.org/files/i-care/2.1/training/0400',\n",
       " '/home/mariorocha/code/SeanDominique/will-they-wake-up/data/raw/physionet.org/files/i-care/2.1/training/0402',\n",
       " '/home/mariorocha/code/SeanDominique/will-they-wake-up/data/raw/physionet.org/files/i-care/2.1/training/0403',\n",
       " '/home/mariorocha/code/SeanDominique/will-they-wake-up/data/raw/physionet.org/files/i-care/2.1/training/0404',\n",
       " '/home/mariorocha/code/SeanDominique/will-they-wake-up/data/raw/physionet.org/files/i-care/2.1/training/0405',\n",
       " '/home/mariorocha/code/SeanDominique/will-they-wake-up/data/raw/physionet.org/files/i-care/2.1/training/0406',\n",
       " '/home/mariorocha/code/SeanDominique/will-they-wake-up/data/raw/physionet.org/files/i-care/2.1/training/0407',\n",
       " '/home/mariorocha/code/SeanDominique/will-they-wake-up/data/raw/physionet.org/files/i-care/2.1/training/0409',\n",
       " '/home/mariorocha/code/SeanDominique/will-they-wake-up/data/raw/physionet.org/files/i-care/2.1/training/0410',\n",
       " '/home/mariorocha/code/SeanDominique/will-they-wake-up/data/raw/physionet.org/files/i-care/2.1/training/0411',\n",
       " '/home/mariorocha/code/SeanDominique/will-they-wake-up/data/raw/physionet.org/files/i-care/2.1/training/0412',\n",
       " '/home/mariorocha/code/SeanDominique/will-they-wake-up/data/raw/physionet.org/files/i-care/2.1/training/0413',\n",
       " '/home/mariorocha/code/SeanDominique/will-they-wake-up/data/raw/physionet.org/files/i-care/2.1/training/0414',\n",
       " '/home/mariorocha/code/SeanDominique/will-they-wake-up/data/raw/physionet.org/files/i-care/2.1/training/0415',\n",
       " '/home/mariorocha/code/SeanDominique/will-they-wake-up/data/raw/physionet.org/files/i-care/2.1/training/0416',\n",
       " '/home/mariorocha/code/SeanDominique/will-they-wake-up/data/raw/physionet.org/files/i-care/2.1/training/0417',\n",
       " '/home/mariorocha/code/SeanDominique/will-they-wake-up/data/raw/physionet.org/files/i-care/2.1/training/0418',\n",
       " '/home/mariorocha/code/SeanDominique/will-they-wake-up/data/raw/physionet.org/files/i-care/2.1/training/0419',\n",
       " '/home/mariorocha/code/SeanDominique/will-they-wake-up/data/raw/physionet.org/files/i-care/2.1/training/0420',\n",
       " '/home/mariorocha/code/SeanDominique/will-they-wake-up/data/raw/physionet.org/files/i-care/2.1/training/0421',\n",
       " '/home/mariorocha/code/SeanDominique/will-they-wake-up/data/raw/physionet.org/files/i-care/2.1/training/0422',\n",
       " '/home/mariorocha/code/SeanDominique/will-they-wake-up/data/raw/physionet.org/files/i-care/2.1/training/0423',\n",
       " '/home/mariorocha/code/SeanDominique/will-they-wake-up/data/raw/physionet.org/files/i-care/2.1/training/0424',\n",
       " '/home/mariorocha/code/SeanDominique/will-they-wake-up/data/raw/physionet.org/files/i-care/2.1/training/0426',\n",
       " '/home/mariorocha/code/SeanDominique/will-they-wake-up/data/raw/physionet.org/files/i-care/2.1/training/0427',\n",
       " '/home/mariorocha/code/SeanDominique/will-they-wake-up/data/raw/physionet.org/files/i-care/2.1/training/0428',\n",
       " '/home/mariorocha/code/SeanDominique/will-they-wake-up/data/raw/physionet.org/files/i-care/2.1/training/0429',\n",
       " '/home/mariorocha/code/SeanDominique/will-they-wake-up/data/raw/physionet.org/files/i-care/2.1/training/0430',\n",
       " '/home/mariorocha/code/SeanDominique/will-they-wake-up/data/raw/physionet.org/files/i-care/2.1/training/0431',\n",
       " '/home/mariorocha/code/SeanDominique/will-they-wake-up/data/raw/physionet.org/files/i-care/2.1/training/0432',\n",
       " '/home/mariorocha/code/SeanDominique/will-they-wake-up/data/raw/physionet.org/files/i-care/2.1/training/0433',\n",
       " '/home/mariorocha/code/SeanDominique/will-they-wake-up/data/raw/physionet.org/files/i-care/2.1/training/0434',\n",
       " '/home/mariorocha/code/SeanDominique/will-they-wake-up/data/raw/physionet.org/files/i-care/2.1/training/0435',\n",
       " '/home/mariorocha/code/SeanDominique/will-they-wake-up/data/raw/physionet.org/files/i-care/2.1/training/0436',\n",
       " '/home/mariorocha/code/SeanDominique/will-they-wake-up/data/raw/physionet.org/files/i-care/2.1/training/0437',\n",
       " '/home/mariorocha/code/SeanDominique/will-they-wake-up/data/raw/physionet.org/files/i-care/2.1/training/0438',\n",
       " '/home/mariorocha/code/SeanDominique/will-they-wake-up/data/raw/physionet.org/files/i-care/2.1/training/0439',\n",
       " '/home/mariorocha/code/SeanDominique/will-they-wake-up/data/raw/physionet.org/files/i-care/2.1/training/0440',\n",
       " '/home/mariorocha/code/SeanDominique/will-they-wake-up/data/raw/physionet.org/files/i-care/2.1/training/0441',\n",
       " '/home/mariorocha/code/SeanDominique/will-they-wake-up/data/raw/physionet.org/files/i-care/2.1/training/0442',\n",
       " '/home/mariorocha/code/SeanDominique/will-they-wake-up/data/raw/physionet.org/files/i-care/2.1/training/0443',\n",
       " '/home/mariorocha/code/SeanDominique/will-they-wake-up/data/raw/physionet.org/files/i-care/2.1/training/0444',\n",
       " '/home/mariorocha/code/SeanDominique/will-they-wake-up/data/raw/physionet.org/files/i-care/2.1/training/0445',\n",
       " '/home/mariorocha/code/SeanDominique/will-they-wake-up/data/raw/physionet.org/files/i-care/2.1/training/0446',\n",
       " '/home/mariorocha/code/SeanDominique/will-they-wake-up/data/raw/physionet.org/files/i-care/2.1/training/0447',\n",
       " '/home/mariorocha/code/SeanDominique/will-they-wake-up/data/raw/physionet.org/files/i-care/2.1/training/0448',\n",
       " '/home/mariorocha/code/SeanDominique/will-they-wake-up/data/raw/physionet.org/files/i-care/2.1/training/0450',\n",
       " '/home/mariorocha/code/SeanDominique/will-they-wake-up/data/raw/physionet.org/files/i-care/2.1/training/0451',\n",
       " '/home/mariorocha/code/SeanDominique/will-they-wake-up/data/raw/physionet.org/files/i-care/2.1/training/0452',\n",
       " '/home/mariorocha/code/SeanDominique/will-they-wake-up/data/raw/physionet.org/files/i-care/2.1/training/0453',\n",
       " '/home/mariorocha/code/SeanDominique/will-they-wake-up/data/raw/physionet.org/files/i-care/2.1/training/0455',\n",
       " '/home/mariorocha/code/SeanDominique/will-they-wake-up/data/raw/physionet.org/files/i-care/2.1/training/0456',\n",
       " '/home/mariorocha/code/SeanDominique/will-they-wake-up/data/raw/physionet.org/files/i-care/2.1/training/0457',\n",
       " '/home/mariorocha/code/SeanDominique/will-they-wake-up/data/raw/physionet.org/files/i-care/2.1/training/0458',\n",
       " '/home/mariorocha/code/SeanDominique/will-they-wake-up/data/raw/physionet.org/files/i-care/2.1/training/0459',\n",
       " '/home/mariorocha/code/SeanDominique/will-they-wake-up/data/raw/physionet.org/files/i-care/2.1/training/0460',\n",
       " '/home/mariorocha/code/SeanDominique/will-they-wake-up/data/raw/physionet.org/files/i-care/2.1/training/0461',\n",
       " '/home/mariorocha/code/SeanDominique/will-they-wake-up/data/raw/physionet.org/files/i-care/2.1/training/0462',\n",
       " '/home/mariorocha/code/SeanDominique/will-they-wake-up/data/raw/physionet.org/files/i-care/2.1/training/0463',\n",
       " '/home/mariorocha/code/SeanDominique/will-they-wake-up/data/raw/physionet.org/files/i-care/2.1/training/0464',\n",
       " '/home/mariorocha/code/SeanDominique/will-they-wake-up/data/raw/physionet.org/files/i-care/2.1/training/0465',\n",
       " '/home/mariorocha/code/SeanDominique/will-they-wake-up/data/raw/physionet.org/files/i-care/2.1/training/0466',\n",
       " '/home/mariorocha/code/SeanDominique/will-they-wake-up/data/raw/physionet.org/files/i-care/2.1/training/0467',\n",
       " '/home/mariorocha/code/SeanDominique/will-they-wake-up/data/raw/physionet.org/files/i-care/2.1/training/0468',\n",
       " '/home/mariorocha/code/SeanDominique/will-they-wake-up/data/raw/physionet.org/files/i-care/2.1/training/0469',\n",
       " '/home/mariorocha/code/SeanDominique/will-they-wake-up/data/raw/physionet.org/files/i-care/2.1/training/0470',\n",
       " '/home/mariorocha/code/SeanDominique/will-they-wake-up/data/raw/physionet.org/files/i-care/2.1/training/0471',\n",
       " '/home/mariorocha/code/SeanDominique/will-they-wake-up/data/raw/physionet.org/files/i-care/2.1/training/0472',\n",
       " '/home/mariorocha/code/SeanDominique/will-they-wake-up/data/raw/physionet.org/files/i-care/2.1/training/0473',\n",
       " '/home/mariorocha/code/SeanDominique/will-they-wake-up/data/raw/physionet.org/files/i-care/2.1/training/0474',\n",
       " '/home/mariorocha/code/SeanDominique/will-they-wake-up/data/raw/physionet.org/files/i-care/2.1/training/0475',\n",
       " '/home/mariorocha/code/SeanDominique/will-they-wake-up/data/raw/physionet.org/files/i-care/2.1/training/0476',\n",
       " '/home/mariorocha/code/SeanDominique/will-they-wake-up/data/raw/physionet.org/files/i-care/2.1/training/0477',\n",
       " '/home/mariorocha/code/SeanDominique/will-they-wake-up/data/raw/physionet.org/files/i-care/2.1/training/0479',\n",
       " '/home/mariorocha/code/SeanDominique/will-they-wake-up/data/raw/physionet.org/files/i-care/2.1/training/0481',\n",
       " '/home/mariorocha/code/SeanDominique/will-they-wake-up/data/raw/physionet.org/files/i-care/2.1/training/0482',\n",
       " '/home/mariorocha/code/SeanDominique/will-they-wake-up/data/raw/physionet.org/files/i-care/2.1/training/0483',\n",
       " '/home/mariorocha/code/SeanDominique/will-they-wake-up/data/raw/physionet.org/files/i-care/2.1/training/0484',\n",
       " '/home/mariorocha/code/SeanDominique/will-they-wake-up/data/raw/physionet.org/files/i-care/2.1/training/0485',\n",
       " '/home/mariorocha/code/SeanDominique/will-they-wake-up/data/raw/physionet.org/files/i-care/2.1/training/0486',\n",
       " '/home/mariorocha/code/SeanDominique/will-they-wake-up/data/raw/physionet.org/files/i-care/2.1/training/0487',\n",
       " '/home/mariorocha/code/SeanDominique/will-they-wake-up/data/raw/physionet.org/files/i-care/2.1/training/0490',\n",
       " '/home/mariorocha/code/SeanDominique/will-they-wake-up/data/raw/physionet.org/files/i-care/2.1/training/0492',\n",
       " '/home/mariorocha/code/SeanDominique/will-they-wake-up/data/raw/physionet.org/files/i-care/2.1/training/0493',\n",
       " '/home/mariorocha/code/SeanDominique/will-they-wake-up/data/raw/physionet.org/files/i-care/2.1/training/0495',\n",
       " '/home/mariorocha/code/SeanDominique/will-they-wake-up/data/raw/physionet.org/files/i-care/2.1/training/0496',\n",
       " '/home/mariorocha/code/SeanDominique/will-they-wake-up/data/raw/physionet.org/files/i-care/2.1/training/0497',\n",
       " '/home/mariorocha/code/SeanDominique/will-they-wake-up/data/raw/physionet.org/files/i-care/2.1/training/0498',\n",
       " '/home/mariorocha/code/SeanDominique/will-they-wake-up/data/raw/physionet.org/files/i-care/2.1/training/0500',\n",
       " '/home/mariorocha/code/SeanDominique/will-they-wake-up/data/raw/physionet.org/files/i-care/2.1/training/0501',\n",
       " '/home/mariorocha/code/SeanDominique/will-they-wake-up/data/raw/physionet.org/files/i-care/2.1/training/0502',\n",
       " '/home/mariorocha/code/SeanDominique/will-they-wake-up/data/raw/physionet.org/files/i-care/2.1/training/0504',\n",
       " '/home/mariorocha/code/SeanDominique/will-they-wake-up/data/raw/physionet.org/files/i-care/2.1/training/0505',\n",
       " '/home/mariorocha/code/SeanDominique/will-they-wake-up/data/raw/physionet.org/files/i-care/2.1/training/0506',\n",
       " '/home/mariorocha/code/SeanDominique/will-they-wake-up/data/raw/physionet.org/files/i-care/2.1/training/0507',\n",
       " '/home/mariorocha/code/SeanDominique/will-they-wake-up/data/raw/physionet.org/files/i-care/2.1/training/0508',\n",
       " '/home/mariorocha/code/SeanDominique/will-they-wake-up/data/raw/physionet.org/files/i-care/2.1/training/0510',\n",
       " '/home/mariorocha/code/SeanDominique/will-they-wake-up/data/raw/physionet.org/files/i-care/2.1/training/0512',\n",
       " '/home/mariorocha/code/SeanDominique/will-they-wake-up/data/raw/physionet.org/files/i-care/2.1/training/0513',\n",
       " '/home/mariorocha/code/SeanDominique/will-they-wake-up/data/raw/physionet.org/files/i-care/2.1/training/0514',\n",
       " '/home/mariorocha/code/SeanDominique/will-they-wake-up/data/raw/physionet.org/files/i-care/2.1/training/0515',\n",
       " '/home/mariorocha/code/SeanDominique/will-they-wake-up/data/raw/physionet.org/files/i-care/2.1/training/0517',\n",
       " '/home/mariorocha/code/SeanDominique/will-they-wake-up/data/raw/physionet.org/files/i-care/2.1/training/0518',\n",
       " '/home/mariorocha/code/SeanDominique/will-they-wake-up/data/raw/physionet.org/files/i-care/2.1/training/0519',\n",
       " '/home/mariorocha/code/SeanDominique/will-they-wake-up/data/raw/physionet.org/files/i-care/2.1/training/0520',\n",
       " '/home/mariorocha/code/SeanDominique/will-they-wake-up/data/raw/physionet.org/files/i-care/2.1/training/0521',\n",
       " '/home/mariorocha/code/SeanDominique/will-they-wake-up/data/raw/physionet.org/files/i-care/2.1/training/0522',\n",
       " '/home/mariorocha/code/SeanDominique/will-they-wake-up/data/raw/physionet.org/files/i-care/2.1/training/0523',\n",
       " '/home/mariorocha/code/SeanDominique/will-they-wake-up/data/raw/physionet.org/files/i-care/2.1/training/0525',\n",
       " '/home/mariorocha/code/SeanDominique/will-they-wake-up/data/raw/physionet.org/files/i-care/2.1/training/0526',\n",
       " '/home/mariorocha/code/SeanDominique/will-they-wake-up/data/raw/physionet.org/files/i-care/2.1/training/0527',\n",
       " '/home/mariorocha/code/SeanDominique/will-they-wake-up/data/raw/physionet.org/files/i-care/2.1/training/0529',\n",
       " '/home/mariorocha/code/SeanDominique/will-they-wake-up/data/raw/physionet.org/files/i-care/2.1/training/0530',\n",
       " '/home/mariorocha/code/SeanDominique/will-they-wake-up/data/raw/physionet.org/files/i-care/2.1/training/0531',\n",
       " '/home/mariorocha/code/SeanDominique/will-they-wake-up/data/raw/physionet.org/files/i-care/2.1/training/0532',\n",
       " '/home/mariorocha/code/SeanDominique/will-they-wake-up/data/raw/physionet.org/files/i-care/2.1/training/0533',\n",
       " '/home/mariorocha/code/SeanDominique/will-they-wake-up/data/raw/physionet.org/files/i-care/2.1/training/0535',\n",
       " '/home/mariorocha/code/SeanDominique/will-they-wake-up/data/raw/physionet.org/files/i-care/2.1/training/0536',\n",
       " '/home/mariorocha/code/SeanDominique/will-they-wake-up/data/raw/physionet.org/files/i-care/2.1/training/0538',\n",
       " '/home/mariorocha/code/SeanDominique/will-they-wake-up/data/raw/physionet.org/files/i-care/2.1/training/0539',\n",
       " '/home/mariorocha/code/SeanDominique/will-they-wake-up/data/raw/physionet.org/files/i-care/2.1/training/0540',\n",
       " '/home/mariorocha/code/SeanDominique/will-they-wake-up/data/raw/physionet.org/files/i-care/2.1/training/0541',\n",
       " '/home/mariorocha/code/SeanDominique/will-they-wake-up/data/raw/physionet.org/files/i-care/2.1/training/0542',\n",
       " '/home/mariorocha/code/SeanDominique/will-they-wake-up/data/raw/physionet.org/files/i-care/2.1/training/0543',\n",
       " '/home/mariorocha/code/SeanDominique/will-they-wake-up/data/raw/physionet.org/files/i-care/2.1/training/0544',\n",
       " '/home/mariorocha/code/SeanDominique/will-they-wake-up/data/raw/physionet.org/files/i-care/2.1/training/0545',\n",
       " '/home/mariorocha/code/SeanDominique/will-they-wake-up/data/raw/physionet.org/files/i-care/2.1/training/0546',\n",
       " '/home/mariorocha/code/SeanDominique/will-they-wake-up/data/raw/physionet.org/files/i-care/2.1/training/0547',\n",
       " '/home/mariorocha/code/SeanDominique/will-they-wake-up/data/raw/physionet.org/files/i-care/2.1/training/0548',\n",
       " '/home/mariorocha/code/SeanDominique/will-they-wake-up/data/raw/physionet.org/files/i-care/2.1/training/0549',\n",
       " '/home/mariorocha/code/SeanDominique/will-they-wake-up/data/raw/physionet.org/files/i-care/2.1/training/0550',\n",
       " '/home/mariorocha/code/SeanDominique/will-they-wake-up/data/raw/physionet.org/files/i-care/2.1/training/0552',\n",
       " '/home/mariorocha/code/SeanDominique/will-they-wake-up/data/raw/physionet.org/files/i-care/2.1/training/0553',\n",
       " '/home/mariorocha/code/SeanDominique/will-they-wake-up/data/raw/physionet.org/files/i-care/2.1/training/0554',\n",
       " '/home/mariorocha/code/SeanDominique/will-they-wake-up/data/raw/physionet.org/files/i-care/2.1/training/0555',\n",
       " '/home/mariorocha/code/SeanDominique/will-they-wake-up/data/raw/physionet.org/files/i-care/2.1/training/0556',\n",
       " '/home/mariorocha/code/SeanDominique/will-they-wake-up/data/raw/physionet.org/files/i-care/2.1/training/0558',\n",
       " '/home/mariorocha/code/SeanDominique/will-they-wake-up/data/raw/physionet.org/files/i-care/2.1/training/0559',\n",
       " '/home/mariorocha/code/SeanDominique/will-they-wake-up/data/raw/physionet.org/files/i-care/2.1/training/0560',\n",
       " '/home/mariorocha/code/SeanDominique/will-they-wake-up/data/raw/physionet.org/files/i-care/2.1/training/0561',\n",
       " '/home/mariorocha/code/SeanDominique/will-they-wake-up/data/raw/physionet.org/files/i-care/2.1/training/0562',\n",
       " '/home/mariorocha/code/SeanDominique/will-they-wake-up/data/raw/physionet.org/files/i-care/2.1/training/0563',\n",
       " '/home/mariorocha/code/SeanDominique/will-they-wake-up/data/raw/physionet.org/files/i-care/2.1/training/0564',\n",
       " '/home/mariorocha/code/SeanDominique/will-they-wake-up/data/raw/physionet.org/files/i-care/2.1/training/0565',\n",
       " '/home/mariorocha/code/SeanDominique/will-they-wake-up/data/raw/physionet.org/files/i-care/2.1/training/0566',\n",
       " '/home/mariorocha/code/SeanDominique/will-they-wake-up/data/raw/physionet.org/files/i-care/2.1/training/0567',\n",
       " '/home/mariorocha/code/SeanDominique/will-they-wake-up/data/raw/physionet.org/files/i-care/2.1/training/0568',\n",
       " '/home/mariorocha/code/SeanDominique/will-they-wake-up/data/raw/physionet.org/files/i-care/2.1/training/0569',\n",
       " '/home/mariorocha/code/SeanDominique/will-they-wake-up/data/raw/physionet.org/files/i-care/2.1/training/0570',\n",
       " '/home/mariorocha/code/SeanDominique/will-they-wake-up/data/raw/physionet.org/files/i-care/2.1/training/0571',\n",
       " '/home/mariorocha/code/SeanDominique/will-they-wake-up/data/raw/physionet.org/files/i-care/2.1/training/0573',\n",
       " '/home/mariorocha/code/SeanDominique/will-they-wake-up/data/raw/physionet.org/files/i-care/2.1/training/0574',\n",
       " '/home/mariorocha/code/SeanDominique/will-they-wake-up/data/raw/physionet.org/files/i-care/2.1/training/0575',\n",
       " '/home/mariorocha/code/SeanDominique/will-they-wake-up/data/raw/physionet.org/files/i-care/2.1/training/0576',\n",
       " '/home/mariorocha/code/SeanDominique/will-they-wake-up/data/raw/physionet.org/files/i-care/2.1/training/0577',\n",
       " '/home/mariorocha/code/SeanDominique/will-they-wake-up/data/raw/physionet.org/files/i-care/2.1/training/0579',\n",
       " '/home/mariorocha/code/SeanDominique/will-they-wake-up/data/raw/physionet.org/files/i-care/2.1/training/0580',\n",
       " '/home/mariorocha/code/SeanDominique/will-they-wake-up/data/raw/physionet.org/files/i-care/2.1/training/0582',\n",
       " '/home/mariorocha/code/SeanDominique/will-they-wake-up/data/raw/physionet.org/files/i-care/2.1/training/0584',\n",
       " '/home/mariorocha/code/SeanDominique/will-they-wake-up/data/raw/physionet.org/files/i-care/2.1/training/0585',\n",
       " '/home/mariorocha/code/SeanDominique/will-they-wake-up/data/raw/physionet.org/files/i-care/2.1/training/0586',\n",
       " '/home/mariorocha/code/SeanDominique/will-they-wake-up/data/raw/physionet.org/files/i-care/2.1/training/0587',\n",
       " '/home/mariorocha/code/SeanDominique/will-they-wake-up/data/raw/physionet.org/files/i-care/2.1/training/0588',\n",
       " '/home/mariorocha/code/SeanDominique/will-they-wake-up/data/raw/physionet.org/files/i-care/2.1/training/0589',\n",
       " '/home/mariorocha/code/SeanDominique/will-they-wake-up/data/raw/physionet.org/files/i-care/2.1/training/0590',\n",
       " '/home/mariorocha/code/SeanDominique/will-they-wake-up/data/raw/physionet.org/files/i-care/2.1/training/0591',\n",
       " '/home/mariorocha/code/SeanDominique/will-they-wake-up/data/raw/physionet.org/files/i-care/2.1/training/0592',\n",
       " '/home/mariorocha/code/SeanDominique/will-they-wake-up/data/raw/physionet.org/files/i-care/2.1/training/0593',\n",
       " '/home/mariorocha/code/SeanDominique/will-they-wake-up/data/raw/physionet.org/files/i-care/2.1/training/0595',\n",
       " '/home/mariorocha/code/SeanDominique/will-they-wake-up/data/raw/physionet.org/files/i-care/2.1/training/0597',\n",
       " '/home/mariorocha/code/SeanDominique/will-they-wake-up/data/raw/physionet.org/files/i-care/2.1/training/0598',\n",
       " '/home/mariorocha/code/SeanDominique/will-they-wake-up/data/raw/physionet.org/files/i-care/2.1/training/0600',\n",
       " '/home/mariorocha/code/SeanDominique/will-they-wake-up/data/raw/physionet.org/files/i-care/2.1/training/0601',\n",
       " '/home/mariorocha/code/SeanDominique/will-they-wake-up/data/raw/physionet.org/files/i-care/2.1/training/0602',\n",
       " '/home/mariorocha/code/SeanDominique/will-they-wake-up/data/raw/physionet.org/files/i-care/2.1/training/0604',\n",
       " '/home/mariorocha/code/SeanDominique/will-they-wake-up/data/raw/physionet.org/files/i-care/2.1/training/0605',\n",
       " '/home/mariorocha/code/SeanDominique/will-they-wake-up/data/raw/physionet.org/files/i-care/2.1/training/0606',\n",
       " '/home/mariorocha/code/SeanDominique/will-they-wake-up/data/raw/physionet.org/files/i-care/2.1/training/0607',\n",
       " '/home/mariorocha/code/SeanDominique/will-they-wake-up/data/raw/physionet.org/files/i-care/2.1/training/0609',\n",
       " '/home/mariorocha/code/SeanDominique/will-they-wake-up/data/raw/physionet.org/files/i-care/2.1/training/0610',\n",
       " '/home/mariorocha/code/SeanDominique/will-they-wake-up/data/raw/physionet.org/files/i-care/2.1/training/0611',\n",
       " '/home/mariorocha/code/SeanDominique/will-they-wake-up/data/raw/physionet.org/files/i-care/2.1/training/0612',\n",
       " '/home/mariorocha/code/SeanDominique/will-they-wake-up/data/raw/physionet.org/files/i-care/2.1/training/0613',\n",
       " '/home/mariorocha/code/SeanDominique/will-they-wake-up/data/raw/physionet.org/files/i-care/2.1/training/0614',\n",
       " '/home/mariorocha/code/SeanDominique/will-they-wake-up/data/raw/physionet.org/files/i-care/2.1/training/0615',\n",
       " '/home/mariorocha/code/SeanDominique/will-they-wake-up/data/raw/physionet.org/files/i-care/2.1/training/0616',\n",
       " '/home/mariorocha/code/SeanDominique/will-they-wake-up/data/raw/physionet.org/files/i-care/2.1/training/0617',\n",
       " '/home/mariorocha/code/SeanDominique/will-they-wake-up/data/raw/physionet.org/files/i-care/2.1/training/0618',\n",
       " '/home/mariorocha/code/SeanDominique/will-they-wake-up/data/raw/physionet.org/files/i-care/2.1/training/0619',\n",
       " '/home/mariorocha/code/SeanDominique/will-they-wake-up/data/raw/physionet.org/files/i-care/2.1/training/0621',\n",
       " '/home/mariorocha/code/SeanDominique/will-they-wake-up/data/raw/physionet.org/files/i-care/2.1/training/0623',\n",
       " '/home/mariorocha/code/SeanDominique/will-they-wake-up/data/raw/physionet.org/files/i-care/2.1/training/0624',\n",
       " '/home/mariorocha/code/SeanDominique/will-they-wake-up/data/raw/physionet.org/files/i-care/2.1/training/0625',\n",
       " '/home/mariorocha/code/SeanDominique/will-they-wake-up/data/raw/physionet.org/files/i-care/2.1/training/0626',\n",
       " '/home/mariorocha/code/SeanDominique/will-they-wake-up/data/raw/physionet.org/files/i-care/2.1/training/0627',\n",
       " '/home/mariorocha/code/SeanDominique/will-they-wake-up/data/raw/physionet.org/files/i-care/2.1/training/0628',\n",
       " '/home/mariorocha/code/SeanDominique/will-they-wake-up/data/raw/physionet.org/files/i-care/2.1/training/0629',\n",
       " '/home/mariorocha/code/SeanDominique/will-they-wake-up/data/raw/physionet.org/files/i-care/2.1/training/0630',\n",
       " '/home/mariorocha/code/SeanDominique/will-they-wake-up/data/raw/physionet.org/files/i-care/2.1/training/0631',\n",
       " '/home/mariorocha/code/SeanDominique/will-they-wake-up/data/raw/physionet.org/files/i-care/2.1/training/0632',\n",
       " '/home/mariorocha/code/SeanDominique/will-they-wake-up/data/raw/physionet.org/files/i-care/2.1/training/0633',\n",
       " '/home/mariorocha/code/SeanDominique/will-they-wake-up/data/raw/physionet.org/files/i-care/2.1/training/0634',\n",
       " '/home/mariorocha/code/SeanDominique/will-they-wake-up/data/raw/physionet.org/files/i-care/2.1/training/0635',\n",
       " '/home/mariorocha/code/SeanDominique/will-they-wake-up/data/raw/physionet.org/files/i-care/2.1/training/0636',\n",
       " '/home/mariorocha/code/SeanDominique/will-they-wake-up/data/raw/physionet.org/files/i-care/2.1/training/0637',\n",
       " '/home/mariorocha/code/SeanDominique/will-they-wake-up/data/raw/physionet.org/files/i-care/2.1/training/0638',\n",
       " '/home/mariorocha/code/SeanDominique/will-they-wake-up/data/raw/physionet.org/files/i-care/2.1/training/0639',\n",
       " '/home/mariorocha/code/SeanDominique/will-they-wake-up/data/raw/physionet.org/files/i-care/2.1/training/0641',\n",
       " '/home/mariorocha/code/SeanDominique/will-they-wake-up/data/raw/physionet.org/files/i-care/2.1/training/0642',\n",
       " '/home/mariorocha/code/SeanDominique/will-they-wake-up/data/raw/physionet.org/files/i-care/2.1/training/0644',\n",
       " '/home/mariorocha/code/SeanDominique/will-they-wake-up/data/raw/physionet.org/files/i-care/2.1/training/0645',\n",
       " '/home/mariorocha/code/SeanDominique/will-they-wake-up/data/raw/physionet.org/files/i-care/2.1/training/0646',\n",
       " '/home/mariorocha/code/SeanDominique/will-they-wake-up/data/raw/physionet.org/files/i-care/2.1/training/0647',\n",
       " '/home/mariorocha/code/SeanDominique/will-they-wake-up/data/raw/physionet.org/files/i-care/2.1/training/0648',\n",
       " '/home/mariorocha/code/SeanDominique/will-they-wake-up/data/raw/physionet.org/files/i-care/2.1/training/0649',\n",
       " '/home/mariorocha/code/SeanDominique/will-they-wake-up/data/raw/physionet.org/files/i-care/2.1/training/0650',\n",
       " '/home/mariorocha/code/SeanDominique/will-they-wake-up/data/raw/physionet.org/files/i-care/2.1/training/0651',\n",
       " '/home/mariorocha/code/SeanDominique/will-they-wake-up/data/raw/physionet.org/files/i-care/2.1/training/0652',\n",
       " '/home/mariorocha/code/SeanDominique/will-they-wake-up/data/raw/physionet.org/files/i-care/2.1/training/0655',\n",
       " '/home/mariorocha/code/SeanDominique/will-they-wake-up/data/raw/physionet.org/files/i-care/2.1/training/0656',\n",
       " '/home/mariorocha/code/SeanDominique/will-they-wake-up/data/raw/physionet.org/files/i-care/2.1/training/0657',\n",
       " '/home/mariorocha/code/SeanDominique/will-they-wake-up/data/raw/physionet.org/files/i-care/2.1/training/0658',\n",
       " '/home/mariorocha/code/SeanDominique/will-they-wake-up/data/raw/physionet.org/files/i-care/2.1/training/0660',\n",
       " '/home/mariorocha/code/SeanDominique/will-they-wake-up/data/raw/physionet.org/files/i-care/2.1/training/0661',\n",
       " '/home/mariorocha/code/SeanDominique/will-they-wake-up/data/raw/physionet.org/files/i-care/2.1/training/0663',\n",
       " '/home/mariorocha/code/SeanDominique/will-they-wake-up/data/raw/physionet.org/files/i-care/2.1/training/0665',\n",
       " '/home/mariorocha/code/SeanDominique/will-they-wake-up/data/raw/physionet.org/files/i-care/2.1/training/0666',\n",
       " '/home/mariorocha/code/SeanDominique/will-they-wake-up/data/raw/physionet.org/files/i-care/2.1/training/0668',\n",
       " '/home/mariorocha/code/SeanDominique/will-they-wake-up/data/raw/physionet.org/files/i-care/2.1/training/0669',\n",
       " '/home/mariorocha/code/SeanDominique/will-they-wake-up/data/raw/physionet.org/files/i-care/2.1/training/0670',\n",
       " '/home/mariorocha/code/SeanDominique/will-they-wake-up/data/raw/physionet.org/files/i-care/2.1/training/0671',\n",
       " '/home/mariorocha/code/SeanDominique/will-they-wake-up/data/raw/physionet.org/files/i-care/2.1/training/0672',\n",
       " '/home/mariorocha/code/SeanDominique/will-they-wake-up/data/raw/physionet.org/files/i-care/2.1/training/0673',\n",
       " '/home/mariorocha/code/SeanDominique/will-they-wake-up/data/raw/physionet.org/files/i-care/2.1/training/0674',\n",
       " '/home/mariorocha/code/SeanDominique/will-they-wake-up/data/raw/physionet.org/files/i-care/2.1/training/0675',\n",
       " '/home/mariorocha/code/SeanDominique/will-they-wake-up/data/raw/physionet.org/files/i-care/2.1/training/0676',\n",
       " '/home/mariorocha/code/SeanDominique/will-they-wake-up/data/raw/physionet.org/files/i-care/2.1/training/0677',\n",
       " '/home/mariorocha/code/SeanDominique/will-they-wake-up/data/raw/physionet.org/files/i-care/2.1/training/0678',\n",
       " '/home/mariorocha/code/SeanDominique/will-they-wake-up/data/raw/physionet.org/files/i-care/2.1/training/0679',\n",
       " '/home/mariorocha/code/SeanDominique/will-they-wake-up/data/raw/physionet.org/files/i-care/2.1/training/0680',\n",
       " '/home/mariorocha/code/SeanDominique/will-they-wake-up/data/raw/physionet.org/files/i-care/2.1/training/0681',\n",
       " '/home/mariorocha/code/SeanDominique/will-they-wake-up/data/raw/physionet.org/files/i-care/2.1/training/0682',\n",
       " '/home/mariorocha/code/SeanDominique/will-they-wake-up/data/raw/physionet.org/files/i-care/2.1/training/0683',\n",
       " '/home/mariorocha/code/SeanDominique/will-they-wake-up/data/raw/physionet.org/files/i-care/2.1/training/0684',\n",
       " '/home/mariorocha/code/SeanDominique/will-they-wake-up/data/raw/physionet.org/files/i-care/2.1/training/0685',\n",
       " '/home/mariorocha/code/SeanDominique/will-they-wake-up/data/raw/physionet.org/files/i-care/2.1/training/0686',\n",
       " '/home/mariorocha/code/SeanDominique/will-they-wake-up/data/raw/physionet.org/files/i-care/2.1/training/0688',\n",
       " '/home/mariorocha/code/SeanDominique/will-they-wake-up/data/raw/physionet.org/files/i-care/2.1/training/0689',\n",
       " '/home/mariorocha/code/SeanDominique/will-they-wake-up/data/raw/physionet.org/files/i-care/2.1/training/0690',\n",
       " '/home/mariorocha/code/SeanDominique/will-they-wake-up/data/raw/physionet.org/files/i-care/2.1/training/0691',\n",
       " '/home/mariorocha/code/SeanDominique/will-they-wake-up/data/raw/physionet.org/files/i-care/2.1/training/0692',\n",
       " '/home/mariorocha/code/SeanDominique/will-they-wake-up/data/raw/physionet.org/files/i-care/2.1/training/0693',\n",
       " '/home/mariorocha/code/SeanDominique/will-they-wake-up/data/raw/physionet.org/files/i-care/2.1/training/0694',\n",
       " '/home/mariorocha/code/SeanDominique/will-they-wake-up/data/raw/physionet.org/files/i-care/2.1/training/0695',\n",
       " '/home/mariorocha/code/SeanDominique/will-they-wake-up/data/raw/physionet.org/files/i-care/2.1/training/0697',\n",
       " '/home/mariorocha/code/SeanDominique/will-they-wake-up/data/raw/physionet.org/files/i-care/2.1/training/0699',\n",
       " '/home/mariorocha/code/SeanDominique/will-they-wake-up/data/raw/physionet.org/files/i-care/2.1/training/0700',\n",
       " '/home/mariorocha/code/SeanDominique/will-they-wake-up/data/raw/physionet.org/files/i-care/2.1/training/0701',\n",
       " '/home/mariorocha/code/SeanDominique/will-they-wake-up/data/raw/physionet.org/files/i-care/2.1/training/0702',\n",
       " '/home/mariorocha/code/SeanDominique/will-they-wake-up/data/raw/physionet.org/files/i-care/2.1/training/0703',\n",
       " '/home/mariorocha/code/SeanDominique/will-they-wake-up/data/raw/physionet.org/files/i-care/2.1/training/0706',\n",
       " '/home/mariorocha/code/SeanDominique/will-they-wake-up/data/raw/physionet.org/files/i-care/2.1/training/0707',\n",
       " '/home/mariorocha/code/SeanDominique/will-they-wake-up/data/raw/physionet.org/files/i-care/2.1/training/0708',\n",
       " '/home/mariorocha/code/SeanDominique/will-they-wake-up/data/raw/physionet.org/files/i-care/2.1/training/0709',\n",
       " '/home/mariorocha/code/SeanDominique/will-they-wake-up/data/raw/physionet.org/files/i-care/2.1/training/0710',\n",
       " '/home/mariorocha/code/SeanDominique/will-they-wake-up/data/raw/physionet.org/files/i-care/2.1/training/0711',\n",
       " '/home/mariorocha/code/SeanDominique/will-they-wake-up/data/raw/physionet.org/files/i-care/2.1/training/0712',\n",
       " '/home/mariorocha/code/SeanDominique/will-they-wake-up/data/raw/physionet.org/files/i-care/2.1/training/0713',\n",
       " '/home/mariorocha/code/SeanDominique/will-they-wake-up/data/raw/physionet.org/files/i-care/2.1/training/0714',\n",
       " '/home/mariorocha/code/SeanDominique/will-they-wake-up/data/raw/physionet.org/files/i-care/2.1/training/0715',\n",
       " '/home/mariorocha/code/SeanDominique/will-they-wake-up/data/raw/physionet.org/files/i-care/2.1/training/0716',\n",
       " '/home/mariorocha/code/SeanDominique/will-they-wake-up/data/raw/physionet.org/files/i-care/2.1/training/0717',\n",
       " '/home/mariorocha/code/SeanDominique/will-they-wake-up/data/raw/physionet.org/files/i-care/2.1/training/0718',\n",
       " '/home/mariorocha/code/SeanDominique/will-they-wake-up/data/raw/physionet.org/files/i-care/2.1/training/0719',\n",
       " '/home/mariorocha/code/SeanDominique/will-they-wake-up/data/raw/physionet.org/files/i-care/2.1/training/0720',\n",
       " '/home/mariorocha/code/SeanDominique/will-they-wake-up/data/raw/physionet.org/files/i-care/2.1/training/0721',\n",
       " '/home/mariorocha/code/SeanDominique/will-they-wake-up/data/raw/physionet.org/files/i-care/2.1/training/0722',\n",
       " '/home/mariorocha/code/SeanDominique/will-they-wake-up/data/raw/physionet.org/files/i-care/2.1/training/0723',\n",
       " '/home/mariorocha/code/SeanDominique/will-they-wake-up/data/raw/physionet.org/files/i-care/2.1/training/0724',\n",
       " '/home/mariorocha/code/SeanDominique/will-they-wake-up/data/raw/physionet.org/files/i-care/2.1/training/0725',\n",
       " '/home/mariorocha/code/SeanDominique/will-they-wake-up/data/raw/physionet.org/files/i-care/2.1/training/0726',\n",
       " '/home/mariorocha/code/SeanDominique/will-they-wake-up/data/raw/physionet.org/files/i-care/2.1/training/0727',\n",
       " '/home/mariorocha/code/SeanDominique/will-they-wake-up/data/raw/physionet.org/files/i-care/2.1/training/0728',\n",
       " '/home/mariorocha/code/SeanDominique/will-they-wake-up/data/raw/physionet.org/files/i-care/2.1/training/0729',\n",
       " '/home/mariorocha/code/SeanDominique/will-they-wake-up/data/raw/physionet.org/files/i-care/2.1/training/0730',\n",
       " '/home/mariorocha/code/SeanDominique/will-they-wake-up/data/raw/physionet.org/files/i-care/2.1/training/0731',\n",
       " '/home/mariorocha/code/SeanDominique/will-they-wake-up/data/raw/physionet.org/files/i-care/2.1/training/0732',\n",
       " '/home/mariorocha/code/SeanDominique/will-they-wake-up/data/raw/physionet.org/files/i-care/2.1/training/0734',\n",
       " '/home/mariorocha/code/SeanDominique/will-they-wake-up/data/raw/physionet.org/files/i-care/2.1/training/0736',\n",
       " '/home/mariorocha/code/SeanDominique/will-they-wake-up/data/raw/physionet.org/files/i-care/2.1/training/0737',\n",
       " '/home/mariorocha/code/SeanDominique/will-they-wake-up/data/raw/physionet.org/files/i-care/2.1/training/0738',\n",
       " '/home/mariorocha/code/SeanDominique/will-they-wake-up/data/raw/physionet.org/files/i-care/2.1/training/0739',\n",
       " '/home/mariorocha/code/SeanDominique/will-they-wake-up/data/raw/physionet.org/files/i-care/2.1/training/0740',\n",
       " '/home/mariorocha/code/SeanDominique/will-they-wake-up/data/raw/physionet.org/files/i-care/2.1/training/0741',\n",
       " '/home/mariorocha/code/SeanDominique/will-they-wake-up/data/raw/physionet.org/files/i-care/2.1/training/0742',\n",
       " '/home/mariorocha/code/SeanDominique/will-they-wake-up/data/raw/physionet.org/files/i-care/2.1/training/0744',\n",
       " '/home/mariorocha/code/SeanDominique/will-they-wake-up/data/raw/physionet.org/files/i-care/2.1/training/0745',\n",
       " '/home/mariorocha/code/SeanDominique/will-they-wake-up/data/raw/physionet.org/files/i-care/2.1/training/0746',\n",
       " '/home/mariorocha/code/SeanDominique/will-they-wake-up/data/raw/physionet.org/files/i-care/2.1/training/0747',\n",
       " '/home/mariorocha/code/SeanDominique/will-they-wake-up/data/raw/physionet.org/files/i-care/2.1/training/0748',\n",
       " '/home/mariorocha/code/SeanDominique/will-they-wake-up/data/raw/physionet.org/files/i-care/2.1/training/0749',\n",
       " '/home/mariorocha/code/SeanDominique/will-they-wake-up/data/raw/physionet.org/files/i-care/2.1/training/0750',\n",
       " '/home/mariorocha/code/SeanDominique/will-they-wake-up/data/raw/physionet.org/files/i-care/2.1/training/0751',\n",
       " '/home/mariorocha/code/SeanDominique/will-they-wake-up/data/raw/physionet.org/files/i-care/2.1/training/0752',\n",
       " '/home/mariorocha/code/SeanDominique/will-they-wake-up/data/raw/physionet.org/files/i-care/2.1/training/0753',\n",
       " '/home/mariorocha/code/SeanDominique/will-they-wake-up/data/raw/physionet.org/files/i-care/2.1/training/0754',\n",
       " '/home/mariorocha/code/SeanDominique/will-they-wake-up/data/raw/physionet.org/files/i-care/2.1/training/0755',\n",
       " '/home/mariorocha/code/SeanDominique/will-they-wake-up/data/raw/physionet.org/files/i-care/2.1/training/0756',\n",
       " '/home/mariorocha/code/SeanDominique/will-they-wake-up/data/raw/physionet.org/files/i-care/2.1/training/0757',\n",
       " '/home/mariorocha/code/SeanDominique/will-they-wake-up/data/raw/physionet.org/files/i-care/2.1/training/0758',\n",
       " '/home/mariorocha/code/SeanDominique/will-they-wake-up/data/raw/physionet.org/files/i-care/2.1/training/0759',\n",
       " '/home/mariorocha/code/SeanDominique/will-they-wake-up/data/raw/physionet.org/files/i-care/2.1/training/0760',\n",
       " '/home/mariorocha/code/SeanDominique/will-they-wake-up/data/raw/physionet.org/files/i-care/2.1/training/0761',\n",
       " '/home/mariorocha/code/SeanDominique/will-they-wake-up/data/raw/physionet.org/files/i-care/2.1/training/0764',\n",
       " '/home/mariorocha/code/SeanDominique/will-they-wake-up/data/raw/physionet.org/files/i-care/2.1/training/0765',\n",
       " '/home/mariorocha/code/SeanDominique/will-they-wake-up/data/raw/physionet.org/files/i-care/2.1/training/0766',\n",
       " '/home/mariorocha/code/SeanDominique/will-they-wake-up/data/raw/physionet.org/files/i-care/2.1/training/0767',\n",
       " '/home/mariorocha/code/SeanDominique/will-they-wake-up/data/raw/physionet.org/files/i-care/2.1/training/0768',\n",
       " '/home/mariorocha/code/SeanDominique/will-they-wake-up/data/raw/physionet.org/files/i-care/2.1/training/0769',\n",
       " '/home/mariorocha/code/SeanDominique/will-they-wake-up/data/raw/physionet.org/files/i-care/2.1/training/0770',\n",
       " '/home/mariorocha/code/SeanDominique/will-they-wake-up/data/raw/physionet.org/files/i-care/2.1/training/0771',\n",
       " '/home/mariorocha/code/SeanDominique/will-they-wake-up/data/raw/physionet.org/files/i-care/2.1/training/0772',\n",
       " '/home/mariorocha/code/SeanDominique/will-they-wake-up/data/raw/physionet.org/files/i-care/2.1/training/0773',\n",
       " '/home/mariorocha/code/SeanDominique/will-they-wake-up/data/raw/physionet.org/files/i-care/2.1/training/0774',\n",
       " '/home/mariorocha/code/SeanDominique/will-they-wake-up/data/raw/physionet.org/files/i-care/2.1/training/0775',\n",
       " '/home/mariorocha/code/SeanDominique/will-they-wake-up/data/raw/physionet.org/files/i-care/2.1/training/0776',\n",
       " '/home/mariorocha/code/SeanDominique/will-they-wake-up/data/raw/physionet.org/files/i-care/2.1/training/0777',\n",
       " '/home/mariorocha/code/SeanDominique/will-they-wake-up/data/raw/physionet.org/files/i-care/2.1/training/0778',\n",
       " '/home/mariorocha/code/SeanDominique/will-they-wake-up/data/raw/physionet.org/files/i-care/2.1/training/0779',\n",
       " '/home/mariorocha/code/SeanDominique/will-they-wake-up/data/raw/physionet.org/files/i-care/2.1/training/0780',\n",
       " '/home/mariorocha/code/SeanDominique/will-they-wake-up/data/raw/physionet.org/files/i-care/2.1/training/0781',\n",
       " '/home/mariorocha/code/SeanDominique/will-they-wake-up/data/raw/physionet.org/files/i-care/2.1/training/0782',\n",
       " '/home/mariorocha/code/SeanDominique/will-they-wake-up/data/raw/physionet.org/files/i-care/2.1/training/0783',\n",
       " '/home/mariorocha/code/SeanDominique/will-they-wake-up/data/raw/physionet.org/files/i-care/2.1/training/0784',\n",
       " '/home/mariorocha/code/SeanDominique/will-they-wake-up/data/raw/physionet.org/files/i-care/2.1/training/0785',\n",
       " '/home/mariorocha/code/SeanDominique/will-they-wake-up/data/raw/physionet.org/files/i-care/2.1/training/0787',\n",
       " '/home/mariorocha/code/SeanDominique/will-they-wake-up/data/raw/physionet.org/files/i-care/2.1/training/0788',\n",
       " '/home/mariorocha/code/SeanDominique/will-they-wake-up/data/raw/physionet.org/files/i-care/2.1/training/0789',\n",
       " '/home/mariorocha/code/SeanDominique/will-they-wake-up/data/raw/physionet.org/files/i-care/2.1/training/0790',\n",
       " '/home/mariorocha/code/SeanDominique/will-they-wake-up/data/raw/physionet.org/files/i-care/2.1/training/0792',\n",
       " '/home/mariorocha/code/SeanDominique/will-they-wake-up/data/raw/physionet.org/files/i-care/2.1/training/0794',\n",
       " '/home/mariorocha/code/SeanDominique/will-they-wake-up/data/raw/physionet.org/files/i-care/2.1/training/0796',\n",
       " '/home/mariorocha/code/SeanDominique/will-they-wake-up/data/raw/physionet.org/files/i-care/2.1/training/0797',\n",
       " '/home/mariorocha/code/SeanDominique/will-they-wake-up/data/raw/physionet.org/files/i-care/2.1/training/0799',\n",
       " '/home/mariorocha/code/SeanDominique/will-they-wake-up/data/raw/physionet.org/files/i-care/2.1/training/0800',\n",
       " '/home/mariorocha/code/SeanDominique/will-they-wake-up/data/raw/physionet.org/files/i-care/2.1/training/0801',\n",
       " '/home/mariorocha/code/SeanDominique/will-they-wake-up/data/raw/physionet.org/files/i-care/2.1/training/0804',\n",
       " '/home/mariorocha/code/SeanDominique/will-they-wake-up/data/raw/physionet.org/files/i-care/2.1/training/0805',\n",
       " '/home/mariorocha/code/SeanDominique/will-they-wake-up/data/raw/physionet.org/files/i-care/2.1/training/0806',\n",
       " '/home/mariorocha/code/SeanDominique/will-they-wake-up/data/raw/physionet.org/files/i-care/2.1/training/0807',\n",
       " '/home/mariorocha/code/SeanDominique/will-they-wake-up/data/raw/physionet.org/files/i-care/2.1/training/0808',\n",
       " '/home/mariorocha/code/SeanDominique/will-they-wake-up/data/raw/physionet.org/files/i-care/2.1/training/0809',\n",
       " '/home/mariorocha/code/SeanDominique/will-they-wake-up/data/raw/physionet.org/files/i-care/2.1/training/0810',\n",
       " '/home/mariorocha/code/SeanDominique/will-they-wake-up/data/raw/physionet.org/files/i-care/2.1/training/0811',\n",
       " '/home/mariorocha/code/SeanDominique/will-they-wake-up/data/raw/physionet.org/files/i-care/2.1/training/0812',\n",
       " '/home/mariorocha/code/SeanDominique/will-they-wake-up/data/raw/physionet.org/files/i-care/2.1/training/0813',\n",
       " '/home/mariorocha/code/SeanDominique/will-they-wake-up/data/raw/physionet.org/files/i-care/2.1/training/0814',\n",
       " '/home/mariorocha/code/SeanDominique/will-they-wake-up/data/raw/physionet.org/files/i-care/2.1/training/0816',\n",
       " '/home/mariorocha/code/SeanDominique/will-they-wake-up/data/raw/physionet.org/files/i-care/2.1/training/0817',\n",
       " '/home/mariorocha/code/SeanDominique/will-they-wake-up/data/raw/physionet.org/files/i-care/2.1/training/0819',\n",
       " '/home/mariorocha/code/SeanDominique/will-they-wake-up/data/raw/physionet.org/files/i-care/2.1/training/0820',\n",
       " '/home/mariorocha/code/SeanDominique/will-they-wake-up/data/raw/physionet.org/files/i-care/2.1/training/0821',\n",
       " '/home/mariorocha/code/SeanDominique/will-they-wake-up/data/raw/physionet.org/files/i-care/2.1/training/0822',\n",
       " '/home/mariorocha/code/SeanDominique/will-they-wake-up/data/raw/physionet.org/files/i-care/2.1/training/0823',\n",
       " '/home/mariorocha/code/SeanDominique/will-they-wake-up/data/raw/physionet.org/files/i-care/2.1/training/0824',\n",
       " '/home/mariorocha/code/SeanDominique/will-they-wake-up/data/raw/physionet.org/files/i-care/2.1/training/0826',\n",
       " '/home/mariorocha/code/SeanDominique/will-they-wake-up/data/raw/physionet.org/files/i-care/2.1/training/0827',\n",
       " '/home/mariorocha/code/SeanDominique/will-they-wake-up/data/raw/physionet.org/files/i-care/2.1/training/0828',\n",
       " '/home/mariorocha/code/SeanDominique/will-they-wake-up/data/raw/physionet.org/files/i-care/2.1/training/0829',\n",
       " '/home/mariorocha/code/SeanDominique/will-they-wake-up/data/raw/physionet.org/files/i-care/2.1/training/0830',\n",
       " '/home/mariorocha/code/SeanDominique/will-they-wake-up/data/raw/physionet.org/files/i-care/2.1/training/0831',\n",
       " '/home/mariorocha/code/SeanDominique/will-they-wake-up/data/raw/physionet.org/files/i-care/2.1/training/0832',\n",
       " '/home/mariorocha/code/SeanDominique/will-they-wake-up/data/raw/physionet.org/files/i-care/2.1/training/0833',\n",
       " '/home/mariorocha/code/SeanDominique/will-they-wake-up/data/raw/physionet.org/files/i-care/2.1/training/0834',\n",
       " '/home/mariorocha/code/SeanDominique/will-they-wake-up/data/raw/physionet.org/files/i-care/2.1/training/0835',\n",
       " '/home/mariorocha/code/SeanDominique/will-they-wake-up/data/raw/physionet.org/files/i-care/2.1/training/0837',\n",
       " '/home/mariorocha/code/SeanDominique/will-they-wake-up/data/raw/physionet.org/files/i-care/2.1/training/0838',\n",
       " '/home/mariorocha/code/SeanDominique/will-they-wake-up/data/raw/physionet.org/files/i-care/2.1/training/0839',\n",
       " '/home/mariorocha/code/SeanDominique/will-they-wake-up/data/raw/physionet.org/files/i-care/2.1/training/0840',\n",
       " '/home/mariorocha/code/SeanDominique/will-they-wake-up/data/raw/physionet.org/files/i-care/2.1/training/0841',\n",
       " '/home/mariorocha/code/SeanDominique/will-they-wake-up/data/raw/physionet.org/files/i-care/2.1/training/0843',\n",
       " '/home/mariorocha/code/SeanDominique/will-they-wake-up/data/raw/physionet.org/files/i-care/2.1/training/0844',\n",
       " '/home/mariorocha/code/SeanDominique/will-they-wake-up/data/raw/physionet.org/files/i-care/2.1/training/0845',\n",
       " '/home/mariorocha/code/SeanDominique/will-they-wake-up/data/raw/physionet.org/files/i-care/2.1/training/0846',\n",
       " '/home/mariorocha/code/SeanDominique/will-they-wake-up/data/raw/physionet.org/files/i-care/2.1/training/0847',\n",
       " '/home/mariorocha/code/SeanDominique/will-they-wake-up/data/raw/physionet.org/files/i-care/2.1/training/0848',\n",
       " '/home/mariorocha/code/SeanDominique/will-they-wake-up/data/raw/physionet.org/files/i-care/2.1/training/0850',\n",
       " '/home/mariorocha/code/SeanDominique/will-they-wake-up/data/raw/physionet.org/files/i-care/2.1/training/0851',\n",
       " '/home/mariorocha/code/SeanDominique/will-they-wake-up/data/raw/physionet.org/files/i-care/2.1/training/0852',\n",
       " '/home/mariorocha/code/SeanDominique/will-they-wake-up/data/raw/physionet.org/files/i-care/2.1/training/0853',\n",
       " '/home/mariorocha/code/SeanDominique/will-they-wake-up/data/raw/physionet.org/files/i-care/2.1/training/0854',\n",
       " '/home/mariorocha/code/SeanDominique/will-they-wake-up/data/raw/physionet.org/files/i-care/2.1/training/0855',\n",
       " '/home/mariorocha/code/SeanDominique/will-they-wake-up/data/raw/physionet.org/files/i-care/2.1/training/0856',\n",
       " '/home/mariorocha/code/SeanDominique/will-they-wake-up/data/raw/physionet.org/files/i-care/2.1/training/0857',\n",
       " '/home/mariorocha/code/SeanDominique/will-they-wake-up/data/raw/physionet.org/files/i-care/2.1/training/0858',\n",
       " '/home/mariorocha/code/SeanDominique/will-they-wake-up/data/raw/physionet.org/files/i-care/2.1/training/0859',\n",
       " '/home/mariorocha/code/SeanDominique/will-they-wake-up/data/raw/physionet.org/files/i-care/2.1/training/0860',\n",
       " '/home/mariorocha/code/SeanDominique/will-they-wake-up/data/raw/physionet.org/files/i-care/2.1/training/0861',\n",
       " '/home/mariorocha/code/SeanDominique/will-they-wake-up/data/raw/physionet.org/files/i-care/2.1/training/0862',\n",
       " '/home/mariorocha/code/SeanDominique/will-they-wake-up/data/raw/physionet.org/files/i-care/2.1/training/0864',\n",
       " '/home/mariorocha/code/SeanDominique/will-they-wake-up/data/raw/physionet.org/files/i-care/2.1/training/0865',\n",
       " '/home/mariorocha/code/SeanDominique/will-they-wake-up/data/raw/physionet.org/files/i-care/2.1/training/0866',\n",
       " '/home/mariorocha/code/SeanDominique/will-they-wake-up/data/raw/physionet.org/files/i-care/2.1/training/0867',\n",
       " '/home/mariorocha/code/SeanDominique/will-they-wake-up/data/raw/physionet.org/files/i-care/2.1/training/0868',\n",
       " '/home/mariorocha/code/SeanDominique/will-they-wake-up/data/raw/physionet.org/files/i-care/2.1/training/0869',\n",
       " '/home/mariorocha/code/SeanDominique/will-they-wake-up/data/raw/physionet.org/files/i-care/2.1/training/0870',\n",
       " '/home/mariorocha/code/SeanDominique/will-they-wake-up/data/raw/physionet.org/files/i-care/2.1/training/0871',\n",
       " '/home/mariorocha/code/SeanDominique/will-they-wake-up/data/raw/physionet.org/files/i-care/2.1/training/0872',\n",
       " '/home/mariorocha/code/SeanDominique/will-they-wake-up/data/raw/physionet.org/files/i-care/2.1/training/0873',\n",
       " '/home/mariorocha/code/SeanDominique/will-they-wake-up/data/raw/physionet.org/files/i-care/2.1/training/0874',\n",
       " '/home/mariorocha/code/SeanDominique/will-they-wake-up/data/raw/physionet.org/files/i-care/2.1/training/0875',\n",
       " '/home/mariorocha/code/SeanDominique/will-they-wake-up/data/raw/physionet.org/files/i-care/2.1/training/0876',\n",
       " '/home/mariorocha/code/SeanDominique/will-they-wake-up/data/raw/physionet.org/files/i-care/2.1/training/0877',\n",
       " '/home/mariorocha/code/SeanDominique/will-they-wake-up/data/raw/physionet.org/files/i-care/2.1/training/0879',\n",
       " '/home/mariorocha/code/SeanDominique/will-they-wake-up/data/raw/physionet.org/files/i-care/2.1/training/0880',\n",
       " '/home/mariorocha/code/SeanDominique/will-they-wake-up/data/raw/physionet.org/files/i-care/2.1/training/0881',\n",
       " '/home/mariorocha/code/SeanDominique/will-they-wake-up/data/raw/physionet.org/files/i-care/2.1/training/0882',\n",
       " '/home/mariorocha/code/SeanDominique/will-they-wake-up/data/raw/physionet.org/files/i-care/2.1/training/0883',\n",
       " '/home/mariorocha/code/SeanDominique/will-they-wake-up/data/raw/physionet.org/files/i-care/2.1/training/0884',\n",
       " '/home/mariorocha/code/SeanDominique/will-they-wake-up/data/raw/physionet.org/files/i-care/2.1/training/0885',\n",
       " '/home/mariorocha/code/SeanDominique/will-they-wake-up/data/raw/physionet.org/files/i-care/2.1/training/0886',\n",
       " '/home/mariorocha/code/SeanDominique/will-they-wake-up/data/raw/physionet.org/files/i-care/2.1/training/0887',\n",
       " '/home/mariorocha/code/SeanDominique/will-they-wake-up/data/raw/physionet.org/files/i-care/2.1/training/0888',\n",
       " '/home/mariorocha/code/SeanDominique/will-they-wake-up/data/raw/physionet.org/files/i-care/2.1/training/0889',\n",
       " '/home/mariorocha/code/SeanDominique/will-they-wake-up/data/raw/physionet.org/files/i-care/2.1/training/0890',\n",
       " '/home/mariorocha/code/SeanDominique/will-they-wake-up/data/raw/physionet.org/files/i-care/2.1/training/0891',\n",
       " '/home/mariorocha/code/SeanDominique/will-they-wake-up/data/raw/physionet.org/files/i-care/2.1/training/0892',\n",
       " '/home/mariorocha/code/SeanDominique/will-they-wake-up/data/raw/physionet.org/files/i-care/2.1/training/0893',\n",
       " '/home/mariorocha/code/SeanDominique/will-they-wake-up/data/raw/physionet.org/files/i-care/2.1/training/0894',\n",
       " '/home/mariorocha/code/SeanDominique/will-they-wake-up/data/raw/physionet.org/files/i-care/2.1/training/0895',\n",
       " '/home/mariorocha/code/SeanDominique/will-they-wake-up/data/raw/physionet.org/files/i-care/2.1/training/0896',\n",
       " '/home/mariorocha/code/SeanDominique/will-they-wake-up/data/raw/physionet.org/files/i-care/2.1/training/0897',\n",
       " '/home/mariorocha/code/SeanDominique/will-they-wake-up/data/raw/physionet.org/files/i-care/2.1/training/0898',\n",
       " '/home/mariorocha/code/SeanDominique/will-they-wake-up/data/raw/physionet.org/files/i-care/2.1/training/0899',\n",
       " '/home/mariorocha/code/SeanDominique/will-they-wake-up/data/raw/physionet.org/files/i-care/2.1/training/0900',\n",
       " '/home/mariorocha/code/SeanDominique/will-they-wake-up/data/raw/physionet.org/files/i-care/2.1/training/0901',\n",
       " '/home/mariorocha/code/SeanDominique/will-they-wake-up/data/raw/physionet.org/files/i-care/2.1/training/0902',\n",
       " '/home/mariorocha/code/SeanDominique/will-they-wake-up/data/raw/physionet.org/files/i-care/2.1/training/0903',\n",
       " '/home/mariorocha/code/SeanDominique/will-they-wake-up/data/raw/physionet.org/files/i-care/2.1/training/0904',\n",
       " '/home/mariorocha/code/SeanDominique/will-they-wake-up/data/raw/physionet.org/files/i-care/2.1/training/0905',\n",
       " '/home/mariorocha/code/SeanDominique/will-they-wake-up/data/raw/physionet.org/files/i-care/2.1/training/0907',\n",
       " '/home/mariorocha/code/SeanDominique/will-they-wake-up/data/raw/physionet.org/files/i-care/2.1/training/0908',\n",
       " '/home/mariorocha/code/SeanDominique/will-they-wake-up/data/raw/physionet.org/files/i-care/2.1/training/0909',\n",
       " '/home/mariorocha/code/SeanDominique/will-they-wake-up/data/raw/physionet.org/files/i-care/2.1/training/0910',\n",
       " '/home/mariorocha/code/SeanDominique/will-they-wake-up/data/raw/physionet.org/files/i-care/2.1/training/0911',\n",
       " '/home/mariorocha/code/SeanDominique/will-they-wake-up/data/raw/physionet.org/files/i-care/2.1/training/0913',\n",
       " '/home/mariorocha/code/SeanDominique/will-they-wake-up/data/raw/physionet.org/files/i-care/2.1/training/0915',\n",
       " '/home/mariorocha/code/SeanDominique/will-they-wake-up/data/raw/physionet.org/files/i-care/2.1/training/0916',\n",
       " '/home/mariorocha/code/SeanDominique/will-they-wake-up/data/raw/physionet.org/files/i-care/2.1/training/0917',\n",
       " '/home/mariorocha/code/SeanDominique/will-they-wake-up/data/raw/physionet.org/files/i-care/2.1/training/0918',\n",
       " '/home/mariorocha/code/SeanDominique/will-they-wake-up/data/raw/physionet.org/files/i-care/2.1/training/0919',\n",
       " '/home/mariorocha/code/SeanDominique/will-they-wake-up/data/raw/physionet.org/files/i-care/2.1/training/0920',\n",
       " '/home/mariorocha/code/SeanDominique/will-they-wake-up/data/raw/physionet.org/files/i-care/2.1/training/0921',\n",
       " '/home/mariorocha/code/SeanDominique/will-they-wake-up/data/raw/physionet.org/files/i-care/2.1/training/0922',\n",
       " '/home/mariorocha/code/SeanDominique/will-they-wake-up/data/raw/physionet.org/files/i-care/2.1/training/0923',\n",
       " '/home/mariorocha/code/SeanDominique/will-they-wake-up/data/raw/physionet.org/files/i-care/2.1/training/0924',\n",
       " '/home/mariorocha/code/SeanDominique/will-they-wake-up/data/raw/physionet.org/files/i-care/2.1/training/0925',\n",
       " '/home/mariorocha/code/SeanDominique/will-they-wake-up/data/raw/physionet.org/files/i-care/2.1/training/0926',\n",
       " '/home/mariorocha/code/SeanDominique/will-they-wake-up/data/raw/physionet.org/files/i-care/2.1/training/0928',\n",
       " '/home/mariorocha/code/SeanDominique/will-they-wake-up/data/raw/physionet.org/files/i-care/2.1/training/0929',\n",
       " '/home/mariorocha/code/SeanDominique/will-they-wake-up/data/raw/physionet.org/files/i-care/2.1/training/0930',\n",
       " '/home/mariorocha/code/SeanDominique/will-they-wake-up/data/raw/physionet.org/files/i-care/2.1/training/0931',\n",
       " '/home/mariorocha/code/SeanDominique/will-they-wake-up/data/raw/physionet.org/files/i-care/2.1/training/0932',\n",
       " '/home/mariorocha/code/SeanDominique/will-they-wake-up/data/raw/physionet.org/files/i-care/2.1/training/0933',\n",
       " '/home/mariorocha/code/SeanDominique/will-they-wake-up/data/raw/physionet.org/files/i-care/2.1/training/0934',\n",
       " '/home/mariorocha/code/SeanDominique/will-they-wake-up/data/raw/physionet.org/files/i-care/2.1/training/0935',\n",
       " '/home/mariorocha/code/SeanDominique/will-they-wake-up/data/raw/physionet.org/files/i-care/2.1/training/0937',\n",
       " '/home/mariorocha/code/SeanDominique/will-they-wake-up/data/raw/physionet.org/files/i-care/2.1/training/0941',\n",
       " '/home/mariorocha/code/SeanDominique/will-they-wake-up/data/raw/physionet.org/files/i-care/2.1/training/0942',\n",
       " '/home/mariorocha/code/SeanDominique/will-they-wake-up/data/raw/physionet.org/files/i-care/2.1/training/0943',\n",
       " '/home/mariorocha/code/SeanDominique/will-they-wake-up/data/raw/physionet.org/files/i-care/2.1/training/0944',\n",
       " '/home/mariorocha/code/SeanDominique/will-they-wake-up/data/raw/physionet.org/files/i-care/2.1/training/0945',\n",
       " '/home/mariorocha/code/SeanDominique/will-they-wake-up/data/raw/physionet.org/files/i-care/2.1/training/0947',\n",
       " '/home/mariorocha/code/SeanDominique/will-they-wake-up/data/raw/physionet.org/files/i-care/2.1/training/0948',\n",
       " '/home/mariorocha/code/SeanDominique/will-they-wake-up/data/raw/physionet.org/files/i-care/2.1/training/0950',\n",
       " '/home/mariorocha/code/SeanDominique/will-they-wake-up/data/raw/physionet.org/files/i-care/2.1/training/0951',\n",
       " '/home/mariorocha/code/SeanDominique/will-they-wake-up/data/raw/physionet.org/files/i-care/2.1/training/0952',\n",
       " '/home/mariorocha/code/SeanDominique/will-they-wake-up/data/raw/physionet.org/files/i-care/2.1/training/0953',\n",
       " '/home/mariorocha/code/SeanDominique/will-they-wake-up/data/raw/physionet.org/files/i-care/2.1/training/0954',\n",
       " '/home/mariorocha/code/SeanDominique/will-they-wake-up/data/raw/physionet.org/files/i-care/2.1/training/0955',\n",
       " '/home/mariorocha/code/SeanDominique/will-they-wake-up/data/raw/physionet.org/files/i-care/2.1/training/0957',\n",
       " '/home/mariorocha/code/SeanDominique/will-they-wake-up/data/raw/physionet.org/files/i-care/2.1/training/0958',\n",
       " '/home/mariorocha/code/SeanDominique/will-they-wake-up/data/raw/physionet.org/files/i-care/2.1/training/0960',\n",
       " '/home/mariorocha/code/SeanDominique/will-they-wake-up/data/raw/physionet.org/files/i-care/2.1/training/0961',\n",
       " '/home/mariorocha/code/SeanDominique/will-they-wake-up/data/raw/physionet.org/files/i-care/2.1/training/0962',\n",
       " '/home/mariorocha/code/SeanDominique/will-they-wake-up/data/raw/physionet.org/files/i-care/2.1/training/0963',\n",
       " '/home/mariorocha/code/SeanDominique/will-they-wake-up/data/raw/physionet.org/files/i-care/2.1/training/0964',\n",
       " '/home/mariorocha/code/SeanDominique/will-they-wake-up/data/raw/physionet.org/files/i-care/2.1/training/0965',\n",
       " '/home/mariorocha/code/SeanDominique/will-they-wake-up/data/raw/physionet.org/files/i-care/2.1/training/0966',\n",
       " '/home/mariorocha/code/SeanDominique/will-they-wake-up/data/raw/physionet.org/files/i-care/2.1/training/0967',\n",
       " '/home/mariorocha/code/SeanDominique/will-they-wake-up/data/raw/physionet.org/files/i-care/2.1/training/0968',\n",
       " '/home/mariorocha/code/SeanDominique/will-they-wake-up/data/raw/physionet.org/files/i-care/2.1/training/0969',\n",
       " '/home/mariorocha/code/SeanDominique/will-they-wake-up/data/raw/physionet.org/files/i-care/2.1/training/0970',\n",
       " '/home/mariorocha/code/SeanDominique/will-they-wake-up/data/raw/physionet.org/files/i-care/2.1/training/0971',\n",
       " '/home/mariorocha/code/SeanDominique/will-they-wake-up/data/raw/physionet.org/files/i-care/2.1/training/0973',\n",
       " '/home/mariorocha/code/SeanDominique/will-they-wake-up/data/raw/physionet.org/files/i-care/2.1/training/0974',\n",
       " '/home/mariorocha/code/SeanDominique/will-they-wake-up/data/raw/physionet.org/files/i-care/2.1/training/0975',\n",
       " '/home/mariorocha/code/SeanDominique/will-they-wake-up/data/raw/physionet.org/files/i-care/2.1/training/0976',\n",
       " '/home/mariorocha/code/SeanDominique/will-they-wake-up/data/raw/physionet.org/files/i-care/2.1/training/0977',\n",
       " '/home/mariorocha/code/SeanDominique/will-they-wake-up/data/raw/physionet.org/files/i-care/2.1/training/0978',\n",
       " '/home/mariorocha/code/SeanDominique/will-they-wake-up/data/raw/physionet.org/files/i-care/2.1/training/0979',\n",
       " '/home/mariorocha/code/SeanDominique/will-they-wake-up/data/raw/physionet.org/files/i-care/2.1/training/0980',\n",
       " '/home/mariorocha/code/SeanDominique/will-they-wake-up/data/raw/physionet.org/files/i-care/2.1/training/0981',\n",
       " '/home/mariorocha/code/SeanDominique/will-they-wake-up/data/raw/physionet.org/files/i-care/2.1/training/0982',\n",
       " '/home/mariorocha/code/SeanDominique/will-they-wake-up/data/raw/physionet.org/files/i-care/2.1/training/0984',\n",
       " '/home/mariorocha/code/SeanDominique/will-they-wake-up/data/raw/physionet.org/files/i-care/2.1/training/0985',\n",
       " '/home/mariorocha/code/SeanDominique/will-they-wake-up/data/raw/physionet.org/files/i-care/2.1/training/0987',\n",
       " '/home/mariorocha/code/SeanDominique/will-they-wake-up/data/raw/physionet.org/files/i-care/2.1/training/0988',\n",
       " '/home/mariorocha/code/SeanDominique/will-they-wake-up/data/raw/physionet.org/files/i-care/2.1/training/0989',\n",
       " '/home/mariorocha/code/SeanDominique/will-they-wake-up/data/raw/physionet.org/files/i-care/2.1/training/0991',\n",
       " '/home/mariorocha/code/SeanDominique/will-they-wake-up/data/raw/physionet.org/files/i-care/2.1/training/0993',\n",
       " '/home/mariorocha/code/SeanDominique/will-they-wake-up/data/raw/physionet.org/files/i-care/2.1/training/0994',\n",
       " '/home/mariorocha/code/SeanDominique/will-they-wake-up/data/raw/physionet.org/files/i-care/2.1/training/0996',\n",
       " '/home/mariorocha/code/SeanDominique/will-they-wake-up/data/raw/physionet.org/files/i-care/2.1/training/0997',\n",
       " '/home/mariorocha/code/SeanDominique/will-they-wake-up/data/raw/physionet.org/files/i-care/2.1/training/0998',\n",
       " '/home/mariorocha/code/SeanDominique/will-they-wake-up/data/raw/physionet.org/files/i-care/2.1/training/0999',\n",
       " '/home/mariorocha/code/SeanDominique/will-they-wake-up/data/raw/physionet.org/files/i-care/2.1/training/1000',\n",
       " '/home/mariorocha/code/SeanDominique/will-they-wake-up/data/raw/physionet.org/files/i-care/2.1/training/1001',\n",
       " '/home/mariorocha/code/SeanDominique/will-they-wake-up/data/raw/physionet.org/files/i-care/2.1/training/1002',\n",
       " '/home/mariorocha/code/SeanDominique/will-they-wake-up/data/raw/physionet.org/files/i-care/2.1/training/1003',\n",
       " '/home/mariorocha/code/SeanDominique/will-they-wake-up/data/raw/physionet.org/files/i-care/2.1/training/1004',\n",
       " '/home/mariorocha/code/SeanDominique/will-they-wake-up/data/raw/physionet.org/files/i-care/2.1/training/1005',\n",
       " '/home/mariorocha/code/SeanDominique/will-they-wake-up/data/raw/physionet.org/files/i-care/2.1/training/1006',\n",
       " '/home/mariorocha/code/SeanDominique/will-they-wake-up/data/raw/physionet.org/files/i-care/2.1/training/1007',\n",
       " '/home/mariorocha/code/SeanDominique/will-they-wake-up/data/raw/physionet.org/files/i-care/2.1/training/1008',\n",
       " '/home/mariorocha/code/SeanDominique/will-they-wake-up/data/raw/physionet.org/files/i-care/2.1/training/1009',\n",
       " '/home/mariorocha/code/SeanDominique/will-they-wake-up/data/raw/physionet.org/files/i-care/2.1/training/1011',\n",
       " '/home/mariorocha/code/SeanDominique/will-they-wake-up/data/raw/physionet.org/files/i-care/2.1/training/1012',\n",
       " '/home/mariorocha/code/SeanDominique/will-they-wake-up/data/raw/physionet.org/files/i-care/2.1/training/1013',\n",
       " '/home/mariorocha/code/SeanDominique/will-they-wake-up/data/raw/physionet.org/files/i-care/2.1/training/1014',\n",
       " '/home/mariorocha/code/SeanDominique/will-they-wake-up/data/raw/physionet.org/files/i-care/2.1/training/1015',\n",
       " '/home/mariorocha/code/SeanDominique/will-they-wake-up/data/raw/physionet.org/files/i-care/2.1/training/1016',\n",
       " '/home/mariorocha/code/SeanDominique/will-they-wake-up/data/raw/physionet.org/files/i-care/2.1/training/1017',\n",
       " '/home/mariorocha/code/SeanDominique/will-they-wake-up/data/raw/physionet.org/files/i-care/2.1/training/1018',\n",
       " '/home/mariorocha/code/SeanDominique/will-they-wake-up/data/raw/physionet.org/files/i-care/2.1/training/1019',\n",
       " '/home/mariorocha/code/SeanDominique/will-they-wake-up/data/raw/physionet.org/files/i-care/2.1/training/1020']"
      ]
     },
     "execution_count": 182,
     "metadata": {},
     "output_type": "execute_result"
    }
   ],
   "source": [
    "path= \"/home/mariorocha/code/SeanDominique/will-they-wake-up/data/raw/physionet.org/files/i-care/2.1/training/\"\n",
    "\n",
    "import os\n",
    "\n",
    "def fast_scandir(dirname):\n",
    "    subfolders= [f.path for f in os.scandir(dirname) if f.is_dir()]\n",
    "    for dirname in list(subfolders):\n",
    "        subfolders.extend(fast_scandir(dirname))\n",
    "    return sorted(subfolders)\n",
    "\n",
    "patients_path = fast_scandir(path)\n",
    "patients_path"
   ]
  },
  {
   "cell_type": "code",
   "execution_count": 183,
   "metadata": {},
   "outputs": [
    {
     "name": "stdout",
     "output_type": "stream",
     "text": [
      "Found 6 files.\n",
      "Patient's number: 0311\n"
     ]
    }
   ],
   "source": [
    "\n",
    "\n",
    "def get_eeg_files(directory):\n",
    "    eeg_files = []\n",
    "\n",
    "    for root, _, files in os.walk(directory):\n",
    "\n",
    "        for file in files:\n",
    "\n",
    "            if file.endswith(\"EEG.mat\"):\n",
    "\n",
    "                absolute_path = os.path.abspath(os.path.join(root, file))\n",
    "                eeg_files.append(absolute_path)\n",
    "    if len(eeg_files) == 0:\n",
    "        print('No files found.')\n",
    "        return None\n",
    "\n",
    "    print(f'Found {len(eeg_files)} files.')\n",
    "    print(f\"Patient's number: {directory[-4:]}\")\n",
    "    return sorted(eeg_files)\n",
    "\n",
    "\n",
    "\n",
    "\n",
    "EEG_file_list = get_eeg_files(patients_path[6])\n"
   ]
  },
  {
   "cell_type": "code",
   "execution_count": 184,
   "metadata": {},
   "outputs": [
    {
     "ename": "KeyboardInterrupt",
     "evalue": "",
     "output_type": "error",
     "traceback": [
      "\u001b[0;31m---------------------------------------------------------------------------\u001b[0m",
      "\u001b[0;31mKeyboardInterrupt\u001b[0m                         Traceback (most recent call last)",
      "Cell \u001b[0;32mIn[184], line 7\u001b[0m\n\u001b[1;32m      3\u001b[0m scaler \u001b[38;5;241m=\u001b[39m StandardScaler()\n\u001b[1;32m      5\u001b[0m \u001b[38;5;28;01mfor\u001b[39;00m file_path \u001b[38;5;129;01min\u001b[39;00m EEG_file_list[\u001b[38;5;241m1\u001b[39m:\u001b[38;5;241m-\u001b[39m\u001b[38;5;241m1\u001b[39m]:\n\u001b[0;32m----> 7\u001b[0m     eeg \u001b[38;5;241m=\u001b[39m \u001b[43mscipy\u001b[49m\u001b[38;5;241;43m.\u001b[39;49m\u001b[43mio\u001b[49m\u001b[38;5;241;43m.\u001b[39;49m\u001b[43mloadmat\u001b[49m\u001b[43m(\u001b[49m\u001b[43mfile_path\u001b[49m\u001b[43m)\u001b[49m\n\u001b[1;32m      8\u001b[0m     eeg \u001b[38;5;241m=\u001b[39m eeg[\u001b[38;5;124m'\u001b[39m\u001b[38;5;124mval\u001b[39m\u001b[38;5;124m'\u001b[39m]\n\u001b[1;32m      9\u001b[0m     eeg \u001b[38;5;241m=\u001b[39m eeg\u001b[38;5;241m.\u001b[39mastype(\u001b[38;5;28mfloat\u001b[39m)\n",
      "File \u001b[0;32m~/.pyenv/versions/will-they-wake-up/lib/python3.10/site-packages/scipy/io/matlab/_mio.py:227\u001b[0m, in \u001b[0;36mloadmat\u001b[0;34m(file_name, mdict, appendmat, **kwargs)\u001b[0m\n\u001b[1;32m    225\u001b[0m \u001b[38;5;28;01mwith\u001b[39;00m _open_file_context(file_name, appendmat) \u001b[38;5;28;01mas\u001b[39;00m f:\n\u001b[1;32m    226\u001b[0m     MR, _ \u001b[38;5;241m=\u001b[39m mat_reader_factory(f, \u001b[38;5;241m*\u001b[39m\u001b[38;5;241m*\u001b[39mkwargs)\n\u001b[0;32m--> 227\u001b[0m     matfile_dict \u001b[38;5;241m=\u001b[39m \u001b[43mMR\u001b[49m\u001b[38;5;241;43m.\u001b[39;49m\u001b[43mget_variables\u001b[49m\u001b[43m(\u001b[49m\u001b[43mvariable_names\u001b[49m\u001b[43m)\u001b[49m\n\u001b[1;32m    229\u001b[0m \u001b[38;5;28;01mif\u001b[39;00m mdict \u001b[38;5;129;01mis\u001b[39;00m \u001b[38;5;129;01mnot\u001b[39;00m \u001b[38;5;28;01mNone\u001b[39;00m:\n\u001b[1;32m    230\u001b[0m     mdict\u001b[38;5;241m.\u001b[39mupdate(matfile_dict)\n",
      "File \u001b[0;32m~/.pyenv/versions/will-they-wake-up/lib/python3.10/site-packages/scipy/io/matlab/_mio4.py:405\u001b[0m, in \u001b[0;36mMatFile4Reader.get_variables\u001b[0;34m(self, variable_names)\u001b[0m\n\u001b[1;32m    403\u001b[0m     \u001b[38;5;28mself\u001b[39m\u001b[38;5;241m.\u001b[39mmat_stream\u001b[38;5;241m.\u001b[39mseek(next_position)\n\u001b[1;32m    404\u001b[0m     \u001b[38;5;28;01mcontinue\u001b[39;00m\n\u001b[0;32m--> 405\u001b[0m mdict[name] \u001b[38;5;241m=\u001b[39m \u001b[38;5;28;43mself\u001b[39;49m\u001b[38;5;241;43m.\u001b[39;49m\u001b[43mread_var_array\u001b[49m\u001b[43m(\u001b[49m\u001b[43mhdr\u001b[49m\u001b[43m)\u001b[49m\n\u001b[1;32m    406\u001b[0m \u001b[38;5;28mself\u001b[39m\u001b[38;5;241m.\u001b[39mmat_stream\u001b[38;5;241m.\u001b[39mseek(next_position)\n\u001b[1;32m    407\u001b[0m \u001b[38;5;28;01mif\u001b[39;00m variable_names \u001b[38;5;129;01mis\u001b[39;00m \u001b[38;5;129;01mnot\u001b[39;00m \u001b[38;5;28;01mNone\u001b[39;00m:\n",
      "File \u001b[0;32m~/.pyenv/versions/will-they-wake-up/lib/python3.10/site-packages/scipy/io/matlab/_mio4.py:380\u001b[0m, in \u001b[0;36mMatFile4Reader.read_var_array\u001b[0;34m(self, header, process)\u001b[0m\n\u001b[1;32m    364\u001b[0m \u001b[38;5;28;01mdef\u001b[39;00m \u001b[38;5;21mread_var_array\u001b[39m(\u001b[38;5;28mself\u001b[39m, header, process\u001b[38;5;241m=\u001b[39m\u001b[38;5;28;01mTrue\u001b[39;00m):\n\u001b[1;32m    365\u001b[0m \u001b[38;5;250m    \u001b[39m\u001b[38;5;124;03m''' Read array, given `header`\u001b[39;00m\n\u001b[1;32m    366\u001b[0m \n\u001b[1;32m    367\u001b[0m \u001b[38;5;124;03m    Parameters\u001b[39;00m\n\u001b[0;32m   (...)\u001b[0m\n\u001b[1;32m    378\u001b[0m \u001b[38;5;124;03m       `process`.\u001b[39;00m\n\u001b[1;32m    379\u001b[0m \u001b[38;5;124;03m    '''\u001b[39;00m\n\u001b[0;32m--> 380\u001b[0m     \u001b[38;5;28;01mreturn\u001b[39;00m \u001b[38;5;28;43mself\u001b[39;49m\u001b[38;5;241;43m.\u001b[39;49m\u001b[43m_matrix_reader\u001b[49m\u001b[38;5;241;43m.\u001b[39;49m\u001b[43marray_from_header\u001b[49m\u001b[43m(\u001b[49m\u001b[43mheader\u001b[49m\u001b[43m,\u001b[49m\u001b[43m \u001b[49m\u001b[43mprocess\u001b[49m\u001b[43m)\u001b[49m\n",
      "File \u001b[0;32m~/.pyenv/versions/will-they-wake-up/lib/python3.10/site-packages/scipy/io/matlab/_mio4.py:142\u001b[0m, in \u001b[0;36mVarReader4.array_from_header\u001b[0;34m(self, hdr, process)\u001b[0m\n\u001b[1;32m    140\u001b[0m mclass \u001b[38;5;241m=\u001b[39m hdr\u001b[38;5;241m.\u001b[39mmclass\n\u001b[1;32m    141\u001b[0m \u001b[38;5;28;01mif\u001b[39;00m mclass \u001b[38;5;241m==\u001b[39m mxFULL_CLASS:\n\u001b[0;32m--> 142\u001b[0m     arr \u001b[38;5;241m=\u001b[39m \u001b[38;5;28;43mself\u001b[39;49m\u001b[38;5;241;43m.\u001b[39;49m\u001b[43mread_full_array\u001b[49m\u001b[43m(\u001b[49m\u001b[43mhdr\u001b[49m\u001b[43m)\u001b[49m\n\u001b[1;32m    143\u001b[0m \u001b[38;5;28;01melif\u001b[39;00m mclass \u001b[38;5;241m==\u001b[39m mxCHAR_CLASS:\n\u001b[1;32m    144\u001b[0m     arr \u001b[38;5;241m=\u001b[39m \u001b[38;5;28mself\u001b[39m\u001b[38;5;241m.\u001b[39mread_char_array(hdr)\n",
      "File \u001b[0;32m~/.pyenv/versions/will-they-wake-up/lib/python3.10/site-packages/scipy/io/matlab/_mio4.py:212\u001b[0m, in \u001b[0;36mVarReader4.read_full_array\u001b[0;34m(self, hdr)\u001b[0m\n\u001b[1;32m    210\u001b[0m     res_j \u001b[38;5;241m=\u001b[39m \u001b[38;5;28mself\u001b[39m\u001b[38;5;241m.\u001b[39mread_sub_array(hdr, copy\u001b[38;5;241m=\u001b[39m\u001b[38;5;28;01mFalse\u001b[39;00m)\n\u001b[1;32m    211\u001b[0m     \u001b[38;5;28;01mreturn\u001b[39;00m res \u001b[38;5;241m+\u001b[39m (res_j \u001b[38;5;241m*\u001b[39m \u001b[38;5;241m1\u001b[39mj)\n\u001b[0;32m--> 212\u001b[0m \u001b[38;5;28;01mreturn\u001b[39;00m \u001b[38;5;28;43mself\u001b[39;49m\u001b[38;5;241;43m.\u001b[39;49m\u001b[43mread_sub_array\u001b[49m\u001b[43m(\u001b[49m\u001b[43mhdr\u001b[49m\u001b[43m)\u001b[49m\n",
      "File \u001b[0;32m~/.pyenv/versions/will-they-wake-up/lib/python3.10/site-packages/scipy/io/matlab/_mio4.py:189\u001b[0m, in \u001b[0;36mVarReader4.read_sub_array\u001b[0;34m(self, hdr, copy)\u001b[0m\n\u001b[1;32m    184\u001b[0m arr \u001b[38;5;241m=\u001b[39m np\u001b[38;5;241m.\u001b[39mndarray(shape\u001b[38;5;241m=\u001b[39mdims,\n\u001b[1;32m    185\u001b[0m                  dtype\u001b[38;5;241m=\u001b[39mdt,\n\u001b[1;32m    186\u001b[0m                  buffer\u001b[38;5;241m=\u001b[39mbuffer,\n\u001b[1;32m    187\u001b[0m                  order\u001b[38;5;241m=\u001b[39m\u001b[38;5;124m'\u001b[39m\u001b[38;5;124mF\u001b[39m\u001b[38;5;124m'\u001b[39m)\n\u001b[1;32m    188\u001b[0m \u001b[38;5;28;01mif\u001b[39;00m copy:\n\u001b[0;32m--> 189\u001b[0m     arr \u001b[38;5;241m=\u001b[39m \u001b[43marr\u001b[49m\u001b[38;5;241;43m.\u001b[39;49m\u001b[43mcopy\u001b[49m\u001b[43m(\u001b[49m\u001b[43m)\u001b[49m\n\u001b[1;32m    190\u001b[0m \u001b[38;5;28;01mreturn\u001b[39;00m arr\n",
      "\u001b[0;31mKeyboardInterrupt\u001b[0m: "
     ]
    }
   ],
   "source": [
    "\n",
    "hours =[]\n",
    "EEG_list = []\n",
    "scaler = StandardScaler()\n",
    "\n",
    "for file_path in EEG_file_list[1:-1]:\n",
    "\n",
    "    eeg = scipy.io.loadmat(file_path)\n",
    "    eeg = eeg['val']\n",
    "    eeg = eeg.astype(float)\n",
    "    #for line in eeg:\n",
    "        #temp_line = line.reshape(1, -1)\n",
    "        #temp_line = scaler.fit_transform(temp_line)\n",
    "        #line = temp_line.reshape(-1)\n",
    "    #eeg = np.mean(eeg,axis=0)\n",
    "    EEG_list.append(eeg)\n",
    "\n",
    "    hour = file_path[-11:-8]\n",
    "    hours.append(hour)\n",
    "\n",
    "len(hours)"
   ]
  },
  {
   "cell_type": "code",
   "execution_count": null,
   "metadata": {},
   "outputs": [
    {
     "data": {
      "text/plain": [
       "(4, 20, 7372800)"
      ]
     },
     "execution_count": 179,
     "metadata": {},
     "output_type": "execute_result"
    }
   ],
   "source": [
    "EEG_list_ar = np.array(EEG_list)\n",
    "\n",
    "EEG_list_ar.shape"
   ]
  },
  {
   "cell_type": "code",
   "execution_count": null,
   "metadata": {},
   "outputs": [],
   "source": [
    "def reduce_EEG(EEG, rate_of_reduction = 5, original_freq = 500):\n",
    "    rate_of_reduction = np.round(rate_of_reduction)\n",
    "    if len(EEG) % rate_of_reduction == 0:\n",
    "        print(f'EEG reduced to a {original_freq/rate_of_reduction} Hz frequence.')\n",
    "        return EEG.reshape(-1, int(rate_of_reduction) ).mean(axis=1)\n",
    "    else:\n",
    "        print('Data will be cut due to undivisible length.')\n",
    "        remaining = int(len(EEG) % rate_of_reduction)\n",
    "        print(f'Points lost: {remaining}')\n",
    "        EEG = EEG[:-remaining]\n",
    "        print(f'EEG reduced to a {original_freq/rate_of_reduction} Hz frequence.')\n",
    "        return EEG.reshape(-1, int(rate_of_reduction) ).mean(axis=1)"
   ]
  },
  {
   "cell_type": "code",
   "execution_count": null,
   "metadata": {},
   "outputs": [
    {
     "name": "stdout",
     "output_type": "stream",
     "text": [
      "EEG reduced to a 100.0 Hz frequence.\n",
      "EEG reduced to a 100.0 Hz frequence.\n"
     ]
    },
    {
     "name": "stdout",
     "output_type": "stream",
     "text": [
      "EEG reduced to a 100.0 Hz frequence.\n",
      "EEG reduced to a 100.0 Hz frequence.\n",
      "EEG reduced to a 100.0 Hz frequence.\n"
     ]
    }
   ],
   "source": [
    "original_freq = 500\n",
    "new_freq = 100\n",
    "psds = []\n",
    "for eeg in EEG_list:\n",
    "    eeg = reduce_EEG(eeg,rate_of_reduction=original_freq/new_freq,original_freq=original_freq)\n",
    "    f, temp_psd = welch(eeg, fs=new_freq, nperseg=4*new_freq)\n",
    "    psds.append(temp_psd)\n"
   ]
  },
  {
   "cell_type": "code",
   "execution_count": null,
   "metadata": {},
   "outputs": [
    {
     "data": {
      "application/vnd.plotly.v1+json": {
       "config": {
        "plotlyServerURL": "https://plot.ly"
       },
       "data": [
        {
         "line": {
          "color": "rgb(255.0,0,0.0)"
         },
         "mode": "lines",
         "opacity": 0.5,
         "type": "scatter",
         "x": [
          0,
          0.25,
          0.5,
          0.75,
          1,
          1.25,
          1.5,
          1.75,
          2,
          2.25,
          2.5,
          2.75,
          3,
          3.25,
          3.5,
          3.75,
          4,
          4.25,
          4.5,
          4.75,
          5,
          5.25,
          5.5,
          5.75,
          6,
          6.25,
          6.5,
          6.75,
          7,
          7.25,
          7.5,
          7.75,
          8,
          8.25,
          8.5,
          8.75,
          9,
          9.25,
          9.5,
          9.75,
          10,
          10.25,
          10.5,
          10.75,
          11,
          11.25,
          11.5,
          11.75,
          12,
          12.25,
          12.5,
          12.75,
          13,
          13.25,
          13.5,
          13.75,
          14,
          14.25,
          14.5,
          14.75,
          15,
          15.25,
          15.5,
          15.75,
          16,
          16.25,
          16.5,
          16.75,
          17,
          17.25,
          17.5,
          17.75,
          18,
          18.25,
          18.5,
          18.75,
          19,
          19.25,
          19.5,
          19.75,
          20,
          20.25,
          20.5,
          20.75,
          21,
          21.25,
          21.5,
          21.75,
          22,
          22.25,
          22.5,
          22.75,
          23,
          23.25,
          23.5,
          23.75,
          24,
          24.25,
          24.5,
          24.75,
          25,
          25.25,
          25.5,
          25.75,
          26,
          26.25,
          26.5,
          26.75,
          27,
          27.25,
          27.5,
          27.75,
          28,
          28.25,
          28.5,
          28.75,
          29,
          29.25,
          29.5,
          29.75,
          30,
          30.25,
          30.5,
          30.75,
          31,
          31.25,
          31.5,
          31.75,
          32,
          32.25,
          32.5,
          32.75,
          33,
          33.25,
          33.5,
          33.75,
          34,
          34.25,
          34.5,
          34.75,
          35,
          35.25,
          35.5,
          35.75,
          36,
          36.25,
          36.5,
          36.75,
          37,
          37.25,
          37.5,
          37.75,
          38,
          38.25,
          38.5,
          38.75,
          39,
          39.25,
          39.5,
          39.75,
          40,
          40.25,
          40.5,
          40.75,
          41,
          41.25,
          41.5,
          41.75,
          42,
          42.25,
          42.5,
          42.75,
          43,
          43.25,
          43.5,
          43.75,
          44,
          44.25,
          44.5,
          44.75,
          45,
          45.25,
          45.5,
          45.75,
          46,
          46.25,
          46.5,
          46.75,
          47,
          47.25,
          47.5,
          47.75,
          48,
          48.25,
          48.5,
          48.75,
          49,
          49.25,
          49.5,
          49.75,
          50
         ],
         "y": [
          2229.4875520405803,
          16701.306290113018,
          7861.352907332839,
          4578.780862936869,
          4544.901913984906,
          8273.321645562337,
          6701.327588551231,
          3088.318037749103,
          2538.733842814442,
          1748.5393528340765,
          1414.7206807585173,
          1240.984499392967,
          1361.8679509573167,
          1715.335982865214,
          1736.1703595774209,
          1663.1961927504576,
          1574.8829350649626,
          1564.9519691532016,
          1536.4893414201424,
          1584.1937362652209,
          1550.8509511140826,
          1512.9122711480807,
          1388.2648987448267,
          1364.9131108345023,
          1324.1962098354118,
          1351.556342714457,
          1318.4272146130697,
          1311.82581096669,
          1248.7830614291975,
          1235.191506791773,
          1183.4105166677937,
          1223.1629174151772,
          1167.9522175609484,
          1138.5144052639876,
          1094.5717732113308,
          1112.4961228089537,
          1169.983547538241,
          1143.426033191281,
          1121.200682365825,
          1130.6525121223842,
          1140.3421641263901,
          1148.0626910388632,
          1130.1688539600545,
          1175.262310620476,
          1135.283755903428,
          1105.4832434587877,
          1114.5300231874473,
          1148.3502910634875,
          1951.9587168827707,
          3189.8638779509943,
          1392.0444709753328,
          1073.9589300149028,
          1087.2460326641078,
          1069.2277543155578,
          1052.9921698197506,
          1013.8022989764642,
          985.7947161618326,
          962.6147162458024,
          962.33914796233,
          984.0528881364005,
          920.9371322191818,
          891.0086464827476,
          932.5500990667095,
          874.0200108316525,
          849.6387302091459,
          832.9815766298813,
          810.8983127519102,
          778.8105400465415,
          778.2850657616821,
          839.2069269371701,
          815.355229816258,
          797.616049006684,
          742.5947415317623,
          734.1945900088043,
          751.1201152352633,
          752.9919604114475,
          684.7253631466399,
          643.4436585150478,
          637.1455707350973,
          664.3724539439589,
          661.1767585946891,
          650.8349420139846,
          609.1691480035867,
          578.8237896850208,
          600.0512248593575,
          621.77554213088,
          592.5693938617875,
          579.1606120696368,
          572.7936531213363,
          513.6497294339441,
          496.1598067994664,
          499.27924616201045,
          487.67321286607194,
          460.12346688346014,
          464.71791097447465,
          460.26117328122024,
          459.6146344370569,
          536.6944578108659,
          588.1246242032173,
          439.1030414704094,
          406.39440375500664,
          404.6918733736811,
          405.2176155597065,
          378.7508445372715,
          364.3540944200594,
          346.19820216106046,
          345.6037107107221,
          353.5806226960319,
          339.81763398818794,
          321.3700438499534,
          323.6716717833811,
          318.90058891518464,
          308.60563346772125,
          307.5104559654383,
          302.2921986320492,
          300.2178491609276,
          288.8672562993204,
          267.078495288848,
          273.3052338383821,
          272.893124228342,
          260.9174902042774,
          252.0403120630886,
          236.6701156290363,
          227.27780393712166,
          236.12819840847496,
          236.84175979761494,
          232.83120598489293,
          217.3716327052511,
          218.6309600658802,
          220.1500497397377,
          207.32586295422652,
          199.6785916041523,
          199.41216930174986,
          189.79323286100322,
          184.95369752497848,
          183.2604597257895,
          185.54679239380144,
          177.50417379844646,
          172.43118372138096,
          168.02152145054427,
          166.60529905411843,
          165.45636980270862,
          162.1270314742085,
          159.331341000477,
          153.2165670119043,
          175.88187173145462,
          1023.5318615122728,
          1135.087376877186,
          189.79014303176356,
          140.40206351218026,
          136.1311798130508,
          134.81280830787603,
          133.67172936727752,
          130.87033115559993,
          129.6366038940959,
          158.83659574045416,
          187.89434443581584,
          126.94829806977623,
          121.19221889234431,
          121.6252480354712,
          120.95200295328752,
          116.38575531048609,
          113.92810089049348,
          112.74855139444584,
          110.07460676711423,
          110.06269940032917,
          106.80662872242559,
          104.99294181254542,
          107.0960069885924,
          106.758766612358,
          100.08240395384136,
          96.97411368023403,
          92.95429314911175,
          96.92125788889426,
          97.03551358790726,
          94.45228825401895,
          91.41149830854563,
          94.84002089858406,
          95.77708622636979,
          93.93230994873669,
          96.15765871646974,
          93.46358030306047,
          91.98912480074576,
          94.61278141380187,
          94.76071039481421,
          89.64173667121237,
          86.98517877422637,
          88.3333042173976,
          86.80294369732405,
          88.37658681753294,
          88.67520512851101,
          86.74013488208038,
          86.865047901045,
          88.79338392833739,
          87.36209838446233,
          91.87836889373551,
          89.50355313551559,
          87.04407409597295,
          83.88438474138121,
          84.58366241360352,
          41.40818606834042
         ]
        },
        {
         "line": {
          "color": "rgb(204.0,0,51.0)"
         },
         "mode": "lines",
         "opacity": 0.5,
         "type": "scatter",
         "x": [
          0,
          0.25,
          0.5,
          0.75,
          1,
          1.25,
          1.5,
          1.75,
          2,
          2.25,
          2.5,
          2.75,
          3,
          3.25,
          3.5,
          3.75,
          4,
          4.25,
          4.5,
          4.75,
          5,
          5.25,
          5.5,
          5.75,
          6,
          6.25,
          6.5,
          6.75,
          7,
          7.25,
          7.5,
          7.75,
          8,
          8.25,
          8.5,
          8.75,
          9,
          9.25,
          9.5,
          9.75,
          10,
          10.25,
          10.5,
          10.75,
          11,
          11.25,
          11.5,
          11.75,
          12,
          12.25,
          12.5,
          12.75,
          13,
          13.25,
          13.5,
          13.75,
          14,
          14.25,
          14.5,
          14.75,
          15,
          15.25,
          15.5,
          15.75,
          16,
          16.25,
          16.5,
          16.75,
          17,
          17.25,
          17.5,
          17.75,
          18,
          18.25,
          18.5,
          18.75,
          19,
          19.25,
          19.5,
          19.75,
          20,
          20.25,
          20.5,
          20.75,
          21,
          21.25,
          21.5,
          21.75,
          22,
          22.25,
          22.5,
          22.75,
          23,
          23.25,
          23.5,
          23.75,
          24,
          24.25,
          24.5,
          24.75,
          25,
          25.25,
          25.5,
          25.75,
          26,
          26.25,
          26.5,
          26.75,
          27,
          27.25,
          27.5,
          27.75,
          28,
          28.25,
          28.5,
          28.75,
          29,
          29.25,
          29.5,
          29.75,
          30,
          30.25,
          30.5,
          30.75,
          31,
          31.25,
          31.5,
          31.75,
          32,
          32.25,
          32.5,
          32.75,
          33,
          33.25,
          33.5,
          33.75,
          34,
          34.25,
          34.5,
          34.75,
          35,
          35.25,
          35.5,
          35.75,
          36,
          36.25,
          36.5,
          36.75,
          37,
          37.25,
          37.5,
          37.75,
          38,
          38.25,
          38.5,
          38.75,
          39,
          39.25,
          39.5,
          39.75,
          40,
          40.25,
          40.5,
          40.75,
          41,
          41.25,
          41.5,
          41.75,
          42,
          42.25,
          42.5,
          42.75,
          43,
          43.25,
          43.5,
          43.75,
          44,
          44.25,
          44.5,
          44.75,
          45,
          45.25,
          45.5,
          45.75,
          46,
          46.25,
          46.5,
          46.75,
          47,
          47.25,
          47.5,
          47.75,
          48,
          48.25,
          48.5,
          48.75,
          49,
          49.25,
          49.5,
          49.75,
          50
         ],
         "y": [
          2503.9141773736046,
          18945.946740719603,
          14141.834794417851,
          11159.062947726836,
          10478.770267502467,
          17676.43256640281,
          11480.418602139405,
          5406.005185539908,
          4502.693382636219,
          3554.7182787298048,
          2431.2020064808567,
          2250.3144597268965,
          2784.806992253371,
          3182.1778054557035,
          3209.6794822444826,
          3147.5506793442264,
          3024.455586576242,
          2691.8308682339384,
          2378.082097397462,
          2321.0277637725458,
          2253.626115942675,
          2138.398538873869,
          2099.914725215322,
          2190.574259833149,
          2261.2876553506267,
          2334.114126289802,
          2300.5579641587224,
          2163.638808964133,
          2012.9968930117639,
          1842.2282150012625,
          1754.530113891748,
          1720.508411823091,
          1673.1465111355096,
          1661.7773957063014,
          1637.743824944804,
          1516.0875428583627,
          1494.3494296348795,
          1484.1412088629013,
          1440.6113362900649,
          1405.9479984959657,
          1345.8239084222832,
          1355.9418464316495,
          1411.6885950539283,
          1398.9204291675767,
          1345.9570126809094,
          1373.4201543863794,
          1366.3755035515978,
          1382.127621721058,
          2651.422067728502,
          4465.636584016665,
          1736.5131283431067,
          1271.177214505468,
          1289.7150062095861,
          1302.0665823560535,
          1284.6059677125588,
          1218.832186564428,
          1185.098218210818,
          1217.6356289104212,
          1231.9262460324326,
          1194.7046026251562,
          1183.715209532118,
          1122.7460586491773,
          1106.7498335123698,
          1114.4846092396417,
          1119.2138306509,
          1077.1752902920905,
          1037.4683980357327,
          1035.5257159843163,
          1037.8403782540952,
          1061.9835317820155,
          1102.9367618690344,
          1044.9341402178115,
          991.6509386627163,
          971.0359728829807,
          969.3832650741098,
          983.054216677652,
          962.376425541806,
          955.5779048809676,
          924.054484827698,
          929.5073065362899,
          921.1206342430401,
          914.9706101393915,
          882.8198279894006,
          830.102958611805,
          834.9202834178019,
          852.0028394428721,
          838.5289457066491,
          796.8888245246868,
          776.9619836099532,
          764.8744948239785,
          785.224346395508,
          765.8607213168151,
          746.3129256853464,
          717.1445346373023,
          688.8097296021538,
          692.5833671895724,
          699.0248620604194,
          894.896155487625,
          1005.7949289045073,
          667.6292175316705,
          626.2463875813319,
          610.4014364399769,
          603.1158907160917,
          606.0874740302818,
          587.7668089119672,
          578.0197340180694,
          571.8176410676351,
          555.9820243378595,
          545.7594116845335,
          537.0212024829922,
          531.2602252869889,
          520.516325031771,
          512.6825134268478,
          502.7194024727386,
          491.71731818081355,
          482.7267187607717,
          470.5440623620418,
          468.05506109378354,
          458.2330718504962,
          444.88959057733996,
          442.0046340772249,
          433.7241837422409,
          419.37152413541827,
          407.79031493591606,
          399.9303824679282,
          398.6013152276679,
          399.3384184115433,
          397.15195947749123,
          383.01520969592224,
          375.6280766391017,
          374.19538047163616,
          368.79074119542616,
          358.68795729975477,
          343.5040311287235,
          341.01401427508307,
          336.06879441275896,
          339.2902889504882,
          335.8827870290727,
          332.2110275329853,
          326.31462924082894,
          318.70795055485655,
          306.4658494615215,
          314.7216588277068,
          306.86808381115566,
          303.6262421292834,
          363.0373183823391,
          1572.3769172990574,
          1461.2556967841265,
          322.7859907989407,
          282.70966301997396,
          276.9834908307509,
          270.31668243657134,
          268.03215194329687,
          265.51136624244515,
          263.0151282020811,
          299.48645866527704,
          348.8875185012257,
          267.8927573701887,
          248.15834433986922,
          246.08643377939816,
          244.12201808911237,
          244.23446901015672,
          238.648832129811,
          235.49004940362528,
          234.5713979936472,
          236.17125830787626,
          230.57417495769005,
          226.3508387030394,
          226.92885295507034,
          224.4472876921638,
          226.55893229047567,
          229.02921310619087,
          222.64302555183153,
          220.72711383989258,
          218.75001013149895,
          214.48820982122388,
          209.86990577455592,
          207.0693222838741,
          209.53110533822607,
          208.28996280416007,
          207.14352362817925,
          209.51934452648902,
          208.37022360958588,
          205.34849777691977,
          204.49614198819032,
          203.82065546428205,
          207.11545848177914,
          205.03136392786598,
          204.0376469800065,
          208.3436060241884,
          206.47793882139098,
          201.47273175304915,
          201.3816080666045,
          200.3556114496762,
          198.9472047165348,
          215.02308143207733,
          207.7451352284045,
          198.67478224710595,
          199.31274558860025,
          200.2041320640085,
          100.25988404746917
         ]
        },
        {
         "line": {
          "color": "rgb(153.0,0,102.0)"
         },
         "mode": "lines",
         "opacity": 0.5,
         "type": "scatter",
         "x": [
          0,
          0.25,
          0.5,
          0.75,
          1,
          1.25,
          1.5,
          1.75,
          2,
          2.25,
          2.5,
          2.75,
          3,
          3.25,
          3.5,
          3.75,
          4,
          4.25,
          4.5,
          4.75,
          5,
          5.25,
          5.5,
          5.75,
          6,
          6.25,
          6.5,
          6.75,
          7,
          7.25,
          7.5,
          7.75,
          8,
          8.25,
          8.5,
          8.75,
          9,
          9.25,
          9.5,
          9.75,
          10,
          10.25,
          10.5,
          10.75,
          11,
          11.25,
          11.5,
          11.75,
          12,
          12.25,
          12.5,
          12.75,
          13,
          13.25,
          13.5,
          13.75,
          14,
          14.25,
          14.5,
          14.75,
          15,
          15.25,
          15.5,
          15.75,
          16,
          16.25,
          16.5,
          16.75,
          17,
          17.25,
          17.5,
          17.75,
          18,
          18.25,
          18.5,
          18.75,
          19,
          19.25,
          19.5,
          19.75,
          20,
          20.25,
          20.5,
          20.75,
          21,
          21.25,
          21.5,
          21.75,
          22,
          22.25,
          22.5,
          22.75,
          23,
          23.25,
          23.5,
          23.75,
          24,
          24.25,
          24.5,
          24.75,
          25,
          25.25,
          25.5,
          25.75,
          26,
          26.25,
          26.5,
          26.75,
          27,
          27.25,
          27.5,
          27.75,
          28,
          28.25,
          28.5,
          28.75,
          29,
          29.25,
          29.5,
          29.75,
          30,
          30.25,
          30.5,
          30.75,
          31,
          31.25,
          31.5,
          31.75,
          32,
          32.25,
          32.5,
          32.75,
          33,
          33.25,
          33.5,
          33.75,
          34,
          34.25,
          34.5,
          34.75,
          35,
          35.25,
          35.5,
          35.75,
          36,
          36.25,
          36.5,
          36.75,
          37,
          37.25,
          37.5,
          37.75,
          38,
          38.25,
          38.5,
          38.75,
          39,
          39.25,
          39.5,
          39.75,
          40,
          40.25,
          40.5,
          40.75,
          41,
          41.25,
          41.5,
          41.75,
          42,
          42.25,
          42.5,
          42.75,
          43,
          43.25,
          43.5,
          43.75,
          44,
          44.25,
          44.5,
          44.75,
          45,
          45.25,
          45.5,
          45.75,
          46,
          46.25,
          46.5,
          46.75,
          47,
          47.25,
          47.5,
          47.75,
          48,
          48.25,
          48.5,
          48.75,
          49,
          49.25,
          49.5,
          49.75,
          50
         ],
         "y": [
          7393.949280949561,
          43445.98193646264,
          65142.585560258936,
          44378.29470219625,
          41212.2008074589,
          68172.68948708991,
          47833.787213676515,
          18230.99225524154,
          13206.467290346061,
          11978.01636467191,
          7351.713386922947,
          5967.271758064339,
          6067.635662167281,
          7749.150206986236,
          8733.930442221013,
          9089.985029179217,
          8725.334079235961,
          7941.9222629186925,
          6598.468337181727,
          6468.975440376984,
          6595.408451588201,
          6161.870103894164,
          5533.490011732226,
          5382.837059954606,
          4958.792801829488,
          4879.858380710445,
          5085.162042722651,
          4667.843821794705,
          3912.9048393218723,
          3290.6387755819082,
          2921.0010594774035,
          2837.991766493099,
          2906.1172459385753,
          2847.6344726149737,
          2543.5488861839713,
          2324.054842203264,
          2147.4377158226284,
          2036.78778208014,
          1940.2332594812228,
          1869.2282501640132,
          1800.5445101010514,
          1728.9681781836566,
          1674.4838176106596,
          1616.9233732576208,
          1558.765405021748,
          1462.388884248953,
          1440.8033033448992,
          1425.5728945664214,
          4756.051202409262,
          8893.276293682224,
          2336.603448331403,
          1323.371990865842,
          1277.356507859968,
          1292.5080684952995,
          1257.7627835943938,
          1246.5495956091602,
          1244.3554821954947,
          1211.0789202749825,
          1181.4840920829852,
          1163.5005355764958,
          1164.8908045411895,
          1171.9762629500972,
          1161.0096501589353,
          1176.978799716081,
          1144.2135569361699,
          1138.1550673656734,
          1133.8949471760336,
          1114.686669745685,
          1094.990033976426,
          1068.2831634112606,
          1117.2614094278592,
          1070.6810780355638,
          1012.7588424928928,
          998.1167318788681,
          992.2421802969402,
          983.2686771933409,
          976.6040741494678,
          936.9587781807077,
          919.2159064556182,
          922.5968142474767,
          918.1024306516096,
          890.3559907003723,
          876.8933242234717,
          830.8398294943236,
          811.8011419839348,
          825.3659419862453,
          818.3319320778917,
          805.5688404063662,
          772.7579165482393,
          758.439840343665,
          763.3996428720383,
          738.9342393963462,
          706.2405298760648,
          702.3589761029324,
          681.3999001609158,
          683.2938439667521,
          696.954421378627,
          2134.765870140132,
          2539.5745553696547,
          756.661545410445,
          613.2732306781442,
          593.7095603182759,
          603.7118738833974,
          582.6346626486351,
          564.4321443370285,
          558.3029278924173,
          554.0381114502391,
          548.245268826507,
          544.579502105644,
          537.943509888074,
          520.3198241874427,
          509.8958220398853,
          497.0535499117017,
          473.39707070970394,
          474.62892226550207,
          479.7321425737235,
          477.6824165457196,
          471.23329407541013,
          466.8915028589733,
          461.8626158858339,
          442.9390325911652,
          446.3027243987747,
          431.30609084472104,
          416.6889783049703,
          414.5183496134713,
          412.3534800234686,
          402.34922821745215,
          400.3793916114438,
          386.7462181235639,
          380.14782315860634,
          380.64462486258526,
          369.53403656875645,
          359.9913782040491,
          363.2197543998741,
          371.6130802294378,
          362.7959696308706,
          354.2690747015011,
          366.84337350795164,
          362.6347381740702,
          344.90036594978704,
          337.9915510064456,
          334.49636932796204,
          327.69587918300164,
          322.11349323615326,
          312.0437956957994,
          517.2814528676583,
          3327.7740377672912,
          2570.525603557422,
          375.6742232627117,
          310.03457691728744,
          295.96065757152996,
          299.37720368467075,
          306.36958737262484,
          295.1145812463169,
          291.51129811653124,
          332.82795648474655,
          459.76407794498505,
          332.37741988144177,
          285.7087971225635,
          278.06344481940937,
          269.6273227413861,
          268.4790164786687,
          275.5181265086222,
          274.9023993918927,
          277.8612857346617,
          273.94234674832575,
          268.17138244795217,
          261.4304573970604,
          258.18173765555554,
          251.52438330991717,
          251.93145103948476,
          254.91652940154515,
          245.84254087921266,
          245.9461775643523,
          245.26902369289584,
          247.4482279849069,
          245.8665748614022,
          245.02145499299706,
          246.7686877203314,
          241.59187378766876,
          238.5880134892914,
          235.4891790589437,
          234.91352691273647,
          240.80070277257659,
          241.28149120833544,
          235.50835802590382,
          231.62714236172496,
          232.99554901488787,
          224.55263921882778,
          228.42193691647174,
          230.92345434131417,
          229.1611738254491,
          230.5240617912119,
          228.21544556701784,
          240.79862721106707,
          331.4836221395582,
          274.06358389703513,
          231.33374504389292,
          227.18631047366324,
          223.01635815794026,
          109.56179612628122
         ]
        },
        {
         "line": {
          "color": "rgb(102.0,0,153.0)"
         },
         "mode": "lines",
         "opacity": 0.5,
         "type": "scatter",
         "x": [
          0,
          0.25,
          0.5,
          0.75,
          1,
          1.25,
          1.5,
          1.75,
          2,
          2.25,
          2.5,
          2.75,
          3,
          3.25,
          3.5,
          3.75,
          4,
          4.25,
          4.5,
          4.75,
          5,
          5.25,
          5.5,
          5.75,
          6,
          6.25,
          6.5,
          6.75,
          7,
          7.25,
          7.5,
          7.75,
          8,
          8.25,
          8.5,
          8.75,
          9,
          9.25,
          9.5,
          9.75,
          10,
          10.25,
          10.5,
          10.75,
          11,
          11.25,
          11.5,
          11.75,
          12,
          12.25,
          12.5,
          12.75,
          13,
          13.25,
          13.5,
          13.75,
          14,
          14.25,
          14.5,
          14.75,
          15,
          15.25,
          15.5,
          15.75,
          16,
          16.25,
          16.5,
          16.75,
          17,
          17.25,
          17.5,
          17.75,
          18,
          18.25,
          18.5,
          18.75,
          19,
          19.25,
          19.5,
          19.75,
          20,
          20.25,
          20.5,
          20.75,
          21,
          21.25,
          21.5,
          21.75,
          22,
          22.25,
          22.5,
          22.75,
          23,
          23.25,
          23.5,
          23.75,
          24,
          24.25,
          24.5,
          24.75,
          25,
          25.25,
          25.5,
          25.75,
          26,
          26.25,
          26.5,
          26.75,
          27,
          27.25,
          27.5,
          27.75,
          28,
          28.25,
          28.5,
          28.75,
          29,
          29.25,
          29.5,
          29.75,
          30,
          30.25,
          30.5,
          30.75,
          31,
          31.25,
          31.5,
          31.75,
          32,
          32.25,
          32.5,
          32.75,
          33,
          33.25,
          33.5,
          33.75,
          34,
          34.25,
          34.5,
          34.75,
          35,
          35.25,
          35.5,
          35.75,
          36,
          36.25,
          36.5,
          36.75,
          37,
          37.25,
          37.5,
          37.75,
          38,
          38.25,
          38.5,
          38.75,
          39,
          39.25,
          39.5,
          39.75,
          40,
          40.25,
          40.5,
          40.75,
          41,
          41.25,
          41.5,
          41.75,
          42,
          42.25,
          42.5,
          42.75,
          43,
          43.25,
          43.5,
          43.75,
          44,
          44.25,
          44.5,
          44.75,
          45,
          45.25,
          45.5,
          45.75,
          46,
          46.25,
          46.5,
          46.75,
          47,
          47.25,
          47.5,
          47.75,
          48,
          48.25,
          48.5,
          48.75,
          49,
          49.25,
          49.5,
          49.75,
          50
         ],
         "y": [
          8557.929929929576,
          81931.40799800122,
          48138.00386111449,
          23302.1200994738,
          20206.496005733272,
          28219.389151159434,
          20511.017844262016,
          7411.245397467406,
          5074.9535228826,
          4541.73055681092,
          3670.108903260367,
          2559.201284601861,
          2377.7788440597897,
          3247.427401780924,
          3220.240852492505,
          3800.190832169975,
          3104.3079467386774,
          3386.2180519802514,
          2604.1380620950076,
          2683.599955605669,
          2604.926270596567,
          2646.7423040200338,
          2264.17093505124,
          2145.9319872510323,
          1938.4953484867865,
          1840.211718300303,
          1931.796595338516,
          1839.3702162672585,
          1636.9568318043775,
          1352.0615168797945,
          1176.7199826499766,
          1070.3390749888424,
          1060.663520517727,
          1057.8842076915598,
          1044.0536598032977,
          975.254813312405,
          889.6778423086241,
          864.3899021034897,
          764.3086015757098,
          698.5835315590685,
          678.6731155467966,
          696.0972059173256,
          687.4747675428961,
          666.4323281293662,
          623.9198555670608,
          565.2017231895359,
          571.1954132343932,
          572.828197303001,
          5327.391634726357,
          12159.009341530056,
          2204.9978873052714,
          508.99909489917394,
          482.05402855757734,
          474.64212744146295,
          499.5693683522263,
          479.6734129441545,
          461.91980142618434,
          449.97890432749136,
          457.85644782487117,
          462.6896603610235,
          454.6464839893451,
          447.66397654823606,
          430.20456129210606,
          432.4021101076984,
          433.19674218483584,
          428.6089885401124,
          427.41416444741714,
          428.9068989166703,
          440.74901291923,
          423.6583880502281,
          426.91667250386286,
          419.17432218348915,
          397.72122699419117,
          393.6210032222779,
          388.4607524523097,
          382.0933983343442,
          369.88809547475694,
          371.9555045561578,
          369.6637339712118,
          365.4766857637274,
          356.3991848714395,
          345.25909821670695,
          345.92080705090416,
          353.7021055538322,
          337.74825443231913,
          325.1626433170151,
          339.78918452613937,
          326.6871556700082,
          318.1067254075248,
          316.70304858837943,
          313.4362578748986,
          301.9590938917212,
          286.95782054559106,
          288.2429755683947,
          278.98148182209815,
          275.34195678002413,
          280.8682671444295,
          803.6106735964016,
          1071.826711546747,
          324.3440135155528,
          255.51855246318405,
          252.04739646483702,
          245.18744760895555,
          236.62747015343163,
          239.42017038834166,
          239.02667075446075,
          238.85475883312475,
          236.05215295454505,
          225.0920877381048,
          218.78363119449165,
          218.72695298800494,
          225.01275533583674,
          218.43057205015762,
          204.4772106008976,
          208.78220571986546,
          209.4738781793961,
          205.7858271349013,
          204.35575167685923,
          193.317290842808,
          190.5152201678944,
          187.42322040131936,
          185.87851558242474,
          177.96832290500052,
          178.25610897271528,
          180.7434054809034,
          178.83318519794707,
          176.19763465160236,
          167.80671245698275,
          169.555622419426,
          170.12938261069345,
          160.62506837962533,
          160.32116185694878,
          159.148068557685,
          153.00756623815687,
          152.60745910485105,
          149.15736420965618,
          149.82861320388386,
          147.1175965815707,
          146.50777631171158,
          146.12949466302504,
          144.19636724692737,
          140.30916187695593,
          137.14379123522474,
          139.992790905974,
          144.16235763651875,
          363.6839182365695,
          5118.429117149499,
          4866.272820136063,
          306.6787645029745,
          134.29065344229386,
          134.1184281917062,
          129.9952313117309,
          127.65873948923162,
          124.37247190694764,
          122.66040282144986,
          261.15025969514977,
          493.2724484690695,
          187.69727002922141,
          124.46506101019357,
          122.30163341258066,
          118.90011281176342,
          115.83454317759629,
          119.75942502610826,
          121.06046418225183,
          119.42978074097438,
          118.6412027491514,
          116.56793321020895,
          111.25104122673832,
          109.64013730742339,
          112.04378712309352,
          112.11208249339434,
          110.00513725604938,
          111.83412747907448,
          110.45144943090612,
          109.66803792981615,
          107.75199021715196,
          107.96689260462752,
          103.87687027658534,
          104.19534457809517,
          108.69272612586055,
          104.82098471073036,
          103.98197854429,
          103.3692005603995,
          101.18238235224588,
          98.50670136631567,
          100.46660563787333,
          104.03006110869248,
          105.34551826448653,
          104.15614364677404,
          101.65650581351063,
          97.61446318359832,
          98.24085527211857,
          101.92167228158637,
          103.00917882684786,
          105.31954410268798,
          135.0323839873691,
          119.04078795820874,
          101.43652330024071,
          101.73703955108498,
          96.42706047128085,
          47.45649837335428
         ]
        },
        {
         "line": {
          "color": "rgb(50.999999999999986,0,204.0)"
         },
         "mode": "lines",
         "opacity": 0.5,
         "type": "scatter",
         "x": [
          0,
          0.25,
          0.5,
          0.75,
          1,
          1.25,
          1.5,
          1.75,
          2,
          2.25,
          2.5,
          2.75,
          3,
          3.25,
          3.5,
          3.75,
          4,
          4.25,
          4.5,
          4.75,
          5,
          5.25,
          5.5,
          5.75,
          6,
          6.25,
          6.5,
          6.75,
          7,
          7.25,
          7.5,
          7.75,
          8,
          8.25,
          8.5,
          8.75,
          9,
          9.25,
          9.5,
          9.75,
          10,
          10.25,
          10.5,
          10.75,
          11,
          11.25,
          11.5,
          11.75,
          12,
          12.25,
          12.5,
          12.75,
          13,
          13.25,
          13.5,
          13.75,
          14,
          14.25,
          14.5,
          14.75,
          15,
          15.25,
          15.5,
          15.75,
          16,
          16.25,
          16.5,
          16.75,
          17,
          17.25,
          17.5,
          17.75,
          18,
          18.25,
          18.5,
          18.75,
          19,
          19.25,
          19.5,
          19.75,
          20,
          20.25,
          20.5,
          20.75,
          21,
          21.25,
          21.5,
          21.75,
          22,
          22.25,
          22.5,
          22.75,
          23,
          23.25,
          23.5,
          23.75,
          24,
          24.25,
          24.5,
          24.75,
          25,
          25.25,
          25.5,
          25.75,
          26,
          26.25,
          26.5,
          26.75,
          27,
          27.25,
          27.5,
          27.75,
          28,
          28.25,
          28.5,
          28.75,
          29,
          29.25,
          29.5,
          29.75,
          30,
          30.25,
          30.5,
          30.75,
          31,
          31.25,
          31.5,
          31.75,
          32,
          32.25,
          32.5,
          32.75,
          33,
          33.25,
          33.5,
          33.75,
          34,
          34.25,
          34.5,
          34.75,
          35,
          35.25,
          35.5,
          35.75,
          36,
          36.25,
          36.5,
          36.75,
          37,
          37.25,
          37.5,
          37.75,
          38,
          38.25,
          38.5,
          38.75,
          39,
          39.25,
          39.5,
          39.75,
          40,
          40.25,
          40.5,
          40.75,
          41,
          41.25,
          41.5,
          41.75,
          42,
          42.25,
          42.5,
          42.75,
          43,
          43.25,
          43.5,
          43.75,
          44,
          44.25,
          44.5,
          44.75,
          45,
          45.25,
          45.5,
          45.75,
          46,
          46.25,
          46.5,
          46.75,
          47,
          47.25,
          47.5,
          47.75,
          48,
          48.25,
          48.5,
          48.75,
          49,
          49.25,
          49.5,
          49.75,
          50
         ],
         "y": [
          15030.914284638173,
          92605.26041219533,
          141924.43506097497,
          94997.08987126236,
          89204.98658024563,
          120759.04122834827,
          122500.39237319841,
          50419.54018789865,
          25803.992337797612,
          20342.156376883042,
          16421.93119870525,
          10679.657503674893,
          9376.469088145468,
          12581.391975382763,
          11833.130056863536,
          12845.459932701773,
          10546.661801000439,
          11242.17998629233,
          8470.084078567252,
          8436.31491377544,
          8584.45155775709,
          9358.816569367391,
          7808.448791131411,
          7165.931731090238,
          6330.6564116584805,
          5891.441060679287,
          5919.017022389922,
          5932.9894767979495,
          5332.488040792554,
          4326.52990827237,
          3420.3168834976823,
          2827.1067095741273,
          2738.5596925195146,
          2755.4462753921825,
          2710.954956099394,
          2486.648860704159,
          2148.9493764253616,
          1864.3910323136329,
          1560.0151066737628,
          1368.300682229324,
          1238.1795889305324,
          1178.1680507444305,
          1112.0295800453935,
          1036.3503936693721,
          950.9567769674954,
          836.8296903295228,
          763.4400349405554,
          729.8961154301925,
          2777.8802963808553,
          5752.871619681112,
          1382.556590624102,
          639.7397000557106,
          621.9301430330041,
          598.1322075725409,
          579.2645509969012,
          558.3193600781686,
          559.9048528817485,
          557.1228373021856,
          551.8057983061881,
          544.2867753916092,
          535.3053017021335,
          522.8315348135811,
          512.7690667122395,
          514.0029294534493,
          501.67305500071,
          498.94563326762716,
          503.41197422508736,
          492.5294740384283,
          475.72936000111235,
          482.0051716313685,
          551.9513358037208,
          523.4625436535757,
          470.72307189500606,
          460.44933438556285,
          454.1465397718449,
          458.08291180529363,
          458.1855879687973,
          455.9319445491805,
          445.9030595821385,
          430.3578488237349,
          421.534517376711,
          412.64664883905823,
          419.4233457781859,
          407.57542531660107,
          403.8987631872705,
          396.2645233557084,
          390.614299212173,
          382.65123781054837,
          380.3877929622229,
          375.27468208697,
          363.97105818142416,
          366.7144155543558,
          369.64417574579426,
          371.36155186010785,
          358.52690785710075,
          345.79099796705407,
          376.3632297302347,
          2367.962104135274,
          3450.6563858777954,
          588.4335338136501,
          331.9829338925679,
          321.8397370670658,
          314.31498783808,
          304.63764069334724,
          305.73467606384196,
          308.7523469183188,
          309.7600827126284,
          309.26151025415123,
          298.1585704221471,
          288.2407237984831,
          289.82044563601454,
          283.74640581351093,
          284.49102904171394,
          280.274173799568,
          275.7224762598832,
          273.36014158855016,
          273.3152831626823,
          289.7383887845895,
          278.7936268036739,
          268.3549278424336,
          256.19700703203983,
          253.14851192362352,
          255.28065800987346,
          255.9004775669223,
          256.2637276375817,
          257.0429199915119,
          245.83522418998098,
          241.97520518945873,
          239.81660203375893,
          240.9483557409762,
          240.13256094782184,
          238.79291564612956,
          231.43798891387408,
          228.45259746743469,
          230.24279706231633,
          230.7119669246717,
          226.44847222431196,
          228.89619207180178,
          228.10396890789804,
          221.0467835427302,
          217.61746145581597,
          212.7496802773217,
          214.79644502861666,
          218.2696687608717,
          216.32723682666796,
          221.2901741776546,
          407.81076703862726,
          397.40151220452753,
          217.6352663125776,
          206.66641750890034,
          205.38077296820623,
          202.4215921076381,
          200.04858082371547,
          201.6683941213741,
          198.92366595819547,
          220.98214998975322,
          252.25278840518646,
          208.73432958251848,
          194.08387007997857,
          195.20960715350708,
          193.1977934600361,
          187.7013831108475,
          189.06506113502067,
          193.01450782453549,
          196.86784599831472,
          192.20626528183536,
          190.15999706933354,
          189.3420882163515,
          185.5391455587835,
          178.61781116937482,
          183.5702286447232,
          183.5090734500074,
          179.04945612126716,
          177.60338822534786,
          177.73172350611654,
          175.28878876068194,
          174.53007345571314,
          174.9455488721505,
          173.36358893768363,
          170.792487889379,
          174.83315707369806,
          177.56499549135697,
          175.23677637076068,
          173.97061072967637,
          172.52760459624034,
          165.8926861522853,
          167.09888920989962,
          172.9180539186719,
          171.9310416812474,
          170.51370497835956,
          168.31973004295662,
          169.98733853630551,
          167.96560300568052,
          164.96422681445344,
          179.49117714346866,
          312.6658591723645,
          259.2144229937838,
          167.88179344195672,
          164.8419186989956,
          162.87932311848544,
          83.58851442047236
         ]
        }
       ],
       "layout": {
        "template": {
         "data": {
          "bar": [
           {
            "error_x": {
             "color": "#2a3f5f"
            },
            "error_y": {
             "color": "#2a3f5f"
            },
            "marker": {
             "line": {
              "color": "#E5ECF6",
              "width": 0.5
             },
             "pattern": {
              "fillmode": "overlay",
              "size": 10,
              "solidity": 0.2
             }
            },
            "type": "bar"
           }
          ],
          "barpolar": [
           {
            "marker": {
             "line": {
              "color": "#E5ECF6",
              "width": 0.5
             },
             "pattern": {
              "fillmode": "overlay",
              "size": 10,
              "solidity": 0.2
             }
            },
            "type": "barpolar"
           }
          ],
          "carpet": [
           {
            "aaxis": {
             "endlinecolor": "#2a3f5f",
             "gridcolor": "white",
             "linecolor": "white",
             "minorgridcolor": "white",
             "startlinecolor": "#2a3f5f"
            },
            "baxis": {
             "endlinecolor": "#2a3f5f",
             "gridcolor": "white",
             "linecolor": "white",
             "minorgridcolor": "white",
             "startlinecolor": "#2a3f5f"
            },
            "type": "carpet"
           }
          ],
          "choropleth": [
           {
            "colorbar": {
             "outlinewidth": 0,
             "ticks": ""
            },
            "type": "choropleth"
           }
          ],
          "contour": [
           {
            "colorbar": {
             "outlinewidth": 0,
             "ticks": ""
            },
            "colorscale": [
             [
              0,
              "#0d0887"
             ],
             [
              0.1111111111111111,
              "#46039f"
             ],
             [
              0.2222222222222222,
              "#7201a8"
             ],
             [
              0.3333333333333333,
              "#9c179e"
             ],
             [
              0.4444444444444444,
              "#bd3786"
             ],
             [
              0.5555555555555556,
              "#d8576b"
             ],
             [
              0.6666666666666666,
              "#ed7953"
             ],
             [
              0.7777777777777778,
              "#fb9f3a"
             ],
             [
              0.8888888888888888,
              "#fdca26"
             ],
             [
              1,
              "#f0f921"
             ]
            ],
            "type": "contour"
           }
          ],
          "contourcarpet": [
           {
            "colorbar": {
             "outlinewidth": 0,
             "ticks": ""
            },
            "type": "contourcarpet"
           }
          ],
          "heatmap": [
           {
            "colorbar": {
             "outlinewidth": 0,
             "ticks": ""
            },
            "colorscale": [
             [
              0,
              "#0d0887"
             ],
             [
              0.1111111111111111,
              "#46039f"
             ],
             [
              0.2222222222222222,
              "#7201a8"
             ],
             [
              0.3333333333333333,
              "#9c179e"
             ],
             [
              0.4444444444444444,
              "#bd3786"
             ],
             [
              0.5555555555555556,
              "#d8576b"
             ],
             [
              0.6666666666666666,
              "#ed7953"
             ],
             [
              0.7777777777777778,
              "#fb9f3a"
             ],
             [
              0.8888888888888888,
              "#fdca26"
             ],
             [
              1,
              "#f0f921"
             ]
            ],
            "type": "heatmap"
           }
          ],
          "heatmapgl": [
           {
            "colorbar": {
             "outlinewidth": 0,
             "ticks": ""
            },
            "colorscale": [
             [
              0,
              "#0d0887"
             ],
             [
              0.1111111111111111,
              "#46039f"
             ],
             [
              0.2222222222222222,
              "#7201a8"
             ],
             [
              0.3333333333333333,
              "#9c179e"
             ],
             [
              0.4444444444444444,
              "#bd3786"
             ],
             [
              0.5555555555555556,
              "#d8576b"
             ],
             [
              0.6666666666666666,
              "#ed7953"
             ],
             [
              0.7777777777777778,
              "#fb9f3a"
             ],
             [
              0.8888888888888888,
              "#fdca26"
             ],
             [
              1,
              "#f0f921"
             ]
            ],
            "type": "heatmapgl"
           }
          ],
          "histogram": [
           {
            "marker": {
             "pattern": {
              "fillmode": "overlay",
              "size": 10,
              "solidity": 0.2
             }
            },
            "type": "histogram"
           }
          ],
          "histogram2d": [
           {
            "colorbar": {
             "outlinewidth": 0,
             "ticks": ""
            },
            "colorscale": [
             [
              0,
              "#0d0887"
             ],
             [
              0.1111111111111111,
              "#46039f"
             ],
             [
              0.2222222222222222,
              "#7201a8"
             ],
             [
              0.3333333333333333,
              "#9c179e"
             ],
             [
              0.4444444444444444,
              "#bd3786"
             ],
             [
              0.5555555555555556,
              "#d8576b"
             ],
             [
              0.6666666666666666,
              "#ed7953"
             ],
             [
              0.7777777777777778,
              "#fb9f3a"
             ],
             [
              0.8888888888888888,
              "#fdca26"
             ],
             [
              1,
              "#f0f921"
             ]
            ],
            "type": "histogram2d"
           }
          ],
          "histogram2dcontour": [
           {
            "colorbar": {
             "outlinewidth": 0,
             "ticks": ""
            },
            "colorscale": [
             [
              0,
              "#0d0887"
             ],
             [
              0.1111111111111111,
              "#46039f"
             ],
             [
              0.2222222222222222,
              "#7201a8"
             ],
             [
              0.3333333333333333,
              "#9c179e"
             ],
             [
              0.4444444444444444,
              "#bd3786"
             ],
             [
              0.5555555555555556,
              "#d8576b"
             ],
             [
              0.6666666666666666,
              "#ed7953"
             ],
             [
              0.7777777777777778,
              "#fb9f3a"
             ],
             [
              0.8888888888888888,
              "#fdca26"
             ],
             [
              1,
              "#f0f921"
             ]
            ],
            "type": "histogram2dcontour"
           }
          ],
          "mesh3d": [
           {
            "colorbar": {
             "outlinewidth": 0,
             "ticks": ""
            },
            "type": "mesh3d"
           }
          ],
          "parcoords": [
           {
            "line": {
             "colorbar": {
              "outlinewidth": 0,
              "ticks": ""
             }
            },
            "type": "parcoords"
           }
          ],
          "pie": [
           {
            "automargin": true,
            "type": "pie"
           }
          ],
          "scatter": [
           {
            "fillpattern": {
             "fillmode": "overlay",
             "size": 10,
             "solidity": 0.2
            },
            "type": "scatter"
           }
          ],
          "scatter3d": [
           {
            "line": {
             "colorbar": {
              "outlinewidth": 0,
              "ticks": ""
             }
            },
            "marker": {
             "colorbar": {
              "outlinewidth": 0,
              "ticks": ""
             }
            },
            "type": "scatter3d"
           }
          ],
          "scattercarpet": [
           {
            "marker": {
             "colorbar": {
              "outlinewidth": 0,
              "ticks": ""
             }
            },
            "type": "scattercarpet"
           }
          ],
          "scattergeo": [
           {
            "marker": {
             "colorbar": {
              "outlinewidth": 0,
              "ticks": ""
             }
            },
            "type": "scattergeo"
           }
          ],
          "scattergl": [
           {
            "marker": {
             "colorbar": {
              "outlinewidth": 0,
              "ticks": ""
             }
            },
            "type": "scattergl"
           }
          ],
          "scattermapbox": [
           {
            "marker": {
             "colorbar": {
              "outlinewidth": 0,
              "ticks": ""
             }
            },
            "type": "scattermapbox"
           }
          ],
          "scatterpolar": [
           {
            "marker": {
             "colorbar": {
              "outlinewidth": 0,
              "ticks": ""
             }
            },
            "type": "scatterpolar"
           }
          ],
          "scatterpolargl": [
           {
            "marker": {
             "colorbar": {
              "outlinewidth": 0,
              "ticks": ""
             }
            },
            "type": "scatterpolargl"
           }
          ],
          "scatterternary": [
           {
            "marker": {
             "colorbar": {
              "outlinewidth": 0,
              "ticks": ""
             }
            },
            "type": "scatterternary"
           }
          ],
          "surface": [
           {
            "colorbar": {
             "outlinewidth": 0,
             "ticks": ""
            },
            "colorscale": [
             [
              0,
              "#0d0887"
             ],
             [
              0.1111111111111111,
              "#46039f"
             ],
             [
              0.2222222222222222,
              "#7201a8"
             ],
             [
              0.3333333333333333,
              "#9c179e"
             ],
             [
              0.4444444444444444,
              "#bd3786"
             ],
             [
              0.5555555555555556,
              "#d8576b"
             ],
             [
              0.6666666666666666,
              "#ed7953"
             ],
             [
              0.7777777777777778,
              "#fb9f3a"
             ],
             [
              0.8888888888888888,
              "#fdca26"
             ],
             [
              1,
              "#f0f921"
             ]
            ],
            "type": "surface"
           }
          ],
          "table": [
           {
            "cells": {
             "fill": {
              "color": "#EBF0F8"
             },
             "line": {
              "color": "white"
             }
            },
            "header": {
             "fill": {
              "color": "#C8D4E3"
             },
             "line": {
              "color": "white"
             }
            },
            "type": "table"
           }
          ]
         },
         "layout": {
          "annotationdefaults": {
           "arrowcolor": "#2a3f5f",
           "arrowhead": 0,
           "arrowwidth": 1
          },
          "autotypenumbers": "strict",
          "coloraxis": {
           "colorbar": {
            "outlinewidth": 0,
            "ticks": ""
           }
          },
          "colorscale": {
           "diverging": [
            [
             0,
             "#8e0152"
            ],
            [
             0.1,
             "#c51b7d"
            ],
            [
             0.2,
             "#de77ae"
            ],
            [
             0.3,
             "#f1b6da"
            ],
            [
             0.4,
             "#fde0ef"
            ],
            [
             0.5,
             "#f7f7f7"
            ],
            [
             0.6,
             "#e6f5d0"
            ],
            [
             0.7,
             "#b8e186"
            ],
            [
             0.8,
             "#7fbc41"
            ],
            [
             0.9,
             "#4d9221"
            ],
            [
             1,
             "#276419"
            ]
           ],
           "sequential": [
            [
             0,
             "#0d0887"
            ],
            [
             0.1111111111111111,
             "#46039f"
            ],
            [
             0.2222222222222222,
             "#7201a8"
            ],
            [
             0.3333333333333333,
             "#9c179e"
            ],
            [
             0.4444444444444444,
             "#bd3786"
            ],
            [
             0.5555555555555556,
             "#d8576b"
            ],
            [
             0.6666666666666666,
             "#ed7953"
            ],
            [
             0.7777777777777778,
             "#fb9f3a"
            ],
            [
             0.8888888888888888,
             "#fdca26"
            ],
            [
             1,
             "#f0f921"
            ]
           ],
           "sequentialminus": [
            [
             0,
             "#0d0887"
            ],
            [
             0.1111111111111111,
             "#46039f"
            ],
            [
             0.2222222222222222,
             "#7201a8"
            ],
            [
             0.3333333333333333,
             "#9c179e"
            ],
            [
             0.4444444444444444,
             "#bd3786"
            ],
            [
             0.5555555555555556,
             "#d8576b"
            ],
            [
             0.6666666666666666,
             "#ed7953"
            ],
            [
             0.7777777777777778,
             "#fb9f3a"
            ],
            [
             0.8888888888888888,
             "#fdca26"
            ],
            [
             1,
             "#f0f921"
            ]
           ]
          },
          "colorway": [
           "#636efa",
           "#EF553B",
           "#00cc96",
           "#ab63fa",
           "#FFA15A",
           "#19d3f3",
           "#FF6692",
           "#B6E880",
           "#FF97FF",
           "#FECB52"
          ],
          "font": {
           "color": "#2a3f5f"
          },
          "geo": {
           "bgcolor": "white",
           "lakecolor": "white",
           "landcolor": "#E5ECF6",
           "showlakes": true,
           "showland": true,
           "subunitcolor": "white"
          },
          "hoverlabel": {
           "align": "left"
          },
          "hovermode": "closest",
          "mapbox": {
           "style": "light"
          },
          "paper_bgcolor": "white",
          "plot_bgcolor": "#E5ECF6",
          "polar": {
           "angularaxis": {
            "gridcolor": "white",
            "linecolor": "white",
            "ticks": ""
           },
           "bgcolor": "#E5ECF6",
           "radialaxis": {
            "gridcolor": "white",
            "linecolor": "white",
            "ticks": ""
           }
          },
          "scene": {
           "xaxis": {
            "backgroundcolor": "#E5ECF6",
            "gridcolor": "white",
            "gridwidth": 2,
            "linecolor": "white",
            "showbackground": true,
            "ticks": "",
            "zerolinecolor": "white"
           },
           "yaxis": {
            "backgroundcolor": "#E5ECF6",
            "gridcolor": "white",
            "gridwidth": 2,
            "linecolor": "white",
            "showbackground": true,
            "ticks": "",
            "zerolinecolor": "white"
           },
           "zaxis": {
            "backgroundcolor": "#E5ECF6",
            "gridcolor": "white",
            "gridwidth": 2,
            "linecolor": "white",
            "showbackground": true,
            "ticks": "",
            "zerolinecolor": "white"
           }
          },
          "shapedefaults": {
           "line": {
            "color": "#2a3f5f"
           }
          },
          "ternary": {
           "aaxis": {
            "gridcolor": "white",
            "linecolor": "white",
            "ticks": ""
           },
           "baxis": {
            "gridcolor": "white",
            "linecolor": "white",
            "ticks": ""
           },
           "bgcolor": "#E5ECF6",
           "caxis": {
            "gridcolor": "white",
            "linecolor": "white",
            "ticks": ""
           }
          },
          "title": {
           "x": 0.05
          },
          "xaxis": {
           "automargin": true,
           "gridcolor": "white",
           "linecolor": "white",
           "ticks": "",
           "title": {
            "standoff": 15
           },
           "zerolinecolor": "white",
           "zerolinewidth": 2
          },
          "yaxis": {
           "automargin": true,
           "gridcolor": "white",
           "linecolor": "white",
           "ticks": "",
           "title": {
            "standoff": 15
           },
           "zerolinecolor": "white",
           "zerolinewidth": 2
          }
         }
        },
        "yaxis": {
         "type": "log"
        }
       }
      },
      "text/html": [
       "<div>                            <div id=\"9324bdec-3799-4004-99b5-266889a3f98f\" class=\"plotly-graph-div\" style=\"height:525px; width:100%;\"></div>            <script type=\"text/javascript\">                require([\"plotly\"], function(Plotly) {                    window.PLOTLYENV=window.PLOTLYENV || {};                                    if (document.getElementById(\"9324bdec-3799-4004-99b5-266889a3f98f\")) {                    Plotly.newPlot(                        \"9324bdec-3799-4004-99b5-266889a3f98f\",                        [{\"line\":{\"color\":\"rgb(255.0,0,0.0)\"},\"mode\":\"lines\",\"opacity\":0.5,\"x\":[0.0,0.25,0.5,0.75,1.0,1.25,1.5,1.75,2.0,2.25,2.5,2.75,3.0,3.25,3.5,3.75,4.0,4.25,4.5,4.75,5.0,5.25,5.5,5.75,6.0,6.25,6.5,6.75,7.0,7.25,7.5,7.75,8.0,8.25,8.5,8.75,9.0,9.25,9.5,9.75,10.0,10.25,10.5,10.75,11.0,11.25,11.5,11.75,12.0,12.25,12.5,12.75,13.0,13.25,13.5,13.75,14.0,14.25,14.5,14.75,15.0,15.25,15.5,15.75,16.0,16.25,16.5,16.75,17.0,17.25,17.5,17.75,18.0,18.25,18.5,18.75,19.0,19.25,19.5,19.75,20.0,20.25,20.5,20.75,21.0,21.25,21.5,21.75,22.0,22.25,22.5,22.75,23.0,23.25,23.5,23.75,24.0,24.25,24.5,24.75,25.0,25.25,25.5,25.75,26.0,26.25,26.5,26.75,27.0,27.25,27.5,27.75,28.0,28.25,28.5,28.75,29.0,29.25,29.5,29.75,30.0,30.25,30.5,30.75,31.0,31.25,31.5,31.75,32.0,32.25,32.5,32.75,33.0,33.25,33.5,33.75,34.0,34.25,34.5,34.75,35.0,35.25,35.5,35.75,36.0,36.25,36.5,36.75,37.0,37.25,37.5,37.75,38.0,38.25,38.5,38.75,39.0,39.25,39.5,39.75,40.0,40.25,40.5,40.75,41.0,41.25,41.5,41.75,42.0,42.25,42.5,42.75,43.0,43.25,43.5,43.75,44.0,44.25,44.5,44.75,45.0,45.25,45.5,45.75,46.0,46.25,46.5,46.75,47.0,47.25,47.5,47.75,48.0,48.25,48.5,48.75,49.0,49.25,49.5,49.75,50.0],\"y\":[2229.4875520405803,16701.306290113018,7861.352907332839,4578.780862936869,4544.901913984906,8273.321645562337,6701.327588551231,3088.318037749103,2538.733842814442,1748.5393528340765,1414.7206807585173,1240.984499392967,1361.8679509573167,1715.335982865214,1736.1703595774209,1663.1961927504576,1574.8829350649626,1564.9519691532016,1536.4893414201424,1584.1937362652209,1550.8509511140826,1512.9122711480807,1388.2648987448267,1364.9131108345023,1324.1962098354118,1351.556342714457,1318.4272146130697,1311.82581096669,1248.7830614291975,1235.191506791773,1183.4105166677937,1223.1629174151772,1167.9522175609484,1138.5144052639876,1094.5717732113308,1112.4961228089537,1169.983547538241,1143.426033191281,1121.200682365825,1130.6525121223842,1140.3421641263901,1148.0626910388632,1130.1688539600545,1175.262310620476,1135.283755903428,1105.4832434587877,1114.5300231874473,1148.3502910634875,1951.9587168827707,3189.8638779509943,1392.0444709753328,1073.9589300149028,1087.2460326641078,1069.2277543155578,1052.9921698197506,1013.8022989764642,985.7947161618326,962.6147162458024,962.33914796233,984.0528881364005,920.9371322191818,891.0086464827476,932.5500990667095,874.0200108316525,849.6387302091459,832.9815766298813,810.8983127519102,778.8105400465415,778.2850657616821,839.2069269371701,815.355229816258,797.616049006684,742.5947415317623,734.1945900088043,751.1201152352633,752.9919604114475,684.7253631466399,643.4436585150478,637.1455707350973,664.3724539439589,661.1767585946891,650.8349420139846,609.1691480035867,578.8237896850208,600.0512248593575,621.77554213088,592.5693938617875,579.1606120696368,572.7936531213363,513.6497294339441,496.1598067994664,499.27924616201045,487.67321286607194,460.12346688346014,464.71791097447465,460.26117328122024,459.6146344370569,536.6944578108659,588.1246242032173,439.1030414704094,406.39440375500664,404.6918733736811,405.2176155597065,378.7508445372715,364.3540944200594,346.19820216106046,345.6037107107221,353.5806226960319,339.81763398818794,321.3700438499534,323.6716717833811,318.90058891518464,308.60563346772125,307.5104559654383,302.2921986320492,300.2178491609276,288.8672562993204,267.078495288848,273.3052338383821,272.893124228342,260.9174902042774,252.0403120630886,236.6701156290363,227.27780393712166,236.12819840847496,236.84175979761494,232.83120598489293,217.3716327052511,218.6309600658802,220.1500497397377,207.32586295422652,199.6785916041523,199.41216930174986,189.79323286100322,184.95369752497848,183.2604597257895,185.54679239380144,177.50417379844646,172.43118372138096,168.02152145054427,166.60529905411843,165.45636980270862,162.1270314742085,159.331341000477,153.2165670119043,175.88187173145462,1023.5318615122728,1135.087376877186,189.79014303176356,140.40206351218026,136.1311798130508,134.81280830787603,133.67172936727752,130.87033115559993,129.6366038940959,158.83659574045416,187.89434443581584,126.94829806977623,121.19221889234431,121.6252480354712,120.95200295328752,116.38575531048609,113.92810089049348,112.74855139444584,110.07460676711423,110.06269940032917,106.80662872242559,104.99294181254542,107.0960069885924,106.758766612358,100.08240395384136,96.97411368023403,92.95429314911175,96.92125788889426,97.03551358790726,94.45228825401895,91.41149830854563,94.84002089858406,95.77708622636979,93.93230994873669,96.15765871646974,93.46358030306047,91.98912480074576,94.61278141380187,94.76071039481421,89.64173667121237,86.98517877422637,88.3333042173976,86.80294369732405,88.37658681753294,88.67520512851101,86.74013488208038,86.865047901045,88.79338392833739,87.36209838446233,91.87836889373551,89.50355313551559,87.04407409597295,83.88438474138121,84.58366241360352,41.40818606834042],\"type\":\"scatter\"},{\"line\":{\"color\":\"rgb(204.0,0,51.0)\"},\"mode\":\"lines\",\"opacity\":0.5,\"x\":[0.0,0.25,0.5,0.75,1.0,1.25,1.5,1.75,2.0,2.25,2.5,2.75,3.0,3.25,3.5,3.75,4.0,4.25,4.5,4.75,5.0,5.25,5.5,5.75,6.0,6.25,6.5,6.75,7.0,7.25,7.5,7.75,8.0,8.25,8.5,8.75,9.0,9.25,9.5,9.75,10.0,10.25,10.5,10.75,11.0,11.25,11.5,11.75,12.0,12.25,12.5,12.75,13.0,13.25,13.5,13.75,14.0,14.25,14.5,14.75,15.0,15.25,15.5,15.75,16.0,16.25,16.5,16.75,17.0,17.25,17.5,17.75,18.0,18.25,18.5,18.75,19.0,19.25,19.5,19.75,20.0,20.25,20.5,20.75,21.0,21.25,21.5,21.75,22.0,22.25,22.5,22.75,23.0,23.25,23.5,23.75,24.0,24.25,24.5,24.75,25.0,25.25,25.5,25.75,26.0,26.25,26.5,26.75,27.0,27.25,27.5,27.75,28.0,28.25,28.5,28.75,29.0,29.25,29.5,29.75,30.0,30.25,30.5,30.75,31.0,31.25,31.5,31.75,32.0,32.25,32.5,32.75,33.0,33.25,33.5,33.75,34.0,34.25,34.5,34.75,35.0,35.25,35.5,35.75,36.0,36.25,36.5,36.75,37.0,37.25,37.5,37.75,38.0,38.25,38.5,38.75,39.0,39.25,39.5,39.75,40.0,40.25,40.5,40.75,41.0,41.25,41.5,41.75,42.0,42.25,42.5,42.75,43.0,43.25,43.5,43.75,44.0,44.25,44.5,44.75,45.0,45.25,45.5,45.75,46.0,46.25,46.5,46.75,47.0,47.25,47.5,47.75,48.0,48.25,48.5,48.75,49.0,49.25,49.5,49.75,50.0],\"y\":[2503.9141773736046,18945.946740719603,14141.834794417851,11159.062947726836,10478.770267502467,17676.43256640281,11480.418602139405,5406.005185539908,4502.693382636219,3554.7182787298048,2431.2020064808567,2250.3144597268965,2784.806992253371,3182.1778054557035,3209.6794822444826,3147.5506793442264,3024.455586576242,2691.8308682339384,2378.082097397462,2321.0277637725458,2253.626115942675,2138.398538873869,2099.914725215322,2190.574259833149,2261.2876553506267,2334.114126289802,2300.5579641587224,2163.638808964133,2012.9968930117639,1842.2282150012625,1754.530113891748,1720.508411823091,1673.1465111355096,1661.7773957063014,1637.743824944804,1516.0875428583627,1494.3494296348795,1484.1412088629013,1440.6113362900649,1405.9479984959657,1345.8239084222832,1355.9418464316495,1411.6885950539283,1398.9204291675767,1345.9570126809094,1373.4201543863794,1366.3755035515978,1382.127621721058,2651.422067728502,4465.636584016665,1736.5131283431067,1271.177214505468,1289.7150062095861,1302.0665823560535,1284.6059677125588,1218.832186564428,1185.098218210818,1217.6356289104212,1231.9262460324326,1194.7046026251562,1183.715209532118,1122.7460586491773,1106.7498335123698,1114.4846092396417,1119.2138306509,1077.1752902920905,1037.4683980357327,1035.5257159843163,1037.8403782540952,1061.9835317820155,1102.9367618690344,1044.9341402178115,991.6509386627163,971.0359728829807,969.3832650741098,983.054216677652,962.376425541806,955.5779048809676,924.054484827698,929.5073065362899,921.1206342430401,914.9706101393915,882.8198279894006,830.102958611805,834.9202834178019,852.0028394428721,838.5289457066491,796.8888245246868,776.9619836099532,764.8744948239785,785.224346395508,765.8607213168151,746.3129256853464,717.1445346373023,688.8097296021538,692.5833671895724,699.0248620604194,894.896155487625,1005.7949289045073,667.6292175316705,626.2463875813319,610.4014364399769,603.1158907160917,606.0874740302818,587.7668089119672,578.0197340180694,571.8176410676351,555.9820243378595,545.7594116845335,537.0212024829922,531.2602252869889,520.516325031771,512.6825134268478,502.7194024727386,491.71731818081355,482.7267187607717,470.5440623620418,468.05506109378354,458.2330718504962,444.88959057733996,442.0046340772249,433.7241837422409,419.37152413541827,407.79031493591606,399.9303824679282,398.6013152276679,399.3384184115433,397.15195947749123,383.01520969592224,375.6280766391017,374.19538047163616,368.79074119542616,358.68795729975477,343.5040311287235,341.01401427508307,336.06879441275896,339.2902889504882,335.8827870290727,332.2110275329853,326.31462924082894,318.70795055485655,306.4658494615215,314.7216588277068,306.86808381115566,303.6262421292834,363.0373183823391,1572.3769172990574,1461.2556967841265,322.7859907989407,282.70966301997396,276.9834908307509,270.31668243657134,268.03215194329687,265.51136624244515,263.0151282020811,299.48645866527704,348.8875185012257,267.8927573701887,248.15834433986922,246.08643377939816,244.12201808911237,244.23446901015672,238.648832129811,235.49004940362528,234.5713979936472,236.17125830787626,230.57417495769005,226.3508387030394,226.92885295507034,224.4472876921638,226.55893229047567,229.02921310619087,222.64302555183153,220.72711383989258,218.75001013149895,214.48820982122388,209.86990577455592,207.0693222838741,209.53110533822607,208.28996280416007,207.14352362817925,209.51934452648902,208.37022360958588,205.34849777691977,204.49614198819032,203.82065546428205,207.11545848177914,205.03136392786598,204.0376469800065,208.3436060241884,206.47793882139098,201.47273175304915,201.3816080666045,200.3556114496762,198.9472047165348,215.02308143207733,207.7451352284045,198.67478224710595,199.31274558860025,200.2041320640085,100.25988404746917],\"type\":\"scatter\"},{\"line\":{\"color\":\"rgb(153.0,0,102.0)\"},\"mode\":\"lines\",\"opacity\":0.5,\"x\":[0.0,0.25,0.5,0.75,1.0,1.25,1.5,1.75,2.0,2.25,2.5,2.75,3.0,3.25,3.5,3.75,4.0,4.25,4.5,4.75,5.0,5.25,5.5,5.75,6.0,6.25,6.5,6.75,7.0,7.25,7.5,7.75,8.0,8.25,8.5,8.75,9.0,9.25,9.5,9.75,10.0,10.25,10.5,10.75,11.0,11.25,11.5,11.75,12.0,12.25,12.5,12.75,13.0,13.25,13.5,13.75,14.0,14.25,14.5,14.75,15.0,15.25,15.5,15.75,16.0,16.25,16.5,16.75,17.0,17.25,17.5,17.75,18.0,18.25,18.5,18.75,19.0,19.25,19.5,19.75,20.0,20.25,20.5,20.75,21.0,21.25,21.5,21.75,22.0,22.25,22.5,22.75,23.0,23.25,23.5,23.75,24.0,24.25,24.5,24.75,25.0,25.25,25.5,25.75,26.0,26.25,26.5,26.75,27.0,27.25,27.5,27.75,28.0,28.25,28.5,28.75,29.0,29.25,29.5,29.75,30.0,30.25,30.5,30.75,31.0,31.25,31.5,31.75,32.0,32.25,32.5,32.75,33.0,33.25,33.5,33.75,34.0,34.25,34.5,34.75,35.0,35.25,35.5,35.75,36.0,36.25,36.5,36.75,37.0,37.25,37.5,37.75,38.0,38.25,38.5,38.75,39.0,39.25,39.5,39.75,40.0,40.25,40.5,40.75,41.0,41.25,41.5,41.75,42.0,42.25,42.5,42.75,43.0,43.25,43.5,43.75,44.0,44.25,44.5,44.75,45.0,45.25,45.5,45.75,46.0,46.25,46.5,46.75,47.0,47.25,47.5,47.75,48.0,48.25,48.5,48.75,49.0,49.25,49.5,49.75,50.0],\"y\":[7393.949280949561,43445.98193646264,65142.585560258936,44378.29470219625,41212.2008074589,68172.68948708991,47833.787213676515,18230.99225524154,13206.467290346061,11978.01636467191,7351.713386922947,5967.271758064339,6067.635662167281,7749.150206986236,8733.930442221013,9089.985029179217,8725.334079235961,7941.9222629186925,6598.468337181727,6468.975440376984,6595.408451588201,6161.870103894164,5533.490011732226,5382.837059954606,4958.792801829488,4879.858380710445,5085.162042722651,4667.843821794705,3912.9048393218723,3290.6387755819082,2921.0010594774035,2837.991766493099,2906.1172459385753,2847.6344726149737,2543.5488861839713,2324.054842203264,2147.4377158226284,2036.78778208014,1940.2332594812228,1869.2282501640132,1800.5445101010514,1728.9681781836566,1674.4838176106596,1616.9233732576208,1558.765405021748,1462.388884248953,1440.8033033448992,1425.5728945664214,4756.051202409262,8893.276293682224,2336.603448331403,1323.371990865842,1277.356507859968,1292.5080684952995,1257.7627835943938,1246.5495956091602,1244.3554821954947,1211.0789202749825,1181.4840920829852,1163.5005355764958,1164.8908045411895,1171.9762629500972,1161.0096501589353,1176.978799716081,1144.2135569361699,1138.1550673656734,1133.8949471760336,1114.686669745685,1094.990033976426,1068.2831634112606,1117.2614094278592,1070.6810780355638,1012.7588424928928,998.1167318788681,992.2421802969402,983.2686771933409,976.6040741494678,936.9587781807077,919.2159064556182,922.5968142474767,918.1024306516096,890.3559907003723,876.8933242234717,830.8398294943236,811.8011419839348,825.3659419862453,818.3319320778917,805.5688404063662,772.7579165482393,758.439840343665,763.3996428720383,738.9342393963462,706.2405298760648,702.3589761029324,681.3999001609158,683.2938439667521,696.954421378627,2134.765870140132,2539.5745553696547,756.661545410445,613.2732306781442,593.7095603182759,603.7118738833974,582.6346626486351,564.4321443370285,558.3029278924173,554.0381114502391,548.245268826507,544.579502105644,537.943509888074,520.3198241874427,509.8958220398853,497.0535499117017,473.39707070970394,474.62892226550207,479.7321425737235,477.6824165457196,471.23329407541013,466.8915028589733,461.8626158858339,442.9390325911652,446.3027243987747,431.30609084472104,416.6889783049703,414.5183496134713,412.3534800234686,402.34922821745215,400.3793916114438,386.7462181235639,380.14782315860634,380.64462486258526,369.53403656875645,359.9913782040491,363.2197543998741,371.6130802294378,362.7959696308706,354.2690747015011,366.84337350795164,362.6347381740702,344.90036594978704,337.9915510064456,334.49636932796204,327.69587918300164,322.11349323615326,312.0437956957994,517.2814528676583,3327.7740377672912,2570.525603557422,375.6742232627117,310.03457691728744,295.96065757152996,299.37720368467075,306.36958737262484,295.1145812463169,291.51129811653124,332.82795648474655,459.76407794498505,332.37741988144177,285.7087971225635,278.06344481940937,269.6273227413861,268.4790164786687,275.5181265086222,274.9023993918927,277.8612857346617,273.94234674832575,268.17138244795217,261.4304573970604,258.18173765555554,251.52438330991717,251.93145103948476,254.91652940154515,245.84254087921266,245.9461775643523,245.26902369289584,247.4482279849069,245.8665748614022,245.02145499299706,246.7686877203314,241.59187378766876,238.5880134892914,235.4891790589437,234.91352691273647,240.80070277257659,241.28149120833544,235.50835802590382,231.62714236172496,232.99554901488787,224.55263921882778,228.42193691647174,230.92345434131417,229.1611738254491,230.5240617912119,228.21544556701784,240.79862721106707,331.4836221395582,274.06358389703513,231.33374504389292,227.18631047366324,223.01635815794026,109.56179612628122],\"type\":\"scatter\"},{\"line\":{\"color\":\"rgb(102.0,0,153.0)\"},\"mode\":\"lines\",\"opacity\":0.5,\"x\":[0.0,0.25,0.5,0.75,1.0,1.25,1.5,1.75,2.0,2.25,2.5,2.75,3.0,3.25,3.5,3.75,4.0,4.25,4.5,4.75,5.0,5.25,5.5,5.75,6.0,6.25,6.5,6.75,7.0,7.25,7.5,7.75,8.0,8.25,8.5,8.75,9.0,9.25,9.5,9.75,10.0,10.25,10.5,10.75,11.0,11.25,11.5,11.75,12.0,12.25,12.5,12.75,13.0,13.25,13.5,13.75,14.0,14.25,14.5,14.75,15.0,15.25,15.5,15.75,16.0,16.25,16.5,16.75,17.0,17.25,17.5,17.75,18.0,18.25,18.5,18.75,19.0,19.25,19.5,19.75,20.0,20.25,20.5,20.75,21.0,21.25,21.5,21.75,22.0,22.25,22.5,22.75,23.0,23.25,23.5,23.75,24.0,24.25,24.5,24.75,25.0,25.25,25.5,25.75,26.0,26.25,26.5,26.75,27.0,27.25,27.5,27.75,28.0,28.25,28.5,28.75,29.0,29.25,29.5,29.75,30.0,30.25,30.5,30.75,31.0,31.25,31.5,31.75,32.0,32.25,32.5,32.75,33.0,33.25,33.5,33.75,34.0,34.25,34.5,34.75,35.0,35.25,35.5,35.75,36.0,36.25,36.5,36.75,37.0,37.25,37.5,37.75,38.0,38.25,38.5,38.75,39.0,39.25,39.5,39.75,40.0,40.25,40.5,40.75,41.0,41.25,41.5,41.75,42.0,42.25,42.5,42.75,43.0,43.25,43.5,43.75,44.0,44.25,44.5,44.75,45.0,45.25,45.5,45.75,46.0,46.25,46.5,46.75,47.0,47.25,47.5,47.75,48.0,48.25,48.5,48.75,49.0,49.25,49.5,49.75,50.0],\"y\":[8557.929929929576,81931.40799800122,48138.00386111449,23302.1200994738,20206.496005733272,28219.389151159434,20511.017844262016,7411.245397467406,5074.9535228826,4541.73055681092,3670.108903260367,2559.201284601861,2377.7788440597897,3247.427401780924,3220.240852492505,3800.190832169975,3104.3079467386774,3386.2180519802514,2604.1380620950076,2683.599955605669,2604.926270596567,2646.7423040200338,2264.17093505124,2145.9319872510323,1938.4953484867865,1840.211718300303,1931.796595338516,1839.3702162672585,1636.9568318043775,1352.0615168797945,1176.7199826499766,1070.3390749888424,1060.663520517727,1057.8842076915598,1044.0536598032977,975.254813312405,889.6778423086241,864.3899021034897,764.3086015757098,698.5835315590685,678.6731155467966,696.0972059173256,687.4747675428961,666.4323281293662,623.9198555670608,565.2017231895359,571.1954132343932,572.828197303001,5327.391634726357,12159.009341530056,2204.9978873052714,508.99909489917394,482.05402855757734,474.64212744146295,499.5693683522263,479.6734129441545,461.91980142618434,449.97890432749136,457.85644782487117,462.6896603610235,454.6464839893451,447.66397654823606,430.20456129210606,432.4021101076984,433.19674218483584,428.6089885401124,427.41416444741714,428.9068989166703,440.74901291923,423.6583880502281,426.91667250386286,419.17432218348915,397.72122699419117,393.6210032222779,388.4607524523097,382.0933983343442,369.88809547475694,371.9555045561578,369.6637339712118,365.4766857637274,356.3991848714395,345.25909821670695,345.92080705090416,353.7021055538322,337.74825443231913,325.1626433170151,339.78918452613937,326.6871556700082,318.1067254075248,316.70304858837943,313.4362578748986,301.9590938917212,286.95782054559106,288.2429755683947,278.98148182209815,275.34195678002413,280.8682671444295,803.6106735964016,1071.826711546747,324.3440135155528,255.51855246318405,252.04739646483702,245.18744760895555,236.62747015343163,239.42017038834166,239.02667075446075,238.85475883312475,236.05215295454505,225.0920877381048,218.78363119449165,218.72695298800494,225.01275533583674,218.43057205015762,204.4772106008976,208.78220571986546,209.4738781793961,205.7858271349013,204.35575167685923,193.317290842808,190.5152201678944,187.42322040131936,185.87851558242474,177.96832290500052,178.25610897271528,180.7434054809034,178.83318519794707,176.19763465160236,167.80671245698275,169.555622419426,170.12938261069345,160.62506837962533,160.32116185694878,159.148068557685,153.00756623815687,152.60745910485105,149.15736420965618,149.82861320388386,147.1175965815707,146.50777631171158,146.12949466302504,144.19636724692737,140.30916187695593,137.14379123522474,139.992790905974,144.16235763651875,363.6839182365695,5118.429117149499,4866.272820136063,306.6787645029745,134.29065344229386,134.1184281917062,129.9952313117309,127.65873948923162,124.37247190694764,122.66040282144986,261.15025969514977,493.2724484690695,187.69727002922141,124.46506101019357,122.30163341258066,118.90011281176342,115.83454317759629,119.75942502610826,121.06046418225183,119.42978074097438,118.6412027491514,116.56793321020895,111.25104122673832,109.64013730742339,112.04378712309352,112.11208249339434,110.00513725604938,111.83412747907448,110.45144943090612,109.66803792981615,107.75199021715196,107.96689260462752,103.87687027658534,104.19534457809517,108.69272612586055,104.82098471073036,103.98197854429,103.3692005603995,101.18238235224588,98.50670136631567,100.46660563787333,104.03006110869248,105.34551826448653,104.15614364677404,101.65650581351063,97.61446318359832,98.24085527211857,101.92167228158637,103.00917882684786,105.31954410268798,135.0323839873691,119.04078795820874,101.43652330024071,101.73703955108498,96.42706047128085,47.45649837335428],\"type\":\"scatter\"},{\"line\":{\"color\":\"rgb(50.999999999999986,0,204.0)\"},\"mode\":\"lines\",\"opacity\":0.5,\"x\":[0.0,0.25,0.5,0.75,1.0,1.25,1.5,1.75,2.0,2.25,2.5,2.75,3.0,3.25,3.5,3.75,4.0,4.25,4.5,4.75,5.0,5.25,5.5,5.75,6.0,6.25,6.5,6.75,7.0,7.25,7.5,7.75,8.0,8.25,8.5,8.75,9.0,9.25,9.5,9.75,10.0,10.25,10.5,10.75,11.0,11.25,11.5,11.75,12.0,12.25,12.5,12.75,13.0,13.25,13.5,13.75,14.0,14.25,14.5,14.75,15.0,15.25,15.5,15.75,16.0,16.25,16.5,16.75,17.0,17.25,17.5,17.75,18.0,18.25,18.5,18.75,19.0,19.25,19.5,19.75,20.0,20.25,20.5,20.75,21.0,21.25,21.5,21.75,22.0,22.25,22.5,22.75,23.0,23.25,23.5,23.75,24.0,24.25,24.5,24.75,25.0,25.25,25.5,25.75,26.0,26.25,26.5,26.75,27.0,27.25,27.5,27.75,28.0,28.25,28.5,28.75,29.0,29.25,29.5,29.75,30.0,30.25,30.5,30.75,31.0,31.25,31.5,31.75,32.0,32.25,32.5,32.75,33.0,33.25,33.5,33.75,34.0,34.25,34.5,34.75,35.0,35.25,35.5,35.75,36.0,36.25,36.5,36.75,37.0,37.25,37.5,37.75,38.0,38.25,38.5,38.75,39.0,39.25,39.5,39.75,40.0,40.25,40.5,40.75,41.0,41.25,41.5,41.75,42.0,42.25,42.5,42.75,43.0,43.25,43.5,43.75,44.0,44.25,44.5,44.75,45.0,45.25,45.5,45.75,46.0,46.25,46.5,46.75,47.0,47.25,47.5,47.75,48.0,48.25,48.5,48.75,49.0,49.25,49.5,49.75,50.0],\"y\":[15030.914284638173,92605.26041219533,141924.43506097497,94997.08987126236,89204.98658024563,120759.04122834827,122500.39237319841,50419.54018789865,25803.992337797612,20342.156376883042,16421.93119870525,10679.657503674893,9376.469088145468,12581.391975382763,11833.130056863536,12845.459932701773,10546.661801000439,11242.17998629233,8470.084078567252,8436.31491377544,8584.45155775709,9358.816569367391,7808.448791131411,7165.931731090238,6330.6564116584805,5891.441060679287,5919.017022389922,5932.9894767979495,5332.488040792554,4326.52990827237,3420.3168834976823,2827.1067095741273,2738.5596925195146,2755.4462753921825,2710.954956099394,2486.648860704159,2148.9493764253616,1864.3910323136329,1560.0151066737628,1368.300682229324,1238.1795889305324,1178.1680507444305,1112.0295800453935,1036.3503936693721,950.9567769674954,836.8296903295228,763.4400349405554,729.8961154301925,2777.8802963808553,5752.871619681112,1382.556590624102,639.7397000557106,621.9301430330041,598.1322075725409,579.2645509969012,558.3193600781686,559.9048528817485,557.1228373021856,551.8057983061881,544.2867753916092,535.3053017021335,522.8315348135811,512.7690667122395,514.0029294534493,501.67305500071,498.94563326762716,503.41197422508736,492.5294740384283,475.72936000111235,482.0051716313685,551.9513358037208,523.4625436535757,470.72307189500606,460.44933438556285,454.1465397718449,458.08291180529363,458.1855879687973,455.9319445491805,445.9030595821385,430.3578488237349,421.534517376711,412.64664883905823,419.4233457781859,407.57542531660107,403.8987631872705,396.2645233557084,390.614299212173,382.65123781054837,380.3877929622229,375.27468208697,363.97105818142416,366.7144155543558,369.64417574579426,371.36155186010785,358.52690785710075,345.79099796705407,376.3632297302347,2367.962104135274,3450.6563858777954,588.4335338136501,331.9829338925679,321.8397370670658,314.31498783808,304.63764069334724,305.73467606384196,308.7523469183188,309.7600827126284,309.26151025415123,298.1585704221471,288.2407237984831,289.82044563601454,283.74640581351093,284.49102904171394,280.274173799568,275.7224762598832,273.36014158855016,273.3152831626823,289.7383887845895,278.7936268036739,268.3549278424336,256.19700703203983,253.14851192362352,255.28065800987346,255.9004775669223,256.2637276375817,257.0429199915119,245.83522418998098,241.97520518945873,239.81660203375893,240.9483557409762,240.13256094782184,238.79291564612956,231.43798891387408,228.45259746743469,230.24279706231633,230.7119669246717,226.44847222431196,228.89619207180178,228.10396890789804,221.0467835427302,217.61746145581597,212.7496802773217,214.79644502861666,218.2696687608717,216.32723682666796,221.2901741776546,407.81076703862726,397.40151220452753,217.6352663125776,206.66641750890034,205.38077296820623,202.4215921076381,200.04858082371547,201.6683941213741,198.92366595819547,220.98214998975322,252.25278840518646,208.73432958251848,194.08387007997857,195.20960715350708,193.1977934600361,187.7013831108475,189.06506113502067,193.01450782453549,196.86784599831472,192.20626528183536,190.15999706933354,189.3420882163515,185.5391455587835,178.61781116937482,183.5702286447232,183.5090734500074,179.04945612126716,177.60338822534786,177.73172350611654,175.28878876068194,174.53007345571314,174.9455488721505,173.36358893768363,170.792487889379,174.83315707369806,177.56499549135697,175.23677637076068,173.97061072967637,172.52760459624034,165.8926861522853,167.09888920989962,172.9180539186719,171.9310416812474,170.51370497835956,168.31973004295662,169.98733853630551,167.96560300568052,164.96422681445344,179.49117714346866,312.6658591723645,259.2144229937838,167.88179344195672,164.8419186989956,162.87932311848544,83.58851442047236],\"type\":\"scatter\"}],                        {\"template\":{\"data\":{\"histogram2dcontour\":[{\"type\":\"histogram2dcontour\",\"colorbar\":{\"outlinewidth\":0,\"ticks\":\"\"},\"colorscale\":[[0.0,\"#0d0887\"],[0.1111111111111111,\"#46039f\"],[0.2222222222222222,\"#7201a8\"],[0.3333333333333333,\"#9c179e\"],[0.4444444444444444,\"#bd3786\"],[0.5555555555555556,\"#d8576b\"],[0.6666666666666666,\"#ed7953\"],[0.7777777777777778,\"#fb9f3a\"],[0.8888888888888888,\"#fdca26\"],[1.0,\"#f0f921\"]]}],\"choropleth\":[{\"type\":\"choropleth\",\"colorbar\":{\"outlinewidth\":0,\"ticks\":\"\"}}],\"histogram2d\":[{\"type\":\"histogram2d\",\"colorbar\":{\"outlinewidth\":0,\"ticks\":\"\"},\"colorscale\":[[0.0,\"#0d0887\"],[0.1111111111111111,\"#46039f\"],[0.2222222222222222,\"#7201a8\"],[0.3333333333333333,\"#9c179e\"],[0.4444444444444444,\"#bd3786\"],[0.5555555555555556,\"#d8576b\"],[0.6666666666666666,\"#ed7953\"],[0.7777777777777778,\"#fb9f3a\"],[0.8888888888888888,\"#fdca26\"],[1.0,\"#f0f921\"]]}],\"heatmap\":[{\"type\":\"heatmap\",\"colorbar\":{\"outlinewidth\":0,\"ticks\":\"\"},\"colorscale\":[[0.0,\"#0d0887\"],[0.1111111111111111,\"#46039f\"],[0.2222222222222222,\"#7201a8\"],[0.3333333333333333,\"#9c179e\"],[0.4444444444444444,\"#bd3786\"],[0.5555555555555556,\"#d8576b\"],[0.6666666666666666,\"#ed7953\"],[0.7777777777777778,\"#fb9f3a\"],[0.8888888888888888,\"#fdca26\"],[1.0,\"#f0f921\"]]}],\"heatmapgl\":[{\"type\":\"heatmapgl\",\"colorbar\":{\"outlinewidth\":0,\"ticks\":\"\"},\"colorscale\":[[0.0,\"#0d0887\"],[0.1111111111111111,\"#46039f\"],[0.2222222222222222,\"#7201a8\"],[0.3333333333333333,\"#9c179e\"],[0.4444444444444444,\"#bd3786\"],[0.5555555555555556,\"#d8576b\"],[0.6666666666666666,\"#ed7953\"],[0.7777777777777778,\"#fb9f3a\"],[0.8888888888888888,\"#fdca26\"],[1.0,\"#f0f921\"]]}],\"contourcarpet\":[{\"type\":\"contourcarpet\",\"colorbar\":{\"outlinewidth\":0,\"ticks\":\"\"}}],\"contour\":[{\"type\":\"contour\",\"colorbar\":{\"outlinewidth\":0,\"ticks\":\"\"},\"colorscale\":[[0.0,\"#0d0887\"],[0.1111111111111111,\"#46039f\"],[0.2222222222222222,\"#7201a8\"],[0.3333333333333333,\"#9c179e\"],[0.4444444444444444,\"#bd3786\"],[0.5555555555555556,\"#d8576b\"],[0.6666666666666666,\"#ed7953\"],[0.7777777777777778,\"#fb9f3a\"],[0.8888888888888888,\"#fdca26\"],[1.0,\"#f0f921\"]]}],\"surface\":[{\"type\":\"surface\",\"colorbar\":{\"outlinewidth\":0,\"ticks\":\"\"},\"colorscale\":[[0.0,\"#0d0887\"],[0.1111111111111111,\"#46039f\"],[0.2222222222222222,\"#7201a8\"],[0.3333333333333333,\"#9c179e\"],[0.4444444444444444,\"#bd3786\"],[0.5555555555555556,\"#d8576b\"],[0.6666666666666666,\"#ed7953\"],[0.7777777777777778,\"#fb9f3a\"],[0.8888888888888888,\"#fdca26\"],[1.0,\"#f0f921\"]]}],\"mesh3d\":[{\"type\":\"mesh3d\",\"colorbar\":{\"outlinewidth\":0,\"ticks\":\"\"}}],\"scatter\":[{\"fillpattern\":{\"fillmode\":\"overlay\",\"size\":10,\"solidity\":0.2},\"type\":\"scatter\"}],\"parcoords\":[{\"type\":\"parcoords\",\"line\":{\"colorbar\":{\"outlinewidth\":0,\"ticks\":\"\"}}}],\"scatterpolargl\":[{\"type\":\"scatterpolargl\",\"marker\":{\"colorbar\":{\"outlinewidth\":0,\"ticks\":\"\"}}}],\"bar\":[{\"error_x\":{\"color\":\"#2a3f5f\"},\"error_y\":{\"color\":\"#2a3f5f\"},\"marker\":{\"line\":{\"color\":\"#E5ECF6\",\"width\":0.5},\"pattern\":{\"fillmode\":\"overlay\",\"size\":10,\"solidity\":0.2}},\"type\":\"bar\"}],\"scattergeo\":[{\"type\":\"scattergeo\",\"marker\":{\"colorbar\":{\"outlinewidth\":0,\"ticks\":\"\"}}}],\"scatterpolar\":[{\"type\":\"scatterpolar\",\"marker\":{\"colorbar\":{\"outlinewidth\":0,\"ticks\":\"\"}}}],\"histogram\":[{\"marker\":{\"pattern\":{\"fillmode\":\"overlay\",\"size\":10,\"solidity\":0.2}},\"type\":\"histogram\"}],\"scattergl\":[{\"type\":\"scattergl\",\"marker\":{\"colorbar\":{\"outlinewidth\":0,\"ticks\":\"\"}}}],\"scatter3d\":[{\"type\":\"scatter3d\",\"line\":{\"colorbar\":{\"outlinewidth\":0,\"ticks\":\"\"}},\"marker\":{\"colorbar\":{\"outlinewidth\":0,\"ticks\":\"\"}}}],\"scattermapbox\":[{\"type\":\"scattermapbox\",\"marker\":{\"colorbar\":{\"outlinewidth\":0,\"ticks\":\"\"}}}],\"scatterternary\":[{\"type\":\"scatterternary\",\"marker\":{\"colorbar\":{\"outlinewidth\":0,\"ticks\":\"\"}}}],\"scattercarpet\":[{\"type\":\"scattercarpet\",\"marker\":{\"colorbar\":{\"outlinewidth\":0,\"ticks\":\"\"}}}],\"carpet\":[{\"aaxis\":{\"endlinecolor\":\"#2a3f5f\",\"gridcolor\":\"white\",\"linecolor\":\"white\",\"minorgridcolor\":\"white\",\"startlinecolor\":\"#2a3f5f\"},\"baxis\":{\"endlinecolor\":\"#2a3f5f\",\"gridcolor\":\"white\",\"linecolor\":\"white\",\"minorgridcolor\":\"white\",\"startlinecolor\":\"#2a3f5f\"},\"type\":\"carpet\"}],\"table\":[{\"cells\":{\"fill\":{\"color\":\"#EBF0F8\"},\"line\":{\"color\":\"white\"}},\"header\":{\"fill\":{\"color\":\"#C8D4E3\"},\"line\":{\"color\":\"white\"}},\"type\":\"table\"}],\"barpolar\":[{\"marker\":{\"line\":{\"color\":\"#E5ECF6\",\"width\":0.5},\"pattern\":{\"fillmode\":\"overlay\",\"size\":10,\"solidity\":0.2}},\"type\":\"barpolar\"}],\"pie\":[{\"automargin\":true,\"type\":\"pie\"}]},\"layout\":{\"autotypenumbers\":\"strict\",\"colorway\":[\"#636efa\",\"#EF553B\",\"#00cc96\",\"#ab63fa\",\"#FFA15A\",\"#19d3f3\",\"#FF6692\",\"#B6E880\",\"#FF97FF\",\"#FECB52\"],\"font\":{\"color\":\"#2a3f5f\"},\"hovermode\":\"closest\",\"hoverlabel\":{\"align\":\"left\"},\"paper_bgcolor\":\"white\",\"plot_bgcolor\":\"#E5ECF6\",\"polar\":{\"bgcolor\":\"#E5ECF6\",\"angularaxis\":{\"gridcolor\":\"white\",\"linecolor\":\"white\",\"ticks\":\"\"},\"radialaxis\":{\"gridcolor\":\"white\",\"linecolor\":\"white\",\"ticks\":\"\"}},\"ternary\":{\"bgcolor\":\"#E5ECF6\",\"aaxis\":{\"gridcolor\":\"white\",\"linecolor\":\"white\",\"ticks\":\"\"},\"baxis\":{\"gridcolor\":\"white\",\"linecolor\":\"white\",\"ticks\":\"\"},\"caxis\":{\"gridcolor\":\"white\",\"linecolor\":\"white\",\"ticks\":\"\"}},\"coloraxis\":{\"colorbar\":{\"outlinewidth\":0,\"ticks\":\"\"}},\"colorscale\":{\"sequential\":[[0.0,\"#0d0887\"],[0.1111111111111111,\"#46039f\"],[0.2222222222222222,\"#7201a8\"],[0.3333333333333333,\"#9c179e\"],[0.4444444444444444,\"#bd3786\"],[0.5555555555555556,\"#d8576b\"],[0.6666666666666666,\"#ed7953\"],[0.7777777777777778,\"#fb9f3a\"],[0.8888888888888888,\"#fdca26\"],[1.0,\"#f0f921\"]],\"sequentialminus\":[[0.0,\"#0d0887\"],[0.1111111111111111,\"#46039f\"],[0.2222222222222222,\"#7201a8\"],[0.3333333333333333,\"#9c179e\"],[0.4444444444444444,\"#bd3786\"],[0.5555555555555556,\"#d8576b\"],[0.6666666666666666,\"#ed7953\"],[0.7777777777777778,\"#fb9f3a\"],[0.8888888888888888,\"#fdca26\"],[1.0,\"#f0f921\"]],\"diverging\":[[0,\"#8e0152\"],[0.1,\"#c51b7d\"],[0.2,\"#de77ae\"],[0.3,\"#f1b6da\"],[0.4,\"#fde0ef\"],[0.5,\"#f7f7f7\"],[0.6,\"#e6f5d0\"],[0.7,\"#b8e186\"],[0.8,\"#7fbc41\"],[0.9,\"#4d9221\"],[1,\"#276419\"]]},\"xaxis\":{\"gridcolor\":\"white\",\"linecolor\":\"white\",\"ticks\":\"\",\"title\":{\"standoff\":15},\"zerolinecolor\":\"white\",\"automargin\":true,\"zerolinewidth\":2},\"yaxis\":{\"gridcolor\":\"white\",\"linecolor\":\"white\",\"ticks\":\"\",\"title\":{\"standoff\":15},\"zerolinecolor\":\"white\",\"automargin\":true,\"zerolinewidth\":2},\"scene\":{\"xaxis\":{\"backgroundcolor\":\"#E5ECF6\",\"gridcolor\":\"white\",\"linecolor\":\"white\",\"showbackground\":true,\"ticks\":\"\",\"zerolinecolor\":\"white\",\"gridwidth\":2},\"yaxis\":{\"backgroundcolor\":\"#E5ECF6\",\"gridcolor\":\"white\",\"linecolor\":\"white\",\"showbackground\":true,\"ticks\":\"\",\"zerolinecolor\":\"white\",\"gridwidth\":2},\"zaxis\":{\"backgroundcolor\":\"#E5ECF6\",\"gridcolor\":\"white\",\"linecolor\":\"white\",\"showbackground\":true,\"ticks\":\"\",\"zerolinecolor\":\"white\",\"gridwidth\":2}},\"shapedefaults\":{\"line\":{\"color\":\"#2a3f5f\"}},\"annotationdefaults\":{\"arrowcolor\":\"#2a3f5f\",\"arrowhead\":0,\"arrowwidth\":1},\"geo\":{\"bgcolor\":\"white\",\"landcolor\":\"#E5ECF6\",\"subunitcolor\":\"white\",\"showland\":true,\"showlakes\":true,\"lakecolor\":\"white\"},\"title\":{\"x\":0.05},\"mapbox\":{\"style\":\"light\"}}},\"yaxis\":{\"type\":\"log\"}},                        {\"responsive\": true}                    ).then(function(){\n",
       "                            \n",
       "var gd = document.getElementById('9324bdec-3799-4004-99b5-266889a3f98f');\n",
       "var x = new MutationObserver(function (mutations, observer) {{\n",
       "        var display = window.getComputedStyle(gd).display;\n",
       "        if (!display || display === 'none') {{\n",
       "            console.log([gd, 'removed!']);\n",
       "            Plotly.purge(gd);\n",
       "            observer.disconnect();\n",
       "        }}\n",
       "}});\n",
       "\n",
       "// Listen for the removal of the full notebook cells\n",
       "var notebookContainer = gd.closest('#notebook-container');\n",
       "if (notebookContainer) {{\n",
       "    x.observe(notebookContainer, {childList: true});\n",
       "}}\n",
       "\n",
       "// Listen for the clearing of the current output cell\n",
       "var outputEl = gd.closest('.output');\n",
       "if (outputEl) {{\n",
       "    x.observe(outputEl, {childList: true});\n",
       "}}\n",
       "\n",
       "                        })                };                });            </script>        </div>"
      ]
     },
     "metadata": {},
     "output_type": "display_data"
    },
    {
     "name": "stdout",
     "output_type": "stream",
     "text": [
      "0.19999999999999996\n"
     ]
    }
   ],
   "source": [
    "fig = go.Figure()\n",
    "\n",
    "index = 0\n",
    "for psd in psds:\n",
    "    color_intensity = min((1 - index/len(psds) ),1) # This is to change the color of each line. Plotly doesn't like to do it, so I had to force it with an f string and rgb values.\n",
    "    fig.add_trace(go.Scatter(x = f, y = psd,\n",
    "        mode='lines',\n",
    "\n",
    "        line=dict( color= f\"rgb({255*color_intensity},0,{255-(255*color_intensity)})\"),\n",
    "\n",
    "        opacity = 0.5,\n",
    "\n",
    "    ))\n",
    "    index += 1\n",
    "\n",
    "fig.update_yaxes(type='log')\n",
    "fig.show()\n",
    "print(color_intensity)"
   ]
  },
  {
   "cell_type": "code",
   "execution_count": 187,
   "metadata": {},
   "outputs": [
    {
     "data": {
      "text/plain": [
       "array([ 2503.91417737, 18945.94674072, 14141.83479442, 11159.06294773,\n",
       "       10478.7702675 , 17676.4325664 , 11480.41860214,  5406.00518554,\n",
       "        4502.69338264,  3554.71827873,  2431.20200648,  2250.31445973,\n",
       "        2784.80699225,  3182.17780546,  3209.67948224,  3147.55067934,\n",
       "        3024.45558658,  2691.83086823,  2378.0820974 ,  2321.02776377,\n",
       "        2253.62611594,  2138.39853887,  2099.91472522,  2190.57425983,\n",
       "        2261.28765535,  2334.11412629,  2300.55796416,  2163.63880896,\n",
       "        2012.99689301,  1842.228215  ,  1754.53011389,  1720.50841182,\n",
       "        1673.14651114,  1661.77739571,  1637.74382494,  1516.08754286,\n",
       "        1494.34942963,  1484.14120886,  1440.61133629,  1405.9479985 ,\n",
       "        1345.82390842,  1355.94184643,  1411.68859505,  1398.92042917,\n",
       "        1345.95701268,  1373.42015439,  1366.37550355,  1382.12762172,\n",
       "        2651.42206773,  4465.63658402,  1736.51312834,  1271.17721451,\n",
       "        1289.71500621,  1302.06658236,  1284.60596771,  1218.83218656,\n",
       "        1185.09821821,  1217.63562891,  1231.92624603,  1194.70460263,\n",
       "        1183.71520953,  1122.74605865,  1106.74983351,  1114.48460924,\n",
       "        1119.21383065,  1077.17529029,  1037.46839804,  1035.52571598,\n",
       "        1037.84037825,  1061.98353178,  1102.93676187,  1044.93414022,\n",
       "         991.65093866,   971.03597288,   969.38326507,   983.05421668,\n",
       "         962.37642554,   955.57790488,   924.05448483,   929.50730654,\n",
       "         921.12063424,   914.97061014,   882.81982799,   830.10295861,\n",
       "         834.92028342,   852.00283944,   838.52894571,   796.88882452,\n",
       "         776.96198361,   764.87449482,   785.2243464 ,   765.86072132,\n",
       "         746.31292569,   717.14453464,   688.8097296 ,   692.58336719,\n",
       "         699.02486206,   894.89615549,  1005.7949289 ,   667.62921753,\n",
       "         626.24638758,   610.40143644,   603.11589072,   606.08747403,\n",
       "         587.76680891,   578.01973402,   571.81764107,   555.98202434,\n",
       "         545.75941168,   537.02120248,   531.26022529,   520.51632503,\n",
       "         512.68251343,   502.71940247,   491.71731818,   482.72671876,\n",
       "         470.54406236,   468.05506109,   458.23307185,   444.88959058,\n",
       "         442.00463408,   433.72418374,   419.37152414,   407.79031494,\n",
       "         399.93038247,   398.60131523,   399.33841841,   397.15195948,\n",
       "         383.0152097 ,   375.62807664,   374.19538047,   368.7907412 ,\n",
       "         358.6879573 ,   343.50403113,   341.01401428,   336.06879441,\n",
       "         339.29028895,   335.88278703,   332.21102753,   326.31462924,\n",
       "         318.70795055,   306.46584946,   314.72165883,   306.86808381,\n",
       "         303.62624213,   363.03731838,  1572.3769173 ,  1461.25569678,\n",
       "         322.7859908 ,   282.70966302,   276.98349083,   270.31668244,\n",
       "         268.03215194,   265.51136624,   263.0151282 ,   299.48645867,\n",
       "         348.8875185 ,   267.89275737,   248.15834434,   246.08643378,\n",
       "         244.12201809,   244.23446901,   238.64883213,   235.4900494 ,\n",
       "         234.57139799,   236.17125831,   230.57417496,   226.3508387 ,\n",
       "         226.92885296,   224.44728769,   226.55893229,   229.02921311,\n",
       "         222.64302555,   220.72711384,   218.75001013,   214.48820982,\n",
       "         209.86990577,   207.06932228,   209.53110534,   208.2899628 ,\n",
       "         207.14352363,   209.51934453,   208.37022361,   205.34849778,\n",
       "         204.49614199,   203.82065546,   207.11545848,   205.03136393,\n",
       "         204.03764698,   208.34360602,   206.47793882,   201.47273175,\n",
       "         201.38160807,   200.35561145,   198.94720472,   215.02308143,\n",
       "         207.74513523,   198.67478225,   199.31274559,   200.20413206,\n",
       "         100.25988405])"
      ]
     },
     "execution_count": 187,
     "metadata": {},
     "output_type": "execute_result"
    }
   ],
   "source": [
    "psds = np.array(psds)\n",
    "psds[1,:]"
   ]
  },
  {
   "cell_type": "code",
   "execution_count": 162,
   "metadata": {},
   "outputs": [
    {
     "data": {
      "text/plain": [
       "['046', '047', '048', '049', '050']"
      ]
     },
     "execution_count": 162,
     "metadata": {},
     "output_type": "execute_result"
    }
   ],
   "source": [
    "hours"
   ]
  },
  {
   "cell_type": "code",
   "execution_count": 163,
   "metadata": {},
   "outputs": [],
   "source": [
    "hours2 = pd.DataFrame(hours,columns=['hours'])\n",
    "psds_df = pd.DataFrame(psds)\n",
    "psds_df = pd.concat([psds_df, hours2], axis=1)\n",
    "psds_df = psds_df.groupby(by='hours',as_index=True).mean()\n",
    "psds_df = psds_df.div(psds_df[0],axis=0)"
   ]
  },
  {
   "cell_type": "code",
   "execution_count": 164,
   "metadata": {},
   "outputs": [
    {
     "data": {
      "text/plain": [
       "hours\n",
       "046    1.0\n",
       "047    1.0\n",
       "048    1.0\n",
       "049    1.0\n",
       "050    1.0\n",
       "Name: 0, dtype: float64"
      ]
     },
     "execution_count": 164,
     "metadata": {},
     "output_type": "execute_result"
    }
   ],
   "source": [
    "psds_df[0]"
   ]
  },
  {
   "cell_type": "code",
   "execution_count": 165,
   "metadata": {},
   "outputs": [],
   "source": [
    "# ini_psds = psds[:,:25]\n",
    "\n",
    "# ini_psds = ini_psds.T/(ini_psds[:,0])\n",
    "# ini_psds.shape"
   ]
  },
  {
   "cell_type": "code",
   "execution_count": 168,
   "metadata": {},
   "outputs": [
    {
     "data": {
      "application/vnd.plotly.v1+json": {
       "config": {
        "plotlyServerURL": "https://plot.ly"
       },
       "data": [
        {
         "hovertemplate": "variable=0<br>hours=%{x}<br>value=%{y}<extra></extra>",
         "legendgroup": "0",
         "line": {
          "color": "#636efa",
          "dash": "solid"
         },
         "marker": {
          "symbol": "circle"
         },
         "mode": "lines",
         "name": "0",
         "showlegend": true,
         "type": "scattergl",
         "x": [
          "046",
          "047",
          "048",
          "049",
          "050"
         ],
         "xaxis": "x",
         "y": [
          1,
          1,
          1,
          1,
          1
         ],
         "yaxis": "y"
        },
        {
         "hovertemplate": "variable=1<br>hours=%{x}<br>value=%{y}<extra></extra>",
         "legendgroup": "1",
         "line": {
          "color": "#EF553B",
          "dash": "solid"
         },
         "marker": {
          "symbol": "circle"
         },
         "mode": "lines",
         "name": "1",
         "showlegend": true,
         "type": "scattergl",
         "x": [
          "046",
          "047",
          "048",
          "049",
          "050"
         ],
         "xaxis": "x",
         "y": [
          7.4910964516607565,
          7.5665319969521905,
          5.875883142504208,
          9.573741391766156,
          6.160986528067647
         ],
         "yaxis": "y"
        },
        {
         "hovertemplate": "variable=2<br>hours=%{x}<br>value=%{y}<extra></extra>",
         "legendgroup": "2",
         "line": {
          "color": "#00cc96",
          "dash": "solid"
         },
         "marker": {
          "symbol": "circle"
         },
         "mode": "lines",
         "name": "2",
         "showlegend": true,
         "type": "scattergl",
         "x": [
          "046",
          "047",
          "048",
          "049",
          "050"
         ],
         "xaxis": "x",
         "y": [
          3.526080645813693,
          5.647891178623161,
          8.810255938338416,
          5.624958869172539,
          9.442169143764191
         ],
         "yaxis": "y"
        },
        {
         "hovertemplate": "variable=3<br>hours=%{x}<br>value=%{y}<extra></extra>",
         "legendgroup": "3",
         "line": {
          "color": "#ab63fa",
          "dash": "solid"
         },
         "marker": {
          "symbol": "circle"
         },
         "mode": "lines",
         "name": "3",
         "showlegend": true,
         "type": "scattergl",
         "x": [
          "046",
          "047",
          "048",
          "049",
          "050"
         ],
         "xaxis": "x",
         "y": [
          2.053736904135685,
          4.456647535512481,
          6.001974454509242,
          2.722868765024529,
          6.320113871472932
         ],
         "yaxis": "y"
        },
        {
         "hovertemplate": "variable=4<br>hours=%{x}<br>value=%{y}<extra></extra>",
         "legendgroup": "4",
         "line": {
          "color": "#FFA15A",
          "dash": "solid"
         },
         "marker": {
          "symbol": "circle"
         },
         "mode": "lines",
         "name": "4",
         "showlegend": true,
         "type": "scattergl",
         "x": [
          "046",
          "047",
          "048",
          "049",
          "050"
         ],
         "xaxis": "x",
         "y": [
          2.0385410583813752,
          4.184955843212572,
          5.573773803620988,
          2.3611429599423643,
          5.934767831881958
         ],
         "yaxis": "y"
        },
        {
         "hovertemplate": "variable=5<br>hours=%{x}<br>value=%{y}<extra></extra>",
         "legendgroup": "5",
         "line": {
          "color": "#19d3f3",
          "dash": "solid"
         },
         "marker": {
          "symbol": "circle"
         },
         "mode": "lines",
         "name": "5",
         "showlegend": true,
         "type": "scattergl",
         "x": [
          "046",
          "047",
          "048",
          "049",
          "050"
         ],
         "xaxis": "x",
         "y": [
          3.710862452669908,
          7.059520140959425,
          9.22006452799672,
          3.2974550366985365,
          8.034044965033557
         ],
         "yaxis": "y"
        },
        {
         "hovertemplate": "variable=6<br>hours=%{x}<br>value=%{y}<extra></extra>",
         "legendgroup": "6",
         "line": {
          "color": "#FF6692",
          "dash": "solid"
         },
         "marker": {
          "symbol": "circle"
         },
         "mode": "lines",
         "name": "6",
         "showlegend": true,
         "type": "scattergl",
         "x": [
          "046",
          "047",
          "048",
          "049",
          "050"
         ],
         "xaxis": "x",
         "y": [
          3.0057703540070073,
          4.584988856998844,
          6.469315029915042,
          2.396726546279493,
          8.149896277327302
         ],
         "yaxis": "y"
        },
        {
         "hovertemplate": "variable=7<br>hours=%{x}<br>value=%{y}<extra></extra>",
         "legendgroup": "7",
         "line": {
          "color": "#B6E880",
          "dash": "solid"
         },
         "marker": {
          "symbol": "circle"
         },
         "mode": "lines",
         "name": "7",
         "showlegend": true,
         "type": "scattergl",
         "x": [
          "046",
          "047",
          "048",
          "049",
          "050"
         ],
         "xaxis": "x",
         "y": [
          1.385214299547204,
          2.1590217565724847,
          2.46566368830978,
          0.866009123485356,
          3.3543894425256755
         ],
         "yaxis": "y"
        },
        {
         "hovertemplate": "variable=8<br>hours=%{x}<br>value=%{y}<extra></extra>",
         "legendgroup": "8",
         "line": {
          "color": "#FF97FF",
          "dash": "solid"
         },
         "marker": {
          "symbol": "circle"
         },
         "mode": "lines",
         "name": "8",
         "showlegend": true,
         "type": "scattergl",
         "x": [
          "046",
          "047",
          "048",
          "049",
          "050"
         ],
         "xaxis": "x",
         "y": [
          1.138707341286036,
          1.7982618666903216,
          1.7861181877961207,
          0.5930118106171923,
          1.716728061191174
         ],
         "yaxis": "y"
        },
        {
         "hovertemplate": "variable=9<br>hours=%{x}<br>value=%{y}<extra></extra>",
         "legendgroup": "9",
         "line": {
          "color": "#FECB52",
          "dash": "solid"
         },
         "marker": {
          "symbol": "circle"
         },
         "mode": "lines",
         "name": "9",
         "showlegend": true,
         "type": "scattergl",
         "x": [
          "046",
          "047",
          "048",
          "049",
          "050"
         ],
         "xaxis": "x",
         "y": [
          0.7842785895950363,
          1.4196645838949662,
          1.619975456895972,
          0.5307043401847874,
          1.3533545592547913
         ],
         "yaxis": "y"
        },
        {
         "hovertemplate": "variable=10<br>hours=%{x}<br>value=%{y}<extra></extra>",
         "legendgroup": "10",
         "line": {
          "color": "#636efa",
          "dash": "solid"
         },
         "marker": {
          "symbol": "circle"
         },
         "mode": "lines",
         "name": "10",
         "showlegend": true,
         "type": "scattergl",
         "x": [
          "046",
          "047",
          "048",
          "049",
          "050"
         ],
         "xaxis": "x",
         "y": [
          0.6345497105214459,
          0.970960597791328,
          0.9942877760690847,
          0.4288547503088248,
          1.0925437327181566
         ],
         "yaxis": "y"
        },
        {
         "hovertemplate": "variable=11<br>hours=%{x}<br>value=%{y}<extra></extra>",
         "legendgroup": "11",
         "line": {
          "color": "#EF553B",
          "dash": "solid"
         },
         "marker": {
          "symbol": "circle"
         },
         "mode": "lines",
         "name": "11",
         "showlegend": true,
         "type": "scattergl",
         "x": [
          "046",
          "047",
          "048",
          "049",
          "050"
         ],
         "xaxis": "x",
         "y": [
          0.5566232017115919,
          0.8987186861521297,
          0.8070479700799351,
          0.29904443078595305,
          0.7105128338460202
         ],
         "yaxis": "y"
        },
        {
         "hovertemplate": "variable=12<br>hours=%{x}<br>value=%{y}<extra></extra>",
         "legendgroup": "12",
         "line": {
          "color": "#00cc96",
          "dash": "solid"
         },
         "marker": {
          "symbol": "circle"
         },
         "mode": "lines",
         "name": "12",
         "showlegend": true,
         "type": "scattergl",
         "x": [
          "046",
          "047",
          "048",
          "049",
          "050"
         ],
         "xaxis": "x",
         "y": [
          0.6108434871999359,
          1.1121814866571822,
          0.8206217586318161,
          0.2778450937935357,
          0.6238122918263438
         ],
         "yaxis": "y"
        },
        {
         "hovertemplate": "variable=13<br>hours=%{x}<br>value=%{y}<extra></extra>",
         "legendgroup": "13",
         "line": {
          "color": "#ab63fa",
          "dash": "solid"
         },
         "marker": {
          "symbol": "circle"
         },
         "mode": "lines",
         "name": "13",
         "showlegend": true,
         "type": "scattergl",
         "x": [
          "046",
          "047",
          "048",
          "049",
          "050"
         ],
         "xaxis": "x",
         "y": [
          0.7693857636905039,
          1.2708813401877617,
          1.0480394052677433,
          0.37946412606437957,
          0.837034377093158
         ],
         "yaxis": "y"
        },
        {
         "hovertemplate": "variable=14<br>hours=%{x}<br>value=%{y}<extra></extra>",
         "legendgroup": "14",
         "line": {
          "color": "#FFA15A",
          "dash": "solid"
         },
         "marker": {
          "symbol": "circle"
         },
         "mode": "lines",
         "name": "14",
         "showlegend": true,
         "type": "scattergl",
         "x": [
          "046",
          "047",
          "048",
          "049",
          "050"
         ],
         "xaxis": "x",
         "y": [
          0.7787306809532794,
          1.2818648143967803,
          1.1812267180035845,
          0.3762873590762158,
          0.7872528465522006
         ],
         "yaxis": "y"
        },
        {
         "hovertemplate": "variable=15<br>hours=%{x}<br>value=%{y}<extra></extra>",
         "legendgroup": "15",
         "line": {
          "color": "#19d3f3",
          "dash": "solid"
         },
         "marker": {
          "symbol": "circle"
         },
         "mode": "lines",
         "name": "15",
         "showlegend": true,
         "type": "scattergl",
         "x": [
          "046",
          "047",
          "048",
          "049",
          "050"
         ],
         "xaxis": "x",
         "y": [
          0.7459993177482359,
          1.2570521417174698,
          1.2293815772579717,
          0.444054913195725,
          0.8546027001052113
         ],
         "yaxis": "y"
        },
        {
         "hovertemplate": "variable=16<br>hours=%{x}<br>value=%{y}<extra></extra>",
         "legendgroup": "16",
         "line": {
          "color": "#FF6692",
          "dash": "solid"
         },
         "marker": {
          "symbol": "circle"
         },
         "mode": "lines",
         "name": "16",
         "showlegend": true,
         "type": "scattergl",
         "x": [
          "046",
          "047",
          "048",
          "049",
          "050"
         ],
         "xaxis": "x",
         "y": [
          0.7063878574354548,
          1.207891074664804,
          1.1800640966954832,
          0.3627405192793186,
          0.7016646892717159
         ],
         "yaxis": "y"
        },
        {
         "hovertemplate": "variable=17<br>hours=%{x}<br>value=%{y}<extra></extra>",
         "legendgroup": "17",
         "line": {
          "color": "#B6E880",
          "dash": "solid"
         },
         "marker": {
          "symbol": "circle"
         },
         "mode": "lines",
         "name": "17",
         "showlegend": true,
         "type": "scattergl",
         "x": [
          "046",
          "047",
          "048",
          "049",
          "050"
         ],
         "xaxis": "x",
         "y": [
          0.701933485890446,
          1.0750491740325712,
          1.0741110009208445,
          0.3956819090254127,
          0.7479372028474683
         ],
         "yaxis": "y"
        },
        {
         "hovertemplate": "variable=18<br>hours=%{x}<br>value=%{y}<extra></extra>",
         "legendgroup": "18",
         "line": {
          "color": "#FF97FF",
          "dash": "solid"
         },
         "marker": {
          "symbol": "circle"
         },
         "mode": "lines",
         "name": "18",
         "showlegend": true,
         "type": "scattergl",
         "x": [
          "046",
          "047",
          "048",
          "049",
          "050"
         ],
         "xaxis": "x",
         "y": [
          0.6891670420020249,
          0.9497458494731117,
          0.8924146063839817,
          0.3042953241516477,
          0.5635109028080753
         ],
         "yaxis": "y"
        },
        {
         "hovertemplate": "variable=19<br>hours=%{x}<br>value=%{y}<extra></extra>",
         "legendgroup": "19",
         "line": {
          "color": "#FECB52",
          "dash": "solid"
         },
         "marker": {
          "symbol": "circle"
         },
         "mode": "lines",
         "name": "19",
         "showlegend": true,
         "type": "scattergl",
         "x": [
          "046",
          "047",
          "048",
          "049",
          "050"
         ],
         "xaxis": "x",
         "y": [
          0.7105640642914816,
          0.9269597914921783,
          0.8749012462182066,
          0.3135805010765907,
          0.5612642553884752
         ],
         "yaxis": "y"
        },
        {
         "hovertemplate": "variable=20<br>hours=%{x}<br>value=%{y}<extra></extra>",
         "legendgroup": "20",
         "line": {
          "color": "#636efa",
          "dash": "solid"
         },
         "marker": {
          "symbol": "circle"
         },
         "mode": "lines",
         "name": "20",
         "showlegend": true,
         "type": "scattergl",
         "x": [
          "046",
          "047",
          "048",
          "049",
          "050"
         ],
         "xaxis": "x",
         "y": [
          0.6956087059982179,
          0.9000412778949713,
          0.8920007699513448,
          0.30438742685732684,
          0.5711197200113457
         ],
         "yaxis": "y"
        },
        {
         "hovertemplate": "variable=21<br>hours=%{x}<br>value=%{y}<extra></extra>",
         "legendgroup": "21",
         "line": {
          "color": "#EF553B",
          "dash": "solid"
         },
         "marker": {
          "symbol": "circle"
         },
         "mode": "lines",
         "name": "21",
         "showlegend": true,
         "type": "scattergl",
         "x": [
          "046",
          "047",
          "048",
          "049",
          "050"
         ],
         "xaxis": "x",
         "y": [
          0.6785919346189483,
          0.8540222976479446,
          0.8333665636265808,
          0.3092736591314687,
          0.6226378776527417
         ],
         "yaxis": "y"
        },
        {
         "hovertemplate": "variable=22<br>hours=%{x}<br>value=%{y}<extra></extra>",
         "legendgroup": "22",
         "line": {
          "color": "#00cc96",
          "dash": "solid"
         },
         "marker": {
          "symbol": "circle"
         },
         "mode": "lines",
         "name": "22",
         "showlegend": true,
         "type": "scattergl",
         "x": [
          "046",
          "047",
          "048",
          "049",
          "050"
         ],
         "xaxis": "x",
         "y": [
          0.6226834042980824,
          0.8386528357045991,
          0.7483808451309247,
          0.2645699314658764,
          0.5194926032617834
         ],
         "yaxis": "y"
        },
        {
         "hovertemplate": "variable=23<br>hours=%{x}<br>value=%{y}<extra></extra>",
         "legendgroup": "23",
         "line": {
          "color": "#ab63fa",
          "dash": "solid"
         },
         "marker": {
          "symbol": "circle"
         },
         "mode": "lines",
         "name": "23",
         "showlegend": true,
         "type": "scattergl",
         "x": [
          "046",
          "047",
          "048",
          "049",
          "050"
         ],
         "xaxis": "x",
         "y": [
          0.6122093436158637,
          0.874859961107324,
          0.7280056780783489,
          0.250753629069348,
          0.476746230827351
         ],
         "yaxis": "y"
        },
        {
         "hovertemplate": "variable=24<br>hours=%{x}<br>value=%{y}<extra></extra>",
         "legendgroup": "24",
         "line": {
          "color": "#FFA15A",
          "dash": "solid"
         },
         "marker": {
          "symbol": "circle"
         },
         "mode": "lines",
         "name": "24",
         "showlegend": true,
         "type": "scattergl",
         "x": [
          "046",
          "047",
          "048",
          "049",
          "050"
         ],
         "xaxis": "x",
         "y": [
          0.5939464468520653,
          0.9031011029789077,
          0.6706555067405953,
          0.2265145151174121,
          0.42117573766810107
         ],
         "yaxis": "y"
        },
        {
         "hovertemplate": "variable=25<br>hours=%{x}<br>value=%{y}<extra></extra>",
         "legendgroup": "25",
         "line": {
          "color": "#19d3f3",
          "dash": "solid"
         },
         "marker": {
          "symbol": "circle"
         },
         "mode": "lines",
         "name": "25",
         "showlegend": true,
         "type": "scattergl",
         "x": [
          "046",
          "047",
          "048",
          "049",
          "050"
         ],
         "xaxis": "x",
         "y": [
          0.6062183847931422,
          0.932186153735545,
          0.6599799640610672,
          0.21503000531291405,
          0.391954936946213
         ],
         "yaxis": "y"
        },
        {
         "hovertemplate": "variable=26<br>hours=%{x}<br>value=%{y}<extra></extra>",
         "legendgroup": "26",
         "line": {
          "color": "#FF6692",
          "dash": "solid"
         },
         "marker": {
          "symbol": "circle"
         },
         "mode": "lines",
         "name": "26",
         "showlegend": true,
         "type": "scattergl",
         "x": [
          "046",
          "047",
          "048",
          "049",
          "050"
         ],
         "xaxis": "x",
         "y": [
          0.591358858858106,
          0.9187846711950064,
          0.687746405811103,
          0.22573176120342608,
          0.3937895533367022
         ],
         "yaxis": "y"
        },
        {
         "hovertemplate": "variable=27<br>hours=%{x}<br>value=%{y}<extra></extra>",
         "legendgroup": "27",
         "line": {
          "color": "#B6E880",
          "dash": "solid"
         },
         "marker": {
          "symbol": "circle"
         },
         "mode": "lines",
         "name": "27",
         "showlegend": true,
         "type": "scattergl",
         "x": [
          "046",
          "047",
          "048",
          "049",
          "050"
         ],
         "xaxis": "x",
         "y": [
          0.5883979077461171,
          0.864102623211155,
          0.6313059022221533,
          0.21493167522141593,
          0.3947191344748441
         ],
         "yaxis": "y"
        },
        {
         "hovertemplate": "variable=28<br>hours=%{x}<br>value=%{y}<extra></extra>",
         "legendgroup": "28",
         "line": {
          "color": "#FF97FF",
          "dash": "solid"
         },
         "marker": {
          "symbol": "circle"
         },
         "mode": "lines",
         "name": "28",
         "showlegend": true,
         "type": "scattergl",
         "x": [
          "046",
          "047",
          "048",
          "049",
          "050"
         ],
         "xaxis": "x",
         "y": [
          0.560121118544136,
          0.8039400516207901,
          0.5292036353837906,
          0.19127953199049483,
          0.3547680427026611
         ],
         "yaxis": "y"
        },
        {
         "hovertemplate": "variable=29<br>hours=%{x}<br>value=%{y}<extra></extra>",
         "legendgroup": "29",
         "line": {
          "color": "#FECB52",
          "dash": "solid"
         },
         "marker": {
          "symbol": "circle"
         },
         "mode": "lines",
         "name": "29",
         "showlegend": true,
         "type": "scattergl",
         "x": [
          "046",
          "047",
          "048",
          "049",
          "050"
         ],
         "xaxis": "x",
         "y": [
          0.5540248500877436,
          0.7357393602577884,
          0.4450448130690059,
          0.15798931843917546,
          0.2878420983808118
         ],
         "yaxis": "y"
        },
        {
         "hovertemplate": "variable=30<br>hours=%{x}<br>value=%{y}<extra></extra>",
         "legendgroup": "30",
         "line": {
          "color": "#636efa",
          "dash": "solid"
         },
         "marker": {
          "symbol": "circle"
         },
         "mode": "lines",
         "name": "30",
         "showlegend": true,
         "type": "scattergl",
         "x": [
          "046",
          "047",
          "048",
          "049",
          "050"
         ],
         "xaxis": "x",
         "y": [
          0.5307993379844866,
          0.7007149565054592,
          0.39505289372261915,
          0.1375005395328891,
          0.22755215143454707
         ],
         "yaxis": "y"
        },
        {
         "hovertemplate": "variable=31<br>hours=%{x}<br>value=%{y}<extra></extra>",
         "legendgroup": "31",
         "line": {
          "color": "#EF553B",
          "dash": "solid"
         },
         "marker": {
          "symbol": "circle"
         },
         "mode": "lines",
         "name": "31",
         "showlegend": true,
         "type": "scattergl",
         "x": [
          "046",
          "047",
          "048",
          "049",
          "050"
         ],
         "xaxis": "x",
         "y": [
          0.5486296240118741,
          0.6871275490870695,
          0.3838262420605396,
          0.12506985728471023,
          0.18808614406533303
         ],
         "yaxis": "y"
        },
        {
         "hovertemplate": "variable=32<br>hours=%{x}<br>value=%{y}<extra></extra>",
         "legendgroup": "32",
         "line": {
          "color": "#00cc96",
          "dash": "solid"
         },
         "marker": {
          "symbol": "circle"
         },
         "mode": "lines",
         "name": "32",
         "showlegend": true,
         "type": "scattergl",
         "x": [
          "046",
          "047",
          "048",
          "049",
          "050"
         ],
         "xaxis": "x",
         "y": [
          0.5238657719761468,
          0.6682124037056651,
          0.3930399216324297,
          0.12393926208816894,
          0.18219515065150527
         ],
         "yaxis": "y"
        },
        {
         "hovertemplate": "variable=33<br>hours=%{x}<br>value=%{y}<extra></extra>",
         "legendgroup": "33",
         "line": {
          "color": "#ab63fa",
          "dash": "solid"
         },
         "marker": {
          "symbol": "circle"
         },
         "mode": "lines",
         "name": "33",
         "showlegend": true,
         "type": "scattergl",
         "x": [
          "046",
          "047",
          "048",
          "049",
          "050"
         ],
         "xaxis": "x",
         "y": [
          0.510661925078676,
          0.6636718665211465,
          0.385130376800376,
          0.12361449747231866,
          0.18331860745212894
         ],
         "yaxis": "y"
        },
        {
         "hovertemplate": "variable=34<br>hours=%{x}<br>value=%{y}<extra></extra>",
         "legendgroup": "34",
         "line": {
          "color": "#FFA15A",
          "dash": "solid"
         },
         "marker": {
          "symbol": "circle"
         },
         "mode": "lines",
         "name": "34",
         "showlegend": true,
         "type": "scattergl",
         "x": [
          "046",
          "047",
          "048",
          "049",
          "050"
         ],
         "xaxis": "x",
         "y": [
          0.49095217966545873,
          0.6540734661531649,
          0.3440041024811193,
          0.12199838843642989,
          0.18035861989247268
         ],
         "yaxis": "y"
        },
        {
         "hovertemplate": "variable=35<br>hours=%{x}<br>value=%{y}<extra></extra>",
         "legendgroup": "35",
         "line": {
          "color": "#19d3f3",
          "dash": "solid"
         },
         "marker": {
          "symbol": "circle"
         },
         "mode": "lines",
         "name": "35",
         "showlegend": true,
         "type": "scattergl",
         "x": [
          "046",
          "047",
          "048",
          "049",
          "050"
         ],
         "xaxis": "x",
         "y": [
          0.49899185209207414,
          0.6054870237000739,
          0.3143184722934425,
          0.11395919589171379,
          0.1654356357580691
         ],
         "yaxis": "y"
        },
        {
         "hovertemplate": "variable=36<br>hours=%{x}<br>value=%{y}<extra></extra>",
         "legendgroup": "36",
         "line": {
          "color": "#FF6692",
          "dash": "solid"
         },
         "marker": {
          "symbol": "circle"
         },
         "mode": "lines",
         "name": "36",
         "showlegend": true,
         "type": "scattergl",
         "x": [
          "046",
          "047",
          "048",
          "049",
          "050"
         ],
         "xaxis": "x",
         "y": [
          0.5247768916526991,
          0.5968053710220717,
          0.29043176173191787,
          0.10395946795464651,
          0.1429686402125
         ],
         "yaxis": "y"
        },
        {
         "hovertemplate": "variable=37<br>hours=%{x}<br>value=%{y}<extra></extra>",
         "legendgroup": "37",
         "line": {
          "color": "#B6E880",
          "dash": "solid"
         },
         "marker": {
          "symbol": "circle"
         },
         "mode": "lines",
         "name": "37",
         "showlegend": true,
         "type": "scattergl",
         "x": [
          "046",
          "047",
          "048",
          "049",
          "050"
         ],
         "xaxis": "x",
         "y": [
          0.5128649550632112,
          0.5927284658053419,
          0.27546683168735064,
          0.10100455474407032,
          0.12403710093796952
         ],
         "yaxis": "y"
        },
        {
         "hovertemplate": "variable=38<br>hours=%{x}<br>value=%{y}<extra></extra>",
         "legendgroup": "38",
         "line": {
          "color": "#FF97FF",
          "dash": "solid"
         },
         "marker": {
          "symbol": "circle"
         },
         "mode": "lines",
         "name": "38",
         "showlegend": true,
         "type": "scattergl",
         "x": [
          "046",
          "047",
          "048",
          "049",
          "050"
         ],
         "xaxis": "x",
         "y": [
          0.5028961392224977,
          0.5753437355433424,
          0.2624082456827524,
          0.08930998592342988,
          0.1037871068340881
         ],
         "yaxis": "y"
        },
        {
         "hovertemplate": "variable=39<br>hours=%{x}<br>value=%{y}<extra></extra>",
         "legendgroup": "39",
         "line": {
          "color": "#FECB52",
          "dash": "solid"
         },
         "marker": {
          "symbol": "circle"
         },
         "mode": "lines",
         "name": "39",
         "showlegend": true,
         "type": "scattergl",
         "x": [
          "046",
          "047",
          "048",
          "049",
          "050"
         ],
         "xaxis": "x",
         "y": [
          0.507135602119659,
          0.5615000750427824,
          0.25280512201781824,
          0.08162996627442791,
          0.09103243198105045
         ],
         "yaxis": "y"
        },
        {
         "hovertemplate": "variable=40<br>hours=%{x}<br>value=%{y}<extra></extra>",
         "legendgroup": "40",
         "line": {
          "color": "#636efa",
          "dash": "solid"
         },
         "marker": {
          "symbol": "circle"
         },
         "mode": "lines",
         "name": "40",
         "showlegend": true,
         "type": "scattergl",
         "x": [
          "046",
          "047",
          "048",
          "049",
          "050"
         ],
         "xaxis": "x",
         "y": [
          0.511481736277321,
          0.5374880339684562,
          0.24351594008632665,
          0.07930342046541872,
          0.08237553388192567
         ],
         "yaxis": "y"
        },
        {
         "hovertemplate": "variable=41<br>hours=%{x}<br>value=%{y}<extra></extra>",
         "legendgroup": "41",
         "line": {
          "color": "#EF553B",
          "dash": "solid"
         },
         "marker": {
          "symbol": "circle"
         },
         "mode": "lines",
         "name": "41",
         "showlegend": true,
         "type": "scattergl",
         "x": [
          "046",
          "047",
          "048",
          "049",
          "050"
         ],
         "xaxis": "x",
         "y": [
          0.5149446517376055,
          0.5415288825329942,
          0.2338355474845258,
          0.08133943741264704,
          0.07838299310565136
         ],
         "yaxis": "y"
        },
        {
         "hovertemplate": "variable=42<br>hours=%{x}<br>value=%{y}<extra></extra>",
         "legendgroup": "42",
         "line": {
          "color": "#00cc96",
          "dash": "solid"
         },
         "marker": {
          "symbol": "circle"
         },
         "mode": "lines",
         "name": "42",
         "showlegend": true,
         "type": "scattergl",
         "x": [
          "046",
          "047",
          "048",
          "049",
          "050"
         ],
         "xaxis": "x",
         "y": [
          0.5069186651998332,
          0.5637927241318913,
          0.22646677086695075,
          0.08033189955652667,
          0.07398283025151071
         ],
         "yaxis": "y"
        },
        {
         "hovertemplate": "variable=43<br>hours=%{x}<br>value=%{y}<extra></extra>",
         "legendgroup": "43",
         "line": {
          "color": "#ab63fa",
          "dash": "solid"
         },
         "marker": {
          "symbol": "circle"
         },
         "mode": "lines",
         "name": "43",
         "showlegend": true,
         "type": "scattergl",
         "x": [
          "046",
          "047",
          "048",
          "049",
          "050"
         ],
         "xaxis": "x",
         "y": [
          0.5271445940771434,
          0.5586934415759116,
          0.218681967081328,
          0.07787307603427063,
          0.06894792785349979
         ],
         "yaxis": "y"
        },
        {
         "hovertemplate": "variable=44<br>hours=%{x}<br>value=%{y}<extra></extra>",
         "legendgroup": "44",
         "line": {
          "color": "#FFA15A",
          "dash": "solid"
         },
         "marker": {
          "symbol": "circle"
         },
         "mode": "lines",
         "name": "44",
         "showlegend": true,
         "type": "scattergl",
         "x": [
          "046",
          "047",
          "048",
          "049",
          "050"
         ],
         "xaxis": "x",
         "y": [
          0.5092128704034873,
          0.5375411924432271,
          0.21081635074748103,
          0.072905464367619,
          0.06326672875377834
         ],
         "yaxis": "y"
        },
        {
         "hovertemplate": "variable=45<br>hours=%{x}<br>value=%{y}<extra></extra>",
         "legendgroup": "45",
         "line": {
          "color": "#19d3f3",
          "dash": "solid"
         },
         "marker": {
          "symbol": "circle"
         },
         "mode": "lines",
         "name": "45",
         "showlegend": true,
         "type": "scattergl",
         "x": [
          "046",
          "047",
          "048",
          "049",
          "050"
         ],
         "xaxis": "x",
         "y": [
          0.49584634031572566,
          0.5485092767145006,
          0.19778183872815894,
          0.06604421020238324,
          0.0556739047593915
         ],
         "yaxis": "y"
        },
        {
         "hovertemplate": "variable=46<br>hours=%{x}<br>value=%{y}<extra></extra>",
         "legendgroup": "46",
         "line": {
          "color": "#FF6692",
          "dash": "solid"
         },
         "marker": {
          "symbol": "circle"
         },
         "mode": "lines",
         "name": "46",
         "showlegend": true,
         "type": "scattergl",
         "x": [
          "046",
          "047",
          "048",
          "049",
          "050"
         ],
         "xaxis": "x",
         "y": [
          0.4999041246798408,
          0.5456958213259573,
          0.19486248128008057,
          0.06674457700766587,
          0.05079132383322836
         ],
         "yaxis": "y"
        },
        {
         "hovertemplate": "variable=47<br>hours=%{x}<br>value=%{y}<extra></extra>",
         "legendgroup": "47",
         "line": {
          "color": "#B6E880",
          "dash": "solid"
         },
         "marker": {
          "symbol": "circle"
         },
         "mode": "lines",
         "name": "47",
         "showlegend": true,
         "type": "scattergl",
         "x": [
          "046",
          "047",
          "048",
          "049",
          "050"
         ],
         "xaxis": "x",
         "y": [
          0.5150736500019649,
          0.5519868189615004,
          0.19280263366688166,
          0.06693536894940608,
          0.04855966188139051
         ],
         "yaxis": "y"
        },
        {
         "hovertemplate": "variable=48<br>hours=%{x}<br>value=%{y}<extra></extra>",
         "legendgroup": "48",
         "line": {
          "color": "#FF97FF",
          "dash": "solid"
         },
         "marker": {
          "symbol": "circle"
         },
         "mode": "lines",
         "name": "48",
         "showlegend": true,
         "type": "scattergl",
         "x": [
          "046",
          "047",
          "048",
          "049",
          "050"
         ],
         "xaxis": "x",
         "y": [
          0.875519002156439,
          1.0589109210243064,
          0.6432355729925254,
          0.6225093776585988,
          0.18481113282775433
         ],
         "yaxis": "y"
        },
        {
         "hovertemplate": "variable=49<br>hours=%{x}<br>value=%{y}<extra></extra>",
         "legendgroup": "49",
         "line": {
          "color": "#FECB52",
          "dash": "solid"
         },
         "marker": {
          "symbol": "circle"
         },
         "mode": "lines",
         "name": "49",
         "showlegend": true,
         "type": "scattergl",
         "x": [
          "046",
          "047",
          "048",
          "049",
          "050"
         ],
         "xaxis": "x",
         "y": [
          1.4307610172711713,
          1.783462318465221,
          1.2027775625396382,
          1.4207886067174325,
          0.38273597405585874
         ],
         "yaxis": "y"
        },
        {
         "hovertemplate": "variable=50<br>hours=%{x}<br>value=%{y}<extra></extra>",
         "legendgroup": "50",
         "line": {
          "color": "#636efa",
          "dash": "solid"
         },
         "marker": {
          "symbol": "circle"
         },
         "mode": "lines",
         "name": "50",
         "showlegend": true,
         "type": "scattergl",
         "x": [
          "046",
          "047",
          "048",
          "049",
          "050"
         ],
         "xaxis": "x",
         "y": [
          0.6243786693050778,
          0.6935194281157683,
          0.316015617574175,
          0.25765552012686516,
          0.09198087118606592
         ],
         "yaxis": "y"
        },
        {
         "hovertemplate": "variable=51<br>hours=%{x}<br>value=%{y}<extra></extra>",
         "legendgroup": "51",
         "line": {
          "color": "#EF553B",
          "dash": "solid"
         },
         "marker": {
          "symbol": "circle"
         },
         "mode": "lines",
         "name": "51",
         "showlegend": true,
         "type": "scattergl",
         "x": [
          "046",
          "047",
          "048",
          "049",
          "050"
         ],
         "xaxis": "x",
         "y": [
          0.48170662762029853,
          0.5076760321868644,
          0.17898039878032396,
          0.05947689442034992,
          0.04256159591765715
         ],
         "yaxis": "y"
        },
        {
         "hovertemplate": "variable=52<br>hours=%{x}<br>value=%{y}<extra></extra>",
         "legendgroup": "52",
         "line": {
          "color": "#00cc96",
          "dash": "solid"
         },
         "marker": {
          "symbol": "circle"
         },
         "mode": "lines",
         "name": "52",
         "showlegend": true,
         "type": "scattergl",
         "x": [
          "046",
          "047",
          "048",
          "049",
          "050"
         ],
         "xaxis": "x",
         "y": [
          0.48766633914102164,
          0.5150795573841866,
          0.1727570016136119,
          0.05632834488065786,
          0.041376734059925174
         ],
         "yaxis": "y"
        },
        {
         "hovertemplate": "variable=53<br>hours=%{x}<br>value=%{y}<extra></extra>",
         "legendgroup": "53",
         "line": {
          "color": "#ab63fa",
          "dash": "solid"
         },
         "marker": {
          "symbol": "circle"
         },
         "mode": "lines",
         "name": "53",
         "showlegend": true,
         "type": "scattergl",
         "x": [
          "046",
          "047",
          "048",
          "049",
          "050"
         ],
         "xaxis": "x",
         "y": [
          0.4795845365168902,
          0.5200124645333538,
          0.1748061853528579,
          0.055462259135997484,
          0.0397934680649361
         ],
         "yaxis": "y"
        },
        {
         "hovertemplate": "variable=54<br>hours=%{x}<br>value=%{y}<extra></extra>",
         "legendgroup": "54",
         "line": {
          "color": "#FFA15A",
          "dash": "solid"
         },
         "marker": {
          "symbol": "circle"
         },
         "mode": "lines",
         "name": "54",
         "showlegend": true,
         "type": "scattergl",
         "x": [
          "046",
          "047",
          "048",
          "049",
          "050"
         ],
         "xaxis": "x",
         "y": [
          0.4723023319219611,
          0.513039136612902,
          0.17010703425231863,
          0.0583750243858724,
          0.03853821131751903
         ],
         "yaxis": "y"
        },
        {
         "hovertemplate": "variable=55<br>hours=%{x}<br>value=%{y}<extra></extra>",
         "legendgroup": "55",
         "line": {
          "color": "#19d3f3",
          "dash": "solid"
         },
         "marker": {
          "symbol": "circle"
         },
         "mode": "lines",
         "name": "55",
         "showlegend": true,
         "type": "scattergl",
         "x": [
          "046",
          "047",
          "048",
          "049",
          "050"
         ],
         "xaxis": "x",
         "y": [
          0.4547243594379177,
          0.48677075180063895,
          0.16859049856088182,
          0.05605016830841261,
          0.037144737140093975
         ],
         "yaxis": "y"
        },
        {
         "hovertemplate": "variable=56<br>hours=%{x}<br>value=%{y}<extra></extra>",
         "legendgroup": "56",
         "line": {
          "color": "#FF6692",
          "dash": "solid"
         },
         "marker": {
          "symbol": "circle"
         },
         "mode": "lines",
         "name": "56",
         "showlegend": true,
         "type": "scattergl",
         "x": [
          "046",
          "047",
          "048",
          "049",
          "050"
         ],
         "xaxis": "x",
         "y": [
          0.4421620184690269,
          0.4732982579514312,
          0.16829375411075168,
          0.053975646588401725,
          0.037250219266700225
         ],
         "yaxis": "y"
        },
        {
         "hovertemplate": "variable=57<br>hours=%{x}<br>value=%{y}<extra></extra>",
         "legendgroup": "57",
         "line": {
          "color": "#B6E880",
          "dash": "solid"
         },
         "marker": {
          "symbol": "circle"
         },
         "mode": "lines",
         "name": "57",
         "showlegend": true,
         "type": "scattergl",
         "x": [
          "046",
          "047",
          "048",
          "049",
          "050"
         ],
         "xaxis": "x",
         "y": [
          0.4317650104683254,
          0.4862928769338327,
          0.1637932415083392,
          0.05258034454731674,
          0.03706513301533319
         ],
         "yaxis": "y"
        },
        {
         "hovertemplate": "variable=58<br>hours=%{x}<br>value=%{y}<extra></extra>",
         "legendgroup": "58",
         "line": {
          "color": "#FF97FF",
          "dash": "solid"
         },
         "marker": {
          "symbol": "circle"
         },
         "mode": "lines",
         "name": "58",
         "showlegend": true,
         "type": "scattergl",
         "x": [
          "046",
          "047",
          "048",
          "049",
          "050"
         ],
         "xaxis": "x",
         "y": [
          0.4316414088437188,
          0.49200018801148354,
          0.15979066763780317,
          0.0535008409245808,
          0.03671139279066624
         ],
         "yaxis": "y"
        },
        {
         "hovertemplate": "variable=59<br>hours=%{x}<br>value=%{y}<extra></extra>",
         "legendgroup": "59",
         "line": {
          "color": "#FECB52",
          "dash": "solid"
         },
         "marker": {
          "symbol": "circle"
         },
         "mode": "lines",
         "name": "59",
         "showlegend": true,
         "type": "scattergl",
         "x": [
          "046",
          "047",
          "048",
          "049",
          "050"
         ],
         "xaxis": "x",
         "y": [
          0.4413807501350378,
          0.4771348049469894,
          0.15735846857568306,
          0.05406560513458551,
          0.03621115556143373
         ],
         "yaxis": "y"
        },
        {
         "hovertemplate": "variable=60<br>hours=%{x}<br>value=%{y}<extra></extra>",
         "legendgroup": "60",
         "line": {
          "color": "#636efa",
          "dash": "solid"
         },
         "marker": {
          "symbol": "circle"
         },
         "mode": "lines",
         "name": "60",
         "showlegend": true,
         "type": "scattergl",
         "x": [
          "046",
          "047",
          "048",
          "049",
          "050"
         ],
         "xaxis": "x",
         "y": [
          0.41307121512128503,
          0.4727459192605937,
          0.1575464965039075,
          0.0531257544420075,
          0.035613622136693564
         ],
         "yaxis": "y"
        },
        {
         "hovertemplate": "variable=61<br>hours=%{x}<br>value=%{y}<extra></extra>",
         "legendgroup": "61",
         "line": {
          "color": "#EF553B",
          "dash": "solid"
         },
         "marker": {
          "symbol": "circle"
         },
         "mode": "lines",
         "name": "61",
         "showlegend": true,
         "type": "scattergl",
         "x": [
          "046",
          "047",
          "048",
          "049",
          "050"
         ],
         "xaxis": "x",
         "y": [
          0.39964728471672123,
          0.44839638227011575,
          0.1585047744335605,
          0.05230984364368591,
          0.03478374800845768
         ],
         "yaxis": "y"
        },
        {
         "hovertemplate": "variable=62<br>hours=%{x}<br>value=%{y}<extra></extra>",
         "legendgroup": "62",
         "line": {
          "color": "#00cc96",
          "dash": "solid"
         },
         "marker": {
          "symbol": "circle"
         },
         "mode": "lines",
         "name": "62",
         "showlegend": true,
         "type": "scattergl",
         "x": [
          "046",
          "047",
          "048",
          "049",
          "050"
         ],
         "xaxis": "x",
         "y": [
          0.4182800205424675,
          0.4420078944851286,
          0.1570215869819753,
          0.050269698959272295,
          0.034114296509314634
         ],
         "yaxis": "y"
        },
        {
         "hovertemplate": "variable=63<br>hours=%{x}<br>value=%{y}<extra></extra>",
         "legendgroup": "63",
         "line": {
          "color": "#ab63fa",
          "dash": "solid"
         },
         "marker": {
          "symbol": "circle"
         },
         "mode": "lines",
         "name": "63",
         "showlegend": true,
         "type": "scattergl",
         "x": [
          "046",
          "047",
          "048",
          "049",
          "050"
         ],
         "xaxis": "x",
         "y": [
          0.39202731140242936,
          0.4450969683029002,
          0.15918134612426346,
          0.05052648405024469,
          0.03419638484524978
         ],
         "yaxis": "y"
        },
        {
         "hovertemplate": "variable=64<br>hours=%{x}<br>value=%{y}<extra></extra>",
         "legendgroup": "64",
         "line": {
          "color": "#FFA15A",
          "dash": "solid"
         },
         "marker": {
          "symbol": "circle"
         },
         "mode": "lines",
         "name": "64",
         "showlegend": true,
         "type": "scattergl",
         "x": [
          "046",
          "047",
          "048",
          "049",
          "050"
         ],
         "xaxis": "x",
         "y": [
          0.38109148868380005,
          0.44698569973546826,
          0.15474998724757622,
          0.050619337355149466,
          0.03337608381636689
         ],
         "yaxis": "y"
        },
        {
         "hovertemplate": "variable=65<br>hours=%{x}<br>value=%{y}<extra></extra>",
         "legendgroup": "65",
         "line": {
          "color": "#19d3f3",
          "dash": "solid"
         },
         "marker": {
          "symbol": "circle"
         },
         "mode": "lines",
         "name": "65",
         "showlegend": true,
         "type": "scattergl",
         "x": [
          "046",
          "047",
          "048",
          "049",
          "050"
         ],
         "xaxis": "x",
         "y": [
          0.3736201962049437,
          0.4301965698448805,
          0.15393060245870482,
          0.05008325518547912,
          0.03319462966917171
         ],
         "yaxis": "y"
        },
        {
         "hovertemplate": "variable=66<br>hours=%{x}<br>value=%{y}<extra></extra>",
         "legendgroup": "66",
         "line": {
          "color": "#FF6692",
          "dash": "solid"
         },
         "marker": {
          "symbol": "circle"
         },
         "mode": "lines",
         "name": "66",
         "showlegend": true,
         "type": "scattergl",
         "x": [
          "046",
          "047",
          "048",
          "049",
          "050"
         ],
         "xaxis": "x",
         "y": [
          0.3637151111293357,
          0.41433864124047165,
          0.1533544394329973,
          0.04994363916823216,
          0.03349177333408003
         ],
         "yaxis": "y"
        },
        {
         "hovertemplate": "variable=67<br>hours=%{x}<br>value=%{y}<extra></extra>",
         "legendgroup": "67",
         "line": {
          "color": "#B6E880",
          "dash": "solid"
         },
         "marker": {
          "symbol": "circle"
         },
         "mode": "lines",
         "name": "67",
         "showlegend": true,
         "type": "scattergl",
         "x": [
          "046",
          "047",
          "048",
          "049",
          "050"
         ],
         "xaxis": "x",
         "y": [
          0.3493226680425825,
          0.41356278315836514,
          0.15075660210676106,
          0.050118066217936394,
          0.03276776546732098
         ],
         "yaxis": "y"
        },
        {
         "hovertemplate": "variable=68<br>hours=%{x}<br>value=%{y}<extra></extra>",
         "legendgroup": "68",
         "line": {
          "color": "#FF97FF",
          "dash": "solid"
         },
         "marker": {
          "symbol": "circle"
         },
         "mode": "lines",
         "name": "68",
         "showlegend": true,
         "type": "scattergl",
         "x": [
          "046",
          "047",
          "048",
          "049",
          "050"
         ],
         "xaxis": "x",
         "y": [
          0.34908697518824094,
          0.4144872007325357,
          0.14809271640497418,
          0.05150182538627737,
          0.03165006139961261
         ],
         "yaxis": "y"
        },
        {
         "hovertemplate": "variable=69<br>hours=%{x}<br>value=%{y}<extra></extra>",
         "legendgroup": "69",
         "line": {
          "color": "#FECB52",
          "dash": "solid"
         },
         "marker": {
          "symbol": "circle"
         },
         "mode": "lines",
         "name": "69",
         "showlegend": true,
         "type": "scattergl",
         "x": [
          "046",
          "047",
          "048",
          "049",
          "050"
         ],
         "xaxis": "x",
         "y": [
          0.3764124747720929,
          0.4241293656861462,
          0.1444807264452952,
          0.049504774112320224,
          0.03206758833852078
         ],
         "yaxis": "y"
        },
        {
         "hovertemplate": "variable=70<br>hours=%{x}<br>value=%{y}<extra></extra>",
         "legendgroup": "70",
         "line": {
          "color": "#636efa",
          "dash": "solid"
         },
         "marker": {
          "symbol": "circle"
         },
         "mode": "lines",
         "name": "70",
         "showlegend": true,
         "type": "scattergl",
         "x": [
          "046",
          "047",
          "048",
          "049",
          "050"
         ],
         "xaxis": "x",
         "y": [
          0.365714188029437,
          0.4404850501010072,
          0.15110482463092795,
          0.04988550689236316,
          0.03672107533523916
         ],
         "yaxis": "y"
        },
        {
         "hovertemplate": "variable=71<br>hours=%{x}<br>value=%{y}<extra></extra>",
         "legendgroup": "71",
         "line": {
          "color": "#EF553B",
          "dash": "solid"
         },
         "marker": {
          "symbol": "circle"
         },
         "mode": "lines",
         "name": "71",
         "showlegend": true,
         "type": "scattergl",
         "x": [
          "046",
          "047",
          "048",
          "049",
          "050"
         ],
         "xaxis": "x",
         "y": [
          0.3577575700194652,
          0.41732026986398535,
          0.14480503413705625,
          0.04898080793084252,
          0.03482572874416313
         ],
         "yaxis": "y"
        },
        {
         "hovertemplate": "variable=72<br>hours=%{x}<br>value=%{y}<extra></extra>",
         "legendgroup": "72",
         "line": {
          "color": "#00cc96",
          "dash": "solid"
         },
         "marker": {
          "symbol": "circle"
         },
         "mode": "lines",
         "name": "72",
         "showlegend": true,
         "type": "scattergl",
         "x": [
          "046",
          "047",
          "048",
          "049",
          "050"
         ],
         "xaxis": "x",
         "y": [
          0.333078666822826,
          0.3960403066621376,
          0.13697129964121557,
          0.04647399899866486,
          0.031316995292567956
         ],
         "yaxis": "y"
        },
        {
         "hovertemplate": "variable=73<br>hours=%{x}<br>value=%{y}<extra></extra>",
         "legendgroup": "73",
         "line": {
          "color": "#ab63fa",
          "dash": "solid"
         },
         "marker": {
          "symbol": "circle"
         },
         "mode": "lines",
         "name": "73",
         "showlegend": true,
         "type": "scattergl",
         "x": [
          "046",
          "047",
          "048",
          "049",
          "050"
         ],
         "xaxis": "x",
         "y": [
          0.32931091691309017,
          0.387807210669463,
          0.1349910168373086,
          0.04599488503004336,
          0.030633488134261345
         ],
         "yaxis": "y"
        },
        {
         "hovertemplate": "variable=74<br>hours=%{x}<br>value=%{y}<extra></extra>",
         "legendgroup": "74",
         "line": {
          "color": "#FFA15A",
          "dash": "solid"
         },
         "marker": {
          "symbol": "circle"
         },
         "mode": "lines",
         "name": "74",
         "showlegend": true,
         "type": "scattergl",
         "x": [
          "046",
          "047",
          "048",
          "049",
          "050"
         ],
         "xaxis": "x",
         "y": [
          0.33690258308362675,
          0.38714716096655966,
          0.1341965088742822,
          0.045391906177421386,
          0.03021416602954018
         ],
         "yaxis": "y"
        },
        {
         "hovertemplate": "variable=75<br>hours=%{x}<br>value=%{y}<extra></extra>",
         "legendgroup": "75",
         "line": {
          "color": "#19d3f3",
          "dash": "solid"
         },
         "marker": {
          "symbol": "circle"
         },
         "mode": "lines",
         "name": "75",
         "showlegend": true,
         "type": "scattergl",
         "x": [
          "046",
          "047",
          "048",
          "049",
          "050"
         ],
         "xaxis": "x",
         "y": [
          0.33774216847376315,
          0.3926069933070922,
          0.13298288097900848,
          0.04464787646812253,
          0.030476051099131173
         ],
         "yaxis": "y"
        },
        {
         "hovertemplate": "variable=76<br>hours=%{x}<br>value=%{y}<extra></extra>",
         "legendgroup": "76",
         "line": {
          "color": "#FF6692",
          "dash": "solid"
         },
         "marker": {
          "symbol": "circle"
         },
         "mode": "lines",
         "name": "76",
         "showlegend": true,
         "type": "scattergl",
         "x": [
          "046",
          "047",
          "048",
          "049",
          "050"
         ],
         "xaxis": "x",
         "y": [
          0.30712230822725706,
          0.3843488064560016,
          0.13208152193654868,
          0.043221678431971076,
          0.0304828820983345
         ],
         "yaxis": "y"
        },
        {
         "hovertemplate": "variable=77<br>hours=%{x}<br>value=%{y}<extra></extra>",
         "legendgroup": "77",
         "line": {
          "color": "#B6E880",
          "dash": "solid"
         },
         "marker": {
          "symbol": "circle"
         },
         "mode": "lines",
         "name": "77",
         "showlegend": true,
         "type": "scattergl",
         "x": [
          "046",
          "047",
          "048",
          "049",
          "050"
         ],
         "xaxis": "x",
         "y": [
          0.28860607807660726,
          0.3816336492344512,
          0.12671966530724965,
          0.04346325660546962,
          0.030332948210286186
         ],
         "yaxis": "y"
        },
        {
         "hovertemplate": "variable=78<br>hours=%{x}<br>value=%{y}<extra></extra>",
         "legendgroup": "78",
         "line": {
          "color": "#FF97FF",
          "dash": "solid"
         },
         "marker": {
          "symbol": "circle"
         },
         "mode": "lines",
         "name": "78",
         "showlegend": true,
         "type": "scattergl",
         "x": [
          "046",
          "047",
          "048",
          "049",
          "050"
         ],
         "xaxis": "x",
         "y": [
          0.28578117431153083,
          0.3690439924729982,
          0.12432001783187356,
          0.043195461635925525,
          0.029665730982037355
         ],
         "yaxis": "y"
        },
        {
         "hovertemplate": "variable=79<br>hours=%{x}<br>value=%{y}<extra></extra>",
         "legendgroup": "79",
         "line": {
          "color": "#FECB52",
          "dash": "solid"
         },
         "marker": {
          "symbol": "circle"
         },
         "mode": "lines",
         "name": "79",
         "showlegend": true,
         "type": "scattergl",
         "x": [
          "046",
          "047",
          "048",
          "049",
          "050"
         ],
         "xaxis": "x",
         "y": [
          0.29799334530299554,
          0.3712217115649167,
          0.12477727114311406,
          0.04270620217227403,
          0.028631515067820412
         ],
         "yaxis": "y"
        },
        {
         "hovertemplate": "variable=80<br>hours=%{x}<br>value=%{y}<extra></extra>",
         "legendgroup": "80",
         "line": {
          "color": "#636efa",
          "dash": "solid"
         },
         "marker": {
          "symbol": "circle"
         },
         "mode": "lines",
         "name": "80",
         "showlegend": true,
         "type": "scattergl",
         "x": [
          "046",
          "047",
          "048",
          "049",
          "050"
         ],
         "xaxis": "x",
         "y": [
          0.29655996867510415,
          0.36787228674475503,
          0.12416942499417619,
          0.04164548994786784,
          0.02804450277569115
         ],
         "yaxis": "y"
        },
        {
         "hovertemplate": "variable=81<br>hours=%{x}<br>value=%{y}<extra></extra>",
         "legendgroup": "81",
         "line": {
          "color": "#EF553B",
          "dash": "solid"
         },
         "marker": {
          "symbol": "circle"
         },
         "mode": "lines",
         "name": "81",
         "showlegend": true,
         "type": "scattergl",
         "x": [
          "046",
          "047",
          "048",
          "049",
          "050"
         ],
         "xaxis": "x",
         "y": [
          0.2919213168148419,
          0.36541612264806883,
          0.12041683772356485,
          0.040343763158101495,
          0.02745319685980709
         ],
         "yaxis": "y"
        },
        {
         "hovertemplate": "variable=82<br>hours=%{x}<br>value=%{y}<extra></extra>",
         "legendgroup": "82",
         "line": {
          "color": "#00cc96",
          "dash": "solid"
         },
         "marker": {
          "symbol": "circle"
         },
         "mode": "lines",
         "name": "82",
         "showlegend": true,
         "type": "scattergl",
         "x": [
          "046",
          "047",
          "048",
          "049",
          "050"
         ],
         "xaxis": "x",
         "y": [
          0.27323280968581015,
          0.3525759133307853,
          0.11859606969211689,
          0.04042108429062012,
          0.027904047474134226
         ],
         "yaxis": "y"
        },
        {
         "hovertemplate": "variable=83<br>hours=%{x}<br>value=%{y}<extra></extra>",
         "legendgroup": "83",
         "line": {
          "color": "#ab63fa",
          "dash": "solid"
         },
         "marker": {
          "symbol": "circle"
         },
         "mode": "lines",
         "name": "83",
         "showlegend": true,
         "type": "scattergl",
         "x": [
          "046",
          "047",
          "048",
          "049",
          "050"
         ],
         "xaxis": "x",
         "y": [
          0.2596218979358021,
          0.3315221288784399,
          0.1123675316024921,
          0.04133033437406782,
          0.027115810628575633
         ],
         "yaxis": "y"
        },
        {
         "hovertemplate": "variable=84<br>hours=%{x}<br>value=%{y}<extra></extra>",
         "legendgroup": "84",
         "line": {
          "color": "#FFA15A",
          "dash": "solid"
         },
         "marker": {
          "symbol": "circle"
         },
         "mode": "lines",
         "name": "84",
         "showlegend": true,
         "type": "scattergl",
         "x": [
          "046",
          "047",
          "048",
          "049",
          "050"
         ],
         "xaxis": "x",
         "y": [
          0.2691431151118782,
          0.3334460465787861,
          0.10979263058721982,
          0.03946611589458276,
          0.026871203942667767
         ],
         "yaxis": "y"
        },
        {
         "hovertemplate": "variable=85<br>hours=%{x}<br>value=%{y}<extra></extra>",
         "legendgroup": "85",
         "line": {
          "color": "#19d3f3",
          "dash": "solid"
         },
         "marker": {
          "symbol": "circle"
         },
         "mode": "lines",
         "name": "85",
         "showlegend": true,
         "type": "scattergl",
         "x": [
          "046",
          "047",
          "048",
          "049",
          "050"
         ],
         "xaxis": "x",
         "y": [
          0.27888720058642547,
          0.3402683874479082,
          0.11162721174092885,
          0.037995478577106195,
          0.026363301383515763
         ],
         "yaxis": "y"
        },
        {
         "hovertemplate": "variable=86<br>hours=%{x}<br>value=%{y}<extra></extra>",
         "legendgroup": "86",
         "line": {
          "color": "#FF6692",
          "dash": "solid"
         },
         "marker": {
          "symbol": "circle"
         },
         "mode": "lines",
         "name": "86",
         "showlegend": true,
         "type": "scattergl",
         "x": [
          "046",
          "047",
          "048",
          "049",
          "050"
         ],
         "xaxis": "x",
         "y": [
          0.2657872627812733,
          0.3348872550361113,
          0.11067589200081693,
          0.03970459998016548,
          0.02598739450010615
         ],
         "yaxis": "y"
        },
        {
         "hovertemplate": "variable=87<br>hours=%{x}<br>value=%{y}<extra></extra>",
         "legendgroup": "87",
         "line": {
          "color": "#B6E880",
          "dash": "solid"
         },
         "marker": {
          "symbol": "circle"
         },
         "mode": "lines",
         "name": "87",
         "showlegend": true,
         "type": "scattergl",
         "x": [
          "046",
          "047",
          "048",
          "049",
          "050"
         ],
         "xaxis": "x",
         "y": [
          0.25977297408076994,
          0.31825724368898145,
          0.10894973846816972,
          0.038173618894388,
          0.025457615589067915
         ],
         "yaxis": "y"
        },
        {
         "hovertemplate": "variable=88<br>hours=%{x}<br>value=%{y}<extra></extra>",
         "legendgroup": "88",
         "line": {
          "color": "#FF97FF",
          "dash": "solid"
         },
         "marker": {
          "symbol": "circle"
         },
         "mode": "lines",
         "name": "88",
         "showlegend": true,
         "type": "scattergl",
         "x": [
          "046",
          "047",
          "048",
          "049",
          "050"
         ],
         "xaxis": "x",
         "y": [
          0.2569171792850228,
          0.3102989673651359,
          0.10451220142113263,
          0.03717098971504929,
          0.025307029616354414
         ],
         "yaxis": "y"
        },
        {
         "hovertemplate": "variable=89<br>hours=%{x}<br>value=%{y}<extra></extra>",
         "legendgroup": "89",
         "line": {
          "color": "#FECB52",
          "dash": "solid"
         },
         "marker": {
          "symbol": "circle"
         },
         "mode": "lines",
         "name": "89",
         "showlegend": true,
         "type": "scattergl",
         "x": [
          "046",
          "047",
          "048",
          "049",
          "050"
         ],
         "xaxis": "x",
         "y": [
          0.23038914434118127,
          0.3054715300291432,
          0.10257574288449312,
          0.03700696911303007,
          0.0249668566382889
         ],
         "yaxis": "y"
        },
        {
         "hovertemplate": "variable=90<br>hours=%{x}<br>value=%{y}<extra></extra>",
         "legendgroup": "90",
         "line": {
          "color": "#636efa",
          "dash": "solid"
         },
         "marker": {
          "symbol": "circle"
         },
         "mode": "lines",
         "name": "90",
         "showlegend": true,
         "type": "scattergl",
         "x": [
          "046",
          "047",
          "048",
          "049",
          "050"
         ],
         "xaxis": "x",
         "y": [
          0.2225443269891087,
          0.3135987461116348,
          0.10324653495242793,
          0.03662524237067198,
          0.02421483159899383
         ],
         "yaxis": "y"
        },
        {
         "hovertemplate": "variable=91<br>hours=%{x}<br>value=%{y}<extra></extra>",
         "legendgroup": "91",
         "line": {
          "color": "#EF553B",
          "dash": "solid"
         },
         "marker": {
          "symbol": "circle"
         },
         "mode": "lines",
         "name": "91",
         "showlegend": true,
         "type": "scattergl",
         "x": [
          "046",
          "047",
          "048",
          "049",
          "050"
         ],
         "xaxis": "x",
         "y": [
          0.22394350024741594,
          0.30586540394932327,
          0.09993769382489587,
          0.03528412786317427,
          0.024397345937175866
         ],
         "yaxis": "y"
        },
        {
         "hovertemplate": "variable=92<br>hours=%{x}<br>value=%{y}<extra></extra>",
         "legendgroup": "92",
         "line": {
          "color": "#00cc96",
          "dash": "solid"
         },
         "marker": {
          "symbol": "circle"
         },
         "mode": "lines",
         "name": "92",
         "showlegend": true,
         "type": "scattergl",
         "x": [
          "046",
          "047",
          "048",
          "049",
          "050"
         ],
         "xaxis": "x",
         "y": [
          0.21873780475684643,
          0.29805850872579265,
          0.09551600951546782,
          0.033531218752097504,
          0.024592261571445215
         ],
         "yaxis": "y"
        },
        {
         "hovertemplate": "variable=93<br>hours=%{x}<br>value=%{y}<extra></extra>",
         "legendgroup": "93",
         "line": {
          "color": "#ab63fa",
          "dash": "solid"
         },
         "marker": {
          "symbol": "circle"
         },
         "mode": "lines",
         "name": "93",
         "showlegend": true,
         "type": "scattergl",
         "x": [
          "046",
          "047",
          "048",
          "049",
          "050"
         ],
         "xaxis": "x",
         "y": [
          0.20638081897444258,
          0.28640939099179774,
          0.09499104597762842,
          0.03368139000067352,
          0.024706517835687822
         ],
         "yaxis": "y"
        },
        {
         "hovertemplate": "variable=94<br>hours=%{x}<br>value=%{y}<extra></extra>",
         "legendgroup": "94",
         "line": {
          "color": "#FFA15A",
          "dash": "solid"
         },
         "marker": {
          "symbol": "circle"
         },
         "mode": "lines",
         "name": "94",
         "showlegend": true,
         "type": "scattergl",
         "x": [
          "046",
          "047",
          "048",
          "049",
          "050"
         ],
         "xaxis": "x",
         "y": [
          0.20844158136210847,
          0.2750931864304779,
          0.0921564206447204,
          0.032599178084692954,
          0.02385263471454433
         ],
         "yaxis": "y"
        },
        {
         "hovertemplate": "variable=95<br>hours=%{x}<br>value=%{y}<extra></extra>",
         "legendgroup": "95",
         "line": {
          "color": "#19d3f3",
          "dash": "solid"
         },
         "marker": {
          "symbol": "circle"
         },
         "mode": "lines",
         "name": "95",
         "showlegend": true,
         "type": "scattergl",
         "x": [
          "046",
          "047",
          "048",
          "049",
          "050"
         ],
         "xaxis": "x",
         "y": [
          0.20644258491596312,
          0.27660028184992913,
          0.0924125684398799,
          0.03217389707960485,
          0.023005320329745865
         ],
         "yaxis": "y"
        },
        {
         "hovertemplate": "variable=96<br>hours=%{x}<br>value=%{y}<extra></extra>",
         "legendgroup": "96",
         "line": {
          "color": "#FF6692",
          "dash": "solid"
         },
         "marker": {
          "symbol": "circle"
         },
         "mode": "lines",
         "name": "96",
         "showlegend": true,
         "type": "scattergl",
         "x": [
          "046",
          "047",
          "048",
          "049",
          "050"
         ],
         "xaxis": "x",
         "y": [
          0.20615259054323312,
          0.27917285199991865,
          0.09426010307838104,
          0.032819650247678626,
          0.025039277225796155
         ],
         "yaxis": "y"
        },
        {
         "hovertemplate": "variable=97<br>hours=%{x}<br>value=%{y}<extra></extra>",
         "legendgroup": "97",
         "line": {
          "color": "#B6E880",
          "dash": "solid"
         },
         "marker": {
          "symbol": "circle"
         },
         "mode": "lines",
         "name": "97",
         "showlegend": true,
         "type": "scattergl",
         "x": [
          "046",
          "047",
          "048",
          "049",
          "050"
         ],
         "xaxis": "x",
         "y": [
          0.24072547851619364,
          0.3573988931307126,
          0.28871794882882623,
          0.09390246007810146,
          0.15753945896394125
         ],
         "yaxis": "y"
        },
        {
         "hovertemplate": "variable=98<br>hours=%{x}<br>value=%{y}<extra></extra>",
         "legendgroup": "98",
         "line": {
          "color": "#FF97FF",
          "dash": "solid"
         },
         "marker": {
          "symbol": "circle"
         },
         "mode": "lines",
         "name": "98",
         "showlegend": true,
         "type": "scattergl",
         "x": [
          "046",
          "047",
          "048",
          "049",
          "050"
         ],
         "xaxis": "x",
         "y": [
          0.2637936344003918,
          0.4016890586719316,
          0.343466591245472,
          0.12524368863996613,
          0.22957062494890412
         ],
         "yaxis": "y"
        },
        {
         "hovertemplate": "variable=99<br>hours=%{x}<br>value=%{y}<extra></extra>",
         "legendgroup": "99",
         "line": {
          "color": "#FECB52",
          "dash": "solid"
         },
         "marker": {
          "symbol": "circle"
         },
         "mode": "lines",
         "name": "99",
         "showlegend": true,
         "type": "scattergl",
         "x": [
          "046",
          "047",
          "048",
          "049",
          "050"
         ],
         "xaxis": "x",
         "y": [
          0.1969524526246007,
          0.26663422555159516,
          0.10233523610446939,
          0.03789982112160409,
          0.03914821964057358
         ],
         "yaxis": "y"
        },
        {
         "hovertemplate": "variable=100<br>hours=%{x}<br>value=%{y}<extra></extra>",
         "legendgroup": "100",
         "line": {
          "color": "#636efa",
          "dash": "solid"
         },
         "marker": {
          "symbol": "circle"
         },
         "mode": "lines",
         "name": "100",
         "showlegend": true,
         "type": "scattergl",
         "x": [
          "046",
          "047",
          "048",
          "049",
          "050"
         ],
         "xaxis": "x",
         "y": [
          0.1822815307414686,
          0.25010696981563946,
          0.08294258012537856,
          0.029857518647069214,
          0.022086676006918597
         ],
         "yaxis": "y"
        },
        {
         "hovertemplate": "variable=101<br>hours=%{x}<br>value=%{y}<extra></extra>",
         "legendgroup": "101",
         "line": {
          "color": "#EF553B",
          "dash": "solid"
         },
         "marker": {
          "symbol": "circle"
         },
         "mode": "lines",
         "name": "101",
         "showlegend": true,
         "type": "scattergl",
         "x": [
          "046",
          "047",
          "048",
          "049",
          "050"
         ],
         "xaxis": "x",
         "y": [
          0.18151788871988958,
          0.24377889703881012,
          0.0802966774262251,
          0.029451911680575205,
          0.021411853661888754
         ],
         "yaxis": "y"
        },
        {
         "hovertemplate": "variable=102<br>hours=%{x}<br>value=%{y}<extra></extra>",
         "legendgroup": "102",
         "line": {
          "color": "#00cc96",
          "dash": "solid"
         },
         "marker": {
          "symbol": "circle"
         },
         "mode": "lines",
         "name": "102",
         "showlegend": true,
         "type": "scattergl",
         "x": [
          "046",
          "047",
          "048",
          "049",
          "050"
         ],
         "xaxis": "x",
         "y": [
          0.1817537017368962,
          0.24086923432364185,
          0.0816494475339255,
          0.02865032193725536,
          0.020911235463521655
         ],
         "yaxis": "y"
        },
        {
         "hovertemplate": "variable=103<br>hours=%{x}<br>value=%{y}<extra></extra>",
         "legendgroup": "103",
         "line": {
          "color": "#ab63fa",
          "dash": "solid"
         },
         "marker": {
          "symbol": "circle"
         },
         "mode": "lines",
         "name": "103",
         "showlegend": true,
         "type": "scattergl",
         "x": [
          "046",
          "047",
          "048",
          "049",
          "050"
         ],
         "xaxis": "x",
         "y": [
          0.16988246657426398,
          0.24205600954982273,
          0.07879884490819915,
          0.027650082682481,
          0.020267405889253964
         ],
         "yaxis": "y"
        },
        {
         "hovertemplate": "variable=104<br>hours=%{x}<br>value=%{y}<extra></extra>",
         "legendgroup": "104",
         "line": {
          "color": "#FFA15A",
          "dash": "solid"
         },
         "marker": {
          "symbol": "circle"
         },
         "mode": "lines",
         "name": "104",
         "showlegend": true,
         "type": "scattergl",
         "x": [
          "046",
          "047",
          "048",
          "049",
          "050"
         ],
         "xaxis": "x",
         "y": [
          0.16342504091874274,
          0.2347391992198731,
          0.07633703219892006,
          0.027976411626253157,
          0.020340391161454998
         ],
         "yaxis": "y"
        },
        {
         "hovertemplate": "variable=105<br>hours=%{x}<br>value=%{y}<extra></extra>",
         "legendgroup": "105",
         "line": {
          "color": "#19d3f3",
          "dash": "solid"
         },
         "marker": {
          "symbol": "circle"
         },
         "mode": "lines",
         "name": "105",
         "showlegend": true,
         "type": "scattergl",
         "x": [
          "046",
          "047",
          "048",
          "049",
          "050"
         ],
         "xaxis": "x",
         "y": [
          0.15528151383675412,
          0.23084646400475411,
          0.0755080819029797,
          0.027930430923314153,
          0.020541155452790283
         ],
         "yaxis": "y"
        },
        {
         "hovertemplate": "variable=106<br>hours=%{x}<br>value=%{y}<extra></extra>",
         "legendgroup": "106",
         "line": {
          "color": "#FF6692",
          "dash": "solid"
         },
         "marker": {
          "symbol": "circle"
         },
         "mode": "lines",
         "name": "106",
         "showlegend": true,
         "type": "scattergl",
         "x": [
          "046",
          "047",
          "048",
          "049",
          "050"
         ],
         "xaxis": "x",
         "y": [
          0.15501486446712914,
          0.22836950492745073,
          0.0749312837292126,
          0.027910342897034014,
          0.02060819966415536
         ],
         "yaxis": "y"
        },
        {
         "hovertemplate": "variable=107<br>hours=%{x}<br>value=%{y}<extra></extra>",
         "legendgroup": "107",
         "line": {
          "color": "#B6E880",
          "dash": "solid"
         },
         "marker": {
          "symbol": "circle"
         },
         "mode": "lines",
         "name": "107",
         "showlegend": true,
         "type": "scattergl",
         "x": [
          "046",
          "047",
          "048",
          "049",
          "050"
         ],
         "xaxis": "x",
         "y": [
          0.15859277723816426,
          0.22204516007854463,
          0.07414782655313251,
          0.02758285647198417,
          0.020575029861637978
         ],
         "yaxis": "y"
        },
        {
         "hovertemplate": "variable=108<br>hours=%{x}<br>value=%{y}<extra></extra>",
         "legendgroup": "108",
         "line": {
          "color": "#FF97FF",
          "dash": "solid"
         },
         "marker": {
          "symbol": "circle"
         },
         "mode": "lines",
         "name": "108",
         "showlegend": true,
         "type": "scattergl",
         "x": [
          "046",
          "047",
          "048",
          "049",
          "050"
         ],
         "xaxis": "x",
         "y": [
          0.15241961484699185,
          0.21796250710836632,
          0.07365204729071483,
          0.026302165311133493,
          0.019836356243935857
         ],
         "yaxis": "y"
        },
        {
         "hovertemplate": "variable=109<br>hours=%{x}<br>value=%{y}<extra></extra>",
         "legendgroup": "109",
         "line": {
          "color": "#FECB52",
          "dash": "solid"
         },
         "marker": {
          "symbol": "circle"
         },
         "mode": "lines",
         "name": "109",
         "showlegend": true,
         "type": "scattergl",
         "x": [
          "046",
          "047",
          "048",
          "049",
          "050"
         ],
         "xaxis": "x",
         "y": [
          0.1441452514753058,
          0.21447268733718433,
          0.07275455774008083,
          0.025565017823918082,
          0.019176526346974754
         ],
         "yaxis": "y"
        },
        {
         "hovertemplate": "variable=110<br>hours=%{x}<br>value=%{y}<extra></extra>",
         "legendgroup": "110",
         "line": {
          "color": "#636efa",
          "dash": "solid"
         },
         "marker": {
          "symbol": "circle"
         },
         "mode": "lines",
         "name": "110",
         "showlegend": true,
         "type": "scattergl",
         "x": [
          "046",
          "047",
          "048",
          "049",
          "050"
         ],
         "xaxis": "x",
         "y": [
          0.14517760885775502,
          0.21217189873665565,
          0.0703710296644909,
          0.025558394936496618,
          0.019281624533792698
         ],
         "yaxis": "y"
        },
        {
         "hovertemplate": "variable=111<br>hours=%{x}<br>value=%{y}<extra></extra>",
         "legendgroup": "111",
         "line": {
          "color": "#EF553B",
          "dash": "solid"
         },
         "marker": {
          "symbol": "circle"
         },
         "mode": "lines",
         "name": "111",
         "showlegend": true,
         "type": "scattergl",
         "x": [
          "046",
          "047",
          "048",
          "049",
          "050"
         ],
         "xaxis": "x",
         "y": [
          0.14303761804962978,
          0.20788105668132317,
          0.06896122798050927,
          0.026292895265349336,
          0.018877521382947685
         ],
         "yaxis": "y"
        },
        {
         "hovertemplate": "variable=112<br>hours=%{x}<br>value=%{y}<extra></extra>",
         "legendgroup": "112",
         "line": {
          "color": "#00cc96",
          "dash": "solid"
         },
         "marker": {
          "symbol": "circle"
         },
         "mode": "lines",
         "name": "112",
         "showlegend": true,
         "type": "scattergl",
         "x": [
          "046",
          "047",
          "048",
          "049",
          "050"
         ],
         "xaxis": "x",
         "y": [
          0.1384199849805235,
          0.20475243043857383,
          0.0672243656299287,
          0.025523762620004893,
          0.018927060833050468
         ],
         "yaxis": "y"
        },
        {
         "hovertemplate": "variable=113<br>hours=%{x}<br>value=%{y}<extra></extra>",
         "legendgroup": "113",
         "line": {
          "color": "#ab63fa",
          "dash": "solid"
         },
         "marker": {
          "symbol": "circle"
         },
         "mode": "lines",
         "name": "113",
         "showlegend": true,
         "type": "scattergl",
         "x": [
          "046",
          "047",
          "048",
          "049",
          "050"
         ],
         "xaxis": "x",
         "y": [
          0.1379287611110381,
          0.200773415884425,
          0.0640249280488584,
          0.023893302735020203,
          0.018646515341120173
         ],
         "yaxis": "y"
        },
        {
         "hovertemplate": "variable=114<br>hours=%{x}<br>value=%{y}<extra></extra>",
         "legendgroup": "114",
         "line": {
          "color": "#FFA15A",
          "dash": "solid"
         },
         "marker": {
          "symbol": "circle"
         },
         "mode": "lines",
         "name": "114",
         "showlegend": true,
         "type": "scattergl",
         "x": [
          "046",
          "047",
          "048",
          "049",
          "050"
         ],
         "xaxis": "x",
         "y": [
          0.1355881975458309,
          0.1963794616541465,
          0.06419153070043081,
          0.024396344376423698,
          0.018343692940999325
         ],
         "yaxis": "y"
        },
        {
         "hovertemplate": "variable=115<br>hours=%{x}<br>value=%{y}<extra></extra>",
         "legendgroup": "115",
         "line": {
          "color": "#19d3f3",
          "dash": "solid"
         },
         "marker": {
          "symbol": "circle"
         },
         "mode": "lines",
         "name": "115",
         "showlegend": true,
         "type": "scattergl",
         "x": [
          "046",
          "047",
          "048",
          "049",
          "050"
         ],
         "xaxis": "x",
         "y": [
          0.1346577821823439,
          0.1927888436124881,
          0.06488171940937554,
          0.024477166779176922,
          0.01818652787262106
         ],
         "yaxis": "y"
        },
        {
         "hovertemplate": "variable=116<br>hours=%{x}<br>value=%{y}<extra></extra>",
         "legendgroup": "116",
         "line": {
          "color": "#FF6692",
          "dash": "solid"
         },
         "marker": {
          "symbol": "circle"
         },
         "mode": "lines",
         "name": "116",
         "showlegend": true,
         "type": "scattergl",
         "x": [
          "046",
          "047",
          "048",
          "049",
          "050"
         ],
         "xaxis": "x",
         "y": [
          0.1295666603004485,
          0.18792339873869118,
          0.06460450273529245,
          0.024046215477321012,
          0.01818354346162527
         ],
         "yaxis": "y"
        },
        {
         "hovertemplate": "variable=117<br>hours=%{x}<br>value=%{y}<extra></extra>",
         "legendgroup": "117",
         "line": {
          "color": "#B6E880",
          "dash": "solid"
         },
         "marker": {
          "symbol": "circle"
         },
         "mode": "lines",
         "name": "117",
         "showlegend": true,
         "type": "scattergl",
         "x": [
          "046",
          "047",
          "048",
          "049",
          "050"
         ],
         "xaxis": "x",
         "y": [
          0.11979366964592351,
          0.18692935457745358,
          0.06373228651832089,
          0.023879110176184964,
          0.019276165328193418
         ],
         "yaxis": "y"
        },
        {
         "hovertemplate": "variable=118<br>hours=%{x}<br>value=%{y}<extra></extra>",
         "legendgroup": "118",
         "line": {
          "color": "#FF97FF",
          "dash": "solid"
         },
         "marker": {
          "symbol": "circle"
         },
         "mode": "lines",
         "name": "118",
         "showlegend": true,
         "type": "scattergl",
         "x": [
          "046",
          "047",
          "048",
          "049",
          "050"
         ],
         "xaxis": "x",
         "y": [
          0.12258657088631617,
          0.18300670046572606,
          0.0631450778357264,
          0.022589258433481803,
          0.018548015212128864
         ],
         "yaxis": "y"
        },
        {
         "hovertemplate": "variable=119<br>hours=%{x}<br>value=%{y}<extra></extra>",
         "legendgroup": "119",
         "line": {
          "color": "#FECB52",
          "dash": "solid"
         },
         "marker": {
          "symbol": "circle"
         },
         "mode": "lines",
         "name": "119",
         "showlegend": true,
         "type": "scattergl",
         "x": [
          "046",
          "047",
          "048",
          "049",
          "050"
         ],
         "xaxis": "x",
         "y": [
          0.12240172589372453,
          0.17767765149362735,
          0.062464942392263696,
          0.02226183454734855,
          0.017853533242265674
         ],
         "yaxis": "y"
        },
        {
         "hovertemplate": "variable=120<br>hours=%{x}<br>value=%{y}<extra></extra>",
         "legendgroup": "120",
         "line": {
          "color": "#636efa",
          "dash": "solid"
         },
         "marker": {
          "symbol": "circle"
         },
         "mode": "lines",
         "name": "120",
         "showlegend": true,
         "type": "scattergl",
         "x": [
          "046",
          "047",
          "048",
          "049",
          "050"
         ],
         "xaxis": "x",
         "y": [
          0.11703025207091547,
          0.17652547282624942,
          0.05990560872961265,
          0.021900532247389137,
          0.01704467221224707
         ],
         "yaxis": "y"
        },
        {
         "hovertemplate": "variable=121<br>hours=%{x}<br>value=%{y}<extra></extra>",
         "legendgroup": "121",
         "line": {
          "color": "#EF553B",
          "dash": "solid"
         },
         "marker": {
          "symbol": "circle"
         },
         "mode": "lines",
         "name": "121",
         "showlegend": true,
         "type": "scattergl",
         "x": [
          "046",
          "047",
          "048",
          "049",
          "050"
         ],
         "xaxis": "x",
         "y": [
          0.11304853971147046,
          0.1732184703699314,
          0.06036053365265426,
          0.021720032426574724,
          0.016841857197093142
         ],
         "yaxis": "y"
        },
        {
         "hovertemplate": "variable=122<br>hours=%{x}<br>value=%{y}<extra></extra>",
         "legendgroup": "122",
         "line": {
          "color": "#00cc96",
          "dash": "solid"
         },
         "marker": {
          "symbol": "circle"
         },
         "mode": "lines",
         "name": "122",
         "showlegend": true,
         "type": "scattergl",
         "x": [
          "046",
          "047",
          "048",
          "049",
          "050"
         ],
         "xaxis": "x",
         "y": [
          0.10615449070905085,
          0.16748638109286307,
          0.05833230313818584,
          0.020795720970160483,
          0.016983707921930886
         ],
         "yaxis": "y"
        },
        {
         "hovertemplate": "variable=123<br>hours=%{x}<br>value=%{y}<extra></extra>",
         "legendgroup": "123",
         "line": {
          "color": "#ab63fa",
          "dash": "solid"
         },
         "marker": {
          "symbol": "circle"
         },
         "mode": "lines",
         "name": "123",
         "showlegend": true,
         "type": "scattergl",
         "x": [
          "046",
          "047",
          "048",
          "049",
          "050"
         ],
         "xaxis": "x",
         "y": [
          0.10194172366161067,
          0.16286113902020946,
          0.056355401216852466,
          0.020829348970164117,
          0.017024944239649915
         ],
         "yaxis": "y"
        },
        {
         "hovertemplate": "variable=124<br>hours=%{x}<br>value=%{y}<extra></extra>",
         "legendgroup": "124",
         "line": {
          "color": "#FFA15A",
          "dash": "solid"
         },
         "marker": {
          "symbol": "circle"
         },
         "mode": "lines",
         "name": "124",
         "showlegend": true,
         "type": "scattergl",
         "x": [
          "046",
          "047",
          "048",
          "049",
          "050"
         ],
         "xaxis": "x",
         "y": [
          0.10591142264613866,
          0.1597220807653326,
          0.05606183297489933,
          0.021119991278357047,
          0.017049111104271764
         ],
         "yaxis": "y"
        },
        {
         "hovertemplate": "variable=125<br>hours=%{x}<br>value=%{y}<extra></extra>",
         "legendgroup": "125",
         "line": {
          "color": "#19d3f3",
          "dash": "solid"
         },
         "marker": {
          "symbol": "circle"
         },
         "mode": "lines",
         "name": "125",
         "showlegend": true,
         "type": "scattergl",
         "x": [
          "046",
          "047",
          "048",
          "049",
          "050"
         ],
         "xaxis": "x",
         "y": [
          0.1062314788799072,
          0.15919128492086224,
          0.055769043626779174,
          0.020896780724099562,
          0.017100950422837134
         ],
         "yaxis": "y"
        },
        {
         "hovertemplate": "variable=126<br>hours=%{x}<br>value=%{y}<extra></extra>",
         "legendgroup": "126",
         "line": {
          "color": "#FF6692",
          "dash": "solid"
         },
         "marker": {
          "symbol": "circle"
         },
         "mode": "lines",
         "name": "126",
         "showlegend": true,
         "type": "scattergl",
         "x": [
          "046",
          "047",
          "048",
          "049",
          "050"
         ],
         "xaxis": "x",
         "y": [
          0.10443261088037464,
          0.1594856652916178,
          0.05441601138029186,
          0.020588814829552163,
          0.016355307437367825
         ],
         "yaxis": "y"
        },
        {
         "hovertemplate": "variable=127<br>hours=%{x}<br>value=%{y}<extra></extra>",
         "legendgroup": "127",
         "line": {
          "color": "#B6E880",
          "dash": "solid"
         },
         "marker": {
          "symbol": "circle"
         },
         "mode": "lines",
         "name": "127",
         "showlegend": true,
         "type": "scattergl",
         "x": [
          "046",
          "047",
          "048",
          "049",
          "050"
         ],
         "xaxis": "x",
         "y": [
          0.09749847336276789,
          0.1586124488875534,
          0.054149599408670195,
          0.019608329798321174,
          0.016098502100884253
         ],
         "yaxis": "y"
        },
        {
         "hovertemplate": "variable=128<br>hours=%{x}<br>value=%{y}<extra></extra>",
         "legendgroup": "128",
         "line": {
          "color": "#FF97FF",
          "dash": "solid"
         },
         "marker": {
          "symbol": "circle"
         },
         "mode": "lines",
         "name": "128",
         "showlegend": true,
         "type": "scattergl",
         "x": [
          "046",
          "047",
          "048",
          "049",
          "050"
         ],
         "xaxis": "x",
         "y": [
          0.09806332395342333,
          0.15296658853446526,
          0.052305771033622286,
          0.019812691130648374,
          0.015954891199057346
         ],
         "yaxis": "y"
        },
        {
         "hovertemplate": "variable=129<br>hours=%{x}<br>value=%{y}<extra></extra>",
         "legendgroup": "129",
         "line": {
          "color": "#FECB52",
          "dash": "solid"
         },
         "marker": {
          "symbol": "circle"
         },
         "mode": "lines",
         "name": "129",
         "showlegend": true,
         "type": "scattergl",
         "x": [
          "046",
          "047",
          "048",
          "049",
          "050"
         ],
         "xaxis": "x",
         "y": [
          0.09874468666050243,
          0.15001635440760352,
          0.05141336635051765,
          0.019879735403733723,
          0.016030186266661712
         ],
         "yaxis": "y"
        },
        {
         "hovertemplate": "variable=130<br>hours=%{x}<br>value=%{y}<extra></extra>",
         "legendgroup": "130",
         "line": {
          "color": "#636efa",
          "dash": "solid"
         },
         "marker": {
          "symbol": "circle"
         },
         "mode": "lines",
         "name": "130",
         "showlegend": true,
         "type": "scattergl",
         "x": [
          "046",
          "047",
          "048",
          "049",
          "050"
         ],
         "xaxis": "x",
         "y": [
          0.0929926084424502,
          0.14944417179031896,
          0.05148055665506287,
          0.01876914974705187,
          0.015975911804196836
         ],
         "yaxis": "y"
        },
        {
         "hovertemplate": "variable=131<br>hours=%{x}<br>value=%{y}<extra></extra>",
         "legendgroup": "131",
         "line": {
          "color": "#EF553B",
          "dash": "solid"
         },
         "marker": {
          "symbol": "circle"
         },
         "mode": "lines",
         "name": "131",
         "showlegend": true,
         "type": "scattergl",
         "x": [
          "046",
          "047",
          "048",
          "049",
          "050"
         ],
         "xaxis": "x",
         "y": [
          0.08956255056072986,
          0.14728569554338986,
          0.04997789713284311,
          0.018733638060795393,
          0.01588678580185768
         ],
         "yaxis": "y"
        },
        {
         "hovertemplate": "variable=132<br>hours=%{x}<br>value=%{y}<extra></extra>",
         "legendgroup": "132",
         "line": {
          "color": "#00cc96",
          "dash": "solid"
         },
         "marker": {
          "symbol": "circle"
         },
         "mode": "lines",
         "name": "132",
         "showlegend": true,
         "type": "scattergl",
         "x": [
          "046",
          "047",
          "048",
          "049",
          "050"
         ],
         "xaxis": "x",
         "y": [
          0.08944305121561864,
          0.1432508991486235,
          0.04868729342403841,
          0.01859656130171127,
          0.015397465818190932
         ],
         "yaxis": "y"
        },
        {
         "hovertemplate": "variable=133<br>hours=%{x}<br>value=%{y}<extra></extra>",
         "legendgroup": "133",
         "line": {
          "color": "#ab63fa",
          "dash": "solid"
         },
         "marker": {
          "symbol": "circle"
         },
         "mode": "lines",
         "name": "133",
         "showlegend": true,
         "type": "scattergl",
         "x": [
          "046",
          "047",
          "048",
          "049",
          "050"
         ],
         "xaxis": "x",
         "y": [
          0.08512863536165134,
          0.1371868230280282,
          0.04912391748962983,
          0.0178790393811294,
          0.015198849061425145
         ],
         "yaxis": "y"
        },
        {
         "hovertemplate": "variable=134<br>hours=%{x}<br>value=%{y}<extra></extra>",
         "legendgroup": "134",
         "line": {
          "color": "#FFA15A",
          "dash": "solid"
         },
         "marker": {
          "symbol": "circle"
         },
         "mode": "lines",
         "name": "134",
         "showlegend": true,
         "type": "scattergl",
         "x": [
          "046",
          "047",
          "048",
          "049",
          "050"
         ],
         "xaxis": "x",
         "y": [
          0.08295794132409312,
          0.1361923732676725,
          0.05025907889128957,
          0.017832286587336765,
          0.01531795023923648
         ],
         "yaxis": "y"
        },
        {
         "hovertemplate": "variable=135<br>hours=%{x}<br>value=%{y}<extra></extra>",
         "legendgroup": "135",
         "line": {
          "color": "#19d3f3",
          "dash": "solid"
         },
         "marker": {
          "symbol": "circle"
         },
         "mode": "lines",
         "name": "135",
         "showlegend": true,
         "type": "scattergl",
         "x": [
          "046",
          "047",
          "048",
          "049",
          "050"
         ],
         "xaxis": "x",
         "y": [
          0.08219846733750853,
          0.13421737751621618,
          0.04906660241308537,
          0.01742914062523571,
          0.015349163900193544
         ],
         "yaxis": "y"
        },
        {
         "hovertemplate": "variable=136<br>hours=%{x}<br>value=%{y}<extra></extra>",
         "legendgroup": "136",
         "line": {
          "color": "#FF6692",
          "dash": "solid"
         },
         "marker": {
          "symbol": "circle"
         },
         "mode": "lines",
         "name": "136",
         "showlegend": true,
         "type": "scattergl",
         "x": [
          "046",
          "047",
          "048",
          "049",
          "050"
         ],
         "xaxis": "x",
         "y": [
          0.08322396428003209,
          0.13550396096497813,
          0.047913376362246886,
          0.01750757653201734,
          0.015065515505982613
         ],
         "yaxis": "y"
        },
        {
         "hovertemplate": "variable=137<br>hours=%{x}<br>value=%{y}<extra></extra>",
         "legendgroup": "137",
         "line": {
          "color": "#B6E880",
          "dash": "solid"
         },
         "marker": {
          "symbol": "circle"
         },
         "mode": "lines",
         "name": "137",
         "showlegend": true,
         "type": "scattergl",
         "x": [
          "046",
          "047",
          "048",
          "049",
          "050"
         ],
         "xaxis": "x",
         "y": [
          0.07961657988894463,
          0.13414309087118373,
          0.04961399646777671,
          0.01719079237457385,
          0.015228361211914915
         ],
         "yaxis": "y"
        },
        {
         "hovertemplate": "variable=138<br>hours=%{x}<br>value=%{y}<extra></extra>",
         "legendgroup": "138",
         "line": {
          "color": "#FF97FF",
          "dash": "solid"
         },
         "marker": {
          "symbol": "circle"
         },
         "mode": "lines",
         "name": "138",
         "showlegend": true,
         "type": "scattergl",
         "x": [
          "046",
          "047",
          "048",
          "049",
          "050"
         ],
         "xaxis": "x",
         "y": [
          0.07734117356410448,
          0.13267668298497626,
          0.04904479654849609,
          0.017119534456496444,
          0.015175654959394175
         ],
         "yaxis": "y"
        },
        {
         "hovertemplate": "variable=139<br>hours=%{x}<br>value=%{y}<extra></extra>",
         "legendgroup": "139",
         "line": {
          "color": "#FECB52",
          "dash": "solid"
         },
         "marker": {
          "symbol": "circle"
         },
         "mode": "lines",
         "name": "139",
         "showlegend": true,
         "type": "scattergl",
         "x": [
          "046",
          "047",
          "048",
          "049",
          "050"
         ],
         "xaxis": "x",
         "y": [
          0.07536329202500343,
          0.13032181062335993,
          0.04664629859423292,
          0.017075331985597075,
          0.014706143575620242
         ],
         "yaxis": "y"
        },
        {
         "hovertemplate": "variable=140<br>hours=%{x}<br>value=%{y}<extra></extra>",
         "legendgroup": "140",
         "line": {
          "color": "#636efa",
          "dash": "solid"
         },
         "marker": {
          "symbol": "circle"
         },
         "mode": "lines",
         "name": "140",
         "showlegend": true,
         "type": "scattergl",
         "x": [
          "046",
          "047",
          "048",
          "049",
          "050"
         ],
         "xaxis": "x",
         "y": [
          0.07472806874459999,
          0.1272838955243883,
          0.04571191093740358,
          0.016849444717072365,
          0.014477992312032834
         ],
         "yaxis": "y"
        },
        {
         "hovertemplate": "variable=141<br>hours=%{x}<br>value=%{y}<extra></extra>",
         "legendgroup": "141",
         "line": {
          "color": "#EF553B",
          "dash": "solid"
         },
         "marker": {
          "symbol": "circle"
         },
         "mode": "lines",
         "name": "141",
         "showlegend": true,
         "type": "scattergl",
         "x": [
          "046",
          "047",
          "048",
          "049",
          "050"
         ],
         "xaxis": "x",
         "y": [
          0.07421273541144985,
          0.12239470994288566,
          0.045239202571998795,
          0.016395222095270244,
          0.014154141008890933
         ],
         "yaxis": "y"
        },
        {
         "hovertemplate": "variable=142<br>hours=%{x}<br>value=%{y}<extra></extra>",
         "legendgroup": "142",
         "line": {
          "color": "#00cc96",
          "dash": "solid"
         },
         "marker": {
          "symbol": "circle"
         },
         "mode": "lines",
         "name": "142",
         "showlegend": true,
         "type": "scattergl",
         "x": [
          "046",
          "047",
          "048",
          "049",
          "050"
         ],
         "xaxis": "x",
         "y": [
          0.07271941542163746,
          0.12569187141942034,
          0.044319465380606125,
          0.016025346358071117,
          0.014290311351728082
         ],
         "yaxis": "y"
        },
        {
         "hovertemplate": "variable=143<br>hours=%{x}<br>value=%{y}<extra></extra>",
         "legendgroup": "143",
         "line": {
          "color": "#ab63fa",
          "dash": "solid"
         },
         "marker": {
          "symbol": "circle"
         },
         "mode": "lines",
         "name": "143",
         "showlegend": true,
         "type": "scattergl",
         "x": [
          "046",
          "047",
          "048",
          "049",
          "050"
         ],
         "xaxis": "x",
         "y": [
          0.07146545440661735,
          0.12255535216987128,
          0.043564471569486625,
          0.016358253929653992,
          0.01452138337213104
         ],
         "yaxis": "y"
        },
        {
         "hovertemplate": "variable=144<br>hours=%{x}<br>value=%{y}<extra></extra>",
         "legendgroup": "144",
         "line": {
          "color": "#FFA15A",
          "dash": "solid"
         },
         "marker": {
          "symbol": "circle"
         },
         "mode": "lines",
         "name": "144",
         "showlegend": true,
         "type": "scattergl",
         "x": [
          "046",
          "047",
          "048",
          "049",
          "050"
         ],
         "xaxis": "x",
         "y": [
          0.0687227730299144,
          0.12126064258630534,
          0.042202588067486106,
          0.016845470670698172,
          0.014392154244918937
         ],
         "yaxis": "y"
        },
        {
         "hovertemplate": "variable=145<br>hours=%{x}<br>value=%{y}<extra></extra>",
         "legendgroup": "145",
         "line": {
          "color": "#19d3f3",
          "dash": "solid"
         },
         "marker": {
          "symbol": "circle"
         },
         "mode": "lines",
         "name": "145",
         "showlegend": true,
         "type": "scattergl",
         "x": [
          "046",
          "047",
          "048",
          "049",
          "050"
         ],
         "xaxis": "x",
         "y": [
          0.0788889229592134,
          0.14498792397235225,
          0.06996010294531355,
          0.042496716053336776,
          0.01472233624562789
         ],
         "yaxis": "y"
        },
        {
         "hovertemplate": "variable=146<br>hours=%{x}<br>value=%{y}<extra></extra>",
         "legendgroup": "146",
         "line": {
          "color": "#FF6692",
          "dash": "solid"
         },
         "marker": {
          "symbol": "circle"
         },
         "mode": "lines",
         "name": "146",
         "showlegend": true,
         "type": "scattergl",
         "x": [
          "046",
          "047",
          "048",
          "049",
          "050"
         ],
         "xaxis": "x",
         "y": [
          0.4590883948086932,
          0.6279675763281746,
          0.4500671983700603,
          0.5980919637176345,
          0.0271314678080106
         ],
         "yaxis": "y"
        },
        {
         "hovertemplate": "variable=147<br>hours=%{x}<br>value=%{y}<extra></extra>",
         "legendgroup": "147",
         "line": {
          "color": "#B6E880",
          "dash": "solid"
         },
         "marker": {
          "symbol": "circle"
         },
         "mode": "lines",
         "name": "147",
         "showlegend": true,
         "type": "scattergl",
         "x": [
          "046",
          "047",
          "048",
          "049",
          "050"
         ],
         "xaxis": "x",
         "y": [
          0.5091247878187416,
          0.5835885710415446,
          0.3476525880668882,
          0.5686273269330342,
          0.02643894474274782
         ],
         "yaxis": "y"
        },
        {
         "hovertemplate": "variable=148<br>hours=%{x}<br>value=%{y}<extra></extra>",
         "legendgroup": "148",
         "line": {
          "color": "#FF97FF",
          "dash": "solid"
         },
         "marker": {
          "symbol": "circle"
         },
         "mode": "lines",
         "name": "148",
         "showlegend": true,
         "type": "scattergl",
         "x": [
          "046",
          "047",
          "048",
          "049",
          "050"
         ],
         "xaxis": "x",
         "y": [
          0.085127249469527,
          0.12891256166675652,
          0.05080833110806327,
          0.035835624621139914,
          0.0144791768611843
         ],
         "yaxis": "y"
        },
        {
         "hovertemplate": "variable=149<br>hours=%{x}<br>value=%{y}<extra></extra>",
         "legendgroup": "149",
         "line": {
          "color": "#FECB52",
          "dash": "solid"
         },
         "marker": {
          "symbol": "circle"
         },
         "mode": "lines",
         "name": "149",
         "showlegend": true,
         "type": "scattergl",
         "x": [
          "046",
          "047",
          "048",
          "049",
          "050"
         ],
         "xaxis": "x",
         "y": [
          0.0629750380905579,
          0.11290708985741381,
          0.041930849825557844,
          0.015691955244064373,
          0.013749424259581908
         ],
         "yaxis": "y"
        },
        {
         "hovertemplate": "variable=150<br>hours=%{x}<br>value=%{y}<extra></extra>",
         "legendgroup": "150",
         "line": {
          "color": "#636efa",
          "dash": "solid"
         },
         "marker": {
          "symbol": "circle"
         },
         "mode": "lines",
         "name": "150",
         "showlegend": true,
         "type": "scattergl",
         "x": [
          "046",
          "047",
          "048",
          "049",
          "050"
         ],
         "xaxis": "x",
         "y": [
          0.06105940339898027,
          0.11062020149639605,
          0.040027412459275276,
          0.015671830605045612,
          0.013663890903702947
         ],
         "yaxis": "y"
        },
        {
         "hovertemplate": "variable=151<br>hours=%{x}<br>value=%{y}<extra></extra>",
         "legendgroup": "151",
         "line": {
          "color": "#EF553B",
          "dash": "solid"
         },
         "marker": {
          "symbol": "circle"
         },
         "mode": "lines",
         "name": "151",
         "showlegend": true,
         "type": "scattergl",
         "x": [
          "046",
          "047",
          "048",
          "049",
          "050"
         ],
         "xaxis": "x",
         "y": [
          0.060468069527675125,
          0.10795764682322731,
          0.04048948570096541,
          0.015190032212942017,
          0.013467017925484154
         ],
         "yaxis": "y"
        },
        {
         "hovertemplate": "variable=152<br>hours=%{x}<br>value=%{y}<extra></extra>",
         "legendgroup": "152",
         "line": {
          "color": "#00cc96",
          "dash": "solid"
         },
         "marker": {
          "symbol": "circle"
         },
         "mode": "lines",
         "name": "152",
         "showlegend": true,
         "type": "scattergl",
         "x": [
          "046",
          "047",
          "048",
          "049",
          "050"
         ],
         "xaxis": "x",
         "y": [
          0.0599562573224201,
          0.10704526311857863,
          0.041435175672895556,
          0.01491701153602249,
          0.01330914254684881
         ],
         "yaxis": "y"
        },
        {
         "hovertemplate": "variable=153<br>hours=%{x}<br>value=%{y}<extra></extra>",
         "legendgroup": "153",
         "line": {
          "color": "#ab63fa",
          "dash": "solid"
         },
         "marker": {
          "symbol": "circle"
         },
         "mode": "lines",
         "name": "153",
         "showlegend": true,
         "type": "scattergl",
         "x": [
          "046",
          "047",
          "048",
          "049",
          "050"
         ],
         "xaxis": "x",
         "y": [
          0.058699736195350544,
          0.10603852505877188,
          0.03991298425682697,
          0.014533008908145045,
          0.013416908000565362
         ],
         "yaxis": "y"
        },
        {
         "hovertemplate": "variable=154<br>hours=%{x}<br>value=%{y}<extra></extra>",
         "legendgroup": "154",
         "line": {
          "color": "#FFA15A",
          "dash": "solid"
         },
         "marker": {
          "symbol": "circle"
         },
         "mode": "lines",
         "name": "154",
         "showlegend": true,
         "type": "scattergl",
         "x": [
          "046",
          "047",
          "048",
          "049",
          "050"
         ],
         "xaxis": "x",
         "y": [
          0.05814636810842186,
          0.10504159071376873,
          0.039425655632722184,
          0.014332952457634721,
          0.013234302464321716
         ],
         "yaxis": "y"
        },
        {
         "hovertemplate": "variable=155<br>hours=%{x}<br>value=%{y}<extra></extra>",
         "legendgroup": "155",
         "line": {
          "color": "#19d3f3",
          "dash": "solid"
         },
         "marker": {
          "symbol": "circle"
         },
         "mode": "lines",
         "name": "155",
         "showlegend": true,
         "type": "scattergl",
         "x": [
          "046",
          "047",
          "048",
          "049",
          "050"
         ],
         "xaxis": "x",
         "y": [
          0.07124354455133691,
          0.11960731776334808,
          0.04501355687443983,
          0.030515587511628386,
          0.014701843534268597
         ],
         "yaxis": "y"
        },
        {
         "hovertemplate": "variable=156<br>hours=%{x}<br>value=%{y}<extra></extra>",
         "legendgroup": "156",
         "line": {
          "color": "#FF6692",
          "dash": "solid"
         },
         "marker": {
          "symbol": "circle"
         },
         "mode": "lines",
         "name": "156",
         "showlegend": true,
         "type": "scattergl",
         "x": [
          "046",
          "047",
          "048",
          "049",
          "050"
         ],
         "xaxis": "x",
         "y": [
          0.08427692016662842,
          0.139336851739535,
          0.06218112411584466,
          0.05763922496536831,
          0.01678226511230875
         ],
         "yaxis": "y"
        },
        {
         "hovertemplate": "variable=157<br>hours=%{x}<br>value=%{y}<extra></extra>",
         "legendgroup": "157",
         "line": {
          "color": "#B6E880",
          "dash": "solid"
         },
         "marker": {
          "symbol": "circle"
         },
         "mode": "lines",
         "name": "157",
         "showlegend": true,
         "type": "scattergl",
         "x": [
          "046",
          "047",
          "048",
          "049",
          "050"
         ],
         "xaxis": "x",
         "y": [
          0.056940572713036416,
          0.10698959245128188,
          0.044952623726782784,
          0.021932555134950255,
          0.013887001524308351
         ],
         "yaxis": "y"
        },
        {
         "hovertemplate": "variable=158<br>hours=%{x}<br>value=%{y}<extra></extra>",
         "legendgroup": "158",
         "line": {
          "color": "#FF97FF",
          "dash": "solid"
         },
         "marker": {
          "symbol": "circle"
         },
         "mode": "lines",
         "name": "158",
         "showlegend": true,
         "type": "scattergl",
         "x": [
          "046",
          "047",
          "048",
          "049",
          "050"
         ],
         "xaxis": "x",
         "y": [
          0.05435877799874723,
          0.09910816695808898,
          0.03864089220339791,
          0.014543828008558817,
          0.012912313010681945
         ],
         "yaxis": "y"
        },
        {
         "hovertemplate": "variable=159<br>hours=%{x}<br>value=%{y}<extra></extra>",
         "legendgroup": "159",
         "line": {
          "color": "#FECB52",
          "dash": "solid"
         },
         "marker": {
          "symbol": "circle"
         },
         "mode": "lines",
         "name": "159",
         "showlegend": true,
         "type": "scattergl",
         "x": [
          "046",
          "047",
          "048",
          "049",
          "050"
         ],
         "xaxis": "x",
         "y": [
          0.05455300610409392,
          0.09828069827757521,
          0.03760689102045062,
          0.014291030005382047,
          0.012987207794339851
         ],
         "yaxis": "y"
        },
        {
         "hovertemplate": "variable=160<br>hours=%{x}<br>value=%{y}<extra></extra>",
         "legendgroup": "160",
         "line": {
          "color": "#636efa",
          "dash": "solid"
         },
         "marker": {
          "symbol": "circle"
         },
         "mode": "lines",
         "name": "160",
         "showlegend": true,
         "type": "scattergl",
         "x": [
          "046",
          "047",
          "048",
          "049",
          "050"
         ],
         "xaxis": "x",
         "y": [
          0.05425103308721501,
          0.09749616032973456,
          0.03646594160932078,
          0.01389355998299718,
          0.012853362729736756
         ],
         "yaxis": "y"
        },
        {
         "hovertemplate": "variable=161<br>hours=%{x}<br>value=%{y}<extra></extra>",
         "legendgroup": "161",
         "line": {
          "color": "#EF553B",
          "dash": "solid"
         },
         "marker": {
          "symbol": "circle"
         },
         "mode": "lines",
         "name": "161",
         "showlegend": true,
         "type": "scattergl",
         "x": [
          "046",
          "047",
          "048",
          "049",
          "050"
         ],
         "xaxis": "x",
         "y": [
          0.0522029177529885,
          0.09754107038378533,
          0.03631063810112984,
          0.013535346062193044,
          0.012487689009222893
         ],
         "yaxis": "y"
        },
        {
         "hovertemplate": "variable=162<br>hours=%{x}<br>value=%{y}<extra></extra>",
         "legendgroup": "162",
         "line": {
          "color": "#00cc96",
          "dash": "solid"
         },
         "marker": {
          "symbol": "circle"
         },
         "mode": "lines",
         "name": "162",
         "showlegend": true,
         "type": "scattergl",
         "x": [
          "046",
          "047",
          "048",
          "049",
          "050"
         ],
         "xaxis": "x",
         "y": [
          0.05110057725427471,
          0.09531030827108203,
          0.03726264761086365,
          0.013993971206433302,
          0.012578413897832421
         ],
         "yaxis": "y"
        },
        {
         "hovertemplate": "variable=163<br>hours=%{x}<br>value=%{y}<extra></extra>",
         "legendgroup": "163",
         "line": {
          "color": "#ab63fa",
          "dash": "solid"
         },
         "marker": {
          "symbol": "circle"
         },
         "mode": "lines",
         "name": "163",
         "showlegend": true,
         "type": "scattergl",
         "x": [
          "046",
          "047",
          "048",
          "049",
          "050"
         ],
         "xaxis": "x",
         "y": [
          0.0505715097136338,
          0.09404877033390759,
          0.037179373153150515,
          0.014145998526918068,
          0.012841168818439695
         ],
         "yaxis": "y"
        },
        {
         "hovertemplate": "variable=164<br>hours=%{x}<br>value=%{y}<extra></extra>",
         "legendgroup": "164",
         "line": {
          "color": "#FFA15A",
          "dash": "solid"
         },
         "marker": {
          "symbol": "circle"
         },
         "mode": "lines",
         "name": "164",
         "showlegend": true,
         "type": "scattergl",
         "x": [
          "046",
          "047",
          "048",
          "049",
          "050"
         ],
         "xaxis": "x",
         "y": [
          0.04937215579713212,
          0.0936818841928891,
          0.03757954986931931,
          0.013955452044926615,
          0.013097529682510179
         ],
         "yaxis": "y"
        },
        {
         "hovertemplate": "variable=165<br>hours=%{x}<br>value=%{y}<extra></extra>",
         "legendgroup": "165",
         "line": {
          "color": "#19d3f3",
          "dash": "solid"
         },
         "marker": {
          "symbol": "circle"
         },
         "mode": "lines",
         "name": "165",
         "showlegend": true,
         "type": "scattergl",
         "x": [
          "046",
          "047",
          "048",
          "049",
          "050"
         ],
         "xaxis": "x",
         "y": [
          0.04936681494345739,
          0.09432082794291298,
          0.03704953014137324,
          0.013863306164055927,
          0.012787396803817392
         ],
         "yaxis": "y"
        },
        {
         "hovertemplate": "variable=166<br>hours=%{x}<br>value=%{y}<extra></extra>",
         "legendgroup": "166",
         "line": {
          "color": "#FF6692",
          "dash": "solid"
         },
         "marker": {
          "symbol": "circle"
         },
         "mode": "lines",
         "name": "166",
         "showlegend": true,
         "type": "scattergl",
         "x": [
          "046",
          "047",
          "048",
          "049",
          "050"
         ],
         "xaxis": "x",
         "y": [
          0.047906357954171495,
          0.09208549439962953,
          0.03626903191490549,
          0.013621043192061774,
          0.012651259495483918
         ],
         "yaxis": "y"
        },
        {
         "hovertemplate": "variable=167<br>hours=%{x}<br>value=%{y}<extra></extra>",
         "legendgroup": "167",
         "line": {
          "color": "#B6E880",
          "dash": "solid"
         },
         "marker": {
          "symbol": "circle"
         },
         "mode": "lines",
         "name": "167",
         "showlegend": true,
         "type": "scattergl",
         "x": [
          "046",
          "047",
          "048",
          "049",
          "050"
         ],
         "xaxis": "x",
         "y": [
          0.047092858498558855,
          0.09039880070508742,
          0.03535735064759417,
          0.012999760705875961,
          0.012596844385564892
         ],
         "yaxis": "y"
        },
        {
         "hovertemplate": "variable=168<br>hours=%{x}<br>value=%{y}<extra></extra>",
         "legendgroup": "168",
         "line": {
          "color": "#FF97FF",
          "dash": "solid"
         },
         "marker": {
          "symbol": "circle"
         },
         "mode": "lines",
         "name": "168",
         "showlegend": true,
         "type": "scattergl",
         "x": [
          "046",
          "047",
          "048",
          "049",
          "050"
         ],
         "xaxis": "x",
         "y": [
          0.0480361538195496,
          0.09062964497972516,
          0.03491797520450381,
          0.01281152547463375,
          0.012343836312632517
         ],
         "yaxis": "y"
        },
        {
         "hovertemplate": "variable=169<br>hours=%{x}<br>value=%{y}<extra></extra>",
         "legendgroup": "169",
         "line": {
          "color": "#FECB52",
          "dash": "solid"
         },
         "marker": {
          "symbol": "circle"
         },
         "mode": "lines",
         "name": "169",
         "showlegend": true,
         "type": "scattergl",
         "x": [
          "046",
          "047",
          "048",
          "049",
          "050"
         ],
         "xaxis": "x",
         "y": [
          0.04788489019131102,
          0.08963857057097305,
          0.03401759651746156,
          0.013092393609258676,
          0.011883363033473286
         ],
         "yaxis": "y"
        },
        {
         "hovertemplate": "variable=170<br>hours=%{x}<br>value=%{y}<extra></extra>",
         "legendgroup": "170",
         "line": {
          "color": "#636efa",
          "dash": "solid"
         },
         "marker": {
          "symbol": "circle"
         },
         "mode": "lines",
         "name": "170",
         "showlegend": true,
         "type": "scattergl",
         "x": [
          "046",
          "047",
          "048",
          "049",
          "050"
         ],
         "xaxis": "x",
         "y": [
          0.0448903174463742,
          0.09048190802135117,
          0.034072650685958,
          0.013100373970264199,
          0.012212845151564386
         ],
         "yaxis": "y"
        },
        {
         "hovertemplate": "variable=171<br>hours=%{x}<br>value=%{y}<extra></extra>",
         "legendgroup": "171",
         "line": {
          "color": "#EF553B",
          "dash": "solid"
         },
         "marker": {
          "symbol": "circle"
         },
         "mode": "lines",
         "name": "171",
         "showlegend": true,
         "type": "scattergl",
         "x": [
          "046",
          "047",
          "048",
          "049",
          "050"
         ],
         "xaxis": "x",
         "y": [
          0.04349614492867505,
          0.09146847570727175,
          0.03447636976065485,
          0.012854175969743495,
          0.012208776523831056
         ],
         "yaxis": "y"
        },
        {
         "hovertemplate": "variable=172<br>hours=%{x}<br>value=%{y}<extra></extra>",
         "legendgroup": "172",
         "line": {
          "color": "#00cc96",
          "dash": "solid"
         },
         "marker": {
          "symbol": "circle"
         },
         "mode": "lines",
         "name": "172",
         "showlegend": true,
         "type": "scattergl",
         "x": [
          "046",
          "047",
          "048",
          "049",
          "050"
         ],
         "xaxis": "x",
         "y": [
          0.041693120494901884,
          0.08891799390079948,
          0.03324915164249552,
          0.013067894735613332,
          0.011912080178932194
         ],
         "yaxis": "y"
        },
        {
         "hovertemplate": "variable=173<br>hours=%{x}<br>value=%{y}<extra></extra>",
         "legendgroup": "173",
         "line": {
          "color": "#ab63fa",
          "dash": "solid"
         },
         "marker": {
          "symbol": "circle"
         },
         "mode": "lines",
         "name": "173",
         "showlegend": true,
         "type": "scattergl",
         "x": [
          "046",
          "047",
          "048",
          "049",
          "050"
         ],
         "xaxis": "x",
         "y": [
          0.043472437332150726,
          0.08815282721527491,
          0.0332631680606777,
          0.012906327854429515,
          0.01181587392903047
         ],
         "yaxis": "y"
        },
        {
         "hovertemplate": "variable=174<br>hours=%{x}<br>value=%{y}<extra></extra>",
         "legendgroup": "174",
         "line": {
          "color": "#FFA15A",
          "dash": "solid"
         },
         "marker": {
          "symbol": "circle"
         },
         "mode": "lines",
         "name": "174",
         "showlegend": true,
         "type": "scattergl",
         "x": [
          "046",
          "047",
          "048",
          "049",
          "050"
         ],
         "xaxis": "x",
         "y": [
          0.0435236848481588,
          0.08736322199387414,
          0.033171585897245615,
          0.012814785681555425,
          0.011824412017821239
         ],
         "yaxis": "y"
        },
        {
         "hovertemplate": "variable=175<br>hours=%{x}<br>value=%{y}<extra></extra>",
         "legendgroup": "175",
         "line": {
          "color": "#19d3f3",
          "dash": "solid"
         },
         "marker": {
          "symbol": "circle"
         },
         "mode": "lines",
         "name": "175",
         "showlegend": true,
         "type": "scattergl",
         "x": [
          "046",
          "047",
          "048",
          "049",
          "050"
         ],
         "xaxis": "x",
         "y": [
          0.04236502157976604,
          0.08566116672824783,
          0.033466313952471224,
          0.012590894188127415,
          0.011661884662587012
         ],
         "yaxis": "y"
        },
        {
         "hovertemplate": "variable=176<br>hours=%{x}<br>value=%{y}<extra></extra>",
         "legendgroup": "176",
         "line": {
          "color": "#FF6692",
          "dash": "solid"
         },
         "marker": {
          "symbol": "circle"
         },
         "mode": "lines",
         "name": "176",
         "showlegend": true,
         "type": "scattergl",
         "x": [
          "046",
          "047",
          "048",
          "049",
          "050"
         ],
         "xaxis": "x",
         "y": [
          0.04100112522488836,
          0.08381673288606553,
          0.03325240213574024,
          0.012616005679952556,
          0.011611407672924167
         ],
         "yaxis": "y"
        },
        {
         "hovertemplate": "variable=177<br>hours=%{x}<br>value=%{y}<extra></extra>",
         "legendgroup": "177",
         "line": {
          "color": "#B6E880",
          "dash": "solid"
         },
         "marker": {
          "symbol": "circle"
         },
         "mode": "lines",
         "name": "177",
         "showlegend": true,
         "type": "scattergl",
         "x": [
          "046",
          "047",
          "048",
          "049",
          "050"
         ],
         "xaxis": "x",
         "y": [
          0.04253893268512755,
          0.08269825066491393,
          0.03313810328998232,
          0.012138083757065786,
          0.011639049066426224
         ],
         "yaxis": "y"
        },
        {
         "hovertemplate": "variable=178<br>hours=%{x}<br>value=%{y}<extra></extra>",
         "legendgroup": "178",
         "line": {
          "color": "#FF97FF",
          "dash": "solid"
         },
         "marker": {
          "symbol": "circle"
         },
         "mode": "lines",
         "name": "178",
         "showlegend": true,
         "type": "scattergl",
         "x": [
          "046",
          "047",
          "048",
          "049",
          "050"
         ],
         "xaxis": "x",
         "y": [
          0.042959237937304474,
          0.08368142455984916,
          0.033374409039581665,
          0.012175297698301276,
          0.011533801980020863
         ],
         "yaxis": "y"
        },
        {
         "hovertemplate": "variable=179<br>hours=%{x}<br>value=%{y}<extra></extra>",
         "legendgroup": "179",
         "line": {
          "color": "#FECB52",
          "dash": "solid"
         },
         "marker": {
          "symbol": "circle"
         },
         "mode": "lines",
         "name": "179",
         "showlegend": true,
         "type": "scattergl",
         "x": [
          "046",
          "047",
          "048",
          "049",
          "050"
         ],
         "xaxis": "x",
         "y": [
          0.042131793856737786,
          0.0831857436194713,
          0.0326742671078537,
          0.012700819826267844,
          0.011362747778019835
         ],
         "yaxis": "y"
        },
        {
         "hovertemplate": "variable=180<br>hours=%{x}<br>value=%{y}<extra></extra>",
         "legendgroup": "180",
         "line": {
          "color": "#636efa",
          "dash": "solid"
         },
         "marker": {
          "symbol": "circle"
         },
         "mode": "lines",
         "name": "180",
         "showlegend": true,
         "type": "scattergl",
         "x": [
          "046",
          "047",
          "048",
          "049",
          "050"
         ],
         "xaxis": "x",
         "y": [
          0.04312993747305727,
          0.08272788480532324,
          0.032268007856641794,
          0.012248404178227822,
          0.01163157169037816
         ],
         "yaxis": "y"
        },
        {
         "hovertemplate": "variable=181<br>hours=%{x}<br>value=%{y}<extra></extra>",
         "legendgroup": "181",
         "line": {
          "color": "#EF553B",
          "dash": "solid"
         },
         "marker": {
          "symbol": "circle"
         },
         "mode": "lines",
         "name": "181",
         "showlegend": true,
         "type": "scattergl",
         "x": [
          "046",
          "047",
          "048",
          "049",
          "050"
         ],
         "xaxis": "x",
         "y": [
          0.04192155287770778,
          0.08367672758906505,
          0.03184890376049499,
          0.012150365730459502,
          0.011813319677621417
         ],
         "yaxis": "y"
        },
        {
         "hovertemplate": "variable=182<br>hours=%{x}<br>value=%{y}<extra></extra>",
         "legendgroup": "182",
         "line": {
          "color": "#00cc96",
          "dash": "solid"
         },
         "marker": {
          "symbol": "circle"
         },
         "mode": "lines",
         "name": "182",
         "showlegend": true,
         "type": "scattergl",
         "x": [
          "046",
          "047",
          "048",
          "049",
          "050"
         ],
         "xaxis": "x",
         "y": [
          0.041260210094714804,
          0.08321779775541217,
          0.03177104927105585,
          0.012078762201462678,
          0.011658424301564635
         ],
         "yaxis": "y"
        },
        {
         "hovertemplate": "variable=183<br>hours=%{x}<br>value=%{y}<extra></extra>",
         "legendgroup": "183",
         "line": {
          "color": "#ab63fa",
          "dash": "solid"
         },
         "marker": {
          "symbol": "circle"
         },
         "mode": "lines",
         "name": "183",
         "showlegend": true,
         "type": "scattergl",
         "x": [
          "046",
          "047",
          "048",
          "049",
          "050"
         ],
         "xaxis": "x",
         "y": [
          0.04243700814889311,
          0.08201099687542529,
          0.03256726461364798,
          0.011823230989351945,
          0.01157418686815858
         ],
         "yaxis": "y"
        },
        {
         "hovertemplate": "variable=184<br>hours=%{x}<br>value=%{y}<extra></extra>",
         "legendgroup": "184",
         "line": {
          "color": "#FFA15A",
          "dash": "solid"
         },
         "marker": {
          "symbol": "circle"
         },
         "mode": "lines",
         "name": "184",
         "showlegend": true,
         "type": "scattergl",
         "x": [
          "046",
          "047",
          "048",
          "049",
          "050"
         ],
         "xaxis": "x",
         "y": [
          0.04250335926212402,
          0.08167058752895819,
          0.03263228919219055,
          0.011510575825330027,
          0.011478184315944521
         ],
         "yaxis": "y"
        },
        {
         "hovertemplate": "variable=185<br>hours=%{x}<br>value=%{y}<extra></extra>",
         "legendgroup": "185",
         "line": {
          "color": "#19d3f3",
          "dash": "solid"
         },
         "marker": {
          "symbol": "circle"
         },
         "mode": "lines",
         "name": "185",
         "showlegend": true,
         "type": "scattergl",
         "x": [
          "046",
          "047",
          "048",
          "049",
          "050"
         ],
         "xaxis": "x",
         "y": [
          0.04020732772836793,
          0.0814008152939462,
          0.03185149763370555,
          0.01173959198783719,
          0.011036766161445695
         ],
         "yaxis": "y"
        },
        {
         "hovertemplate": "variable=186<br>hours=%{x}<br>value=%{y}<extra></extra>",
         "legendgroup": "186",
         "line": {
          "color": "#FF6692",
          "dash": "solid"
         },
         "marker": {
          "symbol": "circle"
         },
         "mode": "lines",
         "name": "186",
         "showlegend": true,
         "type": "scattergl",
         "x": [
          "046",
          "047",
          "048",
          "049",
          "050"
         ],
         "xaxis": "x",
         "y": [
          0.039015772344013114,
          0.08271667629560125,
          0.031326579823655276,
          0.012155984211189791,
          0.011117014311010826
         ],
         "yaxis": "y"
        },
        {
         "hovertemplate": "variable=187<br>hours=%{x}<br>value=%{y}<extra></extra>",
         "legendgroup": "187",
         "line": {
          "color": "#B6E880",
          "dash": "solid"
         },
         "marker": {
          "symbol": "circle"
         },
         "mode": "lines",
         "name": "187",
         "showlegend": true,
         "type": "scattergl",
         "x": [
          "046",
          "047",
          "048",
          "049",
          "050"
         ],
         "xaxis": "x",
         "y": [
          0.03962045185520273,
          0.08188434163623237,
          0.03151165096779858,
          0.012309696284853015,
          0.011504160734613252
         ],
         "yaxis": "y"
        },
        {
         "hovertemplate": "variable=188<br>hours=%{x}<br>value=%{y}<extra></extra>",
         "legendgroup": "188",
         "line": {
          "color": "#FF97FF",
          "dash": "solid"
         },
         "marker": {
          "symbol": "circle"
         },
         "mode": "lines",
         "name": "188",
         "showlegend": true,
         "type": "scattergl",
         "x": [
          "046",
          "047",
          "048",
          "049",
          "050"
         ],
         "xaxis": "x",
         "y": [
          0.03893403379528898,
          0.08148747621774514,
          0.030369783546850326,
          0.012170717042506931,
          0.01143849525221254
         ],
         "yaxis": "y"
        },
        {
         "hovertemplate": "variable=189<br>hours=%{x}<br>value=%{y}<extra></extra>",
         "legendgroup": "189",
         "line": {
          "color": "#FECB52",
          "dash": "solid"
         },
         "marker": {
          "symbol": "circle"
         },
         "mode": "lines",
         "name": "189",
         "showlegend": true,
         "type": "scattergl",
         "x": [
          "046",
          "047",
          "048",
          "049",
          "050"
         ],
         "xaxis": "x",
         "y": [
          0.03963986555414701,
          0.08320716736494672,
          0.030893089502926217,
          0.011878632641988362,
          0.011344200475724035
         ],
         "yaxis": "y"
        },
        {
         "hovertemplate": "variable=190<br>hours=%{x}<br>value=%{y}<extra></extra>",
         "legendgroup": "190",
         "line": {
          "color": "#636efa",
          "dash": "solid"
         },
         "marker": {
          "symbol": "circle"
         },
         "mode": "lines",
         "name": "190",
         "showlegend": true,
         "type": "scattergl",
         "x": [
          "046",
          "047",
          "048",
          "049",
          "050"
         ],
         "xaxis": "x",
         "y": [
          0.03977380588976573,
          0.08246206706572067,
          0.031231409030122267,
          0.011406317179837156,
          0.011198236305224759
         ],
         "yaxis": "y"
        },
        {
         "hovertemplate": "variable=191<br>hours=%{x}<br>value=%{y}<extra></extra>",
         "legendgroup": "191",
         "line": {
          "color": "#EF553B",
          "dash": "solid"
         },
         "marker": {
          "symbol": "circle"
         },
         "mode": "lines",
         "name": "191",
         "showlegend": true,
         "type": "scattergl",
         "x": [
          "046",
          "047",
          "048",
          "049",
          "050"
         ],
         "xaxis": "x",
         "y": [
          0.0389058619334698,
          0.08046311394122026,
          0.03099306813151676,
          0.011479511526326203,
          0.01130918155191898
         ],
         "yaxis": "y"
        },
        {
         "hovertemplate": "variable=192<br>hours=%{x}<br>value=%{y}<extra></extra>",
         "legendgroup": "192",
         "line": {
          "color": "#00cc96",
          "dash": "solid"
         },
         "marker": {
          "symbol": "circle"
         },
         "mode": "lines",
         "name": "192",
         "showlegend": true,
         "type": "scattergl",
         "x": [
          "046",
          "047",
          "048",
          "049",
          "050"
         ],
         "xaxis": "x",
         "y": [
          0.038961889615189885,
          0.08042672144531603,
          0.03117739289680481,
          0.011909617526212333,
          0.011174676391930727
         ],
         "yaxis": "y"
        },
        {
         "hovertemplate": "variable=193<br>hours=%{x}<br>value=%{y}<extra></extra>",
         "legendgroup": "193",
         "line": {
          "color": "#ab63fa",
          "dash": "solid"
         },
         "marker": {
          "symbol": "circle"
         },
         "mode": "lines",
         "name": "193",
         "showlegend": true,
         "type": "scattergl",
         "x": [
          "046",
          "047",
          "048",
          "049",
          "050"
         ],
         "xaxis": "x",
         "y": [
          0.039826813048167764,
          0.08001696434333559,
          0.03086516243153205,
          0.012036693414209284,
          0.010974996177248475
         ],
         "yaxis": "y"
        },
        {
         "hovertemplate": "variable=194<br>hours=%{x}<br>value=%{y}<extra></extra>",
         "legendgroup": "194",
         "line": {
          "color": "#FFA15A",
          "dash": "solid"
         },
         "marker": {
          "symbol": "circle"
         },
         "mode": "lines",
         "name": "194",
         "showlegend": true,
         "type": "scattergl",
         "x": [
          "046",
          "047",
          "048",
          "049",
          "050"
         ],
         "xaxis": "x",
         "y": [
          0.03918483344053773,
          0.07945448231185531,
          0.03256698390283558,
          0.012306661186177141,
          0.011941467680839044
         ],
         "yaxis": "y"
        },
        {
         "hovertemplate": "variable=195<br>hours=%{x}<br>value=%{y}<extra></extra>",
         "legendgroup": "195",
         "line": {
          "color": "#19d3f3",
          "dash": "solid"
         },
         "marker": {
          "symbol": "circle"
         },
         "mode": "lines",
         "name": "195",
         "showlegend": true,
         "type": "scattergl",
         "x": [
          "046",
          "047",
          "048",
          "049",
          "050"
         ],
         "xaxis": "x",
         "y": [
          0.04121053235289074,
          0.08587478092305004,
          0.04483174140693966,
          0.01577862696855246,
          0.020801519671488904
         ],
         "yaxis": "y"
        },
        {
         "hovertemplate": "variable=196<br>hours=%{x}<br>value=%{y}<extra></extra>",
         "legendgroup": "196",
         "line": {
          "color": "#FF6692",
          "dash": "solid"
         },
         "marker": {
          "symbol": "circle"
         },
         "mode": "lines",
         "name": "196",
         "showlegend": true,
         "type": "scattergl",
         "x": [
          "046",
          "047",
          "048",
          "049",
          "050"
         ],
         "xaxis": "x",
         "y": [
          0.04014534777446763,
          0.08296815326406741,
          0.03706592694693718,
          0.013909997970641054,
          0.017245419545682924
         ],
         "yaxis": "y"
        },
        {
         "hovertemplate": "variable=197<br>hours=%{x}<br>value=%{y}<extra></extra>",
         "legendgroup": "197",
         "line": {
          "color": "#B6E880",
          "dash": "solid"
         },
         "marker": {
          "symbol": "circle"
         },
         "mode": "lines",
         "name": "197",
         "showlegend": true,
         "type": "scattergl",
         "x": [
          "046",
          "047",
          "048",
          "049",
          "050"
         ],
         "xaxis": "x",
         "y": [
          0.03904218887264216,
          0.07934568366696142,
          0.0312868990919267,
          0.011852927533969122,
          0.011169100579166666
         ],
         "yaxis": "y"
        },
        {
         "hovertemplate": "variable=198<br>hours=%{x}<br>value=%{y}<extra></extra>",
         "legendgroup": "198",
         "line": {
          "color": "#FF97FF",
          "dash": "solid"
         },
         "marker": {
          "symbol": "circle"
         },
         "mode": "lines",
         "name": "198",
         "showlegend": true,
         "type": "scattergl",
         "x": [
          "046",
          "047",
          "048",
          "049",
          "050"
         ],
         "xaxis": "x",
         "y": [
          0.03762496214190766,
          0.07960047009185536,
          0.03072597631403918,
          0.011888043064629553,
          0.01096685907306827
         ],
         "yaxis": "y"
        },
        {
         "hovertemplate": "variable=199<br>hours=%{x}<br>value=%{y}<extra></extra>",
         "legendgroup": "199",
         "line": {
          "color": "#FECB52",
          "dash": "solid"
         },
         "marker": {
          "symbol": "circle"
         },
         "mode": "lines",
         "name": "199",
         "showlegend": true,
         "type": "scattergl",
         "x": [
          "046",
          "047",
          "048",
          "049",
          "050"
         ],
         "xaxis": "x",
         "y": [
          0.03793861164920465,
          0.07995646730752001,
          0.030162008107431807,
          0.011267568355993114,
          0.010836288467492003
         ],
         "yaxis": "y"
        },
        {
         "hovertemplate": "variable=200<br>hours=%{x}<br>value=%{y}<extra></extra>",
         "legendgroup": "200",
         "line": {
          "color": "#636efa",
          "dash": "solid"
         },
         "marker": {
          "symbol": "circle"
         },
         "mode": "lines",
         "name": "200",
         "showlegend": true,
         "type": "scattergl",
         "x": [
          "046",
          "047",
          "048",
          "049",
          "050"
         ],
         "xaxis": "x",
         "y": [
          0.01857296132038988,
          0.04004126217801656,
          0.01481776408834263,
          0.005545324484065366,
          0.005561106452845728
         ],
         "yaxis": "y"
        }
       ],
       "layout": {
        "legend": {
         "title": {
          "text": "variable"
         },
         "tracegroupgap": 0
        },
        "margin": {
         "t": 60
        },
        "template": {
         "data": {
          "bar": [
           {
            "error_x": {
             "color": "#2a3f5f"
            },
            "error_y": {
             "color": "#2a3f5f"
            },
            "marker": {
             "line": {
              "color": "#E5ECF6",
              "width": 0.5
             },
             "pattern": {
              "fillmode": "overlay",
              "size": 10,
              "solidity": 0.2
             }
            },
            "type": "bar"
           }
          ],
          "barpolar": [
           {
            "marker": {
             "line": {
              "color": "#E5ECF6",
              "width": 0.5
             },
             "pattern": {
              "fillmode": "overlay",
              "size": 10,
              "solidity": 0.2
             }
            },
            "type": "barpolar"
           }
          ],
          "carpet": [
           {
            "aaxis": {
             "endlinecolor": "#2a3f5f",
             "gridcolor": "white",
             "linecolor": "white",
             "minorgridcolor": "white",
             "startlinecolor": "#2a3f5f"
            },
            "baxis": {
             "endlinecolor": "#2a3f5f",
             "gridcolor": "white",
             "linecolor": "white",
             "minorgridcolor": "white",
             "startlinecolor": "#2a3f5f"
            },
            "type": "carpet"
           }
          ],
          "choropleth": [
           {
            "colorbar": {
             "outlinewidth": 0,
             "ticks": ""
            },
            "type": "choropleth"
           }
          ],
          "contour": [
           {
            "colorbar": {
             "outlinewidth": 0,
             "ticks": ""
            },
            "colorscale": [
             [
              0,
              "#0d0887"
             ],
             [
              0.1111111111111111,
              "#46039f"
             ],
             [
              0.2222222222222222,
              "#7201a8"
             ],
             [
              0.3333333333333333,
              "#9c179e"
             ],
             [
              0.4444444444444444,
              "#bd3786"
             ],
             [
              0.5555555555555556,
              "#d8576b"
             ],
             [
              0.6666666666666666,
              "#ed7953"
             ],
             [
              0.7777777777777778,
              "#fb9f3a"
             ],
             [
              0.8888888888888888,
              "#fdca26"
             ],
             [
              1,
              "#f0f921"
             ]
            ],
            "type": "contour"
           }
          ],
          "contourcarpet": [
           {
            "colorbar": {
             "outlinewidth": 0,
             "ticks": ""
            },
            "type": "contourcarpet"
           }
          ],
          "heatmap": [
           {
            "colorbar": {
             "outlinewidth": 0,
             "ticks": ""
            },
            "colorscale": [
             [
              0,
              "#0d0887"
             ],
             [
              0.1111111111111111,
              "#46039f"
             ],
             [
              0.2222222222222222,
              "#7201a8"
             ],
             [
              0.3333333333333333,
              "#9c179e"
             ],
             [
              0.4444444444444444,
              "#bd3786"
             ],
             [
              0.5555555555555556,
              "#d8576b"
             ],
             [
              0.6666666666666666,
              "#ed7953"
             ],
             [
              0.7777777777777778,
              "#fb9f3a"
             ],
             [
              0.8888888888888888,
              "#fdca26"
             ],
             [
              1,
              "#f0f921"
             ]
            ],
            "type": "heatmap"
           }
          ],
          "heatmapgl": [
           {
            "colorbar": {
             "outlinewidth": 0,
             "ticks": ""
            },
            "colorscale": [
             [
              0,
              "#0d0887"
             ],
             [
              0.1111111111111111,
              "#46039f"
             ],
             [
              0.2222222222222222,
              "#7201a8"
             ],
             [
              0.3333333333333333,
              "#9c179e"
             ],
             [
              0.4444444444444444,
              "#bd3786"
             ],
             [
              0.5555555555555556,
              "#d8576b"
             ],
             [
              0.6666666666666666,
              "#ed7953"
             ],
             [
              0.7777777777777778,
              "#fb9f3a"
             ],
             [
              0.8888888888888888,
              "#fdca26"
             ],
             [
              1,
              "#f0f921"
             ]
            ],
            "type": "heatmapgl"
           }
          ],
          "histogram": [
           {
            "marker": {
             "pattern": {
              "fillmode": "overlay",
              "size": 10,
              "solidity": 0.2
             }
            },
            "type": "histogram"
           }
          ],
          "histogram2d": [
           {
            "colorbar": {
             "outlinewidth": 0,
             "ticks": ""
            },
            "colorscale": [
             [
              0,
              "#0d0887"
             ],
             [
              0.1111111111111111,
              "#46039f"
             ],
             [
              0.2222222222222222,
              "#7201a8"
             ],
             [
              0.3333333333333333,
              "#9c179e"
             ],
             [
              0.4444444444444444,
              "#bd3786"
             ],
             [
              0.5555555555555556,
              "#d8576b"
             ],
             [
              0.6666666666666666,
              "#ed7953"
             ],
             [
              0.7777777777777778,
              "#fb9f3a"
             ],
             [
              0.8888888888888888,
              "#fdca26"
             ],
             [
              1,
              "#f0f921"
             ]
            ],
            "type": "histogram2d"
           }
          ],
          "histogram2dcontour": [
           {
            "colorbar": {
             "outlinewidth": 0,
             "ticks": ""
            },
            "colorscale": [
             [
              0,
              "#0d0887"
             ],
             [
              0.1111111111111111,
              "#46039f"
             ],
             [
              0.2222222222222222,
              "#7201a8"
             ],
             [
              0.3333333333333333,
              "#9c179e"
             ],
             [
              0.4444444444444444,
              "#bd3786"
             ],
             [
              0.5555555555555556,
              "#d8576b"
             ],
             [
              0.6666666666666666,
              "#ed7953"
             ],
             [
              0.7777777777777778,
              "#fb9f3a"
             ],
             [
              0.8888888888888888,
              "#fdca26"
             ],
             [
              1,
              "#f0f921"
             ]
            ],
            "type": "histogram2dcontour"
           }
          ],
          "mesh3d": [
           {
            "colorbar": {
             "outlinewidth": 0,
             "ticks": ""
            },
            "type": "mesh3d"
           }
          ],
          "parcoords": [
           {
            "line": {
             "colorbar": {
              "outlinewidth": 0,
              "ticks": ""
             }
            },
            "type": "parcoords"
           }
          ],
          "pie": [
           {
            "automargin": true,
            "type": "pie"
           }
          ],
          "scatter": [
           {
            "fillpattern": {
             "fillmode": "overlay",
             "size": 10,
             "solidity": 0.2
            },
            "type": "scatter"
           }
          ],
          "scatter3d": [
           {
            "line": {
             "colorbar": {
              "outlinewidth": 0,
              "ticks": ""
             }
            },
            "marker": {
             "colorbar": {
              "outlinewidth": 0,
              "ticks": ""
             }
            },
            "type": "scatter3d"
           }
          ],
          "scattercarpet": [
           {
            "marker": {
             "colorbar": {
              "outlinewidth": 0,
              "ticks": ""
             }
            },
            "type": "scattercarpet"
           }
          ],
          "scattergeo": [
           {
            "marker": {
             "colorbar": {
              "outlinewidth": 0,
              "ticks": ""
             }
            },
            "type": "scattergeo"
           }
          ],
          "scattergl": [
           {
            "marker": {
             "colorbar": {
              "outlinewidth": 0,
              "ticks": ""
             }
            },
            "type": "scattergl"
           }
          ],
          "scattermapbox": [
           {
            "marker": {
             "colorbar": {
              "outlinewidth": 0,
              "ticks": ""
             }
            },
            "type": "scattermapbox"
           }
          ],
          "scatterpolar": [
           {
            "marker": {
             "colorbar": {
              "outlinewidth": 0,
              "ticks": ""
             }
            },
            "type": "scatterpolar"
           }
          ],
          "scatterpolargl": [
           {
            "marker": {
             "colorbar": {
              "outlinewidth": 0,
              "ticks": ""
             }
            },
            "type": "scatterpolargl"
           }
          ],
          "scatterternary": [
           {
            "marker": {
             "colorbar": {
              "outlinewidth": 0,
              "ticks": ""
             }
            },
            "type": "scatterternary"
           }
          ],
          "surface": [
           {
            "colorbar": {
             "outlinewidth": 0,
             "ticks": ""
            },
            "colorscale": [
             [
              0,
              "#0d0887"
             ],
             [
              0.1111111111111111,
              "#46039f"
             ],
             [
              0.2222222222222222,
              "#7201a8"
             ],
             [
              0.3333333333333333,
              "#9c179e"
             ],
             [
              0.4444444444444444,
              "#bd3786"
             ],
             [
              0.5555555555555556,
              "#d8576b"
             ],
             [
              0.6666666666666666,
              "#ed7953"
             ],
             [
              0.7777777777777778,
              "#fb9f3a"
             ],
             [
              0.8888888888888888,
              "#fdca26"
             ],
             [
              1,
              "#f0f921"
             ]
            ],
            "type": "surface"
           }
          ],
          "table": [
           {
            "cells": {
             "fill": {
              "color": "#EBF0F8"
             },
             "line": {
              "color": "white"
             }
            },
            "header": {
             "fill": {
              "color": "#C8D4E3"
             },
             "line": {
              "color": "white"
             }
            },
            "type": "table"
           }
          ]
         },
         "layout": {
          "annotationdefaults": {
           "arrowcolor": "#2a3f5f",
           "arrowhead": 0,
           "arrowwidth": 1
          },
          "autotypenumbers": "strict",
          "coloraxis": {
           "colorbar": {
            "outlinewidth": 0,
            "ticks": ""
           }
          },
          "colorscale": {
           "diverging": [
            [
             0,
             "#8e0152"
            ],
            [
             0.1,
             "#c51b7d"
            ],
            [
             0.2,
             "#de77ae"
            ],
            [
             0.3,
             "#f1b6da"
            ],
            [
             0.4,
             "#fde0ef"
            ],
            [
             0.5,
             "#f7f7f7"
            ],
            [
             0.6,
             "#e6f5d0"
            ],
            [
             0.7,
             "#b8e186"
            ],
            [
             0.8,
             "#7fbc41"
            ],
            [
             0.9,
             "#4d9221"
            ],
            [
             1,
             "#276419"
            ]
           ],
           "sequential": [
            [
             0,
             "#0d0887"
            ],
            [
             0.1111111111111111,
             "#46039f"
            ],
            [
             0.2222222222222222,
             "#7201a8"
            ],
            [
             0.3333333333333333,
             "#9c179e"
            ],
            [
             0.4444444444444444,
             "#bd3786"
            ],
            [
             0.5555555555555556,
             "#d8576b"
            ],
            [
             0.6666666666666666,
             "#ed7953"
            ],
            [
             0.7777777777777778,
             "#fb9f3a"
            ],
            [
             0.8888888888888888,
             "#fdca26"
            ],
            [
             1,
             "#f0f921"
            ]
           ],
           "sequentialminus": [
            [
             0,
             "#0d0887"
            ],
            [
             0.1111111111111111,
             "#46039f"
            ],
            [
             0.2222222222222222,
             "#7201a8"
            ],
            [
             0.3333333333333333,
             "#9c179e"
            ],
            [
             0.4444444444444444,
             "#bd3786"
            ],
            [
             0.5555555555555556,
             "#d8576b"
            ],
            [
             0.6666666666666666,
             "#ed7953"
            ],
            [
             0.7777777777777778,
             "#fb9f3a"
            ],
            [
             0.8888888888888888,
             "#fdca26"
            ],
            [
             1,
             "#f0f921"
            ]
           ]
          },
          "colorway": [
           "#636efa",
           "#EF553B",
           "#00cc96",
           "#ab63fa",
           "#FFA15A",
           "#19d3f3",
           "#FF6692",
           "#B6E880",
           "#FF97FF",
           "#FECB52"
          ],
          "font": {
           "color": "#2a3f5f"
          },
          "geo": {
           "bgcolor": "white",
           "lakecolor": "white",
           "landcolor": "#E5ECF6",
           "showlakes": true,
           "showland": true,
           "subunitcolor": "white"
          },
          "hoverlabel": {
           "align": "left"
          },
          "hovermode": "closest",
          "mapbox": {
           "style": "light"
          },
          "paper_bgcolor": "white",
          "plot_bgcolor": "#E5ECF6",
          "polar": {
           "angularaxis": {
            "gridcolor": "white",
            "linecolor": "white",
            "ticks": ""
           },
           "bgcolor": "#E5ECF6",
           "radialaxis": {
            "gridcolor": "white",
            "linecolor": "white",
            "ticks": ""
           }
          },
          "scene": {
           "xaxis": {
            "backgroundcolor": "#E5ECF6",
            "gridcolor": "white",
            "gridwidth": 2,
            "linecolor": "white",
            "showbackground": true,
            "ticks": "",
            "zerolinecolor": "white"
           },
           "yaxis": {
            "backgroundcolor": "#E5ECF6",
            "gridcolor": "white",
            "gridwidth": 2,
            "linecolor": "white",
            "showbackground": true,
            "ticks": "",
            "zerolinecolor": "white"
           },
           "zaxis": {
            "backgroundcolor": "#E5ECF6",
            "gridcolor": "white",
            "gridwidth": 2,
            "linecolor": "white",
            "showbackground": true,
            "ticks": "",
            "zerolinecolor": "white"
           }
          },
          "shapedefaults": {
           "line": {
            "color": "#2a3f5f"
           }
          },
          "ternary": {
           "aaxis": {
            "gridcolor": "white",
            "linecolor": "white",
            "ticks": ""
           },
           "baxis": {
            "gridcolor": "white",
            "linecolor": "white",
            "ticks": ""
           },
           "bgcolor": "#E5ECF6",
           "caxis": {
            "gridcolor": "white",
            "linecolor": "white",
            "ticks": ""
           }
          },
          "title": {
           "x": 0.05
          },
          "xaxis": {
           "automargin": true,
           "gridcolor": "white",
           "linecolor": "white",
           "ticks": "",
           "title": {
            "standoff": 15
           },
           "zerolinecolor": "white",
           "zerolinewidth": 2
          },
          "yaxis": {
           "automargin": true,
           "gridcolor": "white",
           "linecolor": "white",
           "ticks": "",
           "title": {
            "standoff": 15
           },
           "zerolinecolor": "white",
           "zerolinewidth": 2
          }
         }
        },
        "xaxis": {
         "anchor": "y",
         "domain": [
          0,
          1
         ],
         "title": {
          "text": "hours"
         }
        },
        "yaxis": {
         "anchor": "x",
         "domain": [
          0,
          1
         ],
         "title": {
          "text": "value"
         }
        }
       }
      },
      "text/html": [
       "<div>                            <div id=\"5c2c64bb-02b7-4f38-9236-ee9e4fa20dcc\" class=\"plotly-graph-div\" style=\"height:525px; width:100%;\"></div>            <script type=\"text/javascript\">                require([\"plotly\"], function(Plotly) {                    window.PLOTLYENV=window.PLOTLYENV || {};                                    if (document.getElementById(\"5c2c64bb-02b7-4f38-9236-ee9e4fa20dcc\")) {                    Plotly.newPlot(                        \"5c2c64bb-02b7-4f38-9236-ee9e4fa20dcc\",                        [{\"hovertemplate\":\"variable=0\\u003cbr\\u003ehours=%{x}\\u003cbr\\u003evalue=%{y}\\u003cextra\\u003e\\u003c\\u002fextra\\u003e\",\"legendgroup\":\"0\",\"line\":{\"color\":\"#636efa\",\"dash\":\"solid\"},\"marker\":{\"symbol\":\"circle\"},\"mode\":\"lines\",\"name\":\"0\",\"showlegend\":true,\"x\":[\"046\",\"047\",\"048\",\"049\",\"050\"],\"xaxis\":\"x\",\"y\":[1.0,1.0,1.0,1.0,1.0],\"yaxis\":\"y\",\"type\":\"scattergl\"},{\"hovertemplate\":\"variable=1\\u003cbr\\u003ehours=%{x}\\u003cbr\\u003evalue=%{y}\\u003cextra\\u003e\\u003c\\u002fextra\\u003e\",\"legendgroup\":\"1\",\"line\":{\"color\":\"#EF553B\",\"dash\":\"solid\"},\"marker\":{\"symbol\":\"circle\"},\"mode\":\"lines\",\"name\":\"1\",\"showlegend\":true,\"x\":[\"046\",\"047\",\"048\",\"049\",\"050\"],\"xaxis\":\"x\",\"y\":[7.4910964516607565,7.5665319969521905,5.875883142504208,9.573741391766156,6.160986528067647],\"yaxis\":\"y\",\"type\":\"scattergl\"},{\"hovertemplate\":\"variable=2\\u003cbr\\u003ehours=%{x}\\u003cbr\\u003evalue=%{y}\\u003cextra\\u003e\\u003c\\u002fextra\\u003e\",\"legendgroup\":\"2\",\"line\":{\"color\":\"#00cc96\",\"dash\":\"solid\"},\"marker\":{\"symbol\":\"circle\"},\"mode\":\"lines\",\"name\":\"2\",\"showlegend\":true,\"x\":[\"046\",\"047\",\"048\",\"049\",\"050\"],\"xaxis\":\"x\",\"y\":[3.526080645813693,5.647891178623161,8.810255938338416,5.624958869172539,9.442169143764191],\"yaxis\":\"y\",\"type\":\"scattergl\"},{\"hovertemplate\":\"variable=3\\u003cbr\\u003ehours=%{x}\\u003cbr\\u003evalue=%{y}\\u003cextra\\u003e\\u003c\\u002fextra\\u003e\",\"legendgroup\":\"3\",\"line\":{\"color\":\"#ab63fa\",\"dash\":\"solid\"},\"marker\":{\"symbol\":\"circle\"},\"mode\":\"lines\",\"name\":\"3\",\"showlegend\":true,\"x\":[\"046\",\"047\",\"048\",\"049\",\"050\"],\"xaxis\":\"x\",\"y\":[2.053736904135685,4.456647535512481,6.001974454509242,2.722868765024529,6.320113871472932],\"yaxis\":\"y\",\"type\":\"scattergl\"},{\"hovertemplate\":\"variable=4\\u003cbr\\u003ehours=%{x}\\u003cbr\\u003evalue=%{y}\\u003cextra\\u003e\\u003c\\u002fextra\\u003e\",\"legendgroup\":\"4\",\"line\":{\"color\":\"#FFA15A\",\"dash\":\"solid\"},\"marker\":{\"symbol\":\"circle\"},\"mode\":\"lines\",\"name\":\"4\",\"showlegend\":true,\"x\":[\"046\",\"047\",\"048\",\"049\",\"050\"],\"xaxis\":\"x\",\"y\":[2.0385410583813752,4.184955843212572,5.573773803620988,2.3611429599423643,5.934767831881958],\"yaxis\":\"y\",\"type\":\"scattergl\"},{\"hovertemplate\":\"variable=5\\u003cbr\\u003ehours=%{x}\\u003cbr\\u003evalue=%{y}\\u003cextra\\u003e\\u003c\\u002fextra\\u003e\",\"legendgroup\":\"5\",\"line\":{\"color\":\"#19d3f3\",\"dash\":\"solid\"},\"marker\":{\"symbol\":\"circle\"},\"mode\":\"lines\",\"name\":\"5\",\"showlegend\":true,\"x\":[\"046\",\"047\",\"048\",\"049\",\"050\"],\"xaxis\":\"x\",\"y\":[3.710862452669908,7.059520140959425,9.22006452799672,3.2974550366985365,8.034044965033557],\"yaxis\":\"y\",\"type\":\"scattergl\"},{\"hovertemplate\":\"variable=6\\u003cbr\\u003ehours=%{x}\\u003cbr\\u003evalue=%{y}\\u003cextra\\u003e\\u003c\\u002fextra\\u003e\",\"legendgroup\":\"6\",\"line\":{\"color\":\"#FF6692\",\"dash\":\"solid\"},\"marker\":{\"symbol\":\"circle\"},\"mode\":\"lines\",\"name\":\"6\",\"showlegend\":true,\"x\":[\"046\",\"047\",\"048\",\"049\",\"050\"],\"xaxis\":\"x\",\"y\":[3.0057703540070073,4.584988856998844,6.469315029915042,2.396726546279493,8.149896277327302],\"yaxis\":\"y\",\"type\":\"scattergl\"},{\"hovertemplate\":\"variable=7\\u003cbr\\u003ehours=%{x}\\u003cbr\\u003evalue=%{y}\\u003cextra\\u003e\\u003c\\u002fextra\\u003e\",\"legendgroup\":\"7\",\"line\":{\"color\":\"#B6E880\",\"dash\":\"solid\"},\"marker\":{\"symbol\":\"circle\"},\"mode\":\"lines\",\"name\":\"7\",\"showlegend\":true,\"x\":[\"046\",\"047\",\"048\",\"049\",\"050\"],\"xaxis\":\"x\",\"y\":[1.385214299547204,2.1590217565724847,2.46566368830978,0.866009123485356,3.3543894425256755],\"yaxis\":\"y\",\"type\":\"scattergl\"},{\"hovertemplate\":\"variable=8\\u003cbr\\u003ehours=%{x}\\u003cbr\\u003evalue=%{y}\\u003cextra\\u003e\\u003c\\u002fextra\\u003e\",\"legendgroup\":\"8\",\"line\":{\"color\":\"#FF97FF\",\"dash\":\"solid\"},\"marker\":{\"symbol\":\"circle\"},\"mode\":\"lines\",\"name\":\"8\",\"showlegend\":true,\"x\":[\"046\",\"047\",\"048\",\"049\",\"050\"],\"xaxis\":\"x\",\"y\":[1.138707341286036,1.7982618666903216,1.7861181877961207,0.5930118106171923,1.716728061191174],\"yaxis\":\"y\",\"type\":\"scattergl\"},{\"hovertemplate\":\"variable=9\\u003cbr\\u003ehours=%{x}\\u003cbr\\u003evalue=%{y}\\u003cextra\\u003e\\u003c\\u002fextra\\u003e\",\"legendgroup\":\"9\",\"line\":{\"color\":\"#FECB52\",\"dash\":\"solid\"},\"marker\":{\"symbol\":\"circle\"},\"mode\":\"lines\",\"name\":\"9\",\"showlegend\":true,\"x\":[\"046\",\"047\",\"048\",\"049\",\"050\"],\"xaxis\":\"x\",\"y\":[0.7842785895950363,1.4196645838949662,1.619975456895972,0.5307043401847874,1.3533545592547913],\"yaxis\":\"y\",\"type\":\"scattergl\"},{\"hovertemplate\":\"variable=10\\u003cbr\\u003ehours=%{x}\\u003cbr\\u003evalue=%{y}\\u003cextra\\u003e\\u003c\\u002fextra\\u003e\",\"legendgroup\":\"10\",\"line\":{\"color\":\"#636efa\",\"dash\":\"solid\"},\"marker\":{\"symbol\":\"circle\"},\"mode\":\"lines\",\"name\":\"10\",\"showlegend\":true,\"x\":[\"046\",\"047\",\"048\",\"049\",\"050\"],\"xaxis\":\"x\",\"y\":[0.6345497105214459,0.970960597791328,0.9942877760690847,0.4288547503088248,1.0925437327181566],\"yaxis\":\"y\",\"type\":\"scattergl\"},{\"hovertemplate\":\"variable=11\\u003cbr\\u003ehours=%{x}\\u003cbr\\u003evalue=%{y}\\u003cextra\\u003e\\u003c\\u002fextra\\u003e\",\"legendgroup\":\"11\",\"line\":{\"color\":\"#EF553B\",\"dash\":\"solid\"},\"marker\":{\"symbol\":\"circle\"},\"mode\":\"lines\",\"name\":\"11\",\"showlegend\":true,\"x\":[\"046\",\"047\",\"048\",\"049\",\"050\"],\"xaxis\":\"x\",\"y\":[0.5566232017115919,0.8987186861521297,0.8070479700799351,0.29904443078595305,0.7105128338460202],\"yaxis\":\"y\",\"type\":\"scattergl\"},{\"hovertemplate\":\"variable=12\\u003cbr\\u003ehours=%{x}\\u003cbr\\u003evalue=%{y}\\u003cextra\\u003e\\u003c\\u002fextra\\u003e\",\"legendgroup\":\"12\",\"line\":{\"color\":\"#00cc96\",\"dash\":\"solid\"},\"marker\":{\"symbol\":\"circle\"},\"mode\":\"lines\",\"name\":\"12\",\"showlegend\":true,\"x\":[\"046\",\"047\",\"048\",\"049\",\"050\"],\"xaxis\":\"x\",\"y\":[0.6108434871999359,1.1121814866571822,0.8206217586318161,0.2778450937935357,0.6238122918263438],\"yaxis\":\"y\",\"type\":\"scattergl\"},{\"hovertemplate\":\"variable=13\\u003cbr\\u003ehours=%{x}\\u003cbr\\u003evalue=%{y}\\u003cextra\\u003e\\u003c\\u002fextra\\u003e\",\"legendgroup\":\"13\",\"line\":{\"color\":\"#ab63fa\",\"dash\":\"solid\"},\"marker\":{\"symbol\":\"circle\"},\"mode\":\"lines\",\"name\":\"13\",\"showlegend\":true,\"x\":[\"046\",\"047\",\"048\",\"049\",\"050\"],\"xaxis\":\"x\",\"y\":[0.7693857636905039,1.2708813401877617,1.0480394052677433,0.37946412606437957,0.837034377093158],\"yaxis\":\"y\",\"type\":\"scattergl\"},{\"hovertemplate\":\"variable=14\\u003cbr\\u003ehours=%{x}\\u003cbr\\u003evalue=%{y}\\u003cextra\\u003e\\u003c\\u002fextra\\u003e\",\"legendgroup\":\"14\",\"line\":{\"color\":\"#FFA15A\",\"dash\":\"solid\"},\"marker\":{\"symbol\":\"circle\"},\"mode\":\"lines\",\"name\":\"14\",\"showlegend\":true,\"x\":[\"046\",\"047\",\"048\",\"049\",\"050\"],\"xaxis\":\"x\",\"y\":[0.7787306809532794,1.2818648143967803,1.1812267180035845,0.3762873590762158,0.7872528465522006],\"yaxis\":\"y\",\"type\":\"scattergl\"},{\"hovertemplate\":\"variable=15\\u003cbr\\u003ehours=%{x}\\u003cbr\\u003evalue=%{y}\\u003cextra\\u003e\\u003c\\u002fextra\\u003e\",\"legendgroup\":\"15\",\"line\":{\"color\":\"#19d3f3\",\"dash\":\"solid\"},\"marker\":{\"symbol\":\"circle\"},\"mode\":\"lines\",\"name\":\"15\",\"showlegend\":true,\"x\":[\"046\",\"047\",\"048\",\"049\",\"050\"],\"xaxis\":\"x\",\"y\":[0.7459993177482359,1.2570521417174698,1.2293815772579717,0.444054913195725,0.8546027001052113],\"yaxis\":\"y\",\"type\":\"scattergl\"},{\"hovertemplate\":\"variable=16\\u003cbr\\u003ehours=%{x}\\u003cbr\\u003evalue=%{y}\\u003cextra\\u003e\\u003c\\u002fextra\\u003e\",\"legendgroup\":\"16\",\"line\":{\"color\":\"#FF6692\",\"dash\":\"solid\"},\"marker\":{\"symbol\":\"circle\"},\"mode\":\"lines\",\"name\":\"16\",\"showlegend\":true,\"x\":[\"046\",\"047\",\"048\",\"049\",\"050\"],\"xaxis\":\"x\",\"y\":[0.7063878574354548,1.207891074664804,1.1800640966954832,0.3627405192793186,0.7016646892717159],\"yaxis\":\"y\",\"type\":\"scattergl\"},{\"hovertemplate\":\"variable=17\\u003cbr\\u003ehours=%{x}\\u003cbr\\u003evalue=%{y}\\u003cextra\\u003e\\u003c\\u002fextra\\u003e\",\"legendgroup\":\"17\",\"line\":{\"color\":\"#B6E880\",\"dash\":\"solid\"},\"marker\":{\"symbol\":\"circle\"},\"mode\":\"lines\",\"name\":\"17\",\"showlegend\":true,\"x\":[\"046\",\"047\",\"048\",\"049\",\"050\"],\"xaxis\":\"x\",\"y\":[0.701933485890446,1.0750491740325712,1.0741110009208445,0.3956819090254127,0.7479372028474683],\"yaxis\":\"y\",\"type\":\"scattergl\"},{\"hovertemplate\":\"variable=18\\u003cbr\\u003ehours=%{x}\\u003cbr\\u003evalue=%{y}\\u003cextra\\u003e\\u003c\\u002fextra\\u003e\",\"legendgroup\":\"18\",\"line\":{\"color\":\"#FF97FF\",\"dash\":\"solid\"},\"marker\":{\"symbol\":\"circle\"},\"mode\":\"lines\",\"name\":\"18\",\"showlegend\":true,\"x\":[\"046\",\"047\",\"048\",\"049\",\"050\"],\"xaxis\":\"x\",\"y\":[0.6891670420020249,0.9497458494731117,0.8924146063839817,0.3042953241516477,0.5635109028080753],\"yaxis\":\"y\",\"type\":\"scattergl\"},{\"hovertemplate\":\"variable=19\\u003cbr\\u003ehours=%{x}\\u003cbr\\u003evalue=%{y}\\u003cextra\\u003e\\u003c\\u002fextra\\u003e\",\"legendgroup\":\"19\",\"line\":{\"color\":\"#FECB52\",\"dash\":\"solid\"},\"marker\":{\"symbol\":\"circle\"},\"mode\":\"lines\",\"name\":\"19\",\"showlegend\":true,\"x\":[\"046\",\"047\",\"048\",\"049\",\"050\"],\"xaxis\":\"x\",\"y\":[0.7105640642914816,0.9269597914921783,0.8749012462182066,0.3135805010765907,0.5612642553884752],\"yaxis\":\"y\",\"type\":\"scattergl\"},{\"hovertemplate\":\"variable=20\\u003cbr\\u003ehours=%{x}\\u003cbr\\u003evalue=%{y}\\u003cextra\\u003e\\u003c\\u002fextra\\u003e\",\"legendgroup\":\"20\",\"line\":{\"color\":\"#636efa\",\"dash\":\"solid\"},\"marker\":{\"symbol\":\"circle\"},\"mode\":\"lines\",\"name\":\"20\",\"showlegend\":true,\"x\":[\"046\",\"047\",\"048\",\"049\",\"050\"],\"xaxis\":\"x\",\"y\":[0.6956087059982179,0.9000412778949713,0.8920007699513448,0.30438742685732684,0.5711197200113457],\"yaxis\":\"y\",\"type\":\"scattergl\"},{\"hovertemplate\":\"variable=21\\u003cbr\\u003ehours=%{x}\\u003cbr\\u003evalue=%{y}\\u003cextra\\u003e\\u003c\\u002fextra\\u003e\",\"legendgroup\":\"21\",\"line\":{\"color\":\"#EF553B\",\"dash\":\"solid\"},\"marker\":{\"symbol\":\"circle\"},\"mode\":\"lines\",\"name\":\"21\",\"showlegend\":true,\"x\":[\"046\",\"047\",\"048\",\"049\",\"050\"],\"xaxis\":\"x\",\"y\":[0.6785919346189483,0.8540222976479446,0.8333665636265808,0.3092736591314687,0.6226378776527417],\"yaxis\":\"y\",\"type\":\"scattergl\"},{\"hovertemplate\":\"variable=22\\u003cbr\\u003ehours=%{x}\\u003cbr\\u003evalue=%{y}\\u003cextra\\u003e\\u003c\\u002fextra\\u003e\",\"legendgroup\":\"22\",\"line\":{\"color\":\"#00cc96\",\"dash\":\"solid\"},\"marker\":{\"symbol\":\"circle\"},\"mode\":\"lines\",\"name\":\"22\",\"showlegend\":true,\"x\":[\"046\",\"047\",\"048\",\"049\",\"050\"],\"xaxis\":\"x\",\"y\":[0.6226834042980824,0.8386528357045991,0.7483808451309247,0.2645699314658764,0.5194926032617834],\"yaxis\":\"y\",\"type\":\"scattergl\"},{\"hovertemplate\":\"variable=23\\u003cbr\\u003ehours=%{x}\\u003cbr\\u003evalue=%{y}\\u003cextra\\u003e\\u003c\\u002fextra\\u003e\",\"legendgroup\":\"23\",\"line\":{\"color\":\"#ab63fa\",\"dash\":\"solid\"},\"marker\":{\"symbol\":\"circle\"},\"mode\":\"lines\",\"name\":\"23\",\"showlegend\":true,\"x\":[\"046\",\"047\",\"048\",\"049\",\"050\"],\"xaxis\":\"x\",\"y\":[0.6122093436158637,0.874859961107324,0.7280056780783489,0.250753629069348,0.476746230827351],\"yaxis\":\"y\",\"type\":\"scattergl\"},{\"hovertemplate\":\"variable=24\\u003cbr\\u003ehours=%{x}\\u003cbr\\u003evalue=%{y}\\u003cextra\\u003e\\u003c\\u002fextra\\u003e\",\"legendgroup\":\"24\",\"line\":{\"color\":\"#FFA15A\",\"dash\":\"solid\"},\"marker\":{\"symbol\":\"circle\"},\"mode\":\"lines\",\"name\":\"24\",\"showlegend\":true,\"x\":[\"046\",\"047\",\"048\",\"049\",\"050\"],\"xaxis\":\"x\",\"y\":[0.5939464468520653,0.9031011029789077,0.6706555067405953,0.2265145151174121,0.42117573766810107],\"yaxis\":\"y\",\"type\":\"scattergl\"},{\"hovertemplate\":\"variable=25\\u003cbr\\u003ehours=%{x}\\u003cbr\\u003evalue=%{y}\\u003cextra\\u003e\\u003c\\u002fextra\\u003e\",\"legendgroup\":\"25\",\"line\":{\"color\":\"#19d3f3\",\"dash\":\"solid\"},\"marker\":{\"symbol\":\"circle\"},\"mode\":\"lines\",\"name\":\"25\",\"showlegend\":true,\"x\":[\"046\",\"047\",\"048\",\"049\",\"050\"],\"xaxis\":\"x\",\"y\":[0.6062183847931422,0.932186153735545,0.6599799640610672,0.21503000531291405,0.391954936946213],\"yaxis\":\"y\",\"type\":\"scattergl\"},{\"hovertemplate\":\"variable=26\\u003cbr\\u003ehours=%{x}\\u003cbr\\u003evalue=%{y}\\u003cextra\\u003e\\u003c\\u002fextra\\u003e\",\"legendgroup\":\"26\",\"line\":{\"color\":\"#FF6692\",\"dash\":\"solid\"},\"marker\":{\"symbol\":\"circle\"},\"mode\":\"lines\",\"name\":\"26\",\"showlegend\":true,\"x\":[\"046\",\"047\",\"048\",\"049\",\"050\"],\"xaxis\":\"x\",\"y\":[0.591358858858106,0.9187846711950064,0.687746405811103,0.22573176120342608,0.3937895533367022],\"yaxis\":\"y\",\"type\":\"scattergl\"},{\"hovertemplate\":\"variable=27\\u003cbr\\u003ehours=%{x}\\u003cbr\\u003evalue=%{y}\\u003cextra\\u003e\\u003c\\u002fextra\\u003e\",\"legendgroup\":\"27\",\"line\":{\"color\":\"#B6E880\",\"dash\":\"solid\"},\"marker\":{\"symbol\":\"circle\"},\"mode\":\"lines\",\"name\":\"27\",\"showlegend\":true,\"x\":[\"046\",\"047\",\"048\",\"049\",\"050\"],\"xaxis\":\"x\",\"y\":[0.5883979077461171,0.864102623211155,0.6313059022221533,0.21493167522141593,0.3947191344748441],\"yaxis\":\"y\",\"type\":\"scattergl\"},{\"hovertemplate\":\"variable=28\\u003cbr\\u003ehours=%{x}\\u003cbr\\u003evalue=%{y}\\u003cextra\\u003e\\u003c\\u002fextra\\u003e\",\"legendgroup\":\"28\",\"line\":{\"color\":\"#FF97FF\",\"dash\":\"solid\"},\"marker\":{\"symbol\":\"circle\"},\"mode\":\"lines\",\"name\":\"28\",\"showlegend\":true,\"x\":[\"046\",\"047\",\"048\",\"049\",\"050\"],\"xaxis\":\"x\",\"y\":[0.560121118544136,0.8039400516207901,0.5292036353837906,0.19127953199049483,0.3547680427026611],\"yaxis\":\"y\",\"type\":\"scattergl\"},{\"hovertemplate\":\"variable=29\\u003cbr\\u003ehours=%{x}\\u003cbr\\u003evalue=%{y}\\u003cextra\\u003e\\u003c\\u002fextra\\u003e\",\"legendgroup\":\"29\",\"line\":{\"color\":\"#FECB52\",\"dash\":\"solid\"},\"marker\":{\"symbol\":\"circle\"},\"mode\":\"lines\",\"name\":\"29\",\"showlegend\":true,\"x\":[\"046\",\"047\",\"048\",\"049\",\"050\"],\"xaxis\":\"x\",\"y\":[0.5540248500877436,0.7357393602577884,0.4450448130690059,0.15798931843917546,0.2878420983808118],\"yaxis\":\"y\",\"type\":\"scattergl\"},{\"hovertemplate\":\"variable=30\\u003cbr\\u003ehours=%{x}\\u003cbr\\u003evalue=%{y}\\u003cextra\\u003e\\u003c\\u002fextra\\u003e\",\"legendgroup\":\"30\",\"line\":{\"color\":\"#636efa\",\"dash\":\"solid\"},\"marker\":{\"symbol\":\"circle\"},\"mode\":\"lines\",\"name\":\"30\",\"showlegend\":true,\"x\":[\"046\",\"047\",\"048\",\"049\",\"050\"],\"xaxis\":\"x\",\"y\":[0.5307993379844866,0.7007149565054592,0.39505289372261915,0.1375005395328891,0.22755215143454707],\"yaxis\":\"y\",\"type\":\"scattergl\"},{\"hovertemplate\":\"variable=31\\u003cbr\\u003ehours=%{x}\\u003cbr\\u003evalue=%{y}\\u003cextra\\u003e\\u003c\\u002fextra\\u003e\",\"legendgroup\":\"31\",\"line\":{\"color\":\"#EF553B\",\"dash\":\"solid\"},\"marker\":{\"symbol\":\"circle\"},\"mode\":\"lines\",\"name\":\"31\",\"showlegend\":true,\"x\":[\"046\",\"047\",\"048\",\"049\",\"050\"],\"xaxis\":\"x\",\"y\":[0.5486296240118741,0.6871275490870695,0.3838262420605396,0.12506985728471023,0.18808614406533303],\"yaxis\":\"y\",\"type\":\"scattergl\"},{\"hovertemplate\":\"variable=32\\u003cbr\\u003ehours=%{x}\\u003cbr\\u003evalue=%{y}\\u003cextra\\u003e\\u003c\\u002fextra\\u003e\",\"legendgroup\":\"32\",\"line\":{\"color\":\"#00cc96\",\"dash\":\"solid\"},\"marker\":{\"symbol\":\"circle\"},\"mode\":\"lines\",\"name\":\"32\",\"showlegend\":true,\"x\":[\"046\",\"047\",\"048\",\"049\",\"050\"],\"xaxis\":\"x\",\"y\":[0.5238657719761468,0.6682124037056651,0.3930399216324297,0.12393926208816894,0.18219515065150527],\"yaxis\":\"y\",\"type\":\"scattergl\"},{\"hovertemplate\":\"variable=33\\u003cbr\\u003ehours=%{x}\\u003cbr\\u003evalue=%{y}\\u003cextra\\u003e\\u003c\\u002fextra\\u003e\",\"legendgroup\":\"33\",\"line\":{\"color\":\"#ab63fa\",\"dash\":\"solid\"},\"marker\":{\"symbol\":\"circle\"},\"mode\":\"lines\",\"name\":\"33\",\"showlegend\":true,\"x\":[\"046\",\"047\",\"048\",\"049\",\"050\"],\"xaxis\":\"x\",\"y\":[0.510661925078676,0.6636718665211465,0.385130376800376,0.12361449747231866,0.18331860745212894],\"yaxis\":\"y\",\"type\":\"scattergl\"},{\"hovertemplate\":\"variable=34\\u003cbr\\u003ehours=%{x}\\u003cbr\\u003evalue=%{y}\\u003cextra\\u003e\\u003c\\u002fextra\\u003e\",\"legendgroup\":\"34\",\"line\":{\"color\":\"#FFA15A\",\"dash\":\"solid\"},\"marker\":{\"symbol\":\"circle\"},\"mode\":\"lines\",\"name\":\"34\",\"showlegend\":true,\"x\":[\"046\",\"047\",\"048\",\"049\",\"050\"],\"xaxis\":\"x\",\"y\":[0.49095217966545873,0.6540734661531649,0.3440041024811193,0.12199838843642989,0.18035861989247268],\"yaxis\":\"y\",\"type\":\"scattergl\"},{\"hovertemplate\":\"variable=35\\u003cbr\\u003ehours=%{x}\\u003cbr\\u003evalue=%{y}\\u003cextra\\u003e\\u003c\\u002fextra\\u003e\",\"legendgroup\":\"35\",\"line\":{\"color\":\"#19d3f3\",\"dash\":\"solid\"},\"marker\":{\"symbol\":\"circle\"},\"mode\":\"lines\",\"name\":\"35\",\"showlegend\":true,\"x\":[\"046\",\"047\",\"048\",\"049\",\"050\"],\"xaxis\":\"x\",\"y\":[0.49899185209207414,0.6054870237000739,0.3143184722934425,0.11395919589171379,0.1654356357580691],\"yaxis\":\"y\",\"type\":\"scattergl\"},{\"hovertemplate\":\"variable=36\\u003cbr\\u003ehours=%{x}\\u003cbr\\u003evalue=%{y}\\u003cextra\\u003e\\u003c\\u002fextra\\u003e\",\"legendgroup\":\"36\",\"line\":{\"color\":\"#FF6692\",\"dash\":\"solid\"},\"marker\":{\"symbol\":\"circle\"},\"mode\":\"lines\",\"name\":\"36\",\"showlegend\":true,\"x\":[\"046\",\"047\",\"048\",\"049\",\"050\"],\"xaxis\":\"x\",\"y\":[0.5247768916526991,0.5968053710220717,0.29043176173191787,0.10395946795464651,0.1429686402125],\"yaxis\":\"y\",\"type\":\"scattergl\"},{\"hovertemplate\":\"variable=37\\u003cbr\\u003ehours=%{x}\\u003cbr\\u003evalue=%{y}\\u003cextra\\u003e\\u003c\\u002fextra\\u003e\",\"legendgroup\":\"37\",\"line\":{\"color\":\"#B6E880\",\"dash\":\"solid\"},\"marker\":{\"symbol\":\"circle\"},\"mode\":\"lines\",\"name\":\"37\",\"showlegend\":true,\"x\":[\"046\",\"047\",\"048\",\"049\",\"050\"],\"xaxis\":\"x\",\"y\":[0.5128649550632112,0.5927284658053419,0.27546683168735064,0.10100455474407032,0.12403710093796952],\"yaxis\":\"y\",\"type\":\"scattergl\"},{\"hovertemplate\":\"variable=38\\u003cbr\\u003ehours=%{x}\\u003cbr\\u003evalue=%{y}\\u003cextra\\u003e\\u003c\\u002fextra\\u003e\",\"legendgroup\":\"38\",\"line\":{\"color\":\"#FF97FF\",\"dash\":\"solid\"},\"marker\":{\"symbol\":\"circle\"},\"mode\":\"lines\",\"name\":\"38\",\"showlegend\":true,\"x\":[\"046\",\"047\",\"048\",\"049\",\"050\"],\"xaxis\":\"x\",\"y\":[0.5028961392224977,0.5753437355433424,0.2624082456827524,0.08930998592342988,0.1037871068340881],\"yaxis\":\"y\",\"type\":\"scattergl\"},{\"hovertemplate\":\"variable=39\\u003cbr\\u003ehours=%{x}\\u003cbr\\u003evalue=%{y}\\u003cextra\\u003e\\u003c\\u002fextra\\u003e\",\"legendgroup\":\"39\",\"line\":{\"color\":\"#FECB52\",\"dash\":\"solid\"},\"marker\":{\"symbol\":\"circle\"},\"mode\":\"lines\",\"name\":\"39\",\"showlegend\":true,\"x\":[\"046\",\"047\",\"048\",\"049\",\"050\"],\"xaxis\":\"x\",\"y\":[0.507135602119659,0.5615000750427824,0.25280512201781824,0.08162996627442791,0.09103243198105045],\"yaxis\":\"y\",\"type\":\"scattergl\"},{\"hovertemplate\":\"variable=40\\u003cbr\\u003ehours=%{x}\\u003cbr\\u003evalue=%{y}\\u003cextra\\u003e\\u003c\\u002fextra\\u003e\",\"legendgroup\":\"40\",\"line\":{\"color\":\"#636efa\",\"dash\":\"solid\"},\"marker\":{\"symbol\":\"circle\"},\"mode\":\"lines\",\"name\":\"40\",\"showlegend\":true,\"x\":[\"046\",\"047\",\"048\",\"049\",\"050\"],\"xaxis\":\"x\",\"y\":[0.511481736277321,0.5374880339684562,0.24351594008632665,0.07930342046541872,0.08237553388192567],\"yaxis\":\"y\",\"type\":\"scattergl\"},{\"hovertemplate\":\"variable=41\\u003cbr\\u003ehours=%{x}\\u003cbr\\u003evalue=%{y}\\u003cextra\\u003e\\u003c\\u002fextra\\u003e\",\"legendgroup\":\"41\",\"line\":{\"color\":\"#EF553B\",\"dash\":\"solid\"},\"marker\":{\"symbol\":\"circle\"},\"mode\":\"lines\",\"name\":\"41\",\"showlegend\":true,\"x\":[\"046\",\"047\",\"048\",\"049\",\"050\"],\"xaxis\":\"x\",\"y\":[0.5149446517376055,0.5415288825329942,0.2338355474845258,0.08133943741264704,0.07838299310565136],\"yaxis\":\"y\",\"type\":\"scattergl\"},{\"hovertemplate\":\"variable=42\\u003cbr\\u003ehours=%{x}\\u003cbr\\u003evalue=%{y}\\u003cextra\\u003e\\u003c\\u002fextra\\u003e\",\"legendgroup\":\"42\",\"line\":{\"color\":\"#00cc96\",\"dash\":\"solid\"},\"marker\":{\"symbol\":\"circle\"},\"mode\":\"lines\",\"name\":\"42\",\"showlegend\":true,\"x\":[\"046\",\"047\",\"048\",\"049\",\"050\"],\"xaxis\":\"x\",\"y\":[0.5069186651998332,0.5637927241318913,0.22646677086695075,0.08033189955652667,0.07398283025151071],\"yaxis\":\"y\",\"type\":\"scattergl\"},{\"hovertemplate\":\"variable=43\\u003cbr\\u003ehours=%{x}\\u003cbr\\u003evalue=%{y}\\u003cextra\\u003e\\u003c\\u002fextra\\u003e\",\"legendgroup\":\"43\",\"line\":{\"color\":\"#ab63fa\",\"dash\":\"solid\"},\"marker\":{\"symbol\":\"circle\"},\"mode\":\"lines\",\"name\":\"43\",\"showlegend\":true,\"x\":[\"046\",\"047\",\"048\",\"049\",\"050\"],\"xaxis\":\"x\",\"y\":[0.5271445940771434,0.5586934415759116,0.218681967081328,0.07787307603427063,0.06894792785349979],\"yaxis\":\"y\",\"type\":\"scattergl\"},{\"hovertemplate\":\"variable=44\\u003cbr\\u003ehours=%{x}\\u003cbr\\u003evalue=%{y}\\u003cextra\\u003e\\u003c\\u002fextra\\u003e\",\"legendgroup\":\"44\",\"line\":{\"color\":\"#FFA15A\",\"dash\":\"solid\"},\"marker\":{\"symbol\":\"circle\"},\"mode\":\"lines\",\"name\":\"44\",\"showlegend\":true,\"x\":[\"046\",\"047\",\"048\",\"049\",\"050\"],\"xaxis\":\"x\",\"y\":[0.5092128704034873,0.5375411924432271,0.21081635074748103,0.072905464367619,0.06326672875377834],\"yaxis\":\"y\",\"type\":\"scattergl\"},{\"hovertemplate\":\"variable=45\\u003cbr\\u003ehours=%{x}\\u003cbr\\u003evalue=%{y}\\u003cextra\\u003e\\u003c\\u002fextra\\u003e\",\"legendgroup\":\"45\",\"line\":{\"color\":\"#19d3f3\",\"dash\":\"solid\"},\"marker\":{\"symbol\":\"circle\"},\"mode\":\"lines\",\"name\":\"45\",\"showlegend\":true,\"x\":[\"046\",\"047\",\"048\",\"049\",\"050\"],\"xaxis\":\"x\",\"y\":[0.49584634031572566,0.5485092767145006,0.19778183872815894,0.06604421020238324,0.0556739047593915],\"yaxis\":\"y\",\"type\":\"scattergl\"},{\"hovertemplate\":\"variable=46\\u003cbr\\u003ehours=%{x}\\u003cbr\\u003evalue=%{y}\\u003cextra\\u003e\\u003c\\u002fextra\\u003e\",\"legendgroup\":\"46\",\"line\":{\"color\":\"#FF6692\",\"dash\":\"solid\"},\"marker\":{\"symbol\":\"circle\"},\"mode\":\"lines\",\"name\":\"46\",\"showlegend\":true,\"x\":[\"046\",\"047\",\"048\",\"049\",\"050\"],\"xaxis\":\"x\",\"y\":[0.4999041246798408,0.5456958213259573,0.19486248128008057,0.06674457700766587,0.05079132383322836],\"yaxis\":\"y\",\"type\":\"scattergl\"},{\"hovertemplate\":\"variable=47\\u003cbr\\u003ehours=%{x}\\u003cbr\\u003evalue=%{y}\\u003cextra\\u003e\\u003c\\u002fextra\\u003e\",\"legendgroup\":\"47\",\"line\":{\"color\":\"#B6E880\",\"dash\":\"solid\"},\"marker\":{\"symbol\":\"circle\"},\"mode\":\"lines\",\"name\":\"47\",\"showlegend\":true,\"x\":[\"046\",\"047\",\"048\",\"049\",\"050\"],\"xaxis\":\"x\",\"y\":[0.5150736500019649,0.5519868189615004,0.19280263366688166,0.06693536894940608,0.04855966188139051],\"yaxis\":\"y\",\"type\":\"scattergl\"},{\"hovertemplate\":\"variable=48\\u003cbr\\u003ehours=%{x}\\u003cbr\\u003evalue=%{y}\\u003cextra\\u003e\\u003c\\u002fextra\\u003e\",\"legendgroup\":\"48\",\"line\":{\"color\":\"#FF97FF\",\"dash\":\"solid\"},\"marker\":{\"symbol\":\"circle\"},\"mode\":\"lines\",\"name\":\"48\",\"showlegend\":true,\"x\":[\"046\",\"047\",\"048\",\"049\",\"050\"],\"xaxis\":\"x\",\"y\":[0.875519002156439,1.0589109210243064,0.6432355729925254,0.6225093776585988,0.18481113282775433],\"yaxis\":\"y\",\"type\":\"scattergl\"},{\"hovertemplate\":\"variable=49\\u003cbr\\u003ehours=%{x}\\u003cbr\\u003evalue=%{y}\\u003cextra\\u003e\\u003c\\u002fextra\\u003e\",\"legendgroup\":\"49\",\"line\":{\"color\":\"#FECB52\",\"dash\":\"solid\"},\"marker\":{\"symbol\":\"circle\"},\"mode\":\"lines\",\"name\":\"49\",\"showlegend\":true,\"x\":[\"046\",\"047\",\"048\",\"049\",\"050\"],\"xaxis\":\"x\",\"y\":[1.4307610172711713,1.783462318465221,1.2027775625396382,1.4207886067174325,0.38273597405585874],\"yaxis\":\"y\",\"type\":\"scattergl\"},{\"hovertemplate\":\"variable=50\\u003cbr\\u003ehours=%{x}\\u003cbr\\u003evalue=%{y}\\u003cextra\\u003e\\u003c\\u002fextra\\u003e\",\"legendgroup\":\"50\",\"line\":{\"color\":\"#636efa\",\"dash\":\"solid\"},\"marker\":{\"symbol\":\"circle\"},\"mode\":\"lines\",\"name\":\"50\",\"showlegend\":true,\"x\":[\"046\",\"047\",\"048\",\"049\",\"050\"],\"xaxis\":\"x\",\"y\":[0.6243786693050778,0.6935194281157683,0.316015617574175,0.25765552012686516,0.09198087118606592],\"yaxis\":\"y\",\"type\":\"scattergl\"},{\"hovertemplate\":\"variable=51\\u003cbr\\u003ehours=%{x}\\u003cbr\\u003evalue=%{y}\\u003cextra\\u003e\\u003c\\u002fextra\\u003e\",\"legendgroup\":\"51\",\"line\":{\"color\":\"#EF553B\",\"dash\":\"solid\"},\"marker\":{\"symbol\":\"circle\"},\"mode\":\"lines\",\"name\":\"51\",\"showlegend\":true,\"x\":[\"046\",\"047\",\"048\",\"049\",\"050\"],\"xaxis\":\"x\",\"y\":[0.48170662762029853,0.5076760321868644,0.17898039878032396,0.05947689442034992,0.04256159591765715],\"yaxis\":\"y\",\"type\":\"scattergl\"},{\"hovertemplate\":\"variable=52\\u003cbr\\u003ehours=%{x}\\u003cbr\\u003evalue=%{y}\\u003cextra\\u003e\\u003c\\u002fextra\\u003e\",\"legendgroup\":\"52\",\"line\":{\"color\":\"#00cc96\",\"dash\":\"solid\"},\"marker\":{\"symbol\":\"circle\"},\"mode\":\"lines\",\"name\":\"52\",\"showlegend\":true,\"x\":[\"046\",\"047\",\"048\",\"049\",\"050\"],\"xaxis\":\"x\",\"y\":[0.48766633914102164,0.5150795573841866,0.1727570016136119,0.05632834488065786,0.041376734059925174],\"yaxis\":\"y\",\"type\":\"scattergl\"},{\"hovertemplate\":\"variable=53\\u003cbr\\u003ehours=%{x}\\u003cbr\\u003evalue=%{y}\\u003cextra\\u003e\\u003c\\u002fextra\\u003e\",\"legendgroup\":\"53\",\"line\":{\"color\":\"#ab63fa\",\"dash\":\"solid\"},\"marker\":{\"symbol\":\"circle\"},\"mode\":\"lines\",\"name\":\"53\",\"showlegend\":true,\"x\":[\"046\",\"047\",\"048\",\"049\",\"050\"],\"xaxis\":\"x\",\"y\":[0.4795845365168902,0.5200124645333538,0.1748061853528579,0.055462259135997484,0.0397934680649361],\"yaxis\":\"y\",\"type\":\"scattergl\"},{\"hovertemplate\":\"variable=54\\u003cbr\\u003ehours=%{x}\\u003cbr\\u003evalue=%{y}\\u003cextra\\u003e\\u003c\\u002fextra\\u003e\",\"legendgroup\":\"54\",\"line\":{\"color\":\"#FFA15A\",\"dash\":\"solid\"},\"marker\":{\"symbol\":\"circle\"},\"mode\":\"lines\",\"name\":\"54\",\"showlegend\":true,\"x\":[\"046\",\"047\",\"048\",\"049\",\"050\"],\"xaxis\":\"x\",\"y\":[0.4723023319219611,0.513039136612902,0.17010703425231863,0.0583750243858724,0.03853821131751903],\"yaxis\":\"y\",\"type\":\"scattergl\"},{\"hovertemplate\":\"variable=55\\u003cbr\\u003ehours=%{x}\\u003cbr\\u003evalue=%{y}\\u003cextra\\u003e\\u003c\\u002fextra\\u003e\",\"legendgroup\":\"55\",\"line\":{\"color\":\"#19d3f3\",\"dash\":\"solid\"},\"marker\":{\"symbol\":\"circle\"},\"mode\":\"lines\",\"name\":\"55\",\"showlegend\":true,\"x\":[\"046\",\"047\",\"048\",\"049\",\"050\"],\"xaxis\":\"x\",\"y\":[0.4547243594379177,0.48677075180063895,0.16859049856088182,0.05605016830841261,0.037144737140093975],\"yaxis\":\"y\",\"type\":\"scattergl\"},{\"hovertemplate\":\"variable=56\\u003cbr\\u003ehours=%{x}\\u003cbr\\u003evalue=%{y}\\u003cextra\\u003e\\u003c\\u002fextra\\u003e\",\"legendgroup\":\"56\",\"line\":{\"color\":\"#FF6692\",\"dash\":\"solid\"},\"marker\":{\"symbol\":\"circle\"},\"mode\":\"lines\",\"name\":\"56\",\"showlegend\":true,\"x\":[\"046\",\"047\",\"048\",\"049\",\"050\"],\"xaxis\":\"x\",\"y\":[0.4421620184690269,0.4732982579514312,0.16829375411075168,0.053975646588401725,0.037250219266700225],\"yaxis\":\"y\",\"type\":\"scattergl\"},{\"hovertemplate\":\"variable=57\\u003cbr\\u003ehours=%{x}\\u003cbr\\u003evalue=%{y}\\u003cextra\\u003e\\u003c\\u002fextra\\u003e\",\"legendgroup\":\"57\",\"line\":{\"color\":\"#B6E880\",\"dash\":\"solid\"},\"marker\":{\"symbol\":\"circle\"},\"mode\":\"lines\",\"name\":\"57\",\"showlegend\":true,\"x\":[\"046\",\"047\",\"048\",\"049\",\"050\"],\"xaxis\":\"x\",\"y\":[0.4317650104683254,0.4862928769338327,0.1637932415083392,0.05258034454731674,0.03706513301533319],\"yaxis\":\"y\",\"type\":\"scattergl\"},{\"hovertemplate\":\"variable=58\\u003cbr\\u003ehours=%{x}\\u003cbr\\u003evalue=%{y}\\u003cextra\\u003e\\u003c\\u002fextra\\u003e\",\"legendgroup\":\"58\",\"line\":{\"color\":\"#FF97FF\",\"dash\":\"solid\"},\"marker\":{\"symbol\":\"circle\"},\"mode\":\"lines\",\"name\":\"58\",\"showlegend\":true,\"x\":[\"046\",\"047\",\"048\",\"049\",\"050\"],\"xaxis\":\"x\",\"y\":[0.4316414088437188,0.49200018801148354,0.15979066763780317,0.0535008409245808,0.03671139279066624],\"yaxis\":\"y\",\"type\":\"scattergl\"},{\"hovertemplate\":\"variable=59\\u003cbr\\u003ehours=%{x}\\u003cbr\\u003evalue=%{y}\\u003cextra\\u003e\\u003c\\u002fextra\\u003e\",\"legendgroup\":\"59\",\"line\":{\"color\":\"#FECB52\",\"dash\":\"solid\"},\"marker\":{\"symbol\":\"circle\"},\"mode\":\"lines\",\"name\":\"59\",\"showlegend\":true,\"x\":[\"046\",\"047\",\"048\",\"049\",\"050\"],\"xaxis\":\"x\",\"y\":[0.4413807501350378,0.4771348049469894,0.15735846857568306,0.05406560513458551,0.03621115556143373],\"yaxis\":\"y\",\"type\":\"scattergl\"},{\"hovertemplate\":\"variable=60\\u003cbr\\u003ehours=%{x}\\u003cbr\\u003evalue=%{y}\\u003cextra\\u003e\\u003c\\u002fextra\\u003e\",\"legendgroup\":\"60\",\"line\":{\"color\":\"#636efa\",\"dash\":\"solid\"},\"marker\":{\"symbol\":\"circle\"},\"mode\":\"lines\",\"name\":\"60\",\"showlegend\":true,\"x\":[\"046\",\"047\",\"048\",\"049\",\"050\"],\"xaxis\":\"x\",\"y\":[0.41307121512128503,0.4727459192605937,0.1575464965039075,0.0531257544420075,0.035613622136693564],\"yaxis\":\"y\",\"type\":\"scattergl\"},{\"hovertemplate\":\"variable=61\\u003cbr\\u003ehours=%{x}\\u003cbr\\u003evalue=%{y}\\u003cextra\\u003e\\u003c\\u002fextra\\u003e\",\"legendgroup\":\"61\",\"line\":{\"color\":\"#EF553B\",\"dash\":\"solid\"},\"marker\":{\"symbol\":\"circle\"},\"mode\":\"lines\",\"name\":\"61\",\"showlegend\":true,\"x\":[\"046\",\"047\",\"048\",\"049\",\"050\"],\"xaxis\":\"x\",\"y\":[0.39964728471672123,0.44839638227011575,0.1585047744335605,0.05230984364368591,0.03478374800845768],\"yaxis\":\"y\",\"type\":\"scattergl\"},{\"hovertemplate\":\"variable=62\\u003cbr\\u003ehours=%{x}\\u003cbr\\u003evalue=%{y}\\u003cextra\\u003e\\u003c\\u002fextra\\u003e\",\"legendgroup\":\"62\",\"line\":{\"color\":\"#00cc96\",\"dash\":\"solid\"},\"marker\":{\"symbol\":\"circle\"},\"mode\":\"lines\",\"name\":\"62\",\"showlegend\":true,\"x\":[\"046\",\"047\",\"048\",\"049\",\"050\"],\"xaxis\":\"x\",\"y\":[0.4182800205424675,0.4420078944851286,0.1570215869819753,0.050269698959272295,0.034114296509314634],\"yaxis\":\"y\",\"type\":\"scattergl\"},{\"hovertemplate\":\"variable=63\\u003cbr\\u003ehours=%{x}\\u003cbr\\u003evalue=%{y}\\u003cextra\\u003e\\u003c\\u002fextra\\u003e\",\"legendgroup\":\"63\",\"line\":{\"color\":\"#ab63fa\",\"dash\":\"solid\"},\"marker\":{\"symbol\":\"circle\"},\"mode\":\"lines\",\"name\":\"63\",\"showlegend\":true,\"x\":[\"046\",\"047\",\"048\",\"049\",\"050\"],\"xaxis\":\"x\",\"y\":[0.39202731140242936,0.4450969683029002,0.15918134612426346,0.05052648405024469,0.03419638484524978],\"yaxis\":\"y\",\"type\":\"scattergl\"},{\"hovertemplate\":\"variable=64\\u003cbr\\u003ehours=%{x}\\u003cbr\\u003evalue=%{y}\\u003cextra\\u003e\\u003c\\u002fextra\\u003e\",\"legendgroup\":\"64\",\"line\":{\"color\":\"#FFA15A\",\"dash\":\"solid\"},\"marker\":{\"symbol\":\"circle\"},\"mode\":\"lines\",\"name\":\"64\",\"showlegend\":true,\"x\":[\"046\",\"047\",\"048\",\"049\",\"050\"],\"xaxis\":\"x\",\"y\":[0.38109148868380005,0.44698569973546826,0.15474998724757622,0.050619337355149466,0.03337608381636689],\"yaxis\":\"y\",\"type\":\"scattergl\"},{\"hovertemplate\":\"variable=65\\u003cbr\\u003ehours=%{x}\\u003cbr\\u003evalue=%{y}\\u003cextra\\u003e\\u003c\\u002fextra\\u003e\",\"legendgroup\":\"65\",\"line\":{\"color\":\"#19d3f3\",\"dash\":\"solid\"},\"marker\":{\"symbol\":\"circle\"},\"mode\":\"lines\",\"name\":\"65\",\"showlegend\":true,\"x\":[\"046\",\"047\",\"048\",\"049\",\"050\"],\"xaxis\":\"x\",\"y\":[0.3736201962049437,0.4301965698448805,0.15393060245870482,0.05008325518547912,0.03319462966917171],\"yaxis\":\"y\",\"type\":\"scattergl\"},{\"hovertemplate\":\"variable=66\\u003cbr\\u003ehours=%{x}\\u003cbr\\u003evalue=%{y}\\u003cextra\\u003e\\u003c\\u002fextra\\u003e\",\"legendgroup\":\"66\",\"line\":{\"color\":\"#FF6692\",\"dash\":\"solid\"},\"marker\":{\"symbol\":\"circle\"},\"mode\":\"lines\",\"name\":\"66\",\"showlegend\":true,\"x\":[\"046\",\"047\",\"048\",\"049\",\"050\"],\"xaxis\":\"x\",\"y\":[0.3637151111293357,0.41433864124047165,0.1533544394329973,0.04994363916823216,0.03349177333408003],\"yaxis\":\"y\",\"type\":\"scattergl\"},{\"hovertemplate\":\"variable=67\\u003cbr\\u003ehours=%{x}\\u003cbr\\u003evalue=%{y}\\u003cextra\\u003e\\u003c\\u002fextra\\u003e\",\"legendgroup\":\"67\",\"line\":{\"color\":\"#B6E880\",\"dash\":\"solid\"},\"marker\":{\"symbol\":\"circle\"},\"mode\":\"lines\",\"name\":\"67\",\"showlegend\":true,\"x\":[\"046\",\"047\",\"048\",\"049\",\"050\"],\"xaxis\":\"x\",\"y\":[0.3493226680425825,0.41356278315836514,0.15075660210676106,0.050118066217936394,0.03276776546732098],\"yaxis\":\"y\",\"type\":\"scattergl\"},{\"hovertemplate\":\"variable=68\\u003cbr\\u003ehours=%{x}\\u003cbr\\u003evalue=%{y}\\u003cextra\\u003e\\u003c\\u002fextra\\u003e\",\"legendgroup\":\"68\",\"line\":{\"color\":\"#FF97FF\",\"dash\":\"solid\"},\"marker\":{\"symbol\":\"circle\"},\"mode\":\"lines\",\"name\":\"68\",\"showlegend\":true,\"x\":[\"046\",\"047\",\"048\",\"049\",\"050\"],\"xaxis\":\"x\",\"y\":[0.34908697518824094,0.4144872007325357,0.14809271640497418,0.05150182538627737,0.03165006139961261],\"yaxis\":\"y\",\"type\":\"scattergl\"},{\"hovertemplate\":\"variable=69\\u003cbr\\u003ehours=%{x}\\u003cbr\\u003evalue=%{y}\\u003cextra\\u003e\\u003c\\u002fextra\\u003e\",\"legendgroup\":\"69\",\"line\":{\"color\":\"#FECB52\",\"dash\":\"solid\"},\"marker\":{\"symbol\":\"circle\"},\"mode\":\"lines\",\"name\":\"69\",\"showlegend\":true,\"x\":[\"046\",\"047\",\"048\",\"049\",\"050\"],\"xaxis\":\"x\",\"y\":[0.3764124747720929,0.4241293656861462,0.1444807264452952,0.049504774112320224,0.03206758833852078],\"yaxis\":\"y\",\"type\":\"scattergl\"},{\"hovertemplate\":\"variable=70\\u003cbr\\u003ehours=%{x}\\u003cbr\\u003evalue=%{y}\\u003cextra\\u003e\\u003c\\u002fextra\\u003e\",\"legendgroup\":\"70\",\"line\":{\"color\":\"#636efa\",\"dash\":\"solid\"},\"marker\":{\"symbol\":\"circle\"},\"mode\":\"lines\",\"name\":\"70\",\"showlegend\":true,\"x\":[\"046\",\"047\",\"048\",\"049\",\"050\"],\"xaxis\":\"x\",\"y\":[0.365714188029437,0.4404850501010072,0.15110482463092795,0.04988550689236316,0.03672107533523916],\"yaxis\":\"y\",\"type\":\"scattergl\"},{\"hovertemplate\":\"variable=71\\u003cbr\\u003ehours=%{x}\\u003cbr\\u003evalue=%{y}\\u003cextra\\u003e\\u003c\\u002fextra\\u003e\",\"legendgroup\":\"71\",\"line\":{\"color\":\"#EF553B\",\"dash\":\"solid\"},\"marker\":{\"symbol\":\"circle\"},\"mode\":\"lines\",\"name\":\"71\",\"showlegend\":true,\"x\":[\"046\",\"047\",\"048\",\"049\",\"050\"],\"xaxis\":\"x\",\"y\":[0.3577575700194652,0.41732026986398535,0.14480503413705625,0.04898080793084252,0.03482572874416313],\"yaxis\":\"y\",\"type\":\"scattergl\"},{\"hovertemplate\":\"variable=72\\u003cbr\\u003ehours=%{x}\\u003cbr\\u003evalue=%{y}\\u003cextra\\u003e\\u003c\\u002fextra\\u003e\",\"legendgroup\":\"72\",\"line\":{\"color\":\"#00cc96\",\"dash\":\"solid\"},\"marker\":{\"symbol\":\"circle\"},\"mode\":\"lines\",\"name\":\"72\",\"showlegend\":true,\"x\":[\"046\",\"047\",\"048\",\"049\",\"050\"],\"xaxis\":\"x\",\"y\":[0.333078666822826,0.3960403066621376,0.13697129964121557,0.04647399899866486,0.031316995292567956],\"yaxis\":\"y\",\"type\":\"scattergl\"},{\"hovertemplate\":\"variable=73\\u003cbr\\u003ehours=%{x}\\u003cbr\\u003evalue=%{y}\\u003cextra\\u003e\\u003c\\u002fextra\\u003e\",\"legendgroup\":\"73\",\"line\":{\"color\":\"#ab63fa\",\"dash\":\"solid\"},\"marker\":{\"symbol\":\"circle\"},\"mode\":\"lines\",\"name\":\"73\",\"showlegend\":true,\"x\":[\"046\",\"047\",\"048\",\"049\",\"050\"],\"xaxis\":\"x\",\"y\":[0.32931091691309017,0.387807210669463,0.1349910168373086,0.04599488503004336,0.030633488134261345],\"yaxis\":\"y\",\"type\":\"scattergl\"},{\"hovertemplate\":\"variable=74\\u003cbr\\u003ehours=%{x}\\u003cbr\\u003evalue=%{y}\\u003cextra\\u003e\\u003c\\u002fextra\\u003e\",\"legendgroup\":\"74\",\"line\":{\"color\":\"#FFA15A\",\"dash\":\"solid\"},\"marker\":{\"symbol\":\"circle\"},\"mode\":\"lines\",\"name\":\"74\",\"showlegend\":true,\"x\":[\"046\",\"047\",\"048\",\"049\",\"050\"],\"xaxis\":\"x\",\"y\":[0.33690258308362675,0.38714716096655966,0.1341965088742822,0.045391906177421386,0.03021416602954018],\"yaxis\":\"y\",\"type\":\"scattergl\"},{\"hovertemplate\":\"variable=75\\u003cbr\\u003ehours=%{x}\\u003cbr\\u003evalue=%{y}\\u003cextra\\u003e\\u003c\\u002fextra\\u003e\",\"legendgroup\":\"75\",\"line\":{\"color\":\"#19d3f3\",\"dash\":\"solid\"},\"marker\":{\"symbol\":\"circle\"},\"mode\":\"lines\",\"name\":\"75\",\"showlegend\":true,\"x\":[\"046\",\"047\",\"048\",\"049\",\"050\"],\"xaxis\":\"x\",\"y\":[0.33774216847376315,0.3926069933070922,0.13298288097900848,0.04464787646812253,0.030476051099131173],\"yaxis\":\"y\",\"type\":\"scattergl\"},{\"hovertemplate\":\"variable=76\\u003cbr\\u003ehours=%{x}\\u003cbr\\u003evalue=%{y}\\u003cextra\\u003e\\u003c\\u002fextra\\u003e\",\"legendgroup\":\"76\",\"line\":{\"color\":\"#FF6692\",\"dash\":\"solid\"},\"marker\":{\"symbol\":\"circle\"},\"mode\":\"lines\",\"name\":\"76\",\"showlegend\":true,\"x\":[\"046\",\"047\",\"048\",\"049\",\"050\"],\"xaxis\":\"x\",\"y\":[0.30712230822725706,0.3843488064560016,0.13208152193654868,0.043221678431971076,0.0304828820983345],\"yaxis\":\"y\",\"type\":\"scattergl\"},{\"hovertemplate\":\"variable=77\\u003cbr\\u003ehours=%{x}\\u003cbr\\u003evalue=%{y}\\u003cextra\\u003e\\u003c\\u002fextra\\u003e\",\"legendgroup\":\"77\",\"line\":{\"color\":\"#B6E880\",\"dash\":\"solid\"},\"marker\":{\"symbol\":\"circle\"},\"mode\":\"lines\",\"name\":\"77\",\"showlegend\":true,\"x\":[\"046\",\"047\",\"048\",\"049\",\"050\"],\"xaxis\":\"x\",\"y\":[0.28860607807660726,0.3816336492344512,0.12671966530724965,0.04346325660546962,0.030332948210286186],\"yaxis\":\"y\",\"type\":\"scattergl\"},{\"hovertemplate\":\"variable=78\\u003cbr\\u003ehours=%{x}\\u003cbr\\u003evalue=%{y}\\u003cextra\\u003e\\u003c\\u002fextra\\u003e\",\"legendgroup\":\"78\",\"line\":{\"color\":\"#FF97FF\",\"dash\":\"solid\"},\"marker\":{\"symbol\":\"circle\"},\"mode\":\"lines\",\"name\":\"78\",\"showlegend\":true,\"x\":[\"046\",\"047\",\"048\",\"049\",\"050\"],\"xaxis\":\"x\",\"y\":[0.28578117431153083,0.3690439924729982,0.12432001783187356,0.043195461635925525,0.029665730982037355],\"yaxis\":\"y\",\"type\":\"scattergl\"},{\"hovertemplate\":\"variable=79\\u003cbr\\u003ehours=%{x}\\u003cbr\\u003evalue=%{y}\\u003cextra\\u003e\\u003c\\u002fextra\\u003e\",\"legendgroup\":\"79\",\"line\":{\"color\":\"#FECB52\",\"dash\":\"solid\"},\"marker\":{\"symbol\":\"circle\"},\"mode\":\"lines\",\"name\":\"79\",\"showlegend\":true,\"x\":[\"046\",\"047\",\"048\",\"049\",\"050\"],\"xaxis\":\"x\",\"y\":[0.29799334530299554,0.3712217115649167,0.12477727114311406,0.04270620217227403,0.028631515067820412],\"yaxis\":\"y\",\"type\":\"scattergl\"},{\"hovertemplate\":\"variable=80\\u003cbr\\u003ehours=%{x}\\u003cbr\\u003evalue=%{y}\\u003cextra\\u003e\\u003c\\u002fextra\\u003e\",\"legendgroup\":\"80\",\"line\":{\"color\":\"#636efa\",\"dash\":\"solid\"},\"marker\":{\"symbol\":\"circle\"},\"mode\":\"lines\",\"name\":\"80\",\"showlegend\":true,\"x\":[\"046\",\"047\",\"048\",\"049\",\"050\"],\"xaxis\":\"x\",\"y\":[0.29655996867510415,0.36787228674475503,0.12416942499417619,0.04164548994786784,0.02804450277569115],\"yaxis\":\"y\",\"type\":\"scattergl\"},{\"hovertemplate\":\"variable=81\\u003cbr\\u003ehours=%{x}\\u003cbr\\u003evalue=%{y}\\u003cextra\\u003e\\u003c\\u002fextra\\u003e\",\"legendgroup\":\"81\",\"line\":{\"color\":\"#EF553B\",\"dash\":\"solid\"},\"marker\":{\"symbol\":\"circle\"},\"mode\":\"lines\",\"name\":\"81\",\"showlegend\":true,\"x\":[\"046\",\"047\",\"048\",\"049\",\"050\"],\"xaxis\":\"x\",\"y\":[0.2919213168148419,0.36541612264806883,0.12041683772356485,0.040343763158101495,0.02745319685980709],\"yaxis\":\"y\",\"type\":\"scattergl\"},{\"hovertemplate\":\"variable=82\\u003cbr\\u003ehours=%{x}\\u003cbr\\u003evalue=%{y}\\u003cextra\\u003e\\u003c\\u002fextra\\u003e\",\"legendgroup\":\"82\",\"line\":{\"color\":\"#00cc96\",\"dash\":\"solid\"},\"marker\":{\"symbol\":\"circle\"},\"mode\":\"lines\",\"name\":\"82\",\"showlegend\":true,\"x\":[\"046\",\"047\",\"048\",\"049\",\"050\"],\"xaxis\":\"x\",\"y\":[0.27323280968581015,0.3525759133307853,0.11859606969211689,0.04042108429062012,0.027904047474134226],\"yaxis\":\"y\",\"type\":\"scattergl\"},{\"hovertemplate\":\"variable=83\\u003cbr\\u003ehours=%{x}\\u003cbr\\u003evalue=%{y}\\u003cextra\\u003e\\u003c\\u002fextra\\u003e\",\"legendgroup\":\"83\",\"line\":{\"color\":\"#ab63fa\",\"dash\":\"solid\"},\"marker\":{\"symbol\":\"circle\"},\"mode\":\"lines\",\"name\":\"83\",\"showlegend\":true,\"x\":[\"046\",\"047\",\"048\",\"049\",\"050\"],\"xaxis\":\"x\",\"y\":[0.2596218979358021,0.3315221288784399,0.1123675316024921,0.04133033437406782,0.027115810628575633],\"yaxis\":\"y\",\"type\":\"scattergl\"},{\"hovertemplate\":\"variable=84\\u003cbr\\u003ehours=%{x}\\u003cbr\\u003evalue=%{y}\\u003cextra\\u003e\\u003c\\u002fextra\\u003e\",\"legendgroup\":\"84\",\"line\":{\"color\":\"#FFA15A\",\"dash\":\"solid\"},\"marker\":{\"symbol\":\"circle\"},\"mode\":\"lines\",\"name\":\"84\",\"showlegend\":true,\"x\":[\"046\",\"047\",\"048\",\"049\",\"050\"],\"xaxis\":\"x\",\"y\":[0.2691431151118782,0.3334460465787861,0.10979263058721982,0.03946611589458276,0.026871203942667767],\"yaxis\":\"y\",\"type\":\"scattergl\"},{\"hovertemplate\":\"variable=85\\u003cbr\\u003ehours=%{x}\\u003cbr\\u003evalue=%{y}\\u003cextra\\u003e\\u003c\\u002fextra\\u003e\",\"legendgroup\":\"85\",\"line\":{\"color\":\"#19d3f3\",\"dash\":\"solid\"},\"marker\":{\"symbol\":\"circle\"},\"mode\":\"lines\",\"name\":\"85\",\"showlegend\":true,\"x\":[\"046\",\"047\",\"048\",\"049\",\"050\"],\"xaxis\":\"x\",\"y\":[0.27888720058642547,0.3402683874479082,0.11162721174092885,0.037995478577106195,0.026363301383515763],\"yaxis\":\"y\",\"type\":\"scattergl\"},{\"hovertemplate\":\"variable=86\\u003cbr\\u003ehours=%{x}\\u003cbr\\u003evalue=%{y}\\u003cextra\\u003e\\u003c\\u002fextra\\u003e\",\"legendgroup\":\"86\",\"line\":{\"color\":\"#FF6692\",\"dash\":\"solid\"},\"marker\":{\"symbol\":\"circle\"},\"mode\":\"lines\",\"name\":\"86\",\"showlegend\":true,\"x\":[\"046\",\"047\",\"048\",\"049\",\"050\"],\"xaxis\":\"x\",\"y\":[0.2657872627812733,0.3348872550361113,0.11067589200081693,0.03970459998016548,0.02598739450010615],\"yaxis\":\"y\",\"type\":\"scattergl\"},{\"hovertemplate\":\"variable=87\\u003cbr\\u003ehours=%{x}\\u003cbr\\u003evalue=%{y}\\u003cextra\\u003e\\u003c\\u002fextra\\u003e\",\"legendgroup\":\"87\",\"line\":{\"color\":\"#B6E880\",\"dash\":\"solid\"},\"marker\":{\"symbol\":\"circle\"},\"mode\":\"lines\",\"name\":\"87\",\"showlegend\":true,\"x\":[\"046\",\"047\",\"048\",\"049\",\"050\"],\"xaxis\":\"x\",\"y\":[0.25977297408076994,0.31825724368898145,0.10894973846816972,0.038173618894388,0.025457615589067915],\"yaxis\":\"y\",\"type\":\"scattergl\"},{\"hovertemplate\":\"variable=88\\u003cbr\\u003ehours=%{x}\\u003cbr\\u003evalue=%{y}\\u003cextra\\u003e\\u003c\\u002fextra\\u003e\",\"legendgroup\":\"88\",\"line\":{\"color\":\"#FF97FF\",\"dash\":\"solid\"},\"marker\":{\"symbol\":\"circle\"},\"mode\":\"lines\",\"name\":\"88\",\"showlegend\":true,\"x\":[\"046\",\"047\",\"048\",\"049\",\"050\"],\"xaxis\":\"x\",\"y\":[0.2569171792850228,0.3102989673651359,0.10451220142113263,0.03717098971504929,0.025307029616354414],\"yaxis\":\"y\",\"type\":\"scattergl\"},{\"hovertemplate\":\"variable=89\\u003cbr\\u003ehours=%{x}\\u003cbr\\u003evalue=%{y}\\u003cextra\\u003e\\u003c\\u002fextra\\u003e\",\"legendgroup\":\"89\",\"line\":{\"color\":\"#FECB52\",\"dash\":\"solid\"},\"marker\":{\"symbol\":\"circle\"},\"mode\":\"lines\",\"name\":\"89\",\"showlegend\":true,\"x\":[\"046\",\"047\",\"048\",\"049\",\"050\"],\"xaxis\":\"x\",\"y\":[0.23038914434118127,0.3054715300291432,0.10257574288449312,0.03700696911303007,0.0249668566382889],\"yaxis\":\"y\",\"type\":\"scattergl\"},{\"hovertemplate\":\"variable=90\\u003cbr\\u003ehours=%{x}\\u003cbr\\u003evalue=%{y}\\u003cextra\\u003e\\u003c\\u002fextra\\u003e\",\"legendgroup\":\"90\",\"line\":{\"color\":\"#636efa\",\"dash\":\"solid\"},\"marker\":{\"symbol\":\"circle\"},\"mode\":\"lines\",\"name\":\"90\",\"showlegend\":true,\"x\":[\"046\",\"047\",\"048\",\"049\",\"050\"],\"xaxis\":\"x\",\"y\":[0.2225443269891087,0.3135987461116348,0.10324653495242793,0.03662524237067198,0.02421483159899383],\"yaxis\":\"y\",\"type\":\"scattergl\"},{\"hovertemplate\":\"variable=91\\u003cbr\\u003ehours=%{x}\\u003cbr\\u003evalue=%{y}\\u003cextra\\u003e\\u003c\\u002fextra\\u003e\",\"legendgroup\":\"91\",\"line\":{\"color\":\"#EF553B\",\"dash\":\"solid\"},\"marker\":{\"symbol\":\"circle\"},\"mode\":\"lines\",\"name\":\"91\",\"showlegend\":true,\"x\":[\"046\",\"047\",\"048\",\"049\",\"050\"],\"xaxis\":\"x\",\"y\":[0.22394350024741594,0.30586540394932327,0.09993769382489587,0.03528412786317427,0.024397345937175866],\"yaxis\":\"y\",\"type\":\"scattergl\"},{\"hovertemplate\":\"variable=92\\u003cbr\\u003ehours=%{x}\\u003cbr\\u003evalue=%{y}\\u003cextra\\u003e\\u003c\\u002fextra\\u003e\",\"legendgroup\":\"92\",\"line\":{\"color\":\"#00cc96\",\"dash\":\"solid\"},\"marker\":{\"symbol\":\"circle\"},\"mode\":\"lines\",\"name\":\"92\",\"showlegend\":true,\"x\":[\"046\",\"047\",\"048\",\"049\",\"050\"],\"xaxis\":\"x\",\"y\":[0.21873780475684643,0.29805850872579265,0.09551600951546782,0.033531218752097504,0.024592261571445215],\"yaxis\":\"y\",\"type\":\"scattergl\"},{\"hovertemplate\":\"variable=93\\u003cbr\\u003ehours=%{x}\\u003cbr\\u003evalue=%{y}\\u003cextra\\u003e\\u003c\\u002fextra\\u003e\",\"legendgroup\":\"93\",\"line\":{\"color\":\"#ab63fa\",\"dash\":\"solid\"},\"marker\":{\"symbol\":\"circle\"},\"mode\":\"lines\",\"name\":\"93\",\"showlegend\":true,\"x\":[\"046\",\"047\",\"048\",\"049\",\"050\"],\"xaxis\":\"x\",\"y\":[0.20638081897444258,0.28640939099179774,0.09499104597762842,0.03368139000067352,0.024706517835687822],\"yaxis\":\"y\",\"type\":\"scattergl\"},{\"hovertemplate\":\"variable=94\\u003cbr\\u003ehours=%{x}\\u003cbr\\u003evalue=%{y}\\u003cextra\\u003e\\u003c\\u002fextra\\u003e\",\"legendgroup\":\"94\",\"line\":{\"color\":\"#FFA15A\",\"dash\":\"solid\"},\"marker\":{\"symbol\":\"circle\"},\"mode\":\"lines\",\"name\":\"94\",\"showlegend\":true,\"x\":[\"046\",\"047\",\"048\",\"049\",\"050\"],\"xaxis\":\"x\",\"y\":[0.20844158136210847,0.2750931864304779,0.0921564206447204,0.032599178084692954,0.02385263471454433],\"yaxis\":\"y\",\"type\":\"scattergl\"},{\"hovertemplate\":\"variable=95\\u003cbr\\u003ehours=%{x}\\u003cbr\\u003evalue=%{y}\\u003cextra\\u003e\\u003c\\u002fextra\\u003e\",\"legendgroup\":\"95\",\"line\":{\"color\":\"#19d3f3\",\"dash\":\"solid\"},\"marker\":{\"symbol\":\"circle\"},\"mode\":\"lines\",\"name\":\"95\",\"showlegend\":true,\"x\":[\"046\",\"047\",\"048\",\"049\",\"050\"],\"xaxis\":\"x\",\"y\":[0.20644258491596312,0.27660028184992913,0.0924125684398799,0.03217389707960485,0.023005320329745865],\"yaxis\":\"y\",\"type\":\"scattergl\"},{\"hovertemplate\":\"variable=96\\u003cbr\\u003ehours=%{x}\\u003cbr\\u003evalue=%{y}\\u003cextra\\u003e\\u003c\\u002fextra\\u003e\",\"legendgroup\":\"96\",\"line\":{\"color\":\"#FF6692\",\"dash\":\"solid\"},\"marker\":{\"symbol\":\"circle\"},\"mode\":\"lines\",\"name\":\"96\",\"showlegend\":true,\"x\":[\"046\",\"047\",\"048\",\"049\",\"050\"],\"xaxis\":\"x\",\"y\":[0.20615259054323312,0.27917285199991865,0.09426010307838104,0.032819650247678626,0.025039277225796155],\"yaxis\":\"y\",\"type\":\"scattergl\"},{\"hovertemplate\":\"variable=97\\u003cbr\\u003ehours=%{x}\\u003cbr\\u003evalue=%{y}\\u003cextra\\u003e\\u003c\\u002fextra\\u003e\",\"legendgroup\":\"97\",\"line\":{\"color\":\"#B6E880\",\"dash\":\"solid\"},\"marker\":{\"symbol\":\"circle\"},\"mode\":\"lines\",\"name\":\"97\",\"showlegend\":true,\"x\":[\"046\",\"047\",\"048\",\"049\",\"050\"],\"xaxis\":\"x\",\"y\":[0.24072547851619364,0.3573988931307126,0.28871794882882623,0.09390246007810146,0.15753945896394125],\"yaxis\":\"y\",\"type\":\"scattergl\"},{\"hovertemplate\":\"variable=98\\u003cbr\\u003ehours=%{x}\\u003cbr\\u003evalue=%{y}\\u003cextra\\u003e\\u003c\\u002fextra\\u003e\",\"legendgroup\":\"98\",\"line\":{\"color\":\"#FF97FF\",\"dash\":\"solid\"},\"marker\":{\"symbol\":\"circle\"},\"mode\":\"lines\",\"name\":\"98\",\"showlegend\":true,\"x\":[\"046\",\"047\",\"048\",\"049\",\"050\"],\"xaxis\":\"x\",\"y\":[0.2637936344003918,0.4016890586719316,0.343466591245472,0.12524368863996613,0.22957062494890412],\"yaxis\":\"y\",\"type\":\"scattergl\"},{\"hovertemplate\":\"variable=99\\u003cbr\\u003ehours=%{x}\\u003cbr\\u003evalue=%{y}\\u003cextra\\u003e\\u003c\\u002fextra\\u003e\",\"legendgroup\":\"99\",\"line\":{\"color\":\"#FECB52\",\"dash\":\"solid\"},\"marker\":{\"symbol\":\"circle\"},\"mode\":\"lines\",\"name\":\"99\",\"showlegend\":true,\"x\":[\"046\",\"047\",\"048\",\"049\",\"050\"],\"xaxis\":\"x\",\"y\":[0.1969524526246007,0.26663422555159516,0.10233523610446939,0.03789982112160409,0.03914821964057358],\"yaxis\":\"y\",\"type\":\"scattergl\"},{\"hovertemplate\":\"variable=100\\u003cbr\\u003ehours=%{x}\\u003cbr\\u003evalue=%{y}\\u003cextra\\u003e\\u003c\\u002fextra\\u003e\",\"legendgroup\":\"100\",\"line\":{\"color\":\"#636efa\",\"dash\":\"solid\"},\"marker\":{\"symbol\":\"circle\"},\"mode\":\"lines\",\"name\":\"100\",\"showlegend\":true,\"x\":[\"046\",\"047\",\"048\",\"049\",\"050\"],\"xaxis\":\"x\",\"y\":[0.1822815307414686,0.25010696981563946,0.08294258012537856,0.029857518647069214,0.022086676006918597],\"yaxis\":\"y\",\"type\":\"scattergl\"},{\"hovertemplate\":\"variable=101\\u003cbr\\u003ehours=%{x}\\u003cbr\\u003evalue=%{y}\\u003cextra\\u003e\\u003c\\u002fextra\\u003e\",\"legendgroup\":\"101\",\"line\":{\"color\":\"#EF553B\",\"dash\":\"solid\"},\"marker\":{\"symbol\":\"circle\"},\"mode\":\"lines\",\"name\":\"101\",\"showlegend\":true,\"x\":[\"046\",\"047\",\"048\",\"049\",\"050\"],\"xaxis\":\"x\",\"y\":[0.18151788871988958,0.24377889703881012,0.0802966774262251,0.029451911680575205,0.021411853661888754],\"yaxis\":\"y\",\"type\":\"scattergl\"},{\"hovertemplate\":\"variable=102\\u003cbr\\u003ehours=%{x}\\u003cbr\\u003evalue=%{y}\\u003cextra\\u003e\\u003c\\u002fextra\\u003e\",\"legendgroup\":\"102\",\"line\":{\"color\":\"#00cc96\",\"dash\":\"solid\"},\"marker\":{\"symbol\":\"circle\"},\"mode\":\"lines\",\"name\":\"102\",\"showlegend\":true,\"x\":[\"046\",\"047\",\"048\",\"049\",\"050\"],\"xaxis\":\"x\",\"y\":[0.1817537017368962,0.24086923432364185,0.0816494475339255,0.02865032193725536,0.020911235463521655],\"yaxis\":\"y\",\"type\":\"scattergl\"},{\"hovertemplate\":\"variable=103\\u003cbr\\u003ehours=%{x}\\u003cbr\\u003evalue=%{y}\\u003cextra\\u003e\\u003c\\u002fextra\\u003e\",\"legendgroup\":\"103\",\"line\":{\"color\":\"#ab63fa\",\"dash\":\"solid\"},\"marker\":{\"symbol\":\"circle\"},\"mode\":\"lines\",\"name\":\"103\",\"showlegend\":true,\"x\":[\"046\",\"047\",\"048\",\"049\",\"050\"],\"xaxis\":\"x\",\"y\":[0.16988246657426398,0.24205600954982273,0.07879884490819915,0.027650082682481,0.020267405889253964],\"yaxis\":\"y\",\"type\":\"scattergl\"},{\"hovertemplate\":\"variable=104\\u003cbr\\u003ehours=%{x}\\u003cbr\\u003evalue=%{y}\\u003cextra\\u003e\\u003c\\u002fextra\\u003e\",\"legendgroup\":\"104\",\"line\":{\"color\":\"#FFA15A\",\"dash\":\"solid\"},\"marker\":{\"symbol\":\"circle\"},\"mode\":\"lines\",\"name\":\"104\",\"showlegend\":true,\"x\":[\"046\",\"047\",\"048\",\"049\",\"050\"],\"xaxis\":\"x\",\"y\":[0.16342504091874274,0.2347391992198731,0.07633703219892006,0.027976411626253157,0.020340391161454998],\"yaxis\":\"y\",\"type\":\"scattergl\"},{\"hovertemplate\":\"variable=105\\u003cbr\\u003ehours=%{x}\\u003cbr\\u003evalue=%{y}\\u003cextra\\u003e\\u003c\\u002fextra\\u003e\",\"legendgroup\":\"105\",\"line\":{\"color\":\"#19d3f3\",\"dash\":\"solid\"},\"marker\":{\"symbol\":\"circle\"},\"mode\":\"lines\",\"name\":\"105\",\"showlegend\":true,\"x\":[\"046\",\"047\",\"048\",\"049\",\"050\"],\"xaxis\":\"x\",\"y\":[0.15528151383675412,0.23084646400475411,0.0755080819029797,0.027930430923314153,0.020541155452790283],\"yaxis\":\"y\",\"type\":\"scattergl\"},{\"hovertemplate\":\"variable=106\\u003cbr\\u003ehours=%{x}\\u003cbr\\u003evalue=%{y}\\u003cextra\\u003e\\u003c\\u002fextra\\u003e\",\"legendgroup\":\"106\",\"line\":{\"color\":\"#FF6692\",\"dash\":\"solid\"},\"marker\":{\"symbol\":\"circle\"},\"mode\":\"lines\",\"name\":\"106\",\"showlegend\":true,\"x\":[\"046\",\"047\",\"048\",\"049\",\"050\"],\"xaxis\":\"x\",\"y\":[0.15501486446712914,0.22836950492745073,0.0749312837292126,0.027910342897034014,0.02060819966415536],\"yaxis\":\"y\",\"type\":\"scattergl\"},{\"hovertemplate\":\"variable=107\\u003cbr\\u003ehours=%{x}\\u003cbr\\u003evalue=%{y}\\u003cextra\\u003e\\u003c\\u002fextra\\u003e\",\"legendgroup\":\"107\",\"line\":{\"color\":\"#B6E880\",\"dash\":\"solid\"},\"marker\":{\"symbol\":\"circle\"},\"mode\":\"lines\",\"name\":\"107\",\"showlegend\":true,\"x\":[\"046\",\"047\",\"048\",\"049\",\"050\"],\"xaxis\":\"x\",\"y\":[0.15859277723816426,0.22204516007854463,0.07414782655313251,0.02758285647198417,0.020575029861637978],\"yaxis\":\"y\",\"type\":\"scattergl\"},{\"hovertemplate\":\"variable=108\\u003cbr\\u003ehours=%{x}\\u003cbr\\u003evalue=%{y}\\u003cextra\\u003e\\u003c\\u002fextra\\u003e\",\"legendgroup\":\"108\",\"line\":{\"color\":\"#FF97FF\",\"dash\":\"solid\"},\"marker\":{\"symbol\":\"circle\"},\"mode\":\"lines\",\"name\":\"108\",\"showlegend\":true,\"x\":[\"046\",\"047\",\"048\",\"049\",\"050\"],\"xaxis\":\"x\",\"y\":[0.15241961484699185,0.21796250710836632,0.07365204729071483,0.026302165311133493,0.019836356243935857],\"yaxis\":\"y\",\"type\":\"scattergl\"},{\"hovertemplate\":\"variable=109\\u003cbr\\u003ehours=%{x}\\u003cbr\\u003evalue=%{y}\\u003cextra\\u003e\\u003c\\u002fextra\\u003e\",\"legendgroup\":\"109\",\"line\":{\"color\":\"#FECB52\",\"dash\":\"solid\"},\"marker\":{\"symbol\":\"circle\"},\"mode\":\"lines\",\"name\":\"109\",\"showlegend\":true,\"x\":[\"046\",\"047\",\"048\",\"049\",\"050\"],\"xaxis\":\"x\",\"y\":[0.1441452514753058,0.21447268733718433,0.07275455774008083,0.025565017823918082,0.019176526346974754],\"yaxis\":\"y\",\"type\":\"scattergl\"},{\"hovertemplate\":\"variable=110\\u003cbr\\u003ehours=%{x}\\u003cbr\\u003evalue=%{y}\\u003cextra\\u003e\\u003c\\u002fextra\\u003e\",\"legendgroup\":\"110\",\"line\":{\"color\":\"#636efa\",\"dash\":\"solid\"},\"marker\":{\"symbol\":\"circle\"},\"mode\":\"lines\",\"name\":\"110\",\"showlegend\":true,\"x\":[\"046\",\"047\",\"048\",\"049\",\"050\"],\"xaxis\":\"x\",\"y\":[0.14517760885775502,0.21217189873665565,0.0703710296644909,0.025558394936496618,0.019281624533792698],\"yaxis\":\"y\",\"type\":\"scattergl\"},{\"hovertemplate\":\"variable=111\\u003cbr\\u003ehours=%{x}\\u003cbr\\u003evalue=%{y}\\u003cextra\\u003e\\u003c\\u002fextra\\u003e\",\"legendgroup\":\"111\",\"line\":{\"color\":\"#EF553B\",\"dash\":\"solid\"},\"marker\":{\"symbol\":\"circle\"},\"mode\":\"lines\",\"name\":\"111\",\"showlegend\":true,\"x\":[\"046\",\"047\",\"048\",\"049\",\"050\"],\"xaxis\":\"x\",\"y\":[0.14303761804962978,0.20788105668132317,0.06896122798050927,0.026292895265349336,0.018877521382947685],\"yaxis\":\"y\",\"type\":\"scattergl\"},{\"hovertemplate\":\"variable=112\\u003cbr\\u003ehours=%{x}\\u003cbr\\u003evalue=%{y}\\u003cextra\\u003e\\u003c\\u002fextra\\u003e\",\"legendgroup\":\"112\",\"line\":{\"color\":\"#00cc96\",\"dash\":\"solid\"},\"marker\":{\"symbol\":\"circle\"},\"mode\":\"lines\",\"name\":\"112\",\"showlegend\":true,\"x\":[\"046\",\"047\",\"048\",\"049\",\"050\"],\"xaxis\":\"x\",\"y\":[0.1384199849805235,0.20475243043857383,0.0672243656299287,0.025523762620004893,0.018927060833050468],\"yaxis\":\"y\",\"type\":\"scattergl\"},{\"hovertemplate\":\"variable=113\\u003cbr\\u003ehours=%{x}\\u003cbr\\u003evalue=%{y}\\u003cextra\\u003e\\u003c\\u002fextra\\u003e\",\"legendgroup\":\"113\",\"line\":{\"color\":\"#ab63fa\",\"dash\":\"solid\"},\"marker\":{\"symbol\":\"circle\"},\"mode\":\"lines\",\"name\":\"113\",\"showlegend\":true,\"x\":[\"046\",\"047\",\"048\",\"049\",\"050\"],\"xaxis\":\"x\",\"y\":[0.1379287611110381,0.200773415884425,0.0640249280488584,0.023893302735020203,0.018646515341120173],\"yaxis\":\"y\",\"type\":\"scattergl\"},{\"hovertemplate\":\"variable=114\\u003cbr\\u003ehours=%{x}\\u003cbr\\u003evalue=%{y}\\u003cextra\\u003e\\u003c\\u002fextra\\u003e\",\"legendgroup\":\"114\",\"line\":{\"color\":\"#FFA15A\",\"dash\":\"solid\"},\"marker\":{\"symbol\":\"circle\"},\"mode\":\"lines\",\"name\":\"114\",\"showlegend\":true,\"x\":[\"046\",\"047\",\"048\",\"049\",\"050\"],\"xaxis\":\"x\",\"y\":[0.1355881975458309,0.1963794616541465,0.06419153070043081,0.024396344376423698,0.018343692940999325],\"yaxis\":\"y\",\"type\":\"scattergl\"},{\"hovertemplate\":\"variable=115\\u003cbr\\u003ehours=%{x}\\u003cbr\\u003evalue=%{y}\\u003cextra\\u003e\\u003c\\u002fextra\\u003e\",\"legendgroup\":\"115\",\"line\":{\"color\":\"#19d3f3\",\"dash\":\"solid\"},\"marker\":{\"symbol\":\"circle\"},\"mode\":\"lines\",\"name\":\"115\",\"showlegend\":true,\"x\":[\"046\",\"047\",\"048\",\"049\",\"050\"],\"xaxis\":\"x\",\"y\":[0.1346577821823439,0.1927888436124881,0.06488171940937554,0.024477166779176922,0.01818652787262106],\"yaxis\":\"y\",\"type\":\"scattergl\"},{\"hovertemplate\":\"variable=116\\u003cbr\\u003ehours=%{x}\\u003cbr\\u003evalue=%{y}\\u003cextra\\u003e\\u003c\\u002fextra\\u003e\",\"legendgroup\":\"116\",\"line\":{\"color\":\"#FF6692\",\"dash\":\"solid\"},\"marker\":{\"symbol\":\"circle\"},\"mode\":\"lines\",\"name\":\"116\",\"showlegend\":true,\"x\":[\"046\",\"047\",\"048\",\"049\",\"050\"],\"xaxis\":\"x\",\"y\":[0.1295666603004485,0.18792339873869118,0.06460450273529245,0.024046215477321012,0.01818354346162527],\"yaxis\":\"y\",\"type\":\"scattergl\"},{\"hovertemplate\":\"variable=117\\u003cbr\\u003ehours=%{x}\\u003cbr\\u003evalue=%{y}\\u003cextra\\u003e\\u003c\\u002fextra\\u003e\",\"legendgroup\":\"117\",\"line\":{\"color\":\"#B6E880\",\"dash\":\"solid\"},\"marker\":{\"symbol\":\"circle\"},\"mode\":\"lines\",\"name\":\"117\",\"showlegend\":true,\"x\":[\"046\",\"047\",\"048\",\"049\",\"050\"],\"xaxis\":\"x\",\"y\":[0.11979366964592351,0.18692935457745358,0.06373228651832089,0.023879110176184964,0.019276165328193418],\"yaxis\":\"y\",\"type\":\"scattergl\"},{\"hovertemplate\":\"variable=118\\u003cbr\\u003ehours=%{x}\\u003cbr\\u003evalue=%{y}\\u003cextra\\u003e\\u003c\\u002fextra\\u003e\",\"legendgroup\":\"118\",\"line\":{\"color\":\"#FF97FF\",\"dash\":\"solid\"},\"marker\":{\"symbol\":\"circle\"},\"mode\":\"lines\",\"name\":\"118\",\"showlegend\":true,\"x\":[\"046\",\"047\",\"048\",\"049\",\"050\"],\"xaxis\":\"x\",\"y\":[0.12258657088631617,0.18300670046572606,0.0631450778357264,0.022589258433481803,0.018548015212128864],\"yaxis\":\"y\",\"type\":\"scattergl\"},{\"hovertemplate\":\"variable=119\\u003cbr\\u003ehours=%{x}\\u003cbr\\u003evalue=%{y}\\u003cextra\\u003e\\u003c\\u002fextra\\u003e\",\"legendgroup\":\"119\",\"line\":{\"color\":\"#FECB52\",\"dash\":\"solid\"},\"marker\":{\"symbol\":\"circle\"},\"mode\":\"lines\",\"name\":\"119\",\"showlegend\":true,\"x\":[\"046\",\"047\",\"048\",\"049\",\"050\"],\"xaxis\":\"x\",\"y\":[0.12240172589372453,0.17767765149362735,0.062464942392263696,0.02226183454734855,0.017853533242265674],\"yaxis\":\"y\",\"type\":\"scattergl\"},{\"hovertemplate\":\"variable=120\\u003cbr\\u003ehours=%{x}\\u003cbr\\u003evalue=%{y}\\u003cextra\\u003e\\u003c\\u002fextra\\u003e\",\"legendgroup\":\"120\",\"line\":{\"color\":\"#636efa\",\"dash\":\"solid\"},\"marker\":{\"symbol\":\"circle\"},\"mode\":\"lines\",\"name\":\"120\",\"showlegend\":true,\"x\":[\"046\",\"047\",\"048\",\"049\",\"050\"],\"xaxis\":\"x\",\"y\":[0.11703025207091547,0.17652547282624942,0.05990560872961265,0.021900532247389137,0.01704467221224707],\"yaxis\":\"y\",\"type\":\"scattergl\"},{\"hovertemplate\":\"variable=121\\u003cbr\\u003ehours=%{x}\\u003cbr\\u003evalue=%{y}\\u003cextra\\u003e\\u003c\\u002fextra\\u003e\",\"legendgroup\":\"121\",\"line\":{\"color\":\"#EF553B\",\"dash\":\"solid\"},\"marker\":{\"symbol\":\"circle\"},\"mode\":\"lines\",\"name\":\"121\",\"showlegend\":true,\"x\":[\"046\",\"047\",\"048\",\"049\",\"050\"],\"xaxis\":\"x\",\"y\":[0.11304853971147046,0.1732184703699314,0.06036053365265426,0.021720032426574724,0.016841857197093142],\"yaxis\":\"y\",\"type\":\"scattergl\"},{\"hovertemplate\":\"variable=122\\u003cbr\\u003ehours=%{x}\\u003cbr\\u003evalue=%{y}\\u003cextra\\u003e\\u003c\\u002fextra\\u003e\",\"legendgroup\":\"122\",\"line\":{\"color\":\"#00cc96\",\"dash\":\"solid\"},\"marker\":{\"symbol\":\"circle\"},\"mode\":\"lines\",\"name\":\"122\",\"showlegend\":true,\"x\":[\"046\",\"047\",\"048\",\"049\",\"050\"],\"xaxis\":\"x\",\"y\":[0.10615449070905085,0.16748638109286307,0.05833230313818584,0.020795720970160483,0.016983707921930886],\"yaxis\":\"y\",\"type\":\"scattergl\"},{\"hovertemplate\":\"variable=123\\u003cbr\\u003ehours=%{x}\\u003cbr\\u003evalue=%{y}\\u003cextra\\u003e\\u003c\\u002fextra\\u003e\",\"legendgroup\":\"123\",\"line\":{\"color\":\"#ab63fa\",\"dash\":\"solid\"},\"marker\":{\"symbol\":\"circle\"},\"mode\":\"lines\",\"name\":\"123\",\"showlegend\":true,\"x\":[\"046\",\"047\",\"048\",\"049\",\"050\"],\"xaxis\":\"x\",\"y\":[0.10194172366161067,0.16286113902020946,0.056355401216852466,0.020829348970164117,0.017024944239649915],\"yaxis\":\"y\",\"type\":\"scattergl\"},{\"hovertemplate\":\"variable=124\\u003cbr\\u003ehours=%{x}\\u003cbr\\u003evalue=%{y}\\u003cextra\\u003e\\u003c\\u002fextra\\u003e\",\"legendgroup\":\"124\",\"line\":{\"color\":\"#FFA15A\",\"dash\":\"solid\"},\"marker\":{\"symbol\":\"circle\"},\"mode\":\"lines\",\"name\":\"124\",\"showlegend\":true,\"x\":[\"046\",\"047\",\"048\",\"049\",\"050\"],\"xaxis\":\"x\",\"y\":[0.10591142264613866,0.1597220807653326,0.05606183297489933,0.021119991278357047,0.017049111104271764],\"yaxis\":\"y\",\"type\":\"scattergl\"},{\"hovertemplate\":\"variable=125\\u003cbr\\u003ehours=%{x}\\u003cbr\\u003evalue=%{y}\\u003cextra\\u003e\\u003c\\u002fextra\\u003e\",\"legendgroup\":\"125\",\"line\":{\"color\":\"#19d3f3\",\"dash\":\"solid\"},\"marker\":{\"symbol\":\"circle\"},\"mode\":\"lines\",\"name\":\"125\",\"showlegend\":true,\"x\":[\"046\",\"047\",\"048\",\"049\",\"050\"],\"xaxis\":\"x\",\"y\":[0.1062314788799072,0.15919128492086224,0.055769043626779174,0.020896780724099562,0.017100950422837134],\"yaxis\":\"y\",\"type\":\"scattergl\"},{\"hovertemplate\":\"variable=126\\u003cbr\\u003ehours=%{x}\\u003cbr\\u003evalue=%{y}\\u003cextra\\u003e\\u003c\\u002fextra\\u003e\",\"legendgroup\":\"126\",\"line\":{\"color\":\"#FF6692\",\"dash\":\"solid\"},\"marker\":{\"symbol\":\"circle\"},\"mode\":\"lines\",\"name\":\"126\",\"showlegend\":true,\"x\":[\"046\",\"047\",\"048\",\"049\",\"050\"],\"xaxis\":\"x\",\"y\":[0.10443261088037464,0.1594856652916178,0.05441601138029186,0.020588814829552163,0.016355307437367825],\"yaxis\":\"y\",\"type\":\"scattergl\"},{\"hovertemplate\":\"variable=127\\u003cbr\\u003ehours=%{x}\\u003cbr\\u003evalue=%{y}\\u003cextra\\u003e\\u003c\\u002fextra\\u003e\",\"legendgroup\":\"127\",\"line\":{\"color\":\"#B6E880\",\"dash\":\"solid\"},\"marker\":{\"symbol\":\"circle\"},\"mode\":\"lines\",\"name\":\"127\",\"showlegend\":true,\"x\":[\"046\",\"047\",\"048\",\"049\",\"050\"],\"xaxis\":\"x\",\"y\":[0.09749847336276789,0.1586124488875534,0.054149599408670195,0.019608329798321174,0.016098502100884253],\"yaxis\":\"y\",\"type\":\"scattergl\"},{\"hovertemplate\":\"variable=128\\u003cbr\\u003ehours=%{x}\\u003cbr\\u003evalue=%{y}\\u003cextra\\u003e\\u003c\\u002fextra\\u003e\",\"legendgroup\":\"128\",\"line\":{\"color\":\"#FF97FF\",\"dash\":\"solid\"},\"marker\":{\"symbol\":\"circle\"},\"mode\":\"lines\",\"name\":\"128\",\"showlegend\":true,\"x\":[\"046\",\"047\",\"048\",\"049\",\"050\"],\"xaxis\":\"x\",\"y\":[0.09806332395342333,0.15296658853446526,0.052305771033622286,0.019812691130648374,0.015954891199057346],\"yaxis\":\"y\",\"type\":\"scattergl\"},{\"hovertemplate\":\"variable=129\\u003cbr\\u003ehours=%{x}\\u003cbr\\u003evalue=%{y}\\u003cextra\\u003e\\u003c\\u002fextra\\u003e\",\"legendgroup\":\"129\",\"line\":{\"color\":\"#FECB52\",\"dash\":\"solid\"},\"marker\":{\"symbol\":\"circle\"},\"mode\":\"lines\",\"name\":\"129\",\"showlegend\":true,\"x\":[\"046\",\"047\",\"048\",\"049\",\"050\"],\"xaxis\":\"x\",\"y\":[0.09874468666050243,0.15001635440760352,0.05141336635051765,0.019879735403733723,0.016030186266661712],\"yaxis\":\"y\",\"type\":\"scattergl\"},{\"hovertemplate\":\"variable=130\\u003cbr\\u003ehours=%{x}\\u003cbr\\u003evalue=%{y}\\u003cextra\\u003e\\u003c\\u002fextra\\u003e\",\"legendgroup\":\"130\",\"line\":{\"color\":\"#636efa\",\"dash\":\"solid\"},\"marker\":{\"symbol\":\"circle\"},\"mode\":\"lines\",\"name\":\"130\",\"showlegend\":true,\"x\":[\"046\",\"047\",\"048\",\"049\",\"050\"],\"xaxis\":\"x\",\"y\":[0.0929926084424502,0.14944417179031896,0.05148055665506287,0.01876914974705187,0.015975911804196836],\"yaxis\":\"y\",\"type\":\"scattergl\"},{\"hovertemplate\":\"variable=131\\u003cbr\\u003ehours=%{x}\\u003cbr\\u003evalue=%{y}\\u003cextra\\u003e\\u003c\\u002fextra\\u003e\",\"legendgroup\":\"131\",\"line\":{\"color\":\"#EF553B\",\"dash\":\"solid\"},\"marker\":{\"symbol\":\"circle\"},\"mode\":\"lines\",\"name\":\"131\",\"showlegend\":true,\"x\":[\"046\",\"047\",\"048\",\"049\",\"050\"],\"xaxis\":\"x\",\"y\":[0.08956255056072986,0.14728569554338986,0.04997789713284311,0.018733638060795393,0.01588678580185768],\"yaxis\":\"y\",\"type\":\"scattergl\"},{\"hovertemplate\":\"variable=132\\u003cbr\\u003ehours=%{x}\\u003cbr\\u003evalue=%{y}\\u003cextra\\u003e\\u003c\\u002fextra\\u003e\",\"legendgroup\":\"132\",\"line\":{\"color\":\"#00cc96\",\"dash\":\"solid\"},\"marker\":{\"symbol\":\"circle\"},\"mode\":\"lines\",\"name\":\"132\",\"showlegend\":true,\"x\":[\"046\",\"047\",\"048\",\"049\",\"050\"],\"xaxis\":\"x\",\"y\":[0.08944305121561864,0.1432508991486235,0.04868729342403841,0.01859656130171127,0.015397465818190932],\"yaxis\":\"y\",\"type\":\"scattergl\"},{\"hovertemplate\":\"variable=133\\u003cbr\\u003ehours=%{x}\\u003cbr\\u003evalue=%{y}\\u003cextra\\u003e\\u003c\\u002fextra\\u003e\",\"legendgroup\":\"133\",\"line\":{\"color\":\"#ab63fa\",\"dash\":\"solid\"},\"marker\":{\"symbol\":\"circle\"},\"mode\":\"lines\",\"name\":\"133\",\"showlegend\":true,\"x\":[\"046\",\"047\",\"048\",\"049\",\"050\"],\"xaxis\":\"x\",\"y\":[0.08512863536165134,0.1371868230280282,0.04912391748962983,0.0178790393811294,0.015198849061425145],\"yaxis\":\"y\",\"type\":\"scattergl\"},{\"hovertemplate\":\"variable=134\\u003cbr\\u003ehours=%{x}\\u003cbr\\u003evalue=%{y}\\u003cextra\\u003e\\u003c\\u002fextra\\u003e\",\"legendgroup\":\"134\",\"line\":{\"color\":\"#FFA15A\",\"dash\":\"solid\"},\"marker\":{\"symbol\":\"circle\"},\"mode\":\"lines\",\"name\":\"134\",\"showlegend\":true,\"x\":[\"046\",\"047\",\"048\",\"049\",\"050\"],\"xaxis\":\"x\",\"y\":[0.08295794132409312,0.1361923732676725,0.05025907889128957,0.017832286587336765,0.01531795023923648],\"yaxis\":\"y\",\"type\":\"scattergl\"},{\"hovertemplate\":\"variable=135\\u003cbr\\u003ehours=%{x}\\u003cbr\\u003evalue=%{y}\\u003cextra\\u003e\\u003c\\u002fextra\\u003e\",\"legendgroup\":\"135\",\"line\":{\"color\":\"#19d3f3\",\"dash\":\"solid\"},\"marker\":{\"symbol\":\"circle\"},\"mode\":\"lines\",\"name\":\"135\",\"showlegend\":true,\"x\":[\"046\",\"047\",\"048\",\"049\",\"050\"],\"xaxis\":\"x\",\"y\":[0.08219846733750853,0.13421737751621618,0.04906660241308537,0.01742914062523571,0.015349163900193544],\"yaxis\":\"y\",\"type\":\"scattergl\"},{\"hovertemplate\":\"variable=136\\u003cbr\\u003ehours=%{x}\\u003cbr\\u003evalue=%{y}\\u003cextra\\u003e\\u003c\\u002fextra\\u003e\",\"legendgroup\":\"136\",\"line\":{\"color\":\"#FF6692\",\"dash\":\"solid\"},\"marker\":{\"symbol\":\"circle\"},\"mode\":\"lines\",\"name\":\"136\",\"showlegend\":true,\"x\":[\"046\",\"047\",\"048\",\"049\",\"050\"],\"xaxis\":\"x\",\"y\":[0.08322396428003209,0.13550396096497813,0.047913376362246886,0.01750757653201734,0.015065515505982613],\"yaxis\":\"y\",\"type\":\"scattergl\"},{\"hovertemplate\":\"variable=137\\u003cbr\\u003ehours=%{x}\\u003cbr\\u003evalue=%{y}\\u003cextra\\u003e\\u003c\\u002fextra\\u003e\",\"legendgroup\":\"137\",\"line\":{\"color\":\"#B6E880\",\"dash\":\"solid\"},\"marker\":{\"symbol\":\"circle\"},\"mode\":\"lines\",\"name\":\"137\",\"showlegend\":true,\"x\":[\"046\",\"047\",\"048\",\"049\",\"050\"],\"xaxis\":\"x\",\"y\":[0.07961657988894463,0.13414309087118373,0.04961399646777671,0.01719079237457385,0.015228361211914915],\"yaxis\":\"y\",\"type\":\"scattergl\"},{\"hovertemplate\":\"variable=138\\u003cbr\\u003ehours=%{x}\\u003cbr\\u003evalue=%{y}\\u003cextra\\u003e\\u003c\\u002fextra\\u003e\",\"legendgroup\":\"138\",\"line\":{\"color\":\"#FF97FF\",\"dash\":\"solid\"},\"marker\":{\"symbol\":\"circle\"},\"mode\":\"lines\",\"name\":\"138\",\"showlegend\":true,\"x\":[\"046\",\"047\",\"048\",\"049\",\"050\"],\"xaxis\":\"x\",\"y\":[0.07734117356410448,0.13267668298497626,0.04904479654849609,0.017119534456496444,0.015175654959394175],\"yaxis\":\"y\",\"type\":\"scattergl\"},{\"hovertemplate\":\"variable=139\\u003cbr\\u003ehours=%{x}\\u003cbr\\u003evalue=%{y}\\u003cextra\\u003e\\u003c\\u002fextra\\u003e\",\"legendgroup\":\"139\",\"line\":{\"color\":\"#FECB52\",\"dash\":\"solid\"},\"marker\":{\"symbol\":\"circle\"},\"mode\":\"lines\",\"name\":\"139\",\"showlegend\":true,\"x\":[\"046\",\"047\",\"048\",\"049\",\"050\"],\"xaxis\":\"x\",\"y\":[0.07536329202500343,0.13032181062335993,0.04664629859423292,0.017075331985597075,0.014706143575620242],\"yaxis\":\"y\",\"type\":\"scattergl\"},{\"hovertemplate\":\"variable=140\\u003cbr\\u003ehours=%{x}\\u003cbr\\u003evalue=%{y}\\u003cextra\\u003e\\u003c\\u002fextra\\u003e\",\"legendgroup\":\"140\",\"line\":{\"color\":\"#636efa\",\"dash\":\"solid\"},\"marker\":{\"symbol\":\"circle\"},\"mode\":\"lines\",\"name\":\"140\",\"showlegend\":true,\"x\":[\"046\",\"047\",\"048\",\"049\",\"050\"],\"xaxis\":\"x\",\"y\":[0.07472806874459999,0.1272838955243883,0.04571191093740358,0.016849444717072365,0.014477992312032834],\"yaxis\":\"y\",\"type\":\"scattergl\"},{\"hovertemplate\":\"variable=141\\u003cbr\\u003ehours=%{x}\\u003cbr\\u003evalue=%{y}\\u003cextra\\u003e\\u003c\\u002fextra\\u003e\",\"legendgroup\":\"141\",\"line\":{\"color\":\"#EF553B\",\"dash\":\"solid\"},\"marker\":{\"symbol\":\"circle\"},\"mode\":\"lines\",\"name\":\"141\",\"showlegend\":true,\"x\":[\"046\",\"047\",\"048\",\"049\",\"050\"],\"xaxis\":\"x\",\"y\":[0.07421273541144985,0.12239470994288566,0.045239202571998795,0.016395222095270244,0.014154141008890933],\"yaxis\":\"y\",\"type\":\"scattergl\"},{\"hovertemplate\":\"variable=142\\u003cbr\\u003ehours=%{x}\\u003cbr\\u003evalue=%{y}\\u003cextra\\u003e\\u003c\\u002fextra\\u003e\",\"legendgroup\":\"142\",\"line\":{\"color\":\"#00cc96\",\"dash\":\"solid\"},\"marker\":{\"symbol\":\"circle\"},\"mode\":\"lines\",\"name\":\"142\",\"showlegend\":true,\"x\":[\"046\",\"047\",\"048\",\"049\",\"050\"],\"xaxis\":\"x\",\"y\":[0.07271941542163746,0.12569187141942034,0.044319465380606125,0.016025346358071117,0.014290311351728082],\"yaxis\":\"y\",\"type\":\"scattergl\"},{\"hovertemplate\":\"variable=143\\u003cbr\\u003ehours=%{x}\\u003cbr\\u003evalue=%{y}\\u003cextra\\u003e\\u003c\\u002fextra\\u003e\",\"legendgroup\":\"143\",\"line\":{\"color\":\"#ab63fa\",\"dash\":\"solid\"},\"marker\":{\"symbol\":\"circle\"},\"mode\":\"lines\",\"name\":\"143\",\"showlegend\":true,\"x\":[\"046\",\"047\",\"048\",\"049\",\"050\"],\"xaxis\":\"x\",\"y\":[0.07146545440661735,0.12255535216987128,0.043564471569486625,0.016358253929653992,0.01452138337213104],\"yaxis\":\"y\",\"type\":\"scattergl\"},{\"hovertemplate\":\"variable=144\\u003cbr\\u003ehours=%{x}\\u003cbr\\u003evalue=%{y}\\u003cextra\\u003e\\u003c\\u002fextra\\u003e\",\"legendgroup\":\"144\",\"line\":{\"color\":\"#FFA15A\",\"dash\":\"solid\"},\"marker\":{\"symbol\":\"circle\"},\"mode\":\"lines\",\"name\":\"144\",\"showlegend\":true,\"x\":[\"046\",\"047\",\"048\",\"049\",\"050\"],\"xaxis\":\"x\",\"y\":[0.0687227730299144,0.12126064258630534,0.042202588067486106,0.016845470670698172,0.014392154244918937],\"yaxis\":\"y\",\"type\":\"scattergl\"},{\"hovertemplate\":\"variable=145\\u003cbr\\u003ehours=%{x}\\u003cbr\\u003evalue=%{y}\\u003cextra\\u003e\\u003c\\u002fextra\\u003e\",\"legendgroup\":\"145\",\"line\":{\"color\":\"#19d3f3\",\"dash\":\"solid\"},\"marker\":{\"symbol\":\"circle\"},\"mode\":\"lines\",\"name\":\"145\",\"showlegend\":true,\"x\":[\"046\",\"047\",\"048\",\"049\",\"050\"],\"xaxis\":\"x\",\"y\":[0.0788889229592134,0.14498792397235225,0.06996010294531355,0.042496716053336776,0.01472233624562789],\"yaxis\":\"y\",\"type\":\"scattergl\"},{\"hovertemplate\":\"variable=146\\u003cbr\\u003ehours=%{x}\\u003cbr\\u003evalue=%{y}\\u003cextra\\u003e\\u003c\\u002fextra\\u003e\",\"legendgroup\":\"146\",\"line\":{\"color\":\"#FF6692\",\"dash\":\"solid\"},\"marker\":{\"symbol\":\"circle\"},\"mode\":\"lines\",\"name\":\"146\",\"showlegend\":true,\"x\":[\"046\",\"047\",\"048\",\"049\",\"050\"],\"xaxis\":\"x\",\"y\":[0.4590883948086932,0.6279675763281746,0.4500671983700603,0.5980919637176345,0.0271314678080106],\"yaxis\":\"y\",\"type\":\"scattergl\"},{\"hovertemplate\":\"variable=147\\u003cbr\\u003ehours=%{x}\\u003cbr\\u003evalue=%{y}\\u003cextra\\u003e\\u003c\\u002fextra\\u003e\",\"legendgroup\":\"147\",\"line\":{\"color\":\"#B6E880\",\"dash\":\"solid\"},\"marker\":{\"symbol\":\"circle\"},\"mode\":\"lines\",\"name\":\"147\",\"showlegend\":true,\"x\":[\"046\",\"047\",\"048\",\"049\",\"050\"],\"xaxis\":\"x\",\"y\":[0.5091247878187416,0.5835885710415446,0.3476525880668882,0.5686273269330342,0.02643894474274782],\"yaxis\":\"y\",\"type\":\"scattergl\"},{\"hovertemplate\":\"variable=148\\u003cbr\\u003ehours=%{x}\\u003cbr\\u003evalue=%{y}\\u003cextra\\u003e\\u003c\\u002fextra\\u003e\",\"legendgroup\":\"148\",\"line\":{\"color\":\"#FF97FF\",\"dash\":\"solid\"},\"marker\":{\"symbol\":\"circle\"},\"mode\":\"lines\",\"name\":\"148\",\"showlegend\":true,\"x\":[\"046\",\"047\",\"048\",\"049\",\"050\"],\"xaxis\":\"x\",\"y\":[0.085127249469527,0.12891256166675652,0.05080833110806327,0.035835624621139914,0.0144791768611843],\"yaxis\":\"y\",\"type\":\"scattergl\"},{\"hovertemplate\":\"variable=149\\u003cbr\\u003ehours=%{x}\\u003cbr\\u003evalue=%{y}\\u003cextra\\u003e\\u003c\\u002fextra\\u003e\",\"legendgroup\":\"149\",\"line\":{\"color\":\"#FECB52\",\"dash\":\"solid\"},\"marker\":{\"symbol\":\"circle\"},\"mode\":\"lines\",\"name\":\"149\",\"showlegend\":true,\"x\":[\"046\",\"047\",\"048\",\"049\",\"050\"],\"xaxis\":\"x\",\"y\":[0.0629750380905579,0.11290708985741381,0.041930849825557844,0.015691955244064373,0.013749424259581908],\"yaxis\":\"y\",\"type\":\"scattergl\"},{\"hovertemplate\":\"variable=150\\u003cbr\\u003ehours=%{x}\\u003cbr\\u003evalue=%{y}\\u003cextra\\u003e\\u003c\\u002fextra\\u003e\",\"legendgroup\":\"150\",\"line\":{\"color\":\"#636efa\",\"dash\":\"solid\"},\"marker\":{\"symbol\":\"circle\"},\"mode\":\"lines\",\"name\":\"150\",\"showlegend\":true,\"x\":[\"046\",\"047\",\"048\",\"049\",\"050\"],\"xaxis\":\"x\",\"y\":[0.06105940339898027,0.11062020149639605,0.040027412459275276,0.015671830605045612,0.013663890903702947],\"yaxis\":\"y\",\"type\":\"scattergl\"},{\"hovertemplate\":\"variable=151\\u003cbr\\u003ehours=%{x}\\u003cbr\\u003evalue=%{y}\\u003cextra\\u003e\\u003c\\u002fextra\\u003e\",\"legendgroup\":\"151\",\"line\":{\"color\":\"#EF553B\",\"dash\":\"solid\"},\"marker\":{\"symbol\":\"circle\"},\"mode\":\"lines\",\"name\":\"151\",\"showlegend\":true,\"x\":[\"046\",\"047\",\"048\",\"049\",\"050\"],\"xaxis\":\"x\",\"y\":[0.060468069527675125,0.10795764682322731,0.04048948570096541,0.015190032212942017,0.013467017925484154],\"yaxis\":\"y\",\"type\":\"scattergl\"},{\"hovertemplate\":\"variable=152\\u003cbr\\u003ehours=%{x}\\u003cbr\\u003evalue=%{y}\\u003cextra\\u003e\\u003c\\u002fextra\\u003e\",\"legendgroup\":\"152\",\"line\":{\"color\":\"#00cc96\",\"dash\":\"solid\"},\"marker\":{\"symbol\":\"circle\"},\"mode\":\"lines\",\"name\":\"152\",\"showlegend\":true,\"x\":[\"046\",\"047\",\"048\",\"049\",\"050\"],\"xaxis\":\"x\",\"y\":[0.0599562573224201,0.10704526311857863,0.041435175672895556,0.01491701153602249,0.01330914254684881],\"yaxis\":\"y\",\"type\":\"scattergl\"},{\"hovertemplate\":\"variable=153\\u003cbr\\u003ehours=%{x}\\u003cbr\\u003evalue=%{y}\\u003cextra\\u003e\\u003c\\u002fextra\\u003e\",\"legendgroup\":\"153\",\"line\":{\"color\":\"#ab63fa\",\"dash\":\"solid\"},\"marker\":{\"symbol\":\"circle\"},\"mode\":\"lines\",\"name\":\"153\",\"showlegend\":true,\"x\":[\"046\",\"047\",\"048\",\"049\",\"050\"],\"xaxis\":\"x\",\"y\":[0.058699736195350544,0.10603852505877188,0.03991298425682697,0.014533008908145045,0.013416908000565362],\"yaxis\":\"y\",\"type\":\"scattergl\"},{\"hovertemplate\":\"variable=154\\u003cbr\\u003ehours=%{x}\\u003cbr\\u003evalue=%{y}\\u003cextra\\u003e\\u003c\\u002fextra\\u003e\",\"legendgroup\":\"154\",\"line\":{\"color\":\"#FFA15A\",\"dash\":\"solid\"},\"marker\":{\"symbol\":\"circle\"},\"mode\":\"lines\",\"name\":\"154\",\"showlegend\":true,\"x\":[\"046\",\"047\",\"048\",\"049\",\"050\"],\"xaxis\":\"x\",\"y\":[0.05814636810842186,0.10504159071376873,0.039425655632722184,0.014332952457634721,0.013234302464321716],\"yaxis\":\"y\",\"type\":\"scattergl\"},{\"hovertemplate\":\"variable=155\\u003cbr\\u003ehours=%{x}\\u003cbr\\u003evalue=%{y}\\u003cextra\\u003e\\u003c\\u002fextra\\u003e\",\"legendgroup\":\"155\",\"line\":{\"color\":\"#19d3f3\",\"dash\":\"solid\"},\"marker\":{\"symbol\":\"circle\"},\"mode\":\"lines\",\"name\":\"155\",\"showlegend\":true,\"x\":[\"046\",\"047\",\"048\",\"049\",\"050\"],\"xaxis\":\"x\",\"y\":[0.07124354455133691,0.11960731776334808,0.04501355687443983,0.030515587511628386,0.014701843534268597],\"yaxis\":\"y\",\"type\":\"scattergl\"},{\"hovertemplate\":\"variable=156\\u003cbr\\u003ehours=%{x}\\u003cbr\\u003evalue=%{y}\\u003cextra\\u003e\\u003c\\u002fextra\\u003e\",\"legendgroup\":\"156\",\"line\":{\"color\":\"#FF6692\",\"dash\":\"solid\"},\"marker\":{\"symbol\":\"circle\"},\"mode\":\"lines\",\"name\":\"156\",\"showlegend\":true,\"x\":[\"046\",\"047\",\"048\",\"049\",\"050\"],\"xaxis\":\"x\",\"y\":[0.08427692016662842,0.139336851739535,0.06218112411584466,0.05763922496536831,0.01678226511230875],\"yaxis\":\"y\",\"type\":\"scattergl\"},{\"hovertemplate\":\"variable=157\\u003cbr\\u003ehours=%{x}\\u003cbr\\u003evalue=%{y}\\u003cextra\\u003e\\u003c\\u002fextra\\u003e\",\"legendgroup\":\"157\",\"line\":{\"color\":\"#B6E880\",\"dash\":\"solid\"},\"marker\":{\"symbol\":\"circle\"},\"mode\":\"lines\",\"name\":\"157\",\"showlegend\":true,\"x\":[\"046\",\"047\",\"048\",\"049\",\"050\"],\"xaxis\":\"x\",\"y\":[0.056940572713036416,0.10698959245128188,0.044952623726782784,0.021932555134950255,0.013887001524308351],\"yaxis\":\"y\",\"type\":\"scattergl\"},{\"hovertemplate\":\"variable=158\\u003cbr\\u003ehours=%{x}\\u003cbr\\u003evalue=%{y}\\u003cextra\\u003e\\u003c\\u002fextra\\u003e\",\"legendgroup\":\"158\",\"line\":{\"color\":\"#FF97FF\",\"dash\":\"solid\"},\"marker\":{\"symbol\":\"circle\"},\"mode\":\"lines\",\"name\":\"158\",\"showlegend\":true,\"x\":[\"046\",\"047\",\"048\",\"049\",\"050\"],\"xaxis\":\"x\",\"y\":[0.05435877799874723,0.09910816695808898,0.03864089220339791,0.014543828008558817,0.012912313010681945],\"yaxis\":\"y\",\"type\":\"scattergl\"},{\"hovertemplate\":\"variable=159\\u003cbr\\u003ehours=%{x}\\u003cbr\\u003evalue=%{y}\\u003cextra\\u003e\\u003c\\u002fextra\\u003e\",\"legendgroup\":\"159\",\"line\":{\"color\":\"#FECB52\",\"dash\":\"solid\"},\"marker\":{\"symbol\":\"circle\"},\"mode\":\"lines\",\"name\":\"159\",\"showlegend\":true,\"x\":[\"046\",\"047\",\"048\",\"049\",\"050\"],\"xaxis\":\"x\",\"y\":[0.05455300610409392,0.09828069827757521,0.03760689102045062,0.014291030005382047,0.012987207794339851],\"yaxis\":\"y\",\"type\":\"scattergl\"},{\"hovertemplate\":\"variable=160\\u003cbr\\u003ehours=%{x}\\u003cbr\\u003evalue=%{y}\\u003cextra\\u003e\\u003c\\u002fextra\\u003e\",\"legendgroup\":\"160\",\"line\":{\"color\":\"#636efa\",\"dash\":\"solid\"},\"marker\":{\"symbol\":\"circle\"},\"mode\":\"lines\",\"name\":\"160\",\"showlegend\":true,\"x\":[\"046\",\"047\",\"048\",\"049\",\"050\"],\"xaxis\":\"x\",\"y\":[0.05425103308721501,0.09749616032973456,0.03646594160932078,0.01389355998299718,0.012853362729736756],\"yaxis\":\"y\",\"type\":\"scattergl\"},{\"hovertemplate\":\"variable=161\\u003cbr\\u003ehours=%{x}\\u003cbr\\u003evalue=%{y}\\u003cextra\\u003e\\u003c\\u002fextra\\u003e\",\"legendgroup\":\"161\",\"line\":{\"color\":\"#EF553B\",\"dash\":\"solid\"},\"marker\":{\"symbol\":\"circle\"},\"mode\":\"lines\",\"name\":\"161\",\"showlegend\":true,\"x\":[\"046\",\"047\",\"048\",\"049\",\"050\"],\"xaxis\":\"x\",\"y\":[0.0522029177529885,0.09754107038378533,0.03631063810112984,0.013535346062193044,0.012487689009222893],\"yaxis\":\"y\",\"type\":\"scattergl\"},{\"hovertemplate\":\"variable=162\\u003cbr\\u003ehours=%{x}\\u003cbr\\u003evalue=%{y}\\u003cextra\\u003e\\u003c\\u002fextra\\u003e\",\"legendgroup\":\"162\",\"line\":{\"color\":\"#00cc96\",\"dash\":\"solid\"},\"marker\":{\"symbol\":\"circle\"},\"mode\":\"lines\",\"name\":\"162\",\"showlegend\":true,\"x\":[\"046\",\"047\",\"048\",\"049\",\"050\"],\"xaxis\":\"x\",\"y\":[0.05110057725427471,0.09531030827108203,0.03726264761086365,0.013993971206433302,0.012578413897832421],\"yaxis\":\"y\",\"type\":\"scattergl\"},{\"hovertemplate\":\"variable=163\\u003cbr\\u003ehours=%{x}\\u003cbr\\u003evalue=%{y}\\u003cextra\\u003e\\u003c\\u002fextra\\u003e\",\"legendgroup\":\"163\",\"line\":{\"color\":\"#ab63fa\",\"dash\":\"solid\"},\"marker\":{\"symbol\":\"circle\"},\"mode\":\"lines\",\"name\":\"163\",\"showlegend\":true,\"x\":[\"046\",\"047\",\"048\",\"049\",\"050\"],\"xaxis\":\"x\",\"y\":[0.0505715097136338,0.09404877033390759,0.037179373153150515,0.014145998526918068,0.012841168818439695],\"yaxis\":\"y\",\"type\":\"scattergl\"},{\"hovertemplate\":\"variable=164\\u003cbr\\u003ehours=%{x}\\u003cbr\\u003evalue=%{y}\\u003cextra\\u003e\\u003c\\u002fextra\\u003e\",\"legendgroup\":\"164\",\"line\":{\"color\":\"#FFA15A\",\"dash\":\"solid\"},\"marker\":{\"symbol\":\"circle\"},\"mode\":\"lines\",\"name\":\"164\",\"showlegend\":true,\"x\":[\"046\",\"047\",\"048\",\"049\",\"050\"],\"xaxis\":\"x\",\"y\":[0.04937215579713212,0.0936818841928891,0.03757954986931931,0.013955452044926615,0.013097529682510179],\"yaxis\":\"y\",\"type\":\"scattergl\"},{\"hovertemplate\":\"variable=165\\u003cbr\\u003ehours=%{x}\\u003cbr\\u003evalue=%{y}\\u003cextra\\u003e\\u003c\\u002fextra\\u003e\",\"legendgroup\":\"165\",\"line\":{\"color\":\"#19d3f3\",\"dash\":\"solid\"},\"marker\":{\"symbol\":\"circle\"},\"mode\":\"lines\",\"name\":\"165\",\"showlegend\":true,\"x\":[\"046\",\"047\",\"048\",\"049\",\"050\"],\"xaxis\":\"x\",\"y\":[0.04936681494345739,0.09432082794291298,0.03704953014137324,0.013863306164055927,0.012787396803817392],\"yaxis\":\"y\",\"type\":\"scattergl\"},{\"hovertemplate\":\"variable=166\\u003cbr\\u003ehours=%{x}\\u003cbr\\u003evalue=%{y}\\u003cextra\\u003e\\u003c\\u002fextra\\u003e\",\"legendgroup\":\"166\",\"line\":{\"color\":\"#FF6692\",\"dash\":\"solid\"},\"marker\":{\"symbol\":\"circle\"},\"mode\":\"lines\",\"name\":\"166\",\"showlegend\":true,\"x\":[\"046\",\"047\",\"048\",\"049\",\"050\"],\"xaxis\":\"x\",\"y\":[0.047906357954171495,0.09208549439962953,0.03626903191490549,0.013621043192061774,0.012651259495483918],\"yaxis\":\"y\",\"type\":\"scattergl\"},{\"hovertemplate\":\"variable=167\\u003cbr\\u003ehours=%{x}\\u003cbr\\u003evalue=%{y}\\u003cextra\\u003e\\u003c\\u002fextra\\u003e\",\"legendgroup\":\"167\",\"line\":{\"color\":\"#B6E880\",\"dash\":\"solid\"},\"marker\":{\"symbol\":\"circle\"},\"mode\":\"lines\",\"name\":\"167\",\"showlegend\":true,\"x\":[\"046\",\"047\",\"048\",\"049\",\"050\"],\"xaxis\":\"x\",\"y\":[0.047092858498558855,0.09039880070508742,0.03535735064759417,0.012999760705875961,0.012596844385564892],\"yaxis\":\"y\",\"type\":\"scattergl\"},{\"hovertemplate\":\"variable=168\\u003cbr\\u003ehours=%{x}\\u003cbr\\u003evalue=%{y}\\u003cextra\\u003e\\u003c\\u002fextra\\u003e\",\"legendgroup\":\"168\",\"line\":{\"color\":\"#FF97FF\",\"dash\":\"solid\"},\"marker\":{\"symbol\":\"circle\"},\"mode\":\"lines\",\"name\":\"168\",\"showlegend\":true,\"x\":[\"046\",\"047\",\"048\",\"049\",\"050\"],\"xaxis\":\"x\",\"y\":[0.0480361538195496,0.09062964497972516,0.03491797520450381,0.01281152547463375,0.012343836312632517],\"yaxis\":\"y\",\"type\":\"scattergl\"},{\"hovertemplate\":\"variable=169\\u003cbr\\u003ehours=%{x}\\u003cbr\\u003evalue=%{y}\\u003cextra\\u003e\\u003c\\u002fextra\\u003e\",\"legendgroup\":\"169\",\"line\":{\"color\":\"#FECB52\",\"dash\":\"solid\"},\"marker\":{\"symbol\":\"circle\"},\"mode\":\"lines\",\"name\":\"169\",\"showlegend\":true,\"x\":[\"046\",\"047\",\"048\",\"049\",\"050\"],\"xaxis\":\"x\",\"y\":[0.04788489019131102,0.08963857057097305,0.03401759651746156,0.013092393609258676,0.011883363033473286],\"yaxis\":\"y\",\"type\":\"scattergl\"},{\"hovertemplate\":\"variable=170\\u003cbr\\u003ehours=%{x}\\u003cbr\\u003evalue=%{y}\\u003cextra\\u003e\\u003c\\u002fextra\\u003e\",\"legendgroup\":\"170\",\"line\":{\"color\":\"#636efa\",\"dash\":\"solid\"},\"marker\":{\"symbol\":\"circle\"},\"mode\":\"lines\",\"name\":\"170\",\"showlegend\":true,\"x\":[\"046\",\"047\",\"048\",\"049\",\"050\"],\"xaxis\":\"x\",\"y\":[0.0448903174463742,0.09048190802135117,0.034072650685958,0.013100373970264199,0.012212845151564386],\"yaxis\":\"y\",\"type\":\"scattergl\"},{\"hovertemplate\":\"variable=171\\u003cbr\\u003ehours=%{x}\\u003cbr\\u003evalue=%{y}\\u003cextra\\u003e\\u003c\\u002fextra\\u003e\",\"legendgroup\":\"171\",\"line\":{\"color\":\"#EF553B\",\"dash\":\"solid\"},\"marker\":{\"symbol\":\"circle\"},\"mode\":\"lines\",\"name\":\"171\",\"showlegend\":true,\"x\":[\"046\",\"047\",\"048\",\"049\",\"050\"],\"xaxis\":\"x\",\"y\":[0.04349614492867505,0.09146847570727175,0.03447636976065485,0.012854175969743495,0.012208776523831056],\"yaxis\":\"y\",\"type\":\"scattergl\"},{\"hovertemplate\":\"variable=172\\u003cbr\\u003ehours=%{x}\\u003cbr\\u003evalue=%{y}\\u003cextra\\u003e\\u003c\\u002fextra\\u003e\",\"legendgroup\":\"172\",\"line\":{\"color\":\"#00cc96\",\"dash\":\"solid\"},\"marker\":{\"symbol\":\"circle\"},\"mode\":\"lines\",\"name\":\"172\",\"showlegend\":true,\"x\":[\"046\",\"047\",\"048\",\"049\",\"050\"],\"xaxis\":\"x\",\"y\":[0.041693120494901884,0.08891799390079948,0.03324915164249552,0.013067894735613332,0.011912080178932194],\"yaxis\":\"y\",\"type\":\"scattergl\"},{\"hovertemplate\":\"variable=173\\u003cbr\\u003ehours=%{x}\\u003cbr\\u003evalue=%{y}\\u003cextra\\u003e\\u003c\\u002fextra\\u003e\",\"legendgroup\":\"173\",\"line\":{\"color\":\"#ab63fa\",\"dash\":\"solid\"},\"marker\":{\"symbol\":\"circle\"},\"mode\":\"lines\",\"name\":\"173\",\"showlegend\":true,\"x\":[\"046\",\"047\",\"048\",\"049\",\"050\"],\"xaxis\":\"x\",\"y\":[0.043472437332150726,0.08815282721527491,0.0332631680606777,0.012906327854429515,0.01181587392903047],\"yaxis\":\"y\",\"type\":\"scattergl\"},{\"hovertemplate\":\"variable=174\\u003cbr\\u003ehours=%{x}\\u003cbr\\u003evalue=%{y}\\u003cextra\\u003e\\u003c\\u002fextra\\u003e\",\"legendgroup\":\"174\",\"line\":{\"color\":\"#FFA15A\",\"dash\":\"solid\"},\"marker\":{\"symbol\":\"circle\"},\"mode\":\"lines\",\"name\":\"174\",\"showlegend\":true,\"x\":[\"046\",\"047\",\"048\",\"049\",\"050\"],\"xaxis\":\"x\",\"y\":[0.0435236848481588,0.08736322199387414,0.033171585897245615,0.012814785681555425,0.011824412017821239],\"yaxis\":\"y\",\"type\":\"scattergl\"},{\"hovertemplate\":\"variable=175\\u003cbr\\u003ehours=%{x}\\u003cbr\\u003evalue=%{y}\\u003cextra\\u003e\\u003c\\u002fextra\\u003e\",\"legendgroup\":\"175\",\"line\":{\"color\":\"#19d3f3\",\"dash\":\"solid\"},\"marker\":{\"symbol\":\"circle\"},\"mode\":\"lines\",\"name\":\"175\",\"showlegend\":true,\"x\":[\"046\",\"047\",\"048\",\"049\",\"050\"],\"xaxis\":\"x\",\"y\":[0.04236502157976604,0.08566116672824783,0.033466313952471224,0.012590894188127415,0.011661884662587012],\"yaxis\":\"y\",\"type\":\"scattergl\"},{\"hovertemplate\":\"variable=176\\u003cbr\\u003ehours=%{x}\\u003cbr\\u003evalue=%{y}\\u003cextra\\u003e\\u003c\\u002fextra\\u003e\",\"legendgroup\":\"176\",\"line\":{\"color\":\"#FF6692\",\"dash\":\"solid\"},\"marker\":{\"symbol\":\"circle\"},\"mode\":\"lines\",\"name\":\"176\",\"showlegend\":true,\"x\":[\"046\",\"047\",\"048\",\"049\",\"050\"],\"xaxis\":\"x\",\"y\":[0.04100112522488836,0.08381673288606553,0.03325240213574024,0.012616005679952556,0.011611407672924167],\"yaxis\":\"y\",\"type\":\"scattergl\"},{\"hovertemplate\":\"variable=177\\u003cbr\\u003ehours=%{x}\\u003cbr\\u003evalue=%{y}\\u003cextra\\u003e\\u003c\\u002fextra\\u003e\",\"legendgroup\":\"177\",\"line\":{\"color\":\"#B6E880\",\"dash\":\"solid\"},\"marker\":{\"symbol\":\"circle\"},\"mode\":\"lines\",\"name\":\"177\",\"showlegend\":true,\"x\":[\"046\",\"047\",\"048\",\"049\",\"050\"],\"xaxis\":\"x\",\"y\":[0.04253893268512755,0.08269825066491393,0.03313810328998232,0.012138083757065786,0.011639049066426224],\"yaxis\":\"y\",\"type\":\"scattergl\"},{\"hovertemplate\":\"variable=178\\u003cbr\\u003ehours=%{x}\\u003cbr\\u003evalue=%{y}\\u003cextra\\u003e\\u003c\\u002fextra\\u003e\",\"legendgroup\":\"178\",\"line\":{\"color\":\"#FF97FF\",\"dash\":\"solid\"},\"marker\":{\"symbol\":\"circle\"},\"mode\":\"lines\",\"name\":\"178\",\"showlegend\":true,\"x\":[\"046\",\"047\",\"048\",\"049\",\"050\"],\"xaxis\":\"x\",\"y\":[0.042959237937304474,0.08368142455984916,0.033374409039581665,0.012175297698301276,0.011533801980020863],\"yaxis\":\"y\",\"type\":\"scattergl\"},{\"hovertemplate\":\"variable=179\\u003cbr\\u003ehours=%{x}\\u003cbr\\u003evalue=%{y}\\u003cextra\\u003e\\u003c\\u002fextra\\u003e\",\"legendgroup\":\"179\",\"line\":{\"color\":\"#FECB52\",\"dash\":\"solid\"},\"marker\":{\"symbol\":\"circle\"},\"mode\":\"lines\",\"name\":\"179\",\"showlegend\":true,\"x\":[\"046\",\"047\",\"048\",\"049\",\"050\"],\"xaxis\":\"x\",\"y\":[0.042131793856737786,0.0831857436194713,0.0326742671078537,0.012700819826267844,0.011362747778019835],\"yaxis\":\"y\",\"type\":\"scattergl\"},{\"hovertemplate\":\"variable=180\\u003cbr\\u003ehours=%{x}\\u003cbr\\u003evalue=%{y}\\u003cextra\\u003e\\u003c\\u002fextra\\u003e\",\"legendgroup\":\"180\",\"line\":{\"color\":\"#636efa\",\"dash\":\"solid\"},\"marker\":{\"symbol\":\"circle\"},\"mode\":\"lines\",\"name\":\"180\",\"showlegend\":true,\"x\":[\"046\",\"047\",\"048\",\"049\",\"050\"],\"xaxis\":\"x\",\"y\":[0.04312993747305727,0.08272788480532324,0.032268007856641794,0.012248404178227822,0.01163157169037816],\"yaxis\":\"y\",\"type\":\"scattergl\"},{\"hovertemplate\":\"variable=181\\u003cbr\\u003ehours=%{x}\\u003cbr\\u003evalue=%{y}\\u003cextra\\u003e\\u003c\\u002fextra\\u003e\",\"legendgroup\":\"181\",\"line\":{\"color\":\"#EF553B\",\"dash\":\"solid\"},\"marker\":{\"symbol\":\"circle\"},\"mode\":\"lines\",\"name\":\"181\",\"showlegend\":true,\"x\":[\"046\",\"047\",\"048\",\"049\",\"050\"],\"xaxis\":\"x\",\"y\":[0.04192155287770778,0.08367672758906505,0.03184890376049499,0.012150365730459502,0.011813319677621417],\"yaxis\":\"y\",\"type\":\"scattergl\"},{\"hovertemplate\":\"variable=182\\u003cbr\\u003ehours=%{x}\\u003cbr\\u003evalue=%{y}\\u003cextra\\u003e\\u003c\\u002fextra\\u003e\",\"legendgroup\":\"182\",\"line\":{\"color\":\"#00cc96\",\"dash\":\"solid\"},\"marker\":{\"symbol\":\"circle\"},\"mode\":\"lines\",\"name\":\"182\",\"showlegend\":true,\"x\":[\"046\",\"047\",\"048\",\"049\",\"050\"],\"xaxis\":\"x\",\"y\":[0.041260210094714804,0.08321779775541217,0.03177104927105585,0.012078762201462678,0.011658424301564635],\"yaxis\":\"y\",\"type\":\"scattergl\"},{\"hovertemplate\":\"variable=183\\u003cbr\\u003ehours=%{x}\\u003cbr\\u003evalue=%{y}\\u003cextra\\u003e\\u003c\\u002fextra\\u003e\",\"legendgroup\":\"183\",\"line\":{\"color\":\"#ab63fa\",\"dash\":\"solid\"},\"marker\":{\"symbol\":\"circle\"},\"mode\":\"lines\",\"name\":\"183\",\"showlegend\":true,\"x\":[\"046\",\"047\",\"048\",\"049\",\"050\"],\"xaxis\":\"x\",\"y\":[0.04243700814889311,0.08201099687542529,0.03256726461364798,0.011823230989351945,0.01157418686815858],\"yaxis\":\"y\",\"type\":\"scattergl\"},{\"hovertemplate\":\"variable=184\\u003cbr\\u003ehours=%{x}\\u003cbr\\u003evalue=%{y}\\u003cextra\\u003e\\u003c\\u002fextra\\u003e\",\"legendgroup\":\"184\",\"line\":{\"color\":\"#FFA15A\",\"dash\":\"solid\"},\"marker\":{\"symbol\":\"circle\"},\"mode\":\"lines\",\"name\":\"184\",\"showlegend\":true,\"x\":[\"046\",\"047\",\"048\",\"049\",\"050\"],\"xaxis\":\"x\",\"y\":[0.04250335926212402,0.08167058752895819,0.03263228919219055,0.011510575825330027,0.011478184315944521],\"yaxis\":\"y\",\"type\":\"scattergl\"},{\"hovertemplate\":\"variable=185\\u003cbr\\u003ehours=%{x}\\u003cbr\\u003evalue=%{y}\\u003cextra\\u003e\\u003c\\u002fextra\\u003e\",\"legendgroup\":\"185\",\"line\":{\"color\":\"#19d3f3\",\"dash\":\"solid\"},\"marker\":{\"symbol\":\"circle\"},\"mode\":\"lines\",\"name\":\"185\",\"showlegend\":true,\"x\":[\"046\",\"047\",\"048\",\"049\",\"050\"],\"xaxis\":\"x\",\"y\":[0.04020732772836793,0.0814008152939462,0.03185149763370555,0.01173959198783719,0.011036766161445695],\"yaxis\":\"y\",\"type\":\"scattergl\"},{\"hovertemplate\":\"variable=186\\u003cbr\\u003ehours=%{x}\\u003cbr\\u003evalue=%{y}\\u003cextra\\u003e\\u003c\\u002fextra\\u003e\",\"legendgroup\":\"186\",\"line\":{\"color\":\"#FF6692\",\"dash\":\"solid\"},\"marker\":{\"symbol\":\"circle\"},\"mode\":\"lines\",\"name\":\"186\",\"showlegend\":true,\"x\":[\"046\",\"047\",\"048\",\"049\",\"050\"],\"xaxis\":\"x\",\"y\":[0.039015772344013114,0.08271667629560125,0.031326579823655276,0.012155984211189791,0.011117014311010826],\"yaxis\":\"y\",\"type\":\"scattergl\"},{\"hovertemplate\":\"variable=187\\u003cbr\\u003ehours=%{x}\\u003cbr\\u003evalue=%{y}\\u003cextra\\u003e\\u003c\\u002fextra\\u003e\",\"legendgroup\":\"187\",\"line\":{\"color\":\"#B6E880\",\"dash\":\"solid\"},\"marker\":{\"symbol\":\"circle\"},\"mode\":\"lines\",\"name\":\"187\",\"showlegend\":true,\"x\":[\"046\",\"047\",\"048\",\"049\",\"050\"],\"xaxis\":\"x\",\"y\":[0.03962045185520273,0.08188434163623237,0.03151165096779858,0.012309696284853015,0.011504160734613252],\"yaxis\":\"y\",\"type\":\"scattergl\"},{\"hovertemplate\":\"variable=188\\u003cbr\\u003ehours=%{x}\\u003cbr\\u003evalue=%{y}\\u003cextra\\u003e\\u003c\\u002fextra\\u003e\",\"legendgroup\":\"188\",\"line\":{\"color\":\"#FF97FF\",\"dash\":\"solid\"},\"marker\":{\"symbol\":\"circle\"},\"mode\":\"lines\",\"name\":\"188\",\"showlegend\":true,\"x\":[\"046\",\"047\",\"048\",\"049\",\"050\"],\"xaxis\":\"x\",\"y\":[0.03893403379528898,0.08148747621774514,0.030369783546850326,0.012170717042506931,0.01143849525221254],\"yaxis\":\"y\",\"type\":\"scattergl\"},{\"hovertemplate\":\"variable=189\\u003cbr\\u003ehours=%{x}\\u003cbr\\u003evalue=%{y}\\u003cextra\\u003e\\u003c\\u002fextra\\u003e\",\"legendgroup\":\"189\",\"line\":{\"color\":\"#FECB52\",\"dash\":\"solid\"},\"marker\":{\"symbol\":\"circle\"},\"mode\":\"lines\",\"name\":\"189\",\"showlegend\":true,\"x\":[\"046\",\"047\",\"048\",\"049\",\"050\"],\"xaxis\":\"x\",\"y\":[0.03963986555414701,0.08320716736494672,0.030893089502926217,0.011878632641988362,0.011344200475724035],\"yaxis\":\"y\",\"type\":\"scattergl\"},{\"hovertemplate\":\"variable=190\\u003cbr\\u003ehours=%{x}\\u003cbr\\u003evalue=%{y}\\u003cextra\\u003e\\u003c\\u002fextra\\u003e\",\"legendgroup\":\"190\",\"line\":{\"color\":\"#636efa\",\"dash\":\"solid\"},\"marker\":{\"symbol\":\"circle\"},\"mode\":\"lines\",\"name\":\"190\",\"showlegend\":true,\"x\":[\"046\",\"047\",\"048\",\"049\",\"050\"],\"xaxis\":\"x\",\"y\":[0.03977380588976573,0.08246206706572067,0.031231409030122267,0.011406317179837156,0.011198236305224759],\"yaxis\":\"y\",\"type\":\"scattergl\"},{\"hovertemplate\":\"variable=191\\u003cbr\\u003ehours=%{x}\\u003cbr\\u003evalue=%{y}\\u003cextra\\u003e\\u003c\\u002fextra\\u003e\",\"legendgroup\":\"191\",\"line\":{\"color\":\"#EF553B\",\"dash\":\"solid\"},\"marker\":{\"symbol\":\"circle\"},\"mode\":\"lines\",\"name\":\"191\",\"showlegend\":true,\"x\":[\"046\",\"047\",\"048\",\"049\",\"050\"],\"xaxis\":\"x\",\"y\":[0.0389058619334698,0.08046311394122026,0.03099306813151676,0.011479511526326203,0.01130918155191898],\"yaxis\":\"y\",\"type\":\"scattergl\"},{\"hovertemplate\":\"variable=192\\u003cbr\\u003ehours=%{x}\\u003cbr\\u003evalue=%{y}\\u003cextra\\u003e\\u003c\\u002fextra\\u003e\",\"legendgroup\":\"192\",\"line\":{\"color\":\"#00cc96\",\"dash\":\"solid\"},\"marker\":{\"symbol\":\"circle\"},\"mode\":\"lines\",\"name\":\"192\",\"showlegend\":true,\"x\":[\"046\",\"047\",\"048\",\"049\",\"050\"],\"xaxis\":\"x\",\"y\":[0.038961889615189885,0.08042672144531603,0.03117739289680481,0.011909617526212333,0.011174676391930727],\"yaxis\":\"y\",\"type\":\"scattergl\"},{\"hovertemplate\":\"variable=193\\u003cbr\\u003ehours=%{x}\\u003cbr\\u003evalue=%{y}\\u003cextra\\u003e\\u003c\\u002fextra\\u003e\",\"legendgroup\":\"193\",\"line\":{\"color\":\"#ab63fa\",\"dash\":\"solid\"},\"marker\":{\"symbol\":\"circle\"},\"mode\":\"lines\",\"name\":\"193\",\"showlegend\":true,\"x\":[\"046\",\"047\",\"048\",\"049\",\"050\"],\"xaxis\":\"x\",\"y\":[0.039826813048167764,0.08001696434333559,0.03086516243153205,0.012036693414209284,0.010974996177248475],\"yaxis\":\"y\",\"type\":\"scattergl\"},{\"hovertemplate\":\"variable=194\\u003cbr\\u003ehours=%{x}\\u003cbr\\u003evalue=%{y}\\u003cextra\\u003e\\u003c\\u002fextra\\u003e\",\"legendgroup\":\"194\",\"line\":{\"color\":\"#FFA15A\",\"dash\":\"solid\"},\"marker\":{\"symbol\":\"circle\"},\"mode\":\"lines\",\"name\":\"194\",\"showlegend\":true,\"x\":[\"046\",\"047\",\"048\",\"049\",\"050\"],\"xaxis\":\"x\",\"y\":[0.03918483344053773,0.07945448231185531,0.03256698390283558,0.012306661186177141,0.011941467680839044],\"yaxis\":\"y\",\"type\":\"scattergl\"},{\"hovertemplate\":\"variable=195\\u003cbr\\u003ehours=%{x}\\u003cbr\\u003evalue=%{y}\\u003cextra\\u003e\\u003c\\u002fextra\\u003e\",\"legendgroup\":\"195\",\"line\":{\"color\":\"#19d3f3\",\"dash\":\"solid\"},\"marker\":{\"symbol\":\"circle\"},\"mode\":\"lines\",\"name\":\"195\",\"showlegend\":true,\"x\":[\"046\",\"047\",\"048\",\"049\",\"050\"],\"xaxis\":\"x\",\"y\":[0.04121053235289074,0.08587478092305004,0.04483174140693966,0.01577862696855246,0.020801519671488904],\"yaxis\":\"y\",\"type\":\"scattergl\"},{\"hovertemplate\":\"variable=196\\u003cbr\\u003ehours=%{x}\\u003cbr\\u003evalue=%{y}\\u003cextra\\u003e\\u003c\\u002fextra\\u003e\",\"legendgroup\":\"196\",\"line\":{\"color\":\"#FF6692\",\"dash\":\"solid\"},\"marker\":{\"symbol\":\"circle\"},\"mode\":\"lines\",\"name\":\"196\",\"showlegend\":true,\"x\":[\"046\",\"047\",\"048\",\"049\",\"050\"],\"xaxis\":\"x\",\"y\":[0.04014534777446763,0.08296815326406741,0.03706592694693718,0.013909997970641054,0.017245419545682924],\"yaxis\":\"y\",\"type\":\"scattergl\"},{\"hovertemplate\":\"variable=197\\u003cbr\\u003ehours=%{x}\\u003cbr\\u003evalue=%{y}\\u003cextra\\u003e\\u003c\\u002fextra\\u003e\",\"legendgroup\":\"197\",\"line\":{\"color\":\"#B6E880\",\"dash\":\"solid\"},\"marker\":{\"symbol\":\"circle\"},\"mode\":\"lines\",\"name\":\"197\",\"showlegend\":true,\"x\":[\"046\",\"047\",\"048\",\"049\",\"050\"],\"xaxis\":\"x\",\"y\":[0.03904218887264216,0.07934568366696142,0.0312868990919267,0.011852927533969122,0.011169100579166666],\"yaxis\":\"y\",\"type\":\"scattergl\"},{\"hovertemplate\":\"variable=198\\u003cbr\\u003ehours=%{x}\\u003cbr\\u003evalue=%{y}\\u003cextra\\u003e\\u003c\\u002fextra\\u003e\",\"legendgroup\":\"198\",\"line\":{\"color\":\"#FF97FF\",\"dash\":\"solid\"},\"marker\":{\"symbol\":\"circle\"},\"mode\":\"lines\",\"name\":\"198\",\"showlegend\":true,\"x\":[\"046\",\"047\",\"048\",\"049\",\"050\"],\"xaxis\":\"x\",\"y\":[0.03762496214190766,0.07960047009185536,0.03072597631403918,0.011888043064629553,0.01096685907306827],\"yaxis\":\"y\",\"type\":\"scattergl\"},{\"hovertemplate\":\"variable=199\\u003cbr\\u003ehours=%{x}\\u003cbr\\u003evalue=%{y}\\u003cextra\\u003e\\u003c\\u002fextra\\u003e\",\"legendgroup\":\"199\",\"line\":{\"color\":\"#FECB52\",\"dash\":\"solid\"},\"marker\":{\"symbol\":\"circle\"},\"mode\":\"lines\",\"name\":\"199\",\"showlegend\":true,\"x\":[\"046\",\"047\",\"048\",\"049\",\"050\"],\"xaxis\":\"x\",\"y\":[0.03793861164920465,0.07995646730752001,0.030162008107431807,0.011267568355993114,0.010836288467492003],\"yaxis\":\"y\",\"type\":\"scattergl\"},{\"hovertemplate\":\"variable=200\\u003cbr\\u003ehours=%{x}\\u003cbr\\u003evalue=%{y}\\u003cextra\\u003e\\u003c\\u002fextra\\u003e\",\"legendgroup\":\"200\",\"line\":{\"color\":\"#636efa\",\"dash\":\"solid\"},\"marker\":{\"symbol\":\"circle\"},\"mode\":\"lines\",\"name\":\"200\",\"showlegend\":true,\"x\":[\"046\",\"047\",\"048\",\"049\",\"050\"],\"xaxis\":\"x\",\"y\":[0.01857296132038988,0.04004126217801656,0.01481776408834263,0.005545324484065366,0.005561106452845728],\"yaxis\":\"y\",\"type\":\"scattergl\"}],                        {\"template\":{\"data\":{\"histogram2dcontour\":[{\"type\":\"histogram2dcontour\",\"colorbar\":{\"outlinewidth\":0,\"ticks\":\"\"},\"colorscale\":[[0.0,\"#0d0887\"],[0.1111111111111111,\"#46039f\"],[0.2222222222222222,\"#7201a8\"],[0.3333333333333333,\"#9c179e\"],[0.4444444444444444,\"#bd3786\"],[0.5555555555555556,\"#d8576b\"],[0.6666666666666666,\"#ed7953\"],[0.7777777777777778,\"#fb9f3a\"],[0.8888888888888888,\"#fdca26\"],[1.0,\"#f0f921\"]]}],\"choropleth\":[{\"type\":\"choropleth\",\"colorbar\":{\"outlinewidth\":0,\"ticks\":\"\"}}],\"histogram2d\":[{\"type\":\"histogram2d\",\"colorbar\":{\"outlinewidth\":0,\"ticks\":\"\"},\"colorscale\":[[0.0,\"#0d0887\"],[0.1111111111111111,\"#46039f\"],[0.2222222222222222,\"#7201a8\"],[0.3333333333333333,\"#9c179e\"],[0.4444444444444444,\"#bd3786\"],[0.5555555555555556,\"#d8576b\"],[0.6666666666666666,\"#ed7953\"],[0.7777777777777778,\"#fb9f3a\"],[0.8888888888888888,\"#fdca26\"],[1.0,\"#f0f921\"]]}],\"heatmap\":[{\"type\":\"heatmap\",\"colorbar\":{\"outlinewidth\":0,\"ticks\":\"\"},\"colorscale\":[[0.0,\"#0d0887\"],[0.1111111111111111,\"#46039f\"],[0.2222222222222222,\"#7201a8\"],[0.3333333333333333,\"#9c179e\"],[0.4444444444444444,\"#bd3786\"],[0.5555555555555556,\"#d8576b\"],[0.6666666666666666,\"#ed7953\"],[0.7777777777777778,\"#fb9f3a\"],[0.8888888888888888,\"#fdca26\"],[1.0,\"#f0f921\"]]}],\"heatmapgl\":[{\"type\":\"heatmapgl\",\"colorbar\":{\"outlinewidth\":0,\"ticks\":\"\"},\"colorscale\":[[0.0,\"#0d0887\"],[0.1111111111111111,\"#46039f\"],[0.2222222222222222,\"#7201a8\"],[0.3333333333333333,\"#9c179e\"],[0.4444444444444444,\"#bd3786\"],[0.5555555555555556,\"#d8576b\"],[0.6666666666666666,\"#ed7953\"],[0.7777777777777778,\"#fb9f3a\"],[0.8888888888888888,\"#fdca26\"],[1.0,\"#f0f921\"]]}],\"contourcarpet\":[{\"type\":\"contourcarpet\",\"colorbar\":{\"outlinewidth\":0,\"ticks\":\"\"}}],\"contour\":[{\"type\":\"contour\",\"colorbar\":{\"outlinewidth\":0,\"ticks\":\"\"},\"colorscale\":[[0.0,\"#0d0887\"],[0.1111111111111111,\"#46039f\"],[0.2222222222222222,\"#7201a8\"],[0.3333333333333333,\"#9c179e\"],[0.4444444444444444,\"#bd3786\"],[0.5555555555555556,\"#d8576b\"],[0.6666666666666666,\"#ed7953\"],[0.7777777777777778,\"#fb9f3a\"],[0.8888888888888888,\"#fdca26\"],[1.0,\"#f0f921\"]]}],\"surface\":[{\"type\":\"surface\",\"colorbar\":{\"outlinewidth\":0,\"ticks\":\"\"},\"colorscale\":[[0.0,\"#0d0887\"],[0.1111111111111111,\"#46039f\"],[0.2222222222222222,\"#7201a8\"],[0.3333333333333333,\"#9c179e\"],[0.4444444444444444,\"#bd3786\"],[0.5555555555555556,\"#d8576b\"],[0.6666666666666666,\"#ed7953\"],[0.7777777777777778,\"#fb9f3a\"],[0.8888888888888888,\"#fdca26\"],[1.0,\"#f0f921\"]]}],\"mesh3d\":[{\"type\":\"mesh3d\",\"colorbar\":{\"outlinewidth\":0,\"ticks\":\"\"}}],\"scatter\":[{\"fillpattern\":{\"fillmode\":\"overlay\",\"size\":10,\"solidity\":0.2},\"type\":\"scatter\"}],\"parcoords\":[{\"type\":\"parcoords\",\"line\":{\"colorbar\":{\"outlinewidth\":0,\"ticks\":\"\"}}}],\"scatterpolargl\":[{\"type\":\"scatterpolargl\",\"marker\":{\"colorbar\":{\"outlinewidth\":0,\"ticks\":\"\"}}}],\"bar\":[{\"error_x\":{\"color\":\"#2a3f5f\"},\"error_y\":{\"color\":\"#2a3f5f\"},\"marker\":{\"line\":{\"color\":\"#E5ECF6\",\"width\":0.5},\"pattern\":{\"fillmode\":\"overlay\",\"size\":10,\"solidity\":0.2}},\"type\":\"bar\"}],\"scattergeo\":[{\"type\":\"scattergeo\",\"marker\":{\"colorbar\":{\"outlinewidth\":0,\"ticks\":\"\"}}}],\"scatterpolar\":[{\"type\":\"scatterpolar\",\"marker\":{\"colorbar\":{\"outlinewidth\":0,\"ticks\":\"\"}}}],\"histogram\":[{\"marker\":{\"pattern\":{\"fillmode\":\"overlay\",\"size\":10,\"solidity\":0.2}},\"type\":\"histogram\"}],\"scattergl\":[{\"type\":\"scattergl\",\"marker\":{\"colorbar\":{\"outlinewidth\":0,\"ticks\":\"\"}}}],\"scatter3d\":[{\"type\":\"scatter3d\",\"line\":{\"colorbar\":{\"outlinewidth\":0,\"ticks\":\"\"}},\"marker\":{\"colorbar\":{\"outlinewidth\":0,\"ticks\":\"\"}}}],\"scattermapbox\":[{\"type\":\"scattermapbox\",\"marker\":{\"colorbar\":{\"outlinewidth\":0,\"ticks\":\"\"}}}],\"scatterternary\":[{\"type\":\"scatterternary\",\"marker\":{\"colorbar\":{\"outlinewidth\":0,\"ticks\":\"\"}}}],\"scattercarpet\":[{\"type\":\"scattercarpet\",\"marker\":{\"colorbar\":{\"outlinewidth\":0,\"ticks\":\"\"}}}],\"carpet\":[{\"aaxis\":{\"endlinecolor\":\"#2a3f5f\",\"gridcolor\":\"white\",\"linecolor\":\"white\",\"minorgridcolor\":\"white\",\"startlinecolor\":\"#2a3f5f\"},\"baxis\":{\"endlinecolor\":\"#2a3f5f\",\"gridcolor\":\"white\",\"linecolor\":\"white\",\"minorgridcolor\":\"white\",\"startlinecolor\":\"#2a3f5f\"},\"type\":\"carpet\"}],\"table\":[{\"cells\":{\"fill\":{\"color\":\"#EBF0F8\"},\"line\":{\"color\":\"white\"}},\"header\":{\"fill\":{\"color\":\"#C8D4E3\"},\"line\":{\"color\":\"white\"}},\"type\":\"table\"}],\"barpolar\":[{\"marker\":{\"line\":{\"color\":\"#E5ECF6\",\"width\":0.5},\"pattern\":{\"fillmode\":\"overlay\",\"size\":10,\"solidity\":0.2}},\"type\":\"barpolar\"}],\"pie\":[{\"automargin\":true,\"type\":\"pie\"}]},\"layout\":{\"autotypenumbers\":\"strict\",\"colorway\":[\"#636efa\",\"#EF553B\",\"#00cc96\",\"#ab63fa\",\"#FFA15A\",\"#19d3f3\",\"#FF6692\",\"#B6E880\",\"#FF97FF\",\"#FECB52\"],\"font\":{\"color\":\"#2a3f5f\"},\"hovermode\":\"closest\",\"hoverlabel\":{\"align\":\"left\"},\"paper_bgcolor\":\"white\",\"plot_bgcolor\":\"#E5ECF6\",\"polar\":{\"bgcolor\":\"#E5ECF6\",\"angularaxis\":{\"gridcolor\":\"white\",\"linecolor\":\"white\",\"ticks\":\"\"},\"radialaxis\":{\"gridcolor\":\"white\",\"linecolor\":\"white\",\"ticks\":\"\"}},\"ternary\":{\"bgcolor\":\"#E5ECF6\",\"aaxis\":{\"gridcolor\":\"white\",\"linecolor\":\"white\",\"ticks\":\"\"},\"baxis\":{\"gridcolor\":\"white\",\"linecolor\":\"white\",\"ticks\":\"\"},\"caxis\":{\"gridcolor\":\"white\",\"linecolor\":\"white\",\"ticks\":\"\"}},\"coloraxis\":{\"colorbar\":{\"outlinewidth\":0,\"ticks\":\"\"}},\"colorscale\":{\"sequential\":[[0.0,\"#0d0887\"],[0.1111111111111111,\"#46039f\"],[0.2222222222222222,\"#7201a8\"],[0.3333333333333333,\"#9c179e\"],[0.4444444444444444,\"#bd3786\"],[0.5555555555555556,\"#d8576b\"],[0.6666666666666666,\"#ed7953\"],[0.7777777777777778,\"#fb9f3a\"],[0.8888888888888888,\"#fdca26\"],[1.0,\"#f0f921\"]],\"sequentialminus\":[[0.0,\"#0d0887\"],[0.1111111111111111,\"#46039f\"],[0.2222222222222222,\"#7201a8\"],[0.3333333333333333,\"#9c179e\"],[0.4444444444444444,\"#bd3786\"],[0.5555555555555556,\"#d8576b\"],[0.6666666666666666,\"#ed7953\"],[0.7777777777777778,\"#fb9f3a\"],[0.8888888888888888,\"#fdca26\"],[1.0,\"#f0f921\"]],\"diverging\":[[0,\"#8e0152\"],[0.1,\"#c51b7d\"],[0.2,\"#de77ae\"],[0.3,\"#f1b6da\"],[0.4,\"#fde0ef\"],[0.5,\"#f7f7f7\"],[0.6,\"#e6f5d0\"],[0.7,\"#b8e186\"],[0.8,\"#7fbc41\"],[0.9,\"#4d9221\"],[1,\"#276419\"]]},\"xaxis\":{\"gridcolor\":\"white\",\"linecolor\":\"white\",\"ticks\":\"\",\"title\":{\"standoff\":15},\"zerolinecolor\":\"white\",\"automargin\":true,\"zerolinewidth\":2},\"yaxis\":{\"gridcolor\":\"white\",\"linecolor\":\"white\",\"ticks\":\"\",\"title\":{\"standoff\":15},\"zerolinecolor\":\"white\",\"automargin\":true,\"zerolinewidth\":2},\"scene\":{\"xaxis\":{\"backgroundcolor\":\"#E5ECF6\",\"gridcolor\":\"white\",\"linecolor\":\"white\",\"showbackground\":true,\"ticks\":\"\",\"zerolinecolor\":\"white\",\"gridwidth\":2},\"yaxis\":{\"backgroundcolor\":\"#E5ECF6\",\"gridcolor\":\"white\",\"linecolor\":\"white\",\"showbackground\":true,\"ticks\":\"\",\"zerolinecolor\":\"white\",\"gridwidth\":2},\"zaxis\":{\"backgroundcolor\":\"#E5ECF6\",\"gridcolor\":\"white\",\"linecolor\":\"white\",\"showbackground\":true,\"ticks\":\"\",\"zerolinecolor\":\"white\",\"gridwidth\":2}},\"shapedefaults\":{\"line\":{\"color\":\"#2a3f5f\"}},\"annotationdefaults\":{\"arrowcolor\":\"#2a3f5f\",\"arrowhead\":0,\"arrowwidth\":1},\"geo\":{\"bgcolor\":\"white\",\"landcolor\":\"#E5ECF6\",\"subunitcolor\":\"white\",\"showland\":true,\"showlakes\":true,\"lakecolor\":\"white\"},\"title\":{\"x\":0.05},\"mapbox\":{\"style\":\"light\"}}},\"xaxis\":{\"anchor\":\"y\",\"domain\":[0.0,1.0],\"title\":{\"text\":\"hours\"}},\"yaxis\":{\"anchor\":\"x\",\"domain\":[0.0,1.0],\"title\":{\"text\":\"value\"}},\"legend\":{\"title\":{\"text\":\"variable\"},\"tracegroupgap\":0},\"margin\":{\"t\":60}},                        {\"responsive\": true}                    ).then(function(){\n",
       "                            \n",
       "var gd = document.getElementById('5c2c64bb-02b7-4f38-9236-ee9e4fa20dcc');\n",
       "var x = new MutationObserver(function (mutations, observer) {{\n",
       "        var display = window.getComputedStyle(gd).display;\n",
       "        if (!display || display === 'none') {{\n",
       "            console.log([gd, 'removed!']);\n",
       "            Plotly.purge(gd);\n",
       "            observer.disconnect();\n",
       "        }}\n",
       "}});\n",
       "\n",
       "// Listen for the removal of the full notebook cells\n",
       "var notebookContainer = gd.closest('#notebook-container');\n",
       "if (notebookContainer) {{\n",
       "    x.observe(notebookContainer, {childList: true});\n",
       "}}\n",
       "\n",
       "// Listen for the clearing of the current output cell\n",
       "var outputEl = gd.closest('.output');\n",
       "if (outputEl) {{\n",
       "    x.observe(outputEl, {childList: true});\n",
       "}}\n",
       "\n",
       "                        })                };                });            </script>        </div>"
      ]
     },
     "metadata": {},
     "output_type": "display_data"
    }
   ],
   "source": [
    "px.line(psds_df,log_y=False,)"
   ]
  },
  {
   "cell_type": "code",
   "execution_count": null,
   "metadata": {},
   "outputs": [],
   "source": [
    "ini_psds.T.shape"
   ]
  },
  {
   "cell_type": "code",
   "execution_count": null,
   "metadata": {},
   "outputs": [],
   "source": [
    "EEG_file_list[50]"
   ]
  },
  {
   "cell_type": "code",
   "execution_count": null,
   "metadata": {},
   "outputs": [],
   "source": []
  }
 ],
 "metadata": {
  "kernelspec": {
   "display_name": "will-they-wake-up",
   "language": "python",
   "name": "python3"
  },
  "language_info": {
   "codemirror_mode": {
    "name": "ipython",
    "version": 3
   },
   "file_extension": ".py",
   "mimetype": "text/x-python",
   "name": "python",
   "nbconvert_exporter": "python",
   "pygments_lexer": "ipython3",
   "version": "3.10.6"
  }
 },
 "nbformat": 4,
 "nbformat_minor": 2
}
