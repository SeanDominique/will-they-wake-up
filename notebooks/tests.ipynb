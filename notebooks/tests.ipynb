{
 "cells": [
  {
   "cell_type": "code",
   "execution_count": null,
   "metadata": {},
   "outputs": [],
   "source": [
    "import matplotlib.pyplot as plt\n",
    "import plotly.express as px\n",
    "import scipy.io\n",
    "import pandas as pd\n",
    "import numpy as np\n",
    "import plotly.graph_objects as go\n",
    "from sklearn.preprocessing import MinMaxScaler, StandardScaler, RobustScaler\n",
    "%matplotlib inline\n"
   ]
  },
  {
   "cell_type": "code",
   "execution_count": null,
   "metadata": {},
   "outputs": [],
   "source": [
    "import scipy.io\n",
    "\n",
    "EEG = scipy.io.loadmat('/home/mariorocha/code/SeanDominique/will-they-wake-up/data/raw/physionet.org/files/i-care/2.1/training/0284/0284_008_010_EEG.mat')\n",
    "EEG = EEG['val']"
   ]
  },
  {
   "cell_type": "code",
   "execution_count": null,
   "metadata": {},
   "outputs": [],
   "source": [
    "EEG = EEG.astype(float)\n",
    "EEG.shape"
   ]
  },
  {
   "cell_type": "code",
   "execution_count": null,
   "metadata": {},
   "outputs": [],
   "source": [
    "from sklearn.preprocessing import MinMaxScaler\n",
    "\n",
    "scaler = MinMaxScaler()\n",
    "\n",
    "EEG = scaler.fit_transform(EEG)\n",
    "\n",
    "EEG"
   ]
  },
  {
   "cell_type": "code",
   "execution_count": null,
   "metadata": {},
   "outputs": [],
   "source": [
    "EEG = np.mean(EEG,axis=0)\n",
    "EEG.shape"
   ]
  },
  {
   "cell_type": "code",
   "execution_count": null,
   "metadata": {},
   "outputs": [],
   "source": [
    "Fs = 500\n",
    "fft_result = np.fft.fft(EEG)\n",
    "freq = np.fft.fftfreq(len(EEG), d=1/Fs)\n",
    "power_spectrum = np.abs(fft_result)\n",
    "plt.plot(freq[:len(freq)//2], power_spectrum[:len(power_spectrum)//2])\n",
    "plt.title(\"EEG Power Spectrum\")\n",
    "plt.xlabel(\"Frequency (Hz)\")\n",
    "plt.ylabel(\"Power\")\n",
    "#plt.ylim(0,1)\n",
    "#plt.xlim(0,5)\n",
    "plt.show()\n"
   ]
  },
  {
   "cell_type": "code",
   "execution_count": null,
   "metadata": {},
   "outputs": [],
   "source": [
    "from scipy.signal import welch\n",
    "\n",
    "f1, psd1 = welch(EEG, fs=Fs, nperseg=1024)\n",
    "plt.semilogy(f1, psd1)\n",
    "plt.title(\"Power Spectral Density\")\n",
    "plt.xlabel(\"Frequency (Hz)\")\n",
    "plt.ylabel(\"PSD (V²/Hz)\")\n",
    "plt.xlim(0,25)\n",
    "plt.show()"
   ]
  },
  {
   "cell_type": "code",
   "execution_count": null,
   "metadata": {},
   "outputs": [],
   "source": [
    "px.line(x=f,y=psd1,log_y=True)"
   ]
  },
  {
   "cell_type": "code",
   "execution_count": null,
   "metadata": {},
   "outputs": [],
   "source": [
    "EEG2 = scipy.io.loadmat('/home/mariorocha/code/SeanDominique/will-they-wake-up/data/raw/physionet.org/files/i-care/2.1/training/0360/0360_022_060_EEG.mat')\n",
    "EEG2 = EEG2['val']\n",
    "EEG2 = EEG2.astype(float)\n",
    "EEG2 = scaler.fit_transform(EEG2)\n",
    "EEG2 = np.mean(EEG2,axis=0)"
   ]
  },
  {
   "cell_type": "code",
   "execution_count": null,
   "metadata": {},
   "outputs": [],
   "source": [
    "fft_result = np.fft.fft(EEG2)\n",
    "freq = np.fft.fftfreq(len(EEG2), d=1/Fs)\n",
    "power_spectrum = np.abs(fft_result)\n",
    "plt.plot(freq[:len(freq)//2], power_spectrum[:len(power_spectrum)//2])\n",
    "plt.title(\"EEG Power Spectrum\")\n",
    "plt.xlabel(\"Frequency (Hz)\")\n",
    "plt.ylabel(\"Power\")\n",
    "plt.yscale('log')\n",
    "plt.show()"
   ]
  },
  {
   "cell_type": "code",
   "execution_count": null,
   "metadata": {},
   "outputs": [],
   "source": [
    "f2, psd2 = welch(EEG2, fs=Fs, nperseg=1024)\n",
    "plt.semilogy(f2, psd2)\n",
    "plt.title(\"Power Spectral Density\")\n",
    "plt.xlabel(\"Frequency (Hz)\")\n",
    "plt.ylabel(\"PSD (V²/Hz)\")\n",
    "plt.xlim(0,25)\n",
    "\n",
    "plt.show()"
   ]
  },
  {
   "cell_type": "code",
   "execution_count": null,
   "metadata": {},
   "outputs": [],
   "source": [
    "px.line(x=f2,y=psd2,log_y=True)"
   ]
  },
  {
   "cell_type": "code",
   "execution_count": null,
   "metadata": {},
   "outputs": [],
   "source": [
    "EEG3 = scipy.io.loadmat('/home/mario/code/SeanDominique/will-they-wake-up/data/physionet.org/files/i-care/2.1/training/0284/0284_004_007_EEG.mat')\n",
    "EEG3 = EEG3['val'][0]\n",
    "EEG3 = EEG3.astype(float)"
   ]
  },
  {
   "cell_type": "code",
   "execution_count": null,
   "metadata": {},
   "outputs": [],
   "source": [
    "f, psd = welch(EEG3, fs=Fs, nperseg=2000)\n",
    "plt.semilogy(f, psd)\n",
    "plt.title(\"Power Spectral Density\")\n",
    "plt.xlabel(\"Frequency (Hz)\")\n",
    "plt.ylabel(\"PSD (V²/Hz)\")\n",
    "plt.show()"
   ]
  },
  {
   "cell_type": "code",
   "execution_count": null,
   "metadata": {},
   "outputs": [],
   "source": [
    "px.line(x=f,y=psd,log_y=False)\n"
   ]
  },
  {
   "cell_type": "code",
   "execution_count": null,
   "metadata": {},
   "outputs": [],
   "source": [
    "fft_result = np.fft.fft(EEG3)\n",
    "freq = np.fft.fftfreq(len(EEG3), d=1/Fs)\n",
    "power_spectrum = np.abs(fft_result)\n",
    "plt.plot(freq[:len(freq)//2], power_spectrum[:len(power_spectrum)//2])\n",
    "plt.title(\"EEG Power Spectrum\")\n",
    "plt.xlabel(\"Frequency (Hz)\")\n",
    "plt.ylabel(\"Power\")\n",
    "plt.show()"
   ]
  },
  {
   "cell_type": "code",
   "execution_count": null,
   "metadata": {},
   "outputs": [],
   "source": [
    "!pip install mne\n"
   ]
  },
  {
   "cell_type": "code",
   "execution_count": null,
   "metadata": {},
   "outputs": [],
   "source": [
    "import mne"
   ]
  },
  {
   "cell_type": "code",
   "execution_count": null,
   "metadata": {},
   "outputs": [],
   "source": [
    "!pip install pymatreader"
   ]
  },
  {
   "cell_type": "code",
   "execution_count": null,
   "metadata": {},
   "outputs": [],
   "source": [
    "EEG4 = scipy.io.loadmat('/home/mariorocha/code/SeanDominique/will-they-wake-up/data/raw/physionet.org/files/i-care/2.1/training/0284/0284_085_074_EEG.mat')\n",
    "EEG4 = EEG4['val']\n",
    "EEG4 = EEG4.astype(float)\n",
    "EEG4 = scaler.fit_transform(EEG4)\n",
    "EEG4 = np.mean(EEG4,axis=0)"
   ]
  },
  {
   "cell_type": "code",
   "execution_count": null,
   "metadata": {},
   "outputs": [],
   "source": [
    "f, psd = welch(EEG4, fs=Fs, nperseg=1024)\n",
    "\n",
    "fig, ax = plt.subplots()\n",
    "plt.semilogy(f, psd)\n",
    "plt.title(\"Power Spectral Density\")\n",
    "plt.xlabel(\"Frequency (Hz)\")\n",
    "plt.ylabel(\"PSD (V²/Hz)\")\n",
    "plt.xlim(0,25)\n",
    "plt.show()"
   ]
  },
  {
   "cell_type": "code",
   "execution_count": null,
   "metadata": {},
   "outputs": [],
   "source": [
    "px.line(x=f,y=[psd,psd2,psd1],log_y=False,)\n"
   ]
  },
  {
   "cell_type": "code",
   "execution_count": null,
   "metadata": {},
   "outputs": [],
   "source": [
    "!ls /home/mariorocha/code/SeanDominique/will-they-wake-up/data/raw/physionet.org/files/i-care/2.1/training/0284/*_EEG.mat"
   ]
  },
  {
   "cell_type": "code",
   "execution_count": null,
   "metadata": {},
   "outputs": [],
   "source": [
    "path= '/home/mariorocha/code/SeanDominique/will-they-wake-up/data/raw/physionet.org/files/i-care/2.1/training/0284/'\n",
    "\n",
    "import os\n",
    "scaler = RobustScaler()\n",
    "def get_eeg_files(directory):\n",
    "    eeg_files = []\n",
    "\n",
    "    for root, _, files in os.walk(directory):\n",
    "\n",
    "        for file in files:\n",
    "\n",
    "            if file.endswith(\"EEG.mat\"):\n",
    "\n",
    "                absolute_path = os.path.abspath(os.path.join(root, file))\n",
    "                eeg_files.append(absolute_path)\n",
    "\n",
    "    return sorted(eeg_files)\n",
    "\n",
    "\n",
    "EEG_file_list = get_eeg_files(path)\n",
    "\n",
    "EEG_list = []\n",
    "for file_path in EEG_file_list[:-2]:\n",
    "\n",
    "    eeg = scipy.io.loadmat(file_path)\n",
    "    eeg = eeg['val']\n",
    "    eeg = eeg.astype(float)\n",
    "    for line in eeg:\n",
    "        temp_line = line.reshape(1, -1)\n",
    "        temp_line = scaler.fit_transform(temp_line)\n",
    "        line = temp_line.reshape(-1)\n",
    "    eeg = np.mean(eeg,axis=0)\n",
    "    EEG_list.append(eeg)\n",
    "\n",
    "EEG_list\n"
   ]
  },
  {
   "cell_type": "code",
   "execution_count": null,
   "metadata": {},
   "outputs": [],
   "source": [
    "psds = []\n",
    "for eeg in EEG_list:\n",
    "    f, temp_psd = welch(eeg, fs=Fs, nperseg=1024)\n",
    "    psds.append(temp_psd)\n",
    "\n",
    "psds"
   ]
  },
  {
   "cell_type": "code",
   "execution_count": null,
   "metadata": {},
   "outputs": [],
   "source": [
    "#px.line(x=f,y=psds,log_y=True)"
   ]
  },
  {
   "cell_type": "code",
   "execution_count": null,
   "metadata": {},
   "outputs": [],
   "source": [
    "psds"
   ]
  },
  {
   "cell_type": "code",
   "execution_count": null,
   "metadata": {},
   "outputs": [],
   "source": [
    "fig = go.Figure()\n",
    "\n",
    "index = 0\n",
    "for psd in psds:\n",
    "    color_intensity = min((1 - index/len(psds) ),1) # This is to change the color of each line. Plotly doesn't like to do it, so I had to force it with an f string and rgb values.\n",
    "    fig.add_trace(go.Scatter(x = f, y = psd,\n",
    "        mode='lines',\n",
    "\n",
    "        line=dict( color= f\"rgb({255*color_intensity},0,{255-(255*color_intensity)})\"),\n",
    "\n",
    "        opacity = 0.5,\n",
    "\n",
    "    ))\n",
    "    index += 1\n",
    "\n",
    "fig.update_yaxes(type='log')\n",
    "fig.show()\n",
    "print(color_intensity)"
   ]
  },
  {
   "cell_type": "code",
   "execution_count": null,
   "metadata": {},
   "outputs": [],
   "source": [
    "psds = np.array(psds)\n",
    "psds.shape"
   ]
  },
  {
   "cell_type": "code",
   "execution_count": null,
   "metadata": {},
   "outputs": [],
   "source": [
    "ini_psds = psds[:,:60]\n",
    "\n",
    "ini_psds = ini_psds.T/(ini_psds[:,0])\n",
    "ini_psds.shape"
   ]
  },
  {
   "cell_type": "code",
   "execution_count": null,
   "metadata": {},
   "outputs": [],
   "source": [
    "px.line(ini_psds.T)"
   ]
  },
  {
   "cell_type": "code",
   "execution_count": null,
   "metadata": {},
   "outputs": [],
   "source": [
    "ini_psds.T.shape"
   ]
  },
  {
   "cell_type": "code",
   "execution_count": null,
   "metadata": {},
   "outputs": [],
   "source": [
    "EEG_file_list[39]"
   ]
  },
  {
   "cell_type": "code",
   "execution_count": null,
   "metadata": {},
   "outputs": [],
   "source": []
  }
 ],
 "metadata": {
  "kernelspec": {
   "display_name": "will-they-wake-up",
   "language": "python",
   "name": "python3"
  },
  "language_info": {
   "codemirror_mode": {
    "name": "ipython",
    "version": 3
   },
   "file_extension": ".py",
   "mimetype": "text/x-python",
   "name": "python",
   "nbconvert_exporter": "python",
   "pygments_lexer": "ipython3",
   "version": "3.10.6"
  }
 },
 "nbformat": 4,
 "nbformat_minor": 2
}
